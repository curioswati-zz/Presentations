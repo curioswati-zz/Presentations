{
 "metadata": {
  "name": "",
  "signature": "sha256:6753d885c98ade6569426c6760dec46e2dd30270c0912b3bdbf0fce5adc2c35a"
 },
 "nbformat": 3,
 "nbformat_minor": 0,
 "worksheets": [
  {
   "cells": [
    {
     "cell_type": "heading",
     "level": 1,
     "metadata": {},
     "source": [
      "Classes"
     ]
    },
    {
     "cell_type": "markdown",
     "metadata": {},
     "source": [
      "So far you have learned about Python's core data types: strings, numbers, lists, tuples, and dictionaries. In this section you will learn about the last major data structure, classes. Classes are quite unlike the other data types, in that they are much more flexible"
     ]
    },
    {
     "cell_type": "heading",
     "level": 2,
     "metadata": {},
     "source": [
      "What are classes?"
     ]
    },
    {
     "cell_type": "markdown",
     "metadata": {},
     "source": [
      "Classes are a way of combining information and behavior. For example, let's consider what you'd need to do if you were creating a rocket ship in a game, or in a physics simulation. One of the first things you'd want to track are the x and y coordinates of the rocket. Here is what a simple rocket ship class looks like in code:"
     ]
    },
    {
     "cell_type": "code",
     "collapsed": false,
     "input": [
      "class Rocket():\n",
      "    # Rocket simulates a rocket ship for a game,\n",
      "    #  or a physics simulation.\n",
      "    \n",
      "    def __init__(self):\n",
      "        # Each rocket has an (x,y) position.\n",
      "        self.x = 0\n",
      "        self.y = 0"
     ],
     "language": "python",
     "metadata": {},
     "outputs": [],
     "prompt_number": 6
    },
    {
     "cell_type": "markdown",
     "metadata": {},
     "source": [
      "One of the first things you do with a class is to define the _init_() method. The __init__() method sets the values for any parameters that need to be defined when an object is first created. The self part will be explained later; basically, it's a syntax that allows you to access a variable from anywhere else in the class."
     ]
    },
    {
     "cell_type": "markdown",
     "metadata": {},
     "source": [
      "You could also define parameterized __init__. See next:"
     ]
    },
    {
     "cell_type": "code",
     "collapsed": false,
     "input": [
      "class Rocket():\n",
      "    # Rocket simulates a rocket ship for a game,\n",
      "    #  or a physics simulation.\n",
      "    \n",
      "    def __init__(self, x, y):\n",
      "        # Each rocket has an (x,y) position.\n",
      "        self.x = x\n",
      "        self.y = y"
     ],
     "language": "python",
     "metadata": {},
     "outputs": [],
     "prompt_number": 9
    },
    {
     "cell_type": "markdown",
     "metadata": {},
     "source": [
      "We saw how we can create data members(x, y) in class using __init__. These data members are called instance variables. They are created with each new instance(object) that is created. Now we see methods in a class."
     ]
    },
    {
     "cell_type": "markdown",
     "metadata": {},
     "source": [
      "The Rocket class stores two pieces of information so far, but it can't do anything. The first behavior to define is a core behavior of a rocket: moving up. Here is what that might look like in code:"
     ]
    },
    {
     "cell_type": "code",
     "collapsed": false,
     "input": [
      "###highlight=[11,12,13]\n",
      "class Rocket():\n",
      "    # Rocket simulates a rocket ship for a game,\n",
      "    #  or a physics simulation.\n",
      "    \n",
      "    def __init__(self):\n",
      "        # Each rocket has an (x,y) position.\n",
      "        self.x = 0\n",
      "        self.y = 0\n",
      "        \n",
      "    def move_up(self):\n",
      "        # Increment the y-position of the rocket.\n",
      "        self.y += 1"
     ],
     "language": "python",
     "metadata": {},
     "outputs": [],
     "prompt_number": 11
    },
    {
     "cell_type": "markdown",
     "metadata": {},
     "source": [
      "The Rocket class can now store some information, and it can do something. But this code has not actually created a rocket yet. Here is how you actually make a rocket:"
     ]
    },
    {
     "cell_type": "code",
     "collapsed": false,
     "input": [
      "# Create a Rocket object.\n",
      "my_rocket = Rocket()\n",
      "print(my_rocket)"
     ],
     "language": "python",
     "metadata": {},
     "outputs": [
      {
       "output_type": "stream",
       "stream": "stdout",
       "text": [
        "<__main__.Rocket instance at 0x7f3f24135518>\n"
       ]
      }
     ],
     "prompt_number": 12
    },
    {
     "cell_type": "markdown",
     "metadata": {},
     "source": [
      "To actually use a class, you create a variable such as my_rocket. Then you set that equal to the name of the class, with an empty set of parentheses. Python creates an object from the class. An object is a single instance of the Rocket class; it has a copy of each of the class's variables, and it can do any action that is defined for the class. In this case, you can see that the variable my_rocket is a Rocket object from the __main__ program file, which is stored at a particular location in memory."
     ]
    },
    {
     "cell_type": "markdown",
     "metadata": {},
     "source": [
      "Once you have a class, you can define an object and use its methods. Here is how you might define a rocket and have it start to move up:"
     ]
    },
    {
     "cell_type": "code",
     "collapsed": false,
     "input": [
      "###highlight=[15,16,17,18,19,20,21,22,23]\n",
      "class Rocket():\n",
      "    # Rocket simulates a rocket ship for a game,\n",
      "    #  or a physics simulation.\n",
      "    \n",
      "    def __init__(self):\n",
      "        # Each rocket has an (x,y) position.\n",
      "        self.x = 0\n",
      "        self.y = 0\n",
      "        \n",
      "    def move_up(self):\n",
      "        # Increment the y-position of the rocket.\n",
      "        self.y += 1\n",
      "\n",
      "# Create a Rocket object, and have it start to move up.\n",
      "my_rocket = Rocket()\n",
      "print(\"Rocket altitude:\", my_rocket.y)\n",
      "\n",
      "my_rocket.move_up()\n",
      "print(\"Rocket altitude:\", my_rocket.y)\n",
      "\n",
      "my_rocket.move_up()\n",
      "print(\"Rocket altitude:\", my_rocket.y)"
     ],
     "language": "python",
     "metadata": {},
     "outputs": [
      {
       "output_type": "stream",
       "stream": "stdout",
       "text": [
        "('Rocket altitude:', 0)\n",
        "('Rocket altitude:', 1)\n",
        "('Rocket altitude:', 2)\n"
       ]
      }
     ],
     "prompt_number": 13
    },
    {
     "cell_type": "markdown",
     "metadata": {},
     "source": [
      "To access an object's variables or methods, you give the name of the object and then use dot notation to access the variables and methods. So to get the y-value of my_rocket, you use my_rocket.y. To use the move_up() method on my_rocket, you write my_rocket.move_up()."
     ]
    },
    {
     "cell_type": "markdown",
     "metadata": {},
     "source": [
      "Once you have a class defined, you can create as many objects from that class as you want. Each object is its own instance of that class, with its own separate variables. All of the objects are capable of the same behavior, but each object's particular actions do not affect any of the other objects. Here is how you might make a simple fleet of rockets:"
     ]
    },
    {
     "cell_type": "code",
     "collapsed": false,
     "input": [
      "###highlight=[15,16,17,18,19,20,21,22,23]\n",
      "class Rocket():\n",
      "    # Rocket simulates a rocket ship for a game,\n",
      "    #  or a physics simulation.\n",
      "    \n",
      "    def __init__(self):\n",
      "        # Each rocket has an (x,y) position.\n",
      "        self.x = 0\n",
      "        self.y = 0\n",
      "        \n",
      "    def move_up(self):\n",
      "        # Increment the y-position of the rocket.\n",
      "        self.y += 1\n",
      "        \n",
      "# Create a fleet of 5 rockets, and store them in a list.\n",
      "my_rockets = []\n",
      "for x in range(0,5):\n",
      "    new_rocket = Rocket()\n",
      "    my_rockets.append(new_rocket)\n",
      "\n",
      "# Show that each rocket is a separate object.\n",
      "for rocket in my_rockets:\n",
      "    print(rocket)"
     ],
     "language": "python",
     "metadata": {},
     "outputs": [
      {
       "output_type": "stream",
       "stream": "stdout",
       "text": [
        "<__main__.Rocket instance at 0x7f3f241358c0>\n",
        "<__main__.Rocket instance at 0x7f3f24135638>\n",
        "<__main__.Rocket instance at 0x7f3f24135908>\n",
        "<__main__.Rocket instance at 0x7f3f24135950>\n",
        "<__main__.Rocket instance at 0x7f3f24135998>\n"
       ]
      }
     ],
     "prompt_number": 14
    },
    {
     "cell_type": "markdown",
     "metadata": {},
     "source": [
      "You can see that each rocket is at a separate place in memory. By the way, if you understand list comprehensions, you can make the fleet of rockets in one line:"
     ]
    },
    {
     "cell_type": "markdown",
     "metadata": {},
     "source": [
      "You can prove that each rocket has its own x and y values by moving just one of the rockets:"
     ]
    },
    {
     "cell_type": "code",
     "collapsed": false,
     "input": [
      "# Move the first rocket up.\n",
      "my_rockets[0].move_up()\n",
      "\n",
      "# Show that only the first rocket has moved.\n",
      "for rocket in my_rockets:\n",
      "    print(\"Rocket altitude:\", rocket.y)"
     ],
     "language": "python",
     "metadata": {},
     "outputs": [
      {
       "output_type": "stream",
       "stream": "stdout",
       "text": [
        "('Rocket altitude:', 1)\n",
        "('Rocket altitude:', 0)\n",
        "('Rocket altitude:', 0)\n",
        "('Rocket altitude:', 0)\n",
        "('Rocket altitude:', 0)\n"
       ]
      }
     ],
     "prompt_number": 15
    },
    {
     "cell_type": "markdown",
     "metadata": {},
     "source": [
      "The syntax for classes may not be very clear at this point, but consider for a moment how you might create a rocket without using classes. You might store the x and y values in a dictionary, but you would have to write a lot of ugly, hard-to-maintain code to manage even a small set of rockets. As more features become incorporated into the Rocket class, you will see how much more efficiently real-world objects can be modeled with classes than they could be using just lists and dictionaries."
     ]
    },
    {
     "cell_type": "heading",
     "level": 2,
     "metadata": {},
     "source": [
      "Exercise"
     ]
    },
    {
     "cell_type": "markdown",
     "metadata": {},
     "source": [
      "You have to write a class Calc. It will have two instance variables called op1 and op2 for first and second operand. You can take the values of these variables from user or can define them by yourself. This class will four methods for respectively addition, subtraction, multiplication and division. Then create objects of this class and demonstrate the use of the methods."
     ]
    },
    {
     "cell_type": "heading",
     "level": 3,
     "metadata": {},
     "source": [
      "Solution:"
     ]
    },
    {
     "cell_type": "code",
     "collapsed": false,
     "input": [
      "#Create a class\n",
      "class Calc():\n",
      "    #The init method takes two arguments for two operands.\n",
      "    def __init__(self, a, b):\n",
      "        self.op1 = a\n",
      "        self.op2 = b\n",
      "    \n",
      "    #addition method\n",
      "    def add(self):\n",
      "        return str(self.op1) + \" + \" + str(self.op2) + \" = \" + str(self.op1 + self.op2)\n",
      "    \n",
      "    #subtraction method\n",
      "    def sub(self):\n",
      "        return str(self.op1) + \" - \" + str(self.op2) + \" = \" + str(self.op1 - self.op2)\n",
      "    \n",
      "    #multiplication method\n",
      "    def mult(self):\n",
      "        return str(self.op1) + \" * \" + str(self.op2) + \" = \" + str(self.op1 * self.op2)\n",
      "    \n",
      "    #division method\n",
      "    def divide(self):\n",
      "        return str(self.op1) + \" / \" + str(self.op2) + \" = \" + str(self.op1 / self.op2)\n",
      "\n",
      "#Take input operands from user\n",
      "a = input(\"Enter first operand: \")\n",
      "b = input(\"Enter second operand: \")\n",
      "\n",
      "#create the calculator instance\n",
      "my_calc = Calc(a,b)\n",
      "\n",
      "#demonstrate method operations.\n",
      "print my_calc.add()\n",
      "print my_calc.sub()\n",
      "print my_calc.mult()\n",
      "print my_calc.divide()"
     ],
     "language": "python",
     "metadata": {},
     "outputs": [
      {
       "name": "stdout",
       "output_type": "stream",
       "stream": "stdout",
       "text": [
        "Enter first operand: 4\n"
       ]
      },
      {
       "name": "stdout",
       "output_type": "stream",
       "stream": "stdout",
       "text": [
        "Enter second operand: 2\n"
       ]
      },
      {
       "output_type": "stream",
       "stream": "stdout",
       "text": [
        "4 + 2 = 6\n",
        "4 - 2 = 2\n",
        "4 * 2 = 8\n",
        "4 / 2 = 2\n"
       ]
      }
     ],
     "prompt_number": 25
    },
    {
     "cell_type": "code",
     "collapsed": false,
     "input": [],
     "language": "python",
     "metadata": {},
     "outputs": []
    }
   ],
   "metadata": {}
  }
 ]
}