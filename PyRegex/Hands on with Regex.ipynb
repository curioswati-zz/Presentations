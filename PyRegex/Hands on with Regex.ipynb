{
 "cells": [
  {
   "cell_type": "code",
   "execution_count": 1,
   "metadata": {
    "collapsed": true
   },
   "outputs": [],
   "source": [
    "import re"
   ]
  },
  {
   "cell_type": "markdown",
   "metadata": {},
   "source": [
    "Example 1"
   ]
  },
  {
   "cell_type": "code",
   "execution_count": 2,
   "metadata": {
    "collapsed": false
   },
   "outputs": [
    {
     "name": "stdout",
     "output_type": "stream",
     "text": [
      "AuuZZ\n",
      "AiiZooAuuZZ\n",
      "AiiZooAuuZZeeeZZ\n"
     ]
    }
   ],
   "source": [
    "text = r'eeAiiZooAuuZZeeeZZfff'\n",
    "pat1 = 'A[^Z]*ZZ'\n",
    "pat2 = 'A.*?ZZ'\n",
    "pat3 = 'A.*ZZ'\n",
    "\n",
    "match = re.search(pat1, text)\n",
    "print match.group()\n",
    "match = re.search(pat2, text)\n",
    "print match.group()\n",
    "match = re.search(pat3, text)\n",
    "print match.group()"
   ]
  },
  {
   "cell_type": "markdown",
   "metadata": {},
   "source": [
    "Example 2: Web Scrapping"
   ]
  },
  {
   "cell_type": "code",
   "execution_count": 5,
   "metadata": {
    "collapsed": true
   },
   "outputs": [
    {
     "name": "stdout",
     "output_type": "stream",
     "text": [
      "http://www.freechristmaswallpapers.net/\n",
      "http://pagead2.googlesyndication.com/pagead/js/adsbygoogle.js\n",
      "http://www.freechristmaswallpapers.net/styles.css\n",
      "http://www.freechristmaswallpapers.net/favicon.ico\n",
      "http://freechristmaswallpapers.net//wallpaper/Warm-Christmas-Fireplace/\n",
      "http://freechristmaswallpapers.net//images/wallpapers/warm-christmas-fireplace-room-700806.jpeg\n",
      "http://freechristmaswallpapers.net//wallpaper/Santa-Claus-Magic-Journey/\n",
      "http://freechristmaswallpapers.net//images/wallpapers/santa-claus-magic-journey-514937.jpeg\n",
      "http://freechristmaswallpapers.net//wallpaper/Joyful-Christmas-Tree-Home/\n",
      "http://freechristmaswallpapers.net//images/wallpapers/Joyful-Christmas-Tree-Home-93653.jpeg\n",
      "http://freechristmaswallpapers.net//wallpaper/Cold-Winter-Nature-Night/\n",
      "http://freechristmaswallpapers.net//images/wallpapers/Cold-Winter-Nature-Night-23152.jpeg\n",
      "http://freechristmaswallpapers.net//wallpaper/Christmas-Tree-With-Lights-in-Nature/\n",
      "http://freechristmaswallpapers.net//images/wallpapers/christmas-tree-with-lights-in-nature-315678.jpeg\n",
      "http://freechristmaswallpapers.net//wallpaper/Christmas-Fireplace/\n",
      "http://freechristmaswallpapers.net//images/wallpapers/Christmas-Fireplace-546257.jpeg\n",
      "http://freechristmaswallpapers.net//wallpaper/Fancy-Christmas-Ornaments/\n",
      "http://freechristmaswallpapers.net//images/wallpapers/fancy-christmas-ornaments-615552.jpeg\n",
      "http://freechristmaswallpapers.net//wallpaper/Christmas-Tree-With-Lights/\n",
      "http://freechristmaswallpapers.net//images/wallpapers/christmas-tree-with-lights-948857.jpeg\n",
      "http://freechristmaswallpapers.net//wallpaper/String-Of-Christmas-Lights/\n",
      "http://freechristmaswallpapers.net//images/wallpapers/String-Of-Christmas-Lights-664826.jpeg\n",
      "http://freechristmaswallpapers.net//wallpaper/Blessed-Christmas-Trees-Nature/\n",
      "http://freechristmaswallpapers.net//images/wallpapers/Blessed-Christmas-Trees-Nature-238264.jpeg\n",
      "http://freechristmaswallpapers.net//wallpaper/Crazy-and-Cool-Christmas-Lights/\n",
      "http://freechristmaswallpapers.net//images/wallpapers/crazy-and-cool-christmas-lights-357039.jpeg\n",
      "http://freechristmaswallpapers.net//wallpaper/Classy-Country-Christmas/\n",
      "http://freechristmaswallpapers.net//images/wallpapers/classy-country-christmas-923893.jpeg\n",
      "http://freechristmaswallpapers.net//wallpaper/Retro-Christmas-Decorations/\n",
      "http://freechristmaswallpapers.net//images/wallpapers/Retro-Christmas-Decorations-305000.jpeg\n",
      "http://freechristmaswallpapers.net//wallpaper/Cute-Christmas-Cat/\n",
      "http://freechristmaswallpapers.net//images/wallpapers/cute-christmas-cat-508661.jpeg\n",
      "http://freechristmaswallpapers.net//wallpaper/Glossy-and-Snowy-Christmas-Tree/\n",
      "http://freechristmaswallpapers.net//images/wallpapers/glossy-and-snowy-christmas-tree-396351.jpeg\n",
      "http://freechristmaswallpapers.net//wallpaper/Merry-Christmas-HD-Presents/\n",
      "http://freechristmaswallpapers.net//images/wallpapers/merry-christmas-hd-presents-25113.jpeg\n",
      "http://freechristmaswallpapers.net//wallpaper/Merry-Christmas-Blazing-Stars/\n",
      "http://freechristmaswallpapers.net//images/wallpapers/merry-christmas-blazing-stars-248040.jpeg\n",
      "http://freechristmaswallpapers.net//wallpaper/Merry-Christmas-and-Happy-New-Year-2015/\n",
      "http://freechristmaswallpapers.net//images/wallpapers/Merry-Christmas-and-Happy-New-Year-2015-300064.jpeg\n",
      "http://freechristmaswallpapers.net//wallpaper/2015-Merry-Christmas/\n",
      "http://freechristmaswallpapers.net//images/wallpapers/2015-Merry-Christmas-136208.jpeg\n",
      "http://freechristmaswallpapers.net//wallpaper/Happy-New-Year-2015/\n",
      "http://freechristmaswallpapers.net//images/wallpapers/happy-new-year-2015-584238.jpeg\n",
      "http://www.freechristmaswallpapers.net/blog/\n",
      "http://www.freechristmaswallpapers.net/images/free88.gif\n",
      "http://www.freechristmaswallpapers.net/blog/christmas-mistletoe-myths/\n",
      "http://www.freechristmaswallpapers.net/blog/christmas-gifts/\n",
      "http://www.freechristmaswallpapers.net/blog/tips-on-selecting-a-christmas-tree-at-a-retail-lot/\n",
      "http://www.freechristmaswallpapers.net/blog/christmas-mistletoe/\n",
      "http://www.freechristmaswallpapers.net/blog/christmas-tree-types/\n",
      "http://www.freechristmaswallpapers.net/blog/christmas-traditions/\n",
      "http://www.freechristmaswallpapers.net/blog/history-of-christmas/\n",
      "http://www.freechristmaswallpapers.net/blog/5-beautiful-christmas-cards-2011/\n",
      "http://www.thefreesite.com\n",
      "http://www.christmasfreebies.com/\n",
      "http://www.freechristmaswallpapers.net/images/cfree.gif\n",
      "http://www.christmasfreestuff.net/\n",
      "http://www.freechristmaswallpapers.net/Android-App-Banner.jpg\n",
      "https://play.google.com/store/apps/details?id=com.freechristmaswallpapers.net\n",
      "http://www.freechristmaswallpapers.net/most-viewed-wallpapers.php\n",
      "http://www.freechristmaswallpapers.net/images/wallpapers/Christmas-Tree-Nature1024-391680.jpeg\n",
      "http://www.freechristmaswallpapers.net/top-rated-wallpapers.php\n",
      "http://freechristmaswallpapers.net//wallpaper/Christmas-Tree-Nature/\n",
      "http://freechristmaswallpapers.net//wallpaper/Christmas-Tree-and-Fireplace/\n",
      "http://www.freechristmaswallpapers.net/images/wallpapers/Christmas-Tree-Fireplace-1024-357860.jpeg\n",
      "http://freechristmaswallpapers.net//wallpaper/Christmas-Nature-05/\n",
      "http://www.freechristmaswallpapers.net/images/wallpapers/Christmas-Nature-05wallpaper-th-564756.jpeg\n",
      "http://freechristmaswallpapers.net//category/Christmas/\n",
      "http://www.freechristmaswallpapers.net/images/fb-icon.jpg\n",
      "http://freechristmaswallpapers.net//category/Christmas+Backgrounds/\n",
      "http://freechristmaswallpapers.net//category/Christmas+Candies/\n",
      "http://freechristmaswallpapers.net//category/Christmas+Candles/\n",
      "http://freechristmaswallpapers.net//category/Christmas+Cats/\n",
      "http://freechristmaswallpapers.net//category/Christmas+Decorations/\n",
      "http://freechristmaswallpapers.net//category/Christmas+Dogs/\n",
      "http://freechristmaswallpapers.net//category/Christmas+Gifts/\n",
      "http://freechristmaswallpapers.net//category/Christmas+Lights/\n",
      "http://freechristmaswallpapers.net//category/Christmas+Nature/\n",
      "http://freechristmaswallpapers.net//category/Christmas+Ornaments/\n",
      "http://freechristmaswallpapers.net//category/Christmas+Paintings/\n",
      "http://freechristmaswallpapers.net//category/Christmas+Trees/\n",
      "http://freechristmaswallpapers.net//category/Christmas+Wreaths/\n",
      "http://freechristmaswallpapers.net//category/Happy+New+Year/\n",
      "http://freechristmaswallpapers.net//category/Santa+Claus/\n",
      "http://freechristmaswallpapers.net//category/Snowman/\n",
      "http://freechristmaswallpapers.net//category/Widescreen/\n",
      "http://freechristmaswallpapers.net//wallpaper/Peaceful-Christmas-Village/\n",
      "http://freechristmaswallpapers.net//wallpaper/Christmas-Gifts-Background-Pattern/\n",
      "http://freechristmaswallpapers.net//wallpaper/Snowman-Merry-Christmas/\n",
      "http://freechristmaswallpapers.net//wallpaper/Quiet-Christmas-Night/\n",
      "https://www.facebook.com/FreeChristmasWallpapers\n",
      "https://plus.google.com/108014864993777625840\n",
      "http://www.freechristmaswallpapers.net/images/g-icon.jpg\n",
      "http://www.3dwallpaperstudio.com/\r\n",
      "\n",
      "http://assets.pinterest.com/js/pinit.js\n",
      "http://www.allpics4u.com\n",
      "http://crazy-frankenstein.com/\n",
      "http://www.natureflowerwallpapers.com/\n",
      "http://artsonearth.com/\n",
      "http://www.wallpapersworld.net\n",
      "http://www.freechristmaswallpapers.net/christmas-links.php\n",
      "http://www.freechristmaswallpapers.net/terms.php\n",
      "http://www.freechristmaswallpapers.net/privacy.php\n",
      "http://www.freechristmaswallpapers.net/dmca-disclaimer.php\n",
      "http://www.freechristmaswallpapers.net/contact.php\n",
      "http://www.freechristmaswallpapers.net/how-to-remove-desktop-wallpaper.php\n",
      "http://www.freechristmaswallpapers.net/how-to-choose-wallpaper-resolution.php\n",
      "http://www.site5.com/\n",
      "https://platform.twitter.com/widgets.js\n",
      "\n",
      "()\n"
     ]
    }
   ],
   "source": [
    "f = open('testdata.txt')\n",
    "data = f.read()\n",
    "print data\n",
    "pat = '.*?\\.\\w+?'\n",
    "found = re.search(pat, data,re.M)\n",
    "print found.groups()"
   ]
  },
  {
   "cell_type": "markdown",
   "metadata": {},
   "source": [
    "Example 3: Extract HTML tags"
   ]
  },
  {
   "cell_type": "code",
   "execution_count": 7,
   "metadata": {
    "collapsed": true
   },
   "outputs": [
    {
     "name": "stdout",
     "output_type": "stream",
     "text": [
      "<TAG>like</TAG>\n"
     ]
    }
   ],
   "source": [
    "pat= '<([A-Z][A-Z0-9]*)[^>]*>(.*?)</\\1>'\n",
    "pat = re.compile('<TAG[^>]*>(.*?)</TAG>')\n",
    "text = '<TAG>like</TAG>'\n",
    "found = re.search(pat,text)\n",
    "print found.group()"
   ]
  },
  {
   "cell_type": "markdown",
   "metadata": {},
   "source": [
    "Example 4: IP"
   ]
  },
  {
   "cell_type": "markdown",
   "metadata": {},
   "source": [
    "<b>Question:</b> write a pattern to match IPs."
   ]
  },
  {
   "cell_type": "markdown",
   "metadata": {},
   "source": [
    "<b>Solution:</b>"
   ]
  },
  {
   "cell_type": "code",
   "execution_count": null,
   "metadata": {
    "collapsed": true
   },
   "outputs": [],
   "source": [
    "pat = '\\d{1,3}\\.\\d{1,3}\\.\\d{1,3}\\.\\d{1,3}'\n",
    "text = '999.999.999.999'\n",
    "found = re.search(pat,text)\n",
    "print found.group()"
   ]
  },
  {
   "cell_type": "markdown",
   "metadata": {},
   "source": [
    "Example 5: Matching email"
   ]
  },
  {
   "cell_type": "markdown",
   "metadata": {},
   "source": [
    "<b>Question:</b> what should you add to match the adress."
   ]
  },
  {
   "cell_type": "markdown",
   "metadata": {},
   "source": [
    "<b>Solution:</b>"
   ]
  },
  {
   "cell_type": "code",
   "execution_count": 10,
   "metadata": {
    "collapsed": true
   },
   "outputs": [
    {
     "name": "stdout",
     "output_type": "stream",
     "text": [
      "jaiswalswati94@gmail.com\n"
     ]
    }
   ],
   "source": [
    "pat = '[A-Z0-9._%+-]+@[A-Z0-9.-]+\\.[A-Z]{2,4}'\n",
    "text = 'jaiswalswati94@gmail.com'\n",
    "found = re.search(pat,text,re.I)\n",
    "print found.group()"
   ]
  },
  {
   "cell_type": "markdown",
   "metadata": {},
   "source": [
    "Example 6: Matching a valid date"
   ]
  },
  {
   "cell_type": "code",
   "execution_count": 11,
   "metadata": {
    "collapsed": false
   },
   "outputs": [
    {
     "name": "stdout",
     "output_type": "stream",
     "text": [
      "1900-01-01\n"
     ]
    }
   ],
   "source": [
    "pat = re.compile('^(19|20)\\d\\d[- /.](0[1-9]|1[012])[- /.](0[1-9]|[12][0-9]|3[01])$')\n",
    "text = '1900-01-01'\n",
    "found = re.search(pat,text)\n",
    "print found.group()"
   ]
  }
 ],
 "metadata": {
  "kernelspec": {
   "display_name": "Python 2",
   "language": "python",
   "name": "python2"
  },
  "language_info": {
   "codemirror_mode": {
    "name": "ipython",
    "version": 2
   },
   "file_extension": ".py",
   "mimetype": "text/x-python",
   "name": "python",
   "nbconvert_exporter": "python",
   "pygments_lexer": "ipython2",
   "version": "2.7.8"
  }
 },
 "nbformat": 4,
 "nbformat_minor": 0
}
