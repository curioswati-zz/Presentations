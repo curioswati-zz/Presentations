{
 "cells": [
  {
   "cell_type": "markdown",
   "metadata": {},
   "source": [
    "###Modifiers - option flags"
   ]
  },
  {
   "cell_type": "code",
   "execution_count": 3,
   "metadata": {
    "collapsed": true
   },
   "outputs": [],
   "source": [
    "# 1.| re.I --|  case-insensitive matching.                                              |  \n",
    "# __|________|__________________________________________________________________________|  \n",
    "# 2.| re.L --|  the alphabetic group(\\w and \\W), word boundry behavior(\\b and \\B).      |   \n",
    "# __|________|__________________________________________________________________________|  \n",
    "# 3.| re.M --|  Makes '$' match end of line(not just end of string) and same for '^'.   |  \n",
    "# __|________|_________________________________________________________________________1|  \n",
    "# 4.| re.S --|  Makes '.' match any char including newline.                             |  \n",
    "# __|________|__________________________________________________________________________|  \n",
    "# 5.| re.U --|  interprets letters acc to unicode.                                      |  \n",
    "# __|________|__________________________________________________________________________|  \n",
    "# 6.| re.X --|  cuter regex: ignore whitespace, until backslashed or in class'[]',      |   \n",
    "#   |        |              :treats '#' as a comment marker, if not escaped             |  \n",
    "# __|________|__________________________________________________________________________|  "
   ]
  },
  {
   "cell_type": "markdown",
   "metadata": {},
   "source": [
    "###Regex-patterns:"
   ]
  },
  {
   "cell_type": "code",
   "execution_count": 4,
   "metadata": {
    "collapsed": true
   },
   "outputs": [],
   "source": [
    "# 1. | ^       |  beginning of line.                                                    |\n",
    "# ___|_________|________________________________________________________________________|\n",
    "# 2. | $       |  end of line.                                                          | \n",
    "# ___|_________|________________________________________________________________________|\n",
    "# 3. | .       |  Match any char except newline.                                        |\n",
    "# ___|_________|________________________________________________________________________|\n",
    "# 4. | [..]    |  Match any single char in '[]'.                                        |\n",
    "# ___|_________|________________________________________________________________________|\n",
    "# 5. |[^..]    |  Match any single char not in '[]'.                                    |\n",
    "# ___|_________|________________________________________________________________________|\n",
    "# 6. | re*     |  Match 0 or more occurences of preceding char.                         |                                           |\n",
    "# ___|_________|________________________________________________________________________|\n",
    "# 7. | re+     |  Match 1 or more occurences.                                           |\n",
    "# ___|_________|________________________________________________________________________|\n",
    "# 8. | re?     |  Match 0 or 1 occurence.  (optional re)                                |\n",
    "# ___|_________|________________________________________________________________________|\n",
    "# 9. | re{n}   |  Match n number of occurences.                                         | \n",
    "# ___|_________|________________________________________________________________________|\n",
    "# 10.|re{n,}   |  Match n or more occurences.                                           | \n",
    "# ___|_________|________________________________________________________________________|\n",
    "# 11.|re{n,m}  |  Match atleast n and atmost m occurences.                              |\n",
    "# ___|_________|________________________________________________________________________|\n",
    "# 12.| a|b     |  Match either a or b.                                                  |\n",
    "# ___|_________|________________________________________________________________________|\n",
    "# 13.| (re)    |  Groups regex and remembers matched text.                              |                                           |\n",
    "# ___|_________|________________________________________________________________________|\n",
    "# 14.|(?imx)   |  temporarily toggles on i,m or x within a regex; if in '()' only that  |\n",
    "#    |         |  area is affected.                                                     |\n",
    "# ___|_________|________________________________________________________________________|\n",
    "# 15.|(?-imx)  |  temporarily toggles off i,m or x within a regex; if in '()' only that |\n",
    "#    |         |  area is affected.                                                     |\n",
    "# ___|_________|________________________________________________________________________|\n",
    "# 16.|(?:re)   |  Group regex,without remembering matched text.                         | \n",
    "# ___|_________|________________________________________________________________________|\n",
    "# 17.|(?imx:re)|  temporarily toggles on i,m or x within parenthesis;                   |\n",
    "# ___|_________|________________________________________________________________________|\n",
    "# 18.|(?imx:re)|  temporarily toggles off i,m or x within parenthesis;                  |\n",
    "# ___|_________|________________________________________________________________________|\n",
    "# 19.|'(?#...)'|  comments.  exa:'R(?#comment)' matches R only, rest is comment.        |\n",
    "# ___|_________|________________________________________________________________________|\n",
    "# 20.|(?=re)   | Specifies position using a a pattern, no range.                        |\n",
    "# ___|_________|________________________________________________________________________|\n",
    "# 21.|(?!re)   | Specifies position using a a pattern negation, no range.               |\n",
    "# ___|_________|________________________________________________________________________|\n",
    "# 22.|(?>re)   | MAtches independent pattern without backtracking.                      |\n",
    "# ___|_________|________________________________________________________________________|\n",
    "# 23.|  \\w     | match word char.             (similar: [A-Za-z0-9])                    |\n",
    "# ___|_________|________________________________________________________________________|\n",
    "# 24.|  \\W     | match non-word char.         (similar: [^A-Za-z0-9])                   |\n",
    "# ___|_________|________________________________________________________________________|\n",
    "# 25.|  \\s     | match whitespace(\\n\\r\\t\\f).  (similar: [\\t\\r\\n\\f])                     |\n",
    "# ___|_________|________________________________________________________________________|\n",
    "# 26.|  \\S     | match non-whitespace.        (similar: [^\\n\\t\\r\\f])                    |\n",
    "# ___|_________|________________________________________________________________________|\n",
    "# 27.|  \\d     | match digits.                (similar: [0-9])                          |\n",
    "# ___|_________|________________________________________________________________________|\n",
    "# 28.|  \\D     | match non-digit.             (similar: [^0-9])                         |\n",
    "# ___|_________|________________________________________________________________________|\n",
    "# 29.|  \\A     | match beginning of string.                                             |\n",
    "# ___|_________|________________________________________________________________________|\n",
    "# 30.|  \\Z     | match end of string.(before newline)                                   |\n",
    "# ___|_________|________________________________________________________________________|\n",
    "# 31.|  \\z     | match end of string.                                                   |\n",
    "# ___|_________|________________________________________________________________________|\n",
    "# 32.|  \\G     | point where last match finished.                                       |\n",
    "# ___|_________|________________________________________________________________________|\n",
    "# 33.|  \\b     | match word boundaries outside brackets; backspaces inside brackets.    |\n",
    "# ___|_________|________________________________________________________________________|\n",
    "# 34.|  \\B     | match non-word boundaries.                                             |\n",
    "# ___|_________|________________________________________________________________________|\n",
    "# 35.|  \\n,\\t, | match newline,tabs,carriage return etc.                                |\n",
    "# ___|_________|________________________________________________________________________|\n",
    "# 36.|  \\1..\\9 | nth group sub-expression.                                              |\n",
    "# ___|_________|________________________________________________________________________|\n",
    "# 37.|  \\10    | nth group sub-expression if it matched already; othrwise refer to      |\n",
    "#    |         | octal of a char.                                                       | \n",
    "# ___|_________|________________________________________________________________________|"
   ]
  },
  {
   "cell_type": "markdown",
   "metadata": {},
   "source": [
    "###Non-greedy repitition:"
   ]
  },
  {
   "cell_type": "code",
   "execution_count": 5,
   "metadata": {
    "collapsed": true
   },
   "outputs": [],
   "source": [
    "# 1. |  <.*    | greedy: matches \"perl>\"                                                |\n",
    "# ___|_________|________________________________________________________________________|\n",
    "# 2 .|  <.*?>  | non-greedy: matches \"\" in \"perl>\"                                      |\n",
    "# ___|_________|________________________________________________________________________|"
   ]
  },
  {
   "cell_type": "markdown",
   "metadata": {},
   "source": [
    "###Grouping:"
   ]
  },
  {
   "cell_type": "code",
   "execution_count": 6,
   "metadata": {
    "collapsed": true
   },
   "outputs": [],
   "source": [
    "# 1. |  \\D\\d+     | repeats \\d.                                                        |\n",
    "# ___|____________|____________________________________________________________________|\n",
    "# 2. | (\\D\\d)+    | repeats \\D\\d.                                                      |\n",
    "# ___|____________|____________________________________________________________________|\n",
    "# 3. |rub(?:y|le))| group only, without \\1 backref.                                    |\n",
    "# ___|____________|____________________________________________________________________|"
   ]
  },
  {
   "cell_type": "markdown",
   "metadata": {},
   "source": [
    "###Backreference:"
   ]
  },
  {
   "cell_type": "code",
   "execution_count": 7,
   "metadata": {
    "collapsed": true
   },
   "outputs": [],
   "source": [
    "# 1. |([Pp]ython&\\1ails) | Python and Pails.                                           |\n",
    "# ___|___________________|_____________________________________________________________|\n",
    "# 2. |\"([\\'\\\"])[^\\1]*\\1\" | single or dbl qoute str.(\\1 match first group, \\2 second)   |\n",
    "# ___|___________________|_____________________________________________________________|"
   ]
  },
  {
   "cell_type": "markdown",
   "metadata": {},
   "source": [
    "###Alternatives:"
   ]
  },
  {
   "cell_type": "markdown",
   "metadata": {},
   "source": [
    "exa: Python(!+|\\?]) -> Python followed by one or more '!' or one '?'."
   ]
  },
  {
   "cell_type": "markdown",
   "metadata": {},
   "source": [
    "###Anchors:"
   ]
  },
  {
   "cell_type": "markdown",
   "metadata": {},
   "source": [
    "exa: Python(?=!]) -> Python followed by '!'.  \n",
    "exa: Python(?!!]) -> Python not followed by '!'."
   ]
  },
  {
   "cell_type": "code",
   "execution_count": null,
   "metadata": {
    "collapsed": true
   },
   "outputs": [],
   "source": []
  }
 ],
 "metadata": {
  "kernelspec": {
   "display_name": "Python 2",
   "language": "python",
   "name": "python2"
  },
  "language_info": {
   "codemirror_mode": {
    "name": "ipython",
    "version": 2
   },
   "file_extension": ".py",
   "mimetype": "text/x-python",
   "name": "python",
   "nbconvert_exporter": "python",
   "pygments_lexer": "ipython2",
   "version": "2.7.8"
  }
 },
 "nbformat": 4,
 "nbformat_minor": 0
}
