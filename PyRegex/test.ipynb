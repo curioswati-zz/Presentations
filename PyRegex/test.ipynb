{
 "cells": [
  {
   "cell_type": "markdown",
   "metadata": {},
   "source": [
    "* <b>Question1:</b> Write a pattern for matching a valid date.\n",
    "* <b>Question2:</b> Write a pattern for matching a valid email address.\n",
    "* <b>Question3:</b> Write a pattern for matching a valid IPv4.\n",
    "* <b>Question4:</b> Write a pattern for matching an html tag.\n",
    "* <b>Question5:</b> md5  \n",
    "emxaple_text = '''\n",
    "\t\t\t\t785158d78c22517b8f16dcf55b36668f  ./bombed.prt.1\n",
    "\t\t\t\tdb9118916aa2fe73bf3b35eadc19b728  ./YHM Phantom.JPG\n",
    "\t\t\t\t8aaf18163366f4e950b43868f630a360  ./Sound_Moderator_MK2.stl\n",
    "\t\t\t\t91997d2b885ac0116e3e4188c5f5706f  ./AR-15.Flash.Suppressor.Helical_Flute.stp\n",
    "\t\t\t\tdf15f45f8fcc56c0a3b56e9e59f263de  ./45_ammo_box.STL\n",
    "\t\t\t\tba0b20b7ebbbfcfd7f822a4c13fa080e  ./223_Round.stl\n",
    "\t\t\t\t21667be06c1274fc460f9999054977f9  ./Fit Tester.JPG\n",
    "\t\t\t\t9f823495a72bf9dd57c46c1516a8ada7  ./Simple22 - FCGPins^gen2-1.STL\n",
    "\t\t\t\t3a78812c085baedad73cdb0223a1b6ef  ./BARREL - 5in (.40 S+W)(SPRINGFIELD XD TACTICAL\n",
    "\t\t\t\t8ce382837a30b8c72c29a0096e851b33  ./lts-take-on-the-yhm-phantom-flash-hider.zip\n",
    "\t\t\t\tb3e24968e7c53e07fcc1294ce01025ae  ./Silencer.stl\n",
    "\t\t\t\t6457743d2008849a2251d79350e60eef  ./Renderings/MAC 10 SMG 001.JPG\n",
    "\t\t\t\t1086eff0e881ad35e672f1db83b490c7  ./Renderings/Glock-22 Suppressor.JPG\n",
    "\t\t\t\t48ac39a820cea6e7c35deecaff6f945b  ./Renderings/Flash Hider.JPG\n",
    "\t\t\t\tcc096e493a1551dd5a58df524163fded  ./Renderings/22LR.JPG\n",
    "\t\t\t\t60135661c95ee2f9e50a4516b0781c66  ./Renderings/Magazine view 420120101-16245-1yqg4mg.jpg\n",
    "\t\t\t\tb0e15afe4cfaf31ccedefdb570c15c52  ./Renderings/f-120111026-21312-1hx76q3.png'\n",
    "\t\t\t'''\n",
    "* <b>Question:</b> write a pattern to match md5 hashes. judge the pattern from above."
   ]
  }
 ],
 "metadata": {
  "kernelspec": {
   "display_name": "Python 2",
   "language": "python",
   "name": "python2"
  },
  "language_info": {
   "codemirror_mode": {
    "name": "ipython",
    "version": 2
   },
   "file_extension": ".py",
   "mimetype": "text/x-python",
   "name": "python",
   "nbconvert_exporter": "python",
   "pygments_lexer": "ipython2",
   "version": "2.7.8"
  }
 },
 "nbformat": 4,
 "nbformat_minor": 0
}
