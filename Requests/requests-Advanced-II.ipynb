{
 "metadata": {
  "name": "",
  "signature": "sha256:9c79c05638adad3b3869c28f2ec6e269a38e60abe56c0bc4382b04b0321065d9"
 },
 "nbformat": 3,
 "nbformat_minor": 0,
 "worksheets": [
  {
   "cells": [
    {
     "cell_type": "code",
     "collapsed": false,
     "input": [
      "import requests"
     ],
     "language": "python",
     "metadata": {},
     "outputs": [],
     "prompt_number": 2
    },
    {
     "cell_type": "heading",
     "level": 2,
     "metadata": {},
     "source": [
      "Session"
     ]
    },
    {
     "cell_type": "markdown",
     "metadata": {},
     "source": [
      "The Session object allows you to persist certain parameters across requests.\n",
      "It also persists cookies across all requests made from the Session instance.\n",
      "\n",
      "A Session object has all the methods of the main Requests API."
     ]
    },
    {
     "cell_type": "heading",
     "level": 4,
     "metadata": {},
     "source": [
      "Persist Cookies for sessions"
     ]
    },
    {
     "cell_type": "code",
     "collapsed": false,
     "input": [
      "s = requests.Session()\n",
      "\n",
      "s.get('http://httpbin.org/cookies/set/sessioncookie/123456789')\n",
      "r = s.get(\"http://httpbin.org/cookies\")\n",
      "\n",
      "print(r.text)\n",
      "# '{\"cookies\": {\"sessioncookie\": \"123456789\"}}'"
     ],
     "language": "python",
     "metadata": {},
     "outputs": [
      {
       "output_type": "stream",
       "stream": "stdout",
       "text": [
        "{\n",
        "  \"cookies\": {\n",
        "    \"sessioncookie\": \"123456789\"\n",
        "  }\n",
        "}\n",
        "\n"
       ]
      }
     ],
     "prompt_number": 3
    },
    {
     "cell_type": "code",
     "collapsed": false,
     "input": [
      "s = requests.Session()\n",
      "s.auth = ('user', 'pass')\n",
      "s.headers.update({'x-test': 'true'})\n",
      "\n",
      "# both 'x-test' and 'x-test2' are sent\n",
      "s.get('http://httpbin.org/headers', headers={'x-test2': 'true'})"
     ],
     "language": "python",
     "metadata": {},
     "outputs": [
      {
       "metadata": {},
       "output_type": "pyout",
       "prompt_number": 4,
       "text": [
        "<Response [200]>"
       ]
      }
     ],
     "prompt_number": 4
    },
    {
     "cell_type": "markdown",
     "metadata": {},
     "source": [
      "Any dictionaries that you pass to a request method will be merged with the session-level values that are set.\n",
      "The method-level parameters override session parameters.\n",
      "\n",
      "Sometimes you\u2019ll want to omit session-level keys from a dict parameter.\n",
      "To do this, you simply set that key\u2019s value to None in the method-level parameter.\n",
      "It will automatically be omitted.\n"
     ]
    },
    {
     "cell_type": "markdown",
     "metadata": {},
     "source": [
      "For further reference\n",
      "http://docs.python-requests.org/en/latest/user/advanced/"
     ]
    }
   ],
   "metadata": {}
  }
 ]
}