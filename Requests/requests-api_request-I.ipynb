{
 "metadata": {
  "name": "",
  "signature": "sha256:ae5f8b13d82590a8d5872ec4ae3b39c105a744ab49915d2261a5e86ed3d4c149"
 },
 "nbformat": 3,
 "nbformat_minor": 0,
 "worksheets": [
  {
   "cells": [
    {
     "cell_type": "heading",
     "level": 1,
     "metadata": {},
     "source": [
      "Requests"
     ]
    },
    {
     "cell_type": "markdown",
     "metadata": {},
     "source": [
      "Requests is a Python library used for making http requests using python"
     ]
    },
    {
     "cell_type": "markdown",
     "metadata": {},
     "source": [
      "Requests takes all of the work out of Python HTTP/1.1 \u2014 making your integration with web services seamless. There\u2019s no need to manually add query strings to your URLs, or to form-encode your POST data. Keep-alive and HTTP connection pooling are 100% automatic, powered by urllib3, which is embedded within Requests."
     ]
    },
    {
     "cell_type": "heading",
     "level": 3,
     "metadata": {},
     "source": [
      "Why not urllib2"
     ]
    },
    {
     "cell_type": "markdown",
     "metadata": {},
     "source": [
      "Python\u2019s standard urllib2 module provides most of the HTTP capabilities you need, but the API is thoroughly broken. It was built for a different time \u2014 and a different web. It requires an enormous amount of work (even method overrides) to perform the simplest of tasks. Look below:"
     ]
    },
    {
     "cell_type": "code",
     "collapsed": false,
     "input": [
      "##urllib request\n",
      "\n",
      "import urllib2\n",
      " \n",
      "gh_url = 'https://api.github.com'\n",
      " \n",
      "req = urllib2.Request(gh_url)\n",
      " \n",
      "password_manager = urllib2.HTTPPasswordMgrWithDefaultRealm()\n",
      "password_manager.add_password(None, gh_url, 'user', 'pass')\n",
      " \n",
      "auth_manager = urllib2.HTTPBasicAuthHandler(password_manager)\n",
      "opener = urllib2.build_opener(auth_manager)\n",
      " \n",
      "urllib2.install_opener(opener)\n",
      " \n",
      "handler = urllib2.urlopen(req)\n",
      " \n",
      "print handler.getcode()\n",
      "print handler.headers.getheader('content-type')"
     ],
     "language": "python",
     "metadata": {},
     "outputs": [
      {
       "output_type": "stream",
       "stream": "stdout",
       "text": [
        "200\n",
        "application/json; charset=utf-8\n"
       ]
      }
     ],
     "prompt_number": 17
    },
    {
     "cell_type": "code",
     "collapsed": false,
     "input": [
      "##requests request\n",
      "\n",
      "import requests\n",
      " \n",
      "r = requests.get('https://api.github.com', auth=('user', 'pass'))\n",
      " \n",
      "print r.status_code\n",
      "print r.headers['content-type']\n",
      "\n",
      "# https://gist.github.com/kennethreitz/973705"
     ],
     "language": "python",
     "metadata": {},
     "outputs": [
      {
       "output_type": "stream",
       "stream": "stdout",
       "text": [
        "401\n",
        "application/json; charset=utf-8\n"
       ]
      }
     ],
     "prompt_number": 18
    },
    {
     "cell_type": "markdown",
     "metadata": {},
     "source": [
      "So now you see Why requests. Let's see how you can use it to talk to HTTP over the web."
     ]
    },
    {
     "cell_type": "code",
     "collapsed": false,
     "input": [
      "import requests\n",
      "import json"
     ],
     "language": "python",
     "metadata": {},
     "outputs": [],
     "prompt_number": 19
    },
    {
     "cell_type": "heading",
     "level": 2,
     "metadata": {},
     "source": [
      "Making requests"
     ]
    },
    {
     "cell_type": "heading",
     "level": 3,
     "metadata": {},
     "source": [
      "GET request"
     ]
    },
    {
     "cell_type": "code",
     "collapsed": false,
     "input": [
      "r = requests.get('https://api.github.com/events')\n",
      "\n",
      "#print the request object.\n",
      "print r\n",
      "\n",
      "#attributes of the object.\n",
      "print dir(r)"
     ],
     "language": "python",
     "metadata": {},
     "outputs": [
      {
       "output_type": "stream",
       "stream": "stdout",
       "text": [
        "<Response [200]>\n",
        "['__attrs__', '__bool__', '__class__', '__delattr__', '__dict__', '__doc__', '__format__', '__getattribute__', '__getstate__', '__hash__', '__init__', '__iter__', '__module__', '__new__', '__nonzero__', '__reduce__', '__reduce_ex__', '__repr__', '__setattr__', '__setstate__', '__sizeof__', '__str__', '__subclasshook__', '__weakref__', '_content', '_content_consumed', 'apparent_encoding', 'close', 'connection', 'content', 'cookies', 'elapsed', 'encoding', 'headers', 'history', 'is_permanent_redirect', 'is_redirect', 'iter_content', 'iter_lines', 'json', 'links', 'ok', 'raise_for_status', 'raw', 'reason', 'request', 'status_code', 'text', 'url']\n"
       ]
      }
     ],
     "prompt_number": 20
    },
    {
     "cell_type": "markdown",
     "metadata": {},
     "source": [
      "check whether request was succesful"
     ]
    },
    {
     "cell_type": "code",
     "collapsed": false,
     "input": [
      "print r.ok"
     ],
     "language": "python",
     "metadata": {},
     "outputs": [
      {
       "output_type": "stream",
       "stream": "stdout",
       "text": [
        "True\n"
       ]
      }
     ],
     "prompt_number": 21
    },
    {
     "cell_type": "markdown",
     "metadata": {},
     "source": [
      "cookies"
     ]
    },
    {
     "cell_type": "code",
     "collapsed": false,
     "input": [
      "print r.cookies.keys()"
     ],
     "language": "python",
     "metadata": {},
     "outputs": [
      {
       "output_type": "stream",
       "stream": "stdout",
       "text": [
        "[]\n"
       ]
      }
     ],
     "prompt_number": 22
    },
    {
     "cell_type": "markdown",
     "metadata": {},
     "source": [
      "encoding of the page"
     ]
    },
    {
     "cell_type": "code",
     "collapsed": false,
     "input": [
      "print r.encoding"
     ],
     "language": "python",
     "metadata": {},
     "outputs": [
      {
       "output_type": "stream",
       "stream": "stdout",
       "text": [
        "utf-8\n"
       ]
      }
     ],
     "prompt_number": 23
    },
    {
     "cell_type": "markdown",
     "metadata": {},
     "source": [
      "headers of the response"
     ]
    },
    {
     "cell_type": "code",
     "collapsed": false,
     "input": [
      "for header in r.headers:\n",
      "    print header+\" : \"+ r.headers[header]"
     ],
     "language": "python",
     "metadata": {},
     "outputs": [
      {
       "output_type": "stream",
       "stream": "stdout",
       "text": [
        "vary : Accept, Accept-Encoding\n",
        "x-github-media-type : github.v3\n",
        "x-xss-protection : 1; mode=block\n",
        "x-content-type-options : nosniff\n",
        "etag : W/\"ee1327149939c8599422a873873181a9\"\n",
        "cache-control : public, max-age=60, s-maxage=60\n",
        "x-poll-interval : 60\n",
        "status : 200 OK\n",
        "x-ratelimit-remaining : 53\n",
        "x-served-by : cee4c0729c8e9147e7abcb45b9d69689\n",
        "access-control-expose-headers : ETag, Link, X-GitHub-OTP, X-RateLimit-Limit, X-RateLimit-Remaining, X-RateLimit-Reset, X-OAuth-Scopes, X-Accepted-OAuth-Scopes, X-Poll-Interval\n",
        "transfer-encoding : chunked\n",
        "x-github-request-id : 0E8BF0E2:6D1B:1092A04:55828345\n",
        "access-control-allow-credentials : true\n",
        "last-modified : Thu, 18 Jun 2015 01:37:25 GMT\n",
        "link : <https://api.github.com/events?page=2>; rel=\"next\", <https://api.github.com/events?page=10>; rel=\"last\"\n",
        "date : Thu, 18 Jun 2015 08:37:25 GMT\n",
        "access-control-allow-origin : *\n",
        "content-security-policy : default-src 'none'\n",
        "content-encoding : gzip\n",
        "strict-transport-security : max-age=31536000; includeSubdomains; preload\n",
        "server : GitHub.com\n",
        "x-ratelimit-limit : 60\n",
        "x-frame-options : deny\n",
        "content-type : application/json; charset=utf-8\n",
        "x-ratelimit-reset : 1434618773\n"
       ]
      }
     ],
     "prompt_number": 24
    },
    {
     "cell_type": "markdown",
     "metadata": {},
     "source": [
      "Raw content of the page"
     ]
    },
    {
     "cell_type": "code",
     "collapsed": false,
     "input": [
      "r = requests.get('https://api.github.com/events', stream=True)\n",
      "print r.raw.read()"
     ],
     "language": "python",
     "metadata": {},
     "outputs": [
      {
       "output_type": "stream",
       "stream": "stdout",
       "text": [
        "\u001f\ufffd\b\u0000\u0000\u0000\u0000\u0000\u0000\u0003\ufffdY\ufffd#W\ufffd\u001e",
        "\ufffdW\u0722FE\ufffd:\"\u0000\u01ce`\u0015\ufffd\ufffd\ufffd\ufffd\u000b",
        "\ufffd[e$+I\u0016\ufffdB\u000e_\u0000\ufffd\u0000\ufffd;\u0010\ufffd\ufffd14k\ufffd\ufffd4\u001a\ufffd\ufffd\ufffde\ufffd\u001ff$\ufffdi5\ufffd\ufffdL/m53\ufffd\ufffd\ufffd'bW\ufffd\ufffdI\u007fA\ufffdw\ufffd\ufffd\r",
        "p \u0000\u0007XRMEI\ufffd\f",
        "\u0000~\ufffd\ufffd\ufffd\ufffds\ufffd=\ufffdw\u007f~\ufffd\ufffd;{G{\ufffdn\ufffd\ufffdjU\ufffd\ufffd\ufffd\ufffd\ufffd\ufffd\ufffdz\ufffd\u2ed3`4\ufffd\ufffd\ufffd;\ufffd\ufffd^\ufffd?\ufffd\u0372\ufffdA\ufffdw\ufffd\ufffd\ufffd\ufffd\ufffdn\ufffd\ufffd\ufffd\ufffd\u001b\u0006}\u007f\ufffd&}\ufffd9\b\ufffd \ufffd\ufffd\ufffd\u043a\ufffd\ufffdVx.\ufffd\ufffd\ufffd,\u001c",
        "\ufffd\ufffdt:\ufffd\ufffd*\u0015k\ufffd\u001f\ufffd\ufffd\ufffd`\ufffd;\ufffd\ufffdQe\u0016\ufffdaT\ufffd4\u05cd\ufffd\u001a\t\ufffdH7d\u001b;\u0018O\ufffd1E\ufffd\ufffd\ufffd\ufffdo\ufffd\ufffdBw\u0012\ufffd\ufffd4\ufffd\ufffdf\ufffd[o\ufffd\uf36d\u0011\ufffd\ufffd>\u001e",
        "8\ufffdeEwve\ufffdH)\ufffd'\ufffd&x\ufffd\u013a\u001e",
        "\u0006\u0016\u0006w\ufffd\ufffd\u0011p\ufffd\ufffd\u7994*\ufffdmT1\ufffdv\ufffd\ufffd\ufffd\u0698\ufffd\ufffdt4<\ufffdS\ufffd\ufffdU\ufffd'\ufffd\u079fV\ufffdf\ufffdn\ufffd\ufffdu\ufffd\ufffd\u001aM\ufffd\ufffdq[\ufffd\ufffd5\ufffdm6M\ufffdr\ufffd\ufffd\ufffd=\ufffd\ufffd\ufffd\ufffdz^\ufffd\ufffd \ufffdR\ufffdS\ufffd\u0011\ufffd\ufffd\ufffd\ufffdx\n",
        "V\ufffd\u000f&+\ufffd\ufffd:]\ufffd\ufffd\ufffd=\ufffd\ufffd\ufffd\ufffd\f",
        "Ky\ufffdp\u0018\\\ufffd\ufffd\ufffdv%+V\ufffdV\ufffd\ufffd\ufffd\u001f\ufffdKP@\ufffd\ufffdJ0\u001d",
        "\ufffd\ufffd9\ufffd\ufffd\u001b\u000e\u070f\ufffd\ufffduFZ\ufffdT\ufffd\u000f\ufffd\u0015iD\ufffd\u0010\ufffd\ufffdl\ufffd!\ufffd\u0006\u0779\u001a\ufffd'7\u0015r\ufffd\u0010\ufffd\ufffd\";\ufffd'S?\u0018o\u05b1\\KP\n",
        "\u00be5\ufffd\ufffdY\ufffdSB\ufffd\b\u0004d\ufffdm4*i\ufffd\ufffd.%\ufffdfMU\ufffd\ufffd\ufffd$\ufffd/-\ufffd\ufffdS\u0011\ufffd\ufffd\ufffd_bbK\ufffd\ufffdk\u000b",
        "jZ\ufffd~\ufffdM\ufffdi\ufffd\ufffd\ufffd\ufffd(2=k\u0018\ufffd\ufffd&\u0001\ufffd\u0174\ufffd\u001d",
        "\ufffdg\ufffd!$\ufffd?\ufffd\ufffdR\u007fO\ufffd\ufffd@\ufffdP\ufffdy\ufffdH]w\ufffd\ufffdv\ufffdZS\ufffd\u0142\ufffd\u06abU\ufffd\ufffdA\ufffdu`v^U;G\ufffd\ufffdQ\ufffd\ufffd%\ufffd\ufffdM\ufffd[\ufffd\ufffd\u0005\ufffd5\ufffd\ufffd\ufffd~o65\ufffdk_\u0018\ufffdg\\\u00073\u00f6\ufffd\ufffdM\ufffd\ufffd\u001d",
        "\u0005\ufffd\ufffd\u000167\ufffd\u068bF\ufffdp\ufffd\u055e1\ufffd\ufffd{\ufffdp\ufffd\ufffd\ufffd\u0437\ufffd\ufffd\ufffd\ufffd\ufffd]\ufffdS`\ufffdD\ufffd4Z\ufffdn\ufffd\ufffd\ufffdX\f",
        "\ufffd\ufffd\ufffd\u001arX\"\ufffd\u047a\ufffd\bS\u0741\ufffd\ufffdf\u007f^\ufffd6\ufffd\u0015\u007f\u001c",
        "E3w\ufffd\n",
        "5\ufffd&\u0014o\ufffd\ufffd\ufffdk\ufffdyT\ufffd\ufffd\ufffdI\ufffdO\u0774\u0500\ufffd,(\u03daY\ufd2b\ufffdv\ufffd<OC\u07ce\ufffd`\\q\ufffd\ufffd\u0003k\ufffdwmk\ufffd\u001d",
        "\ufffd\ufffd\ufffd\ufffd\ufffd[\ufffd<\ufffdTai\ufffd~\ufffd\ufffd\u0017\ufffd}\ufffd\ufffdZv\ufffdk*B%\ufffd\ufffdj\r",
        "\ufffd\u001c",
        "Z=wx\ufffd\ufffdP\u0006\ufffd:\u0004+\ufffd\ufffdM\ufffdv\u0006\ufffdH\ufffd\ufffdWK\ufffd\r",
        "^\u0010\u0013\u0004\ufffdu$\ufffd\u0006\ufffd\u00159\ufffd]\ufffdP\u05d9\u0006.\u0015\ufffd\ufffdN\ufffdl\ufffd\ufffd:8g6\ufffd\u045e\ufffd\ufffdC\u0018\ufffd\ufffd!\ufffd\ufffd'\ufffd7\ufffd\ufffd\ufffdS\ufffd8\ufffd\ufffd\u00f2mw2\ufffd8\ufffdM\u0001h\ufffd\\w\n",
        "\ufffdi\ufffd\ufffdK\ufffdLJ\ufffdy\ufffdD\ufffd\ufffd\u0018/\ufffdV\ufffdn\u0003\ufffd\ufffdJtgVO\ufffd~h#k\ufffdm\ufffd[\"\ufffd\ufffd\ufffdX!Bf+\u000b",
        "D(\ufffd\ufffd\ufffdP\ufffd6\u000b",
        "\u0018dc\ufffdC\ufffdljuH\ufffd\ufffd-\u000ei\ufffd\u001bkC\ufffd g\ufffd`\ufffd\ufffd[\u001aJD\ufffd\u001d",
        "\ufffd|\ufffd\ufffd\ufffd\ufffd\ufffd\ufffdTz\ufffd>^\ufffd\ufffdU\ufffd\u001d",
        "\f",
        "yF\ufffd\ufffd\ufffdZ\ufffd\ufffd\ufffd\ufffd\ufffd\u0017b\ufffdN\ufffd\ufffd\ufffda\u0010\ufffd\u000e\u001a\f",
        "\u0003\ufffd\u0002\u007f(\ufffd\u0007:8\ufffd\ufffd\ufffd\ufffdML\ufffd\ufffd?\ufffdl\bR\u001b(\ufffd{G&l\ufffdb\ufffd\ufffd\ufffd\ufffd=\ufffdw\ufffd\ufffd\ufffd\u001a\u0006M\ufffd\u03e8\ufffd,\ufffdE\u0363Z\ufffd\ufffdQ\ufffd#\ufffd\ufffdy\ufffd\ufffd\u001b\ufffd\ufffd\u001b\u0019\ufffd\ufffd\ufffd\u001b\ufffd\ufffd\t\ufffd9Q5v\ufffd\u0012q5\u000e\ufffd\ufffd\ufffd\ufffd\ufffd\ufffd5\ufffdp\ufffd\u0015\ufffdh\ufffd\u0011x\ufffd;t\ufffd\ufffd5\u07af\u001f6\u000e\ufffd\u0007\u0014\ufffd\ufffd\u000f\u000e\r",
        "\ufffd\u0011\ufffd\ufffd~J\u000e\u001b\ufffd\u001b\ufffd\u0001N\ufffdWV8\ufffd\ufffd\ufffd \r",
        "\ufffd\ufffdu\ufffd\u001f\ufffd\u0013\u0018\ufffd\ufffd\ufffd\ufffdj\u000f\ufffd\ufffd\u0007\u0006^N\u0002\ufffdT\ufffd7\ufffd\ufffd|u\ufffd(~}\ufffd\ufffd\ufffda\ufffd\ufffd\ufffdK_\r",
        "\ufffdh\ufffd\bz\ufffd~0\ufffd\ufffd\ufffd\ufffd\u0195\u0015\u0019WAx\ufffd\ufffd=\ufffd\u000b",
        "B\ufffd\ufffd\ufffd\ufffd\ufffd1\ufffd\ufffd?\ufffd\ufffdX\ufffd\u0251\ufffd\u0612\r",
        "\ufffd<\ufffd\u05cfjU\ufffd\ufffdS>#=;2\ufffd\ufffd\ufffd\ufffd\ufffd|\ufffd\ufffd\ufffd\ufffd\ufffd/N\u039f\ufffd\ufffd\ufffd?\u007f\ufffd\u066b\ufffd\ufffd\ufffd>9=yud\ufffd\ufffd|6}\u03f0\ufffd\ufffd\ufffd\ufffdgc4\u0013m`Xct\ufffdkO\ufffd\ufffda\u001a?\u001fG\ufffd\ufffdF\ufffd\u0013\ufffd\u001c",
        "\ufffdN\ufffd\ufffdl4~d\ufffd\ufffd\ufffd\u001b\u001e",
        "\ufffd\ufffd\ufffd\ufffd\ufffd\ufffdE\u0018L\ufffdp\ufffd\ufffd/\ufffd\ufffd`\u0016\u06ae\ufffd\u0000,t\u0004\u001b5\f",
        "F.\u001c",
        "\u000e\ufffd\ufffd\n",
        "\u000e\ufffd\ufffd:\ufffd\ufffd\u001f\ufffd\ufffd\ufffd\ufffd\ufffd\ufffd\ufffd\u043a>|\u0013\ufffd\ufffd\u0013\ufffd#\ufffdlw6\u0019\ufffdk\ufffdDG2\ufffd\u0006\ufffd|cd]\ufffd\ufffd\u0001\ufffde\u0004\ufffda\u0019g\ufffd\ufffd\u000fL\ufffd\ufffd\u0015\u000eq?4\ufffd)\u0016\u0007g\u0006q\"8\ufffd#\ufffd4\u001b\ufffd\ufffdSX\u000er\u00117\ufffd5\ufffd\ufffd\ufffd\ufffda\ufffd\ufffd\u001e",
        "\ufffd\"\ufffd\ufffd|~`E\u0003\u00db\ufffd\ufffdp\ufffd\ufffda\u0000\ufffd,\ufffd\u0003c\ufffdbY\ufffd\ufffd\ufffd\ufffd\ufffd\ufffd\ufffd\u000f|\ufffdq\ufffd\u0007\ufffd\ufffdu\u01ff\ufffd\ufffd\ufffd>\ufffd\ufffdj\ufffd\ufffd\u040aFo\ufffd9\ufffd\ufffd3r\ufffd\ufffd\u0019\ufffd18\u000e\ufffdZ\f",
        "\ufffd\f",
        "\ufffd`oL|\u06d0\u001f\ufffd\ufffdc\ufffd5\n",
        "\ufffd7\\]n\f",
        "\ufffd\ufffd\b{\ufffd\ufffd8+X8)<\ufffd~W\ufffd\ufffd\ufffdh\ufffd\ufffd\u0010(\u0016\ufffd\u0618EF\ufffd\n",
        "q\ufffd\b\ufffdX\u007f#\ufffd\ufffd\ufffd\ufffd\u0007\ufffd\u0006\f",
        "\u0004[\ufffdSh\ufffdqV\ufffd\ufffd\ufffddcx~\ufffdw\u026e1\ufffd\u001e",
        "\ufffd#\ufffdb\ufffd\u000f\ufffdq\ufffd\u0012\u001a\ufffd\ufffd\ufffdD\ufffd\ufffd\u001a\ufffd\ufffd{l\ufffd0>\ufffd\ufffdo\ufffd\ufffd!\u0013\f",
        "\ufffd \u0180VNpe\ufffd\u007f5\ufffd\ufffd\u0001W\ufffd\ufffd`\f",
        "qP\u0017\ufffd\u0013\ufffd,\ufffdj\ufffd&\ufffd\ufffdP\u000f\ufffd\ufffd\ufffd\t\u0708g'y\ufffd\u001a_O\u0007|\ufffd}\ufffd\ufffd\ufffddx-;:\ufffd,}\ufffd#\u001a\u007f\ufffd'\ufffdNb\u0016\ufffdi;\u0124\t\ufffd`\ufffd\ufffd`B\ufffd\ufffdC\ufffdP}c\ufffd\r",
        "0\ufffd\u07b2{\ufffd\u0010\ufffdG\ufffd\ufffd\u07bd\t\u001b\ufffd]\ufffd\ufffd\ufffd[\ufffd\ufffd!v\ufffdR>\ufffd\ufffd(p\ufffd\ufffd\ufffd\ufffd~\ufffd\ufffdF\ufffd5w/M7\u000b",
        "\u001e",
        "\t,!\ufffd\ufffd\ufffd\u0001;\u0018Ctih`9|\ufffd\ufffdM\ufffd\u001b\ufffd\u000b",
        "\ufffd\ufffdf\ufffd\ufffdq\u0017X4\ufffd\ufffd\ufffd9#\u067a\ufffd\u2ce9?\ufffd\ufffd[\ufffd\ufffdV\ufffd!\u0014)' \ufffd\ufffd\f",
        "\ufffd\u0013t\ufffd\ufffd\ufffd\ufffd\ufffd\ufffd\ufffd\ufffd\u001a\ufffd\ufffd\ufffdC\ufffd|`\ufffd\u0018\ufffd\ufffd\ufffd\ufffd\ufffd\ufffdVm\ufffd\ufffd\ufffd\ufffd\u001f\ufffdd\ufffdd,\ufffd\u001fN\ufffd\ufffd\u0001\u0004\ufffd\ufffd\ufffd\ufffd\ufffd\u000f\ufffd\ufffd\ufffd\r",
        "\ufffd\u0014\ufffd\ufffd\ufffd8\ufffd\uc05e4\ufffd\u0019\ufffd\ufffd\ufffd\n",
        "\u0715\u000b",
        " 6*\ufffd{\ufffdW\u06edN\u04c4\ufffd\ufffd\ufffd\ufffd\ufffd\u001e",
        "N\ufffd\n",
        "?\ufffd?5q\ufffd\ufffdS\ufffd\ufffd\u00ee|\u0001\ufffd\ufffd\ufffdk\ufffdw\ufffdc:\ufffd1+\u001b\ufffd\ufffd\ufffd\u000e\u01eb\"r\u007fh\ufffd\ufffd\ufffde\ufffd)\ufffdC\ufffd-\ufffdryF\ufffd\u001a\u001f+\ufffd\u0017V\u0013\f",
        "\"\u001a\ufffd#+\ufffd*\ufffd\ufffd\u0016\ufffd\ufffdI4\bh\ufffdis\ufffd\ufffd\u001d",
        "Z\ufffd0\ufffdB\ufffd\ufffd\ufffd!x \u0006$\ufffd}\ufffdX\ufffd\ufffd\ufffd#6\ufffd,\u0001\u000e\ufffd\ufffd\ufffd\u0011\ufffd\b\u0444\ufffd\ufffd?\u001c",
        "\ufffdA\u001c",
        "\r",
        " :i\t\ufffd\ufffd\ufffd\u0011sj\ufffd\ufffd\u0004$|A[\u0013\ufffd0\u001c",
        "\ufffdb\ufffdGr\ufffd\u001c",
        "\u001b\u0013\ufffd\ufffd\ufffd}u\ufffdUtp\u0004\u001533\ufffdF43\ufffd\u0003\u001c",
        "\ufffd\ufffd\ufffdUF4\ufffd\ufffd\ufffd\ufffd\ufffd\ufffdT[\u0307\ufffd{\ufffde\u00023\ufffd\ufffd\ufffd\ufffd2\ub999z\ufffdc\u0019\ufffd\ufffd6\ufffd\ufffd?\u04fa\ufffd\ufffdPw\ufffd\ufffd\ufffdO\ufffd\ufffd\ufffd\ufffd\ufffd@\u0018\ufffd\ufffd5<\ufffd\u0171s\ufffd\ufffdmt:\ufffdI\ufffd!\ufffdwo\ufffd^\ufffd7\ufffd\ufffd\ufffd?\u04fc\u0538\ufffd\u000e-\u0004\u0000\ufffd\ufffdV\ufffd\ufffd5\u0011\ufffd\ufffd^\ufffd\ufffdM\ufffd\ufffd\ufffd\ufffdR\u0010\u000e\ufffd\ufffdY\ufffd\ufffd_\ufffdp\ufffd\ufffd\u001f'\ufffd\ufffd8\ufffdb\ufffd1\ufffd\ufffd\u0013L\ufffdy\ufffd\ufffdtM\u0013\ufffd\ufffd\u0015\ufffd\ufffd*\ufffd<S}\ufffd\ufffd\ufffdN\ufffd\ufffdD\u0000f\ufffd\ufffd_FI\b9\ufffd\ufffd-\u000f\ufffd/oz\u0206h\ufffd\b\ufffd=(E@Zr(\ufffdZ\u0016E\ufffd\u0466\u000b",
        "G\ufffd\ufffd\ufffd\ufffdg\u01e5\ufffd/s\u001e",
        "\ufffd\u060b\ufffd\ufffd\r",
        "\ufffd8\ufffdbN!\ufffd\ufffd\u074d\u001f\ufffd\f",
        "\u000f\ufffdN#y\u0015\u008f\ufffd\ufffd=\ufffd\ufffdoZ\ufffd\ufffd\ufffdp\ufffd\u00184\ufffd\ufffd\u060e\ufffd\ufffd\ufffd\ufffd3\u001d",
        "Z\ufffd)0=\u001b\ufffd\ufffd)\ufffd]0G\u0001\ufffdtvABj+\ufffd~Bew\ufffd\ufffd\ufffd\ufffd>\ufffd\ufffd\u04a6~\ufffd\ufffd\ufffd\ufffd\ufffd\ufffd\ufffdn\ufffd\ufffd\ufffd\ufffdl\ufffd\ufffd\ufffd\ufffd\bt2|c#X\u0007\u0733\ufffd\ufffd\ufffdqwe\ufffdd|\ufffd*mA\u07a2\ufffd\u000e2_\ufffd\ufffd\\\ufffdO\u03e3\ufffd\u0015\ufffd7\ufffd\ufffd\ufffd\ufffd\ufffdX\ufffd\ufffdLS\ufffd\ufffdb\ufffd\ufffdS\ufffd(\ufffdB\ufffd\ufffdw\ufffd\ufffd+\ufffd'\ufffd\ufffd\u0018\ufffdm\ufffdIg\ufffd\ufffdv=\ufffd\ufffd\ufffdp\ufffd\ufffdO7\r",
        "(\u0017u9\u0016\ufffdI\ufffd\u0019\ufffd\ufffd\ufffd\ufffdn\ufffd\ufffd\ufffd\ufffdW:\r",
        "\ufffdm\ufffdjv\ufffdf\u057b\ufffd\r",
        "\u053c\ufffd\ufffdv\ufffdv\ufffd\ufffd\ufffd:\ufffdv\ufffdZs[\ufffdSw\ufffd\ufffd\u0001T\ufffd\ufffd1\ufffd\ufffd\ufffdP\ufffd\ufffd#e!\ufffdLz\ufffd>\ufffd(\ufffd\ufffd\ufffd\ufffd\u001b\ufffd#\ufffd\ufffd\u001b@\ufffdN\ufffd@_\ufffd\ufffd\u037cM\ufffdc\ufffdwZfe\ufffdj\ufffd\ufffd\ufffd@\ufffd\f",
        "\u0005e\ufffd\ufffd\ufffdph\u021d\u0015<Z\ufffd+O\u0013\ufffd\ufffd\ufffdM@\ufffd\u06fe\ufffd\ufffd\ufffd\u0012\ufffdL<bwF\ufffd\ufffd\ufffd\ufffd?\ufffd\ufffd+\u066f\ufffd\u0490\ufffd\ufffd\u0012\ufffdahV\ufffdM\u0012\ufffd\ufffd\ufffd%\n",
        "\ufffd\ufffd?\ufffd\ufffd1Y8\ufffd\u0018\ufffd\u01c3pR]$o*\ufffd:PTJ\ufffd-\ufffd\u0002M\ufffd\u000b",
        "\ufffd\ufffd4\r",
        "\ufffd\ufffd\ufffd\ufffd:\u001d",
        "\u001b\ufffd/\ufffdh\ufffd\ufffdB\ufffdDi\ufffd9\"7\ufffd\ufffdR\ufffd4\u0001\ufffd\ufffd5*M[\u001a\ufffd\ufffd\n",
        "\ufffd\ufffd\ufffdD\ufffd1\ufffd(q:\ufffd\ufffd\ufffd\ufffd\ufffd \ufffd\u000fI\ufffd\ufffd\ufffd\u001d",
        "Y\ufffd\u001a}\ufffd\u000f\u0017\ufffd\u0007\ufffd\u0010\ufffd\ufffd*\u0015\ufffd@/\ufffd\ufffdH~.M2n\u007fSQ\u007f\u026aZ\ufffd\ufffd\ufffd\u0616\ufffd\u001a\u0006\ufffd\ufffd4P`R\u0011\u00027\u0015\ufffd\ufffd\ufffd\u0011\ufffd9\u07e6W\ufffd\ufffd\ufffd9\ufffd\ufffd\ufffd\ufffd\"\ufffd'\u0004\ufffd\ufffd[~\u0011\ufffd{$\ufffd\ufffd\ufffd\ufffd9\ufffdF\ufffd\ufffd\u0010\ufffd\ufffd3\ufffd_\ufffd\ufffd\t\u0001,\u0007\ufffd*}\ufffd\u076d\ufffd+\u02cf\ufffd)\u0005\ufffdc\ufffdS\ufffd#\ufffd\u007f+A\ufffd\ufffd`\u000f\ufffd\ufffd\u0006'\ufffd\ufffdK\ufffd!\ufffd\u0012\ufffdz\ufffd\ufffd\u01d5\u0015\ufffd\ufffd\ufffd\ufffdd\ufffd\ufffd>\ufffd\ufffdn\ufffdc\ufffd-I\ufffd\u000f\ufffd\ufffdn\ufffd(\ufffd\u001c",
        "(a\ufffd\u007f);\ufffd\ufffd}PD_\ufffd\ufffdm1\ufffd\ufffd\ufffd\u0017Un\ufffd\ufffd\u0005/\ufffd\ufffd1A.Q\ufffd\u03a2\ufffdl^\ufffd\ufffd!\ufffd\ufffd\u001bd0\ufffd\ufffd\ufffd@\ufffd\ufffd*\ufffdS\ufffd\u001ad\ufffd\ufffd\u001e",
        " \ufffdl\ufffdn\ufffd\ufffd\ufffdDF\ufffdT\n",
        "\ufffd<v\u000f\ufffddc\ufffd\u0016\ufffd\ufffdaB\u0000\ufffd\u0512\ufffd\ufffdj\ufffd\ufffd@I\ufffd\ufffd,9i\ufffd\ufffd\ufffd$\ufffd\ufffd&\ufffdR\ufffd\ufffd\u0365\ufffd\ufffdm\ufffd\ufffd\ufffdO\u0010&\ufffd\ufffd}\ufffd4\ud0ed\ufffd\ufffd\ufffdO\ufffd\u0012\u12ad_FRd\u0003\ufffdW\ufffd\ufffd\u0014\ufffd\ufffdS\u0012\ufffd\ufffd\ufffd\ufffd\"\ufffd\u0015.^\ufffd\ufffdT\ufffd[\ufffd\ufffd\ufffd3\ufffdY4X^F&q[\u001a\r",
        "\u029c\ufffd_H\ufffd\ufffd\u052d\u0016\ufffd\ufffd\ufffd\ufffd\ufffd\ufffdQ\u001c",
        "\ufffd\ufffd\ufffd\ufffd&G\u02db\ufffd\ufffd<\ufffd\ufffdx\ufffd\ufffdr^\ufffd\ufffdn\ufffd\ufffd\r",
        "\ufffdA<\ufffd\u001a\ufffd\ufffd\u0551\ufffd\u000e\u007f#b\ufffdQ\ufffdv0c\u00010\ufffd\ufffdbD\ufffd*0\ufffd*V\ufffd1\u0001$\ua7ab\ufffd\u0015\u0017\ufffd\ufffdt\ufffd\ufffd\n",
        "9~y\ufffd_\ufffd\u0647\u060f(98\ufffd\u0011&\ufffd\u03e4W\ufffd\u0000\ufffd\ufffd\ufffd\ufffd~W\ufffd\\M\ufffd\ufffd\ufffd\ufffd\ufffd\ufffdQ\ufffd\ufffd\ufffd^~t\\\u03da\r",
        "\ufffd\ufffd\ufffdJM\ufffd\ufffd,\ufffdL-t\ufffd\ufffd\u0005\ufffd\ufffd\u001bw\ufffdK\ufffd\ufffd\ufffdv\ufffdN\ufffd3\u001bV\ufffdU\ufffd6\u001b\ufffd\ufffd\ufffd\ufffd\ufffdV\ufffd\ufffd\ufffd\ufffd5\u00143\ufffdU\ufffd\ufffdnT\ufffd'^\ufffdl\ufffd\ufffd\u0006\ufffdy\ufffd\ufffd\u0010\u0004\u0012\ufffd\ufffduA\ufffd\u001f\ufffd7\ufffd\u0399\ufffd\ufffdU\u0014h\b\u0224\ufffd\ufffd\ufffd\ufffdW\ufffdaE\ufffd\ufffd\ufffd\u0360\ufffd$\ufffdQ\n",
        "O\ufffd\u0399\ufffd$V\ufffd\ufffdUp\ufffd\u033ds\ufffd.\u0003(Z\ufffd5w\ufffd\ufffd\u0015\ufffdN\u02e7\r",
        ":\ufffd\ufffd;gn\ufffd\ufffd(]\ufffd\u000e\ufffd)r\ufffd\ufffd\ufffd\ufffdtcy?\ufffdu\u0005K\ufffd\ufffd\u049e\u0017r\ufffd<\ufffd;g\ufffd3\ufffd\u0399\ufffdE\ufffd[\ufffd\u0015\ue739R\u0002\ufffd\ufffd\ufffd\ufffd\ufffd\u0014\ufffd\b(\ufffd;gnRo\u0012;\ufffd\uf739;q\ufffd\u0003)\u0000\u0019\u001d",
        "\ufffd\u01cd\ufffd!\ufffdno\ufffd\u0006\ufffdo\ufffd\ufffdN\ufffd\ufffdk\ufffd!f\ufffdD\u0001\ufffd\u0002gJ\ufffd\ufffdI\u000055h/\u001e",
        "\ufffd\u0002\u0002sx\ufffd\u02c5I\ufffd\ub729\u001c",
        "\ufffd1\ufffd\u001d",
        "[L/\u035dF/\ufffdR\u0277\ufffd\ufffd\ufffdn\u0005\ufffd\ufffd/FnuY5Ks\ufffd\ufffd\ufffdl\ufffdI\n",
        "T\ufffdt\ufffdm\ufffdn\ufffdZ\ufffd\u0604\ufffd<H\ufffd$\ufffd=q\ufffd%\ufffd\ufffd\ufffdK4\u001b\ufffd<\ufffdeN\ufffdj\ufffd\u0007\ufffdC\u0015A\ufffdgL\"\"\u000b",
        "\ufffd\ufffd\ufd3d\ufffd\ufffd%D\ufffd\u001d",
        "\ufffd8\u0011}E\ufffdO\ufffd\ufffd/\ufffd?)\ufffd<\ufffd\u001c",
        "p\u0000\f",
        "\ufffdT7\ufffdDD\ufffdm\u0001l\ufffd\u00d2u]r\ufffdX\ufffd\ufffdN\ufffd\ufffdzY\ufffd^\ufffd2\ufffdO\ufffd1\ufffd\ufffdn\ufffdQ\ufffde\ufffd\ufffdUR\ufffd\ufffd\ufffdy\u001a\ufffd\ufffdt\ufffd\u0016\ufffd\u000e\ufffdV\ufffdmf\ufffd\u0007s\ufffd\ufffd \u0000\u0018\u000f\ufffd\u0001\ufffd\ufffd\ufffdS\ufffd\ufffd\ufffd\ufffd &\ufffdh\ufffd\ufffd$\ufffd\ufffdD\u001a@\ufffd\ufffd\u000f\u0019/\ufffdx\ufffd\ufffdV\u0603k\ufffd\"\ufffd\u000b",
        "\ufffd\ufffd\u000f\ufffdI;\ufffd\ufffd[]r\ufffd\u001e",
        "5\u032f \u0010vku`Zg\u0011\b9\ufffd)\u0006\ufffdS\u007f\ufffd\u001b\ufffd\ufffd\ufffd\ufffd\ufffd\ufffdC,\ufffd\ufffd\ufffd\ufffd\ufffd@\ufffd\u001c",
        "C\u0012\u0000\ufffdil<\ufffd\ufffdo,\u0003\ufffd8\u0004\ufffd\ufffdzm\ufffd\ufffd\ufffd\t\ufffd\"2\f",
        "k\ufffd\ufffd\u000b",
        "r\ufffd\u001c",
        "b\ufffd\ufffd\u6231\u001a\ufffd6\ufffdn\ufffd\ufffd/m\ufffd\ufffd\ufffd\u0006\ufffd\ufffd1n\u0014\ufffd\u022fT\ufffdJ\ufffd\"2\ufffd\u0014\ufffd\ufffd\ufffdmU\ufffd'E\ufffd\f",
        "\ufffd\ufffdv\u0000\ufffd<Gw\ufffd\ufffd\ufffd<\ufffdM\ufffdS\ufffd\ufffd\ufffd\u0002'\ufffd\ufffd\ufffd[\ufffd$v\u0004~8\u07e7\ufffd+\"\u0013\u0014\ufffd_\ufffd\ufffd\u0145\ufffdkU'J\ufffd\u001f\r",
        "\ufffd\u0015\ufffd6\ufffdZ^\u001b@b\ufffd\ufffdR\ufffdp\ufffdh*\ufffd\ufffdH1w\ufffd\ufffd\ufffd_\ufffdU\u0001\ufffd`\ufffdX4\ufffd\ufffd1\ufffd\u36da\ufffd&\ufffdX\ufffd\ufffd\ufffdM\ufffd\ufffd\ufffd\ufffd\ufffd\u016f\ufffd\u0006C\ufffd5<\ufffd\ufffd\ufffd\ufffd;\":\u05c7_\ufffd}\ufffdi\ufffd\ufffdW\ufffd\u001fM\u001d",
        "\ufffdr9\ufffd\u0001\u001e",
        "\uc432<\ufffd\u000f6\ufffd'\ufffd\u0015\ufffd\ufffd7h\ufffdf\u0016\ufffd\ufffda\\M\ufffd\ufffdy\u000fi.\u0017x\ufffd\ufffd5>\ufffd\ufffd\u0004 \u07db\u001e",
        "N\ufffd\u0015\ufffd\ufffd\ufffd\ufffd\ufffd\u0014?\ufffd<\ufffd_\u01c1\u0012\b$\ufffd!\u00155\ufffd ?\u001c",
        "0\ufffd\ufffd\ufffd\ufffd4\ufffd\u0187@\ufffd\ufffdg\u03c2c\ufffd\ufffd\b\ufffd\ufffd\ufffd5\u070f\ufffdqt\u0000i\ufffd{\ufffdu\u007f\ufffd7\ufffd\ufffd\u0006\ufffdJej\u001e",
        "\ufffdi\ufffd\ufffd\ufffd\u0004\ufffd\ufffd\u0011\ufffde~\ufffd\ufffd\ufffd\ufffd\ufffd\ufffd\ufffd\ufffd3\ufffd\ufffd\ufffd~i\u001f\u0527\ufffd=\ufffd\ufffd\ufffd\ufffd\u0019\ufffd\ufffdo\ufffdv\ufffdO\ufffd\ufffd\u076f\ufffd^y\ufffd\ufffd\ufffd\ufffd\u007fw\ufffd\ufffd\u0016\ufffd\ufffd^5k/O\ufffdZ\ufffd\u001e",
        "\ufffd\ufffd\ufffd\ufffd\ufffdO\ufffd]X\ufffd\ufffdx7y\ufffd\u5cd9}\ufffdi{f]\ufffd\ufffdp\ufffd\ufffd#Y\u000e\u0013\u001fr38p\ufffd$\ufffd|~\ufffd^\u0018\u000f\u0017#\u0137\u0007X\ufffd\ufffd\ufffd@~\ufffd\u0012\ufffd\ufffd\ufffd\ufffd\u001f\u000b",
        "\u007fN\u001d",
        "\ufffd&\ufffdY\u0007\ufffd\u001c",
        "x\u0012\ufffd\u07e0-\u0016\ufffd\ufffd/\ufffd\ufffd\ufffdlp\ufffd\ufffd92\ufffd\ufffd\u001d",
        "w$S\ufffd\ufffd\u0019N\u019a\ufffd(;V\ufffd\ufffd\ufffd\u001d",
        "\u001d",
        "\ufffd\ufffd\u0015wu8\ufffdA7v\ufffdl\ufffd\ufffd\ufffd\ufffd\ufffd}\ufffdb\ufffd\u000f\ufffd\ufffd9\ufffd\ufffd\ufffdJ\u000f\u0003\ufffd*-\ufffd\ufffdL\u0005~\ufffd9\u0017(T,\ufffd\u000fZ\u000f\ufffd\ufffd\ufffd\u0017\ufffd4\u053a\u0017\ufffdQ\ufffd\t\ufffd9\ufffd\ufffdITHb\ufffd\thb\u001f\ufffd>0\u0006\ufffdw%v\ufffd\u001b\ufffd_\ufffd\ufffd\ufffdt\ufffd+\ufffd<`\u0005z\u063a\ufffd\ufffd\ufffd\ufffd]\u0005\u0007S\ufffdw\u001a\u0000\ufffd\u0131\u0004\ufffd\ufffd\ufffd\ufffd\ufffd3li\ufffd\ufffd4\ufffd\ufffdb,\ufffdg/N\u0000\ufffd\ufffd'\ufffd\ufffd}\ufffd\u048f\ufffd\ufffd\ufffd8\ufffd;H\ufffd\ufffd\ufffd\u000b",
        "\u03df\ufffd\ufffd+\ufffd\ufffd\u0018\u03d0\\\ufffdw\u0018\ufffd\u0135\ufffdi\u0015\ufffd\ufffd\ufffd\ufffd<\u0003\ufffdeHX\ufffd\ufffd\ufffdW\ufffd3 \ufffd\ufffd\ufffd\ufffd)\u0007\ufffd:|\u0000\ufffdX\ufffd\ufffd\ufffd\ufffd\ufffd\u000f\u0000A\ufffd\ufffd\u0017\ufffd\ufffd\ufffd\f",
        "\u0402x\ufffd\u000fYF\ufffdO>T\u04dfN\u001d",
        "\ufffd\ufffd\ufffd=b\ufffd\ufffd\ufffdZ\"\ufffd\ufffd]k\ufffd\b9\ufffd(\ufffd\ufffd\ufffd\ufffd\ufffd<\ufffd\ufffd$\n",
        "\u0007\ufffd?)\ufffd?\ufffd\u0464\ufffd\ufffd\ufffd\ufffd?\ufffd\ufffd\ufffd\"\u04b4$\ufffd*\ufffdz~\b\\\ufffdh\ufffd\ufffd0\b\ufffd\u0010\ufffd\ufffd\ufffd+\ufffd/\ufffd5\ufffd\u000e\ufffd|\ufffdRcn\ufffd#\ufffd\ufffd\ufd46\ufffd,\\\ufffd\u001d",
        "\u022fDC\ufffdn\ufffd\u0010\ufffd\ufffdwA\ufffd\ufffd\ufffd\ufffd\ufffd\u0017/\ufffd\ufffd\ufffd\ufffd\ufffd\ufffd\ufffd\ufffdI\ufffd\ufffd\ufffdjr\ufffd\ufffd\ufffd\ufffd\u001b\ufffd\ufffd\ufffdp?\ufffd\ufffd\u000f\ufffd\ufffd\ufffd\ufffdgn\u01f3\ufffd\ufffd'\ufffd\ufffd\ufffd5\ufffd\ufffdZ\ufffd>\ufffd\u001d",
        "\ufffd>\ufffd\f",
        "\ufffdF\ufffd\u0769\ufffd\u0013\ufffd\ufffd\u001aO\ufffd7\ufffd\f",
        "\ufffd\ufffd\u000fQ\ufffd\ufffd\ufffd)\ufffd\ufffd-\ufffd\"\ufffd\ufffd\ufffd:)\ufffd\ufffdG\ufffd\ufffd\ufffdB\ufffd0B<\r",
        "PW`8\"\ufffd \ufffd|\ufffd2\u001bS\u007f\ufffdaz\u001fY\ufffd\u0003\u0004\ufffd\u0010\ufffd\ufffdLq\u0018\ufffd\ufffdu\u018a\u057fE\ufffd<\ufffd\ufffd\u0016K{\ufffd\u000b",
        "\ufffd+\ufffd\ufffd\ufffd\u0017\ufffd4;2\ufffd\ufffd\u0014\ufffd\ufffd\ufffdAF\ufffdc\ufffd\ufffd\u0011Q\ufffdC\ufffd\ufffd\u001bO\ufffd\ufffd\u000f\ufffd\u001f\ufffd\u0013\ufffd_\ufffd\ufffd\u0013\ufffd\u001fZ\ufffd7(\ufffd\ufffd\ufffd\u0010\ufffd\ufffd\u0004\ufffd\u0003\u000f\u0017\ufffd\ufffd\ufffd`\f",
        "\ufffd>\u0004\n",
        "q\u0002\ufffd\ufffd\u0003\ufffd\ufffd\u0013\u0006\u0015p?\ufffd\ufffd\n",
        "\ufffdk\ufffdQ\ufffd\ufffd\u0001%K\ufffdB\ufffd\ufffd\ufffd\ufffd\u0015u1;\ufffd\ufffd/\u000b",
        "=t\ufffd\ufffdb\ufffd6\ufffd\ufffd\u0013\ufffdZ\ufffdy\ufffd\ufffdx\n",
        "\ufffd\u0011\ufffdG\ufffd\ufffd\ufffd^4\ufffd0U&\ufffdP$\u000f\ufffdU\ufffdgg\ufffd\ufffd\ufffdw\ufffdH\ufffd\ufffde\u0014\ufffd\ufffd\\*\ufffd\ufffd\ufffd;\ufffdl(\ufffd\ufffd\u00162af\ufffd\ufffd:\u0001\ufffd]4\ufffd\u0016\ufffd\ufffd:w\ufffd#\u0017F\ufffd\ufffdx`\ufffdbF\ufffd2o!\u001e",
        "\ufffd}\ufffdK\ufffd\ufffd\u01b1#\ufffdM\u001c",
        "\ufffd\u0012]u\ufffd\ufffdz\ufffd;\ufffd\\\u0001\ufffd\u0016\ufffd\ufffd'\ufffd\ufffd\ufffd@0\ufffd0\u0001\ufffd\ufffd\ufffd\u0015\u0012\ufffd\ufffd\u0011\ufffdZ\ufffd\ufffdF\r",
        "\ufffdp\ufffdx>\ufffd\u001e",
        "\u0011m\\\u064e\ufffd\ufffd}\u001a\ufffd\ufffd\ufffd\ufffd\ufffd\ufffd\u00ad\"\ufffdv\u0005\u0017\ufffd\ufffd\ufffdW\ufffd'\ufffd\ufffd8\u001aN\\`\ufffd\u0003}\ufffd\ufffdp\ufffdu\r",
        "\bvAV\u0007\ufffdb\ufffd\u000eF_D.\ufffd\u0016b\ufffd\ufffdT\u001d",
        "Yo\ufffd\n",
        "\u0004r\ufffd\u0003Y\ufffd\u0001\u0012r\u001b\u05be\ufffdF\ufffd,T,\u0002\u0007M\ufffd\ufffdK\ufffd\ufffd\u001b\ufffdoIc4\u001b\u0003i\ufffd@\u0019\u001a'\ufffd\ufffdD\ufffd\ufffd\ufffd\ufffdI\ufffd\ufffdX\ufffd/~6\ufffd|\ufffdy!?\ufffd\ufffd\u0012\ufffd\ufffd\ufffd_(m\ufffd\u0007\ufffd\u0015\ufffd\ufffd\ufffd\u050e=k\ufffd\ufffdO\ufffd~f\ufffd\ufffd\ufffd\ufffd/\u001a\ufffd\ufffd\t\u043e\ufffd\ufffd\ufffd'o\ufffd\ufffd\ufffd/\u001e",
        "\ufffd]6\u000fN{\ufffd\ufffdw\ufffd\ufffd\ufffd'\u000f\ufffd\ufffd\ufffd\u0678\ufffd\ufffd\ufffd\ufffd\ufffd\u0017\ufffd.\u03ee\ufffd\u039f\u007f\ufffd{\ufffdNf_\ufffd\u038e}A\ufffdS\ufffdbd\ufffdA\u0019\ufffd\u0670;\ufffda\ufffd\ufffd\ufffd\ufffd\ufffd}\ufffd\ufffd\u001a\u000fQp\ufffd[\u001ar\u0016gy\u420b<<\ufffd\ufffd\ufffd%\ufffd)-\ufffd\ufffdm\ufffd~\ufffdB\ufffd\ufffd\ufffdo\ufffd\u0017f\r",
        "\ufffd=\u0017\ufffdp\ufffdK\u00003d\ufffd\ufffd<\ufffd\ufffd\u0016\ufffd\ufffd\u000b",
        "l\ufffdW\u0001f&~,\ufffd\ufffdx\f",
        "\ufffd\ufffd\ufffdR\u0006\u0007B\u001e",
        "F\ufffd\u001f\ufffd\ufffd\u0005\u001c",
        "F\ufffd\ufffd\ufffd\u0018\ufffd\ufffd\b/\ufffd\ufffdB\ufffd\ufffd\ufffdm'\ufffd\u000e\u0007(\u0003EV\ufffd\ufffdE\ufffd[\u001a\ufffd\ufffd\u0010\ufffd\\D\ufffd\ufffd)\ufffdA\u000b",
        "\ufffd\ufffd!\ufffdq\u0003\ufffdUT_\ufffd\r",
        "\ufffdB\u00145\ufffd\ufffd\u0002\u00031\u0004o\ufffd\u0018\ufffd\ufffdC\ufffd\\D\\3\ufffdk\ufffd\r",
        "\ufffd\ufffd\ufffd\ufffd\ufffdO\ufffd\u01f6\ufffd\\.\ufffd\ufffd\ufffd\u0011:\\\ufffd\ufffd\ufffd+\ufffdo\ufffd[_\ufffd\ufffd\u001c",
        "Z_\u03c2\ufffd\ufffd\ufffdw\ufffd<\ufffd\ufffd\u007fX\ufffd\ufffd2\ufffd\ufffd\ufffd\u0016\ufffd\ufffdEp\ufffdw\ufffd\ufffdos\ufffd\ufffdu\ufffd<\ufffd\ufffdk\\\ufffd\ufffd&\ufffd\ufffd\ufffd\ufffd\ufffd>\ufffdz\ufffd}\u001a\ufffdO.\ufffd\u0007\ufffd\ufffd\u007fv\ufffdlz\ufffd\ufffd\ufffd|\ufffdr\u001e",
        "_^\ufffd\u0533^\ufffd}\ufffd\ufffd\ufffdgO\u001e",
        "=?\ufffd\u007f\ufffd7\ufffdo\ufffd\ufffd3\ufffd\ufffd\ufffd\ufffd\ufffdf\ufffdS5\ufffdW\ufffd@\ufffd\ufffd1M\ufffd;=\ufffd~\ufffdd\u0013\ufffde)\u000b",
        "\ufffd>2\ufffd\ufffdS\u001f\ufffd]\ufffd\ufffdaV\ufffdG\ufffdn\ufffd\"\ufffd\u0001\u0016\u0005w\ufffd\ufffd\u0016\ufffdy|\ufffdF\u0018\ufffd2\ufffd\ufffd'V\u001f\ufffd\ufffd\ufffdzYc\ufffdoU5\bM\ufffd!\u204fK\ufffd\ufffdF\u0013\ufffd\ufffd\u000b",
        "7\ufffd54\u0003t\u001f<\ufffd\ufffd\u000b",
        "\ufffd\ufffd*@\f",
        "\ufffd\ufffd\ufffd\ufffd\u0011\ufffd=$\ufffd\ufffdv\u0002i(\ufffd\u001d",
        "\ufffd\ufffd#\ufffd\ufffd\u0000\ufffd\b0d\ufffdG\ufffdwq}6\ufffd*\r",
        "\ufffd@\u001e",
        "\ufffd\u0017\ufffd'T\f",
        "f\ufffd\u0007\u000f j\r",
        "qg\u0462\ufffd\ufffd\u0000G\u000e\ufffd\\\u001f\u0339\ufffdGA\u007f6\u0014-\ufffd\ufffdX\ufffd\ufffdS<\ufffd\ufffd\ufffdJ\ufffd)\ufffd\ufffd\ufffd\u0019\u913da\ufffd\ufffdx\ufffdq\ufffd\ufffd\u07cb\ufffd\ufffd\ufffdO\u001f\ufffd4,>q\ufffd\ufffd\ufffd\ufffd\ufffd\ufffd?8%q\ufffd\ufffd+\ufffd\ufffdJ\ufffd4z\u0014\u001e",
        "\ufffd\f",
        "\u03fe\ufffd\ufffd&j?t\ufffd\ufffd\ufffd\ufffd\ufffd\ufffd\ufffd\u035b+\ufffd\ufffd\ufffd\ufffd\ufffd\u06df\u055a\ufffdO>EU\u007f\ufffd\ufffd\ufffd\ufffdl}2\ufffd\ufffd\ufffd\ufffd\ufffdS'\ufffd\ufffd\ufffd\u000f\u007f\ufffd\ufffd\u04dd\u051b'_^Nk*\u053c\ufffdX\ufffd\ufffdk\ufffdA\ufffd\u0016)=\ufffd=\ufffd\ufffd|\ufffd\ufffd\ufffd\u0005vZ1\ufffd\ufffd\ufffd\ufffdm\n",
        "Q\ufffd\ufffd\u000e\ufffd\u0010\ufffd\ufffd\ufffd\t;\u001c",
        "\ufffd@\ufffd\ufffd \ufffd5{\ufffd\ufffd1\u0014\u0018\ufffd\u0002A\ufffd\u001ar\ufffd\ufffdk\ufffdx\ufffdoQ\u0007\ufffdq \u0018\ufffd*x\u0007.&8\ufffd\ufffdP\u0006\ufffd\ufffdY\ufffd\ufffd\u0012\ufffd\ufffd\ufffd\ufffd\u000f\ufffd\ufffd\ufffdx\ufffdTC\ufffd~(a\u0777\ufffd=\ufffd\ufffd\ufffd\ufffd\ufffd\ufffdfS\ufffdA\ufffd8}y|\ufffd\u001e",
        "x!\ufffd\\\u001b\ufffd\ufffd\ufffd-\ufffd\ufffdm\ufffd/\ufffd\u0004\ufffd\ufffd\ufffd\ufffd!:\ufffd\ufffd\ufffd\r",
        "i/\ufffd\t\u0468\u0137~\ufffd\b\u0018\ufffdO\ufffd\ufffd7x\ufffd\ufffdev\ufffd\ufffd\u0011Z@n\ufffdTU\ufffd\tT>C@\ufffd\ufffd[\\\ufffd\u0016<3Vs\ufffd\u000f)\ufffd\ufffd\ufffd\ufffd\"M\u0000w(\ufffd\ufffd4\ufffdF\ufffd\ufffdHs\ufffdp\u94f1\ufffd\ufffd\ufffdb&\ufffd\u0749{\ufffd\ufffd\ufffd\ufffd\ufffd\ufffd\u007f_\ufffd\ufffd<\ufffd\ufffd!\ufffd\ufffdEH\ufffd?\ufffd\ufffdr\ufffd\ufffd\ufffdS{\\\ufffd\u0692\ufffd\ufffd\ufffd6\u0013=\ufffd\u000b",
        "A\ufffdAann\ufffd\u06ed6\ufffd\ufffdE Xc\ufffdYYp\u0016\ufffd/,&[\ufffd\ufffd\ufffd] R*\ufffdP\ufffdm17\ufffd\ufffd\ufffdt\ufffd\ufffdfr'H\ufffdu\ufffd\ufffd\u01f8\ufffd\ufffd\u000f\ufffd\ufffd\ufffd]\ufffdX>o\ufffd\ufffdD\ufffd\ufffd\ufffd;ju\ufffdH\u001b\ufffd\ufffd]\ufffdv\tT\u000f\u0012\ufffd!u\ufffd\ufffdi\u0003w>\ufffd&\u0006\ufffd\ufffd\"\ufffd\u001f\u0000k\ufffd\ufffd@\ufffd+l\ufffd\ufffd\ufffd\ufffd\ufffd\ufffd=\ufffd\ufffd\ufffd\ufffdv\ufffdqZ^\ufffd\ufffdk8\r",
        "\ufffdW\ufffd4k\ufffd\u0570\ufffd\ufffd\u000euG*\ufffd\ufffd\ufffdv\ufffd\ufffd4Z\r",
        "<\ufffdD7\ufffd]\ufffd\ufffd0Q\ufffdF\ufffd\ufffdv\ufffd5\ufffd\ufffd;\ufffd\u001a\ufffd$i\u3e08W\ufffd\ufffdl\ufffdBk\u0006\ufffd \ufffd\ufffd\ufffd\ufffd\ufffd\ufffd\ufffd\ufffd\ufffd\ufffd\ufffd\ufffd\ufffd)Px\ufffd\ufffdY>&W\u0019/\u0012\ufffd\ufffd<y\b\b\ufffd\u001a\ufffd\ufffd%!\u0015\ufffd%v\ufffd\ufffd\ufffd\ufffd,\ufffd\ufffd\u0018}h\ufffd\ufffd\ufffd5\ufffd-\ufffd\ufffd\ufffd\ufffd=\ufffdo~\ufffd\ufffd\u0016\ufffd\u0017w\ufffd\ufffdD\ufffd\ufffd\ufffd\ufffdj\ufffd\ufffd\ufffd5Q\ufffd\n",
        "\ufffdc\ufffd\ufffd\ufffd\ufffdL\ufffd\ufffd\u0275\ufffdM\u001d",
        "\ufffd%n}\ufffd\ufffd\ufffd#Pj\u001b\ufffd>-l\ufffdZ\ufffd\ufffdlc\ufffd&\ufffd\ufffdY\ufffdW\ufffd\ufffdV\ufffd\ufffd\u0007\ufffd\ufffd\ufffd\ufffd\ufffd\ufffd,I\ufffdgv+\ufffd\ufffd,\ufffd\ufffdt!r\ufffd9\ufffd\ufffd\ufffdz\ufffd.\ufffd\ufffd\ufffd\u001bO\ufffd\ufffd\ufffdi]n^\u0659\ufffd\ufffd\ufffdZ\u0554U^@\ufffd\u0014rJ\ufffd\u06eev\ufffd\u0000\u034aopz\ufffdS\ufffd7\ufffd\u0010\u046c\f",
        "\ufffd\ufffd\ufffdK\ufffdE\ufffdf\ufffdG\ufffd\ufffdN\ufffd\ufffdi\ufffd\ufffdZ\ufffd\ufffd\ufffd\ufffd]X\ufffd3\ufffd/\ufffd\u0012kl\uf886\ufffd\ufffd`L\ufffd6\"\ufffdl\ufffd:\ufffd\ufffdu;\u0010\ufffd6\ufffdo\ufffdiw\ufffdM\ufffd\ufffdu\u001av\ufffde\u05da\ufffd\u0006\u0010\u00ba\ufffd\u007f\"\ufffd\u076e\ufffd\u016f\ufffdkU\ufffdN\ufffd\u0007\u0011\ufffdk\ufffdM\ufffdp\ufffd&\ufffd#oy\r",
        "\ufffd\ufffdv\ufffdu\ufffdY\u0014\ufffd\u001b\ufffdpQ\u0004GWHL\ufffd\ufffdds?6k\ufffd\ufffd\ufffd\u001d",
        "\ufffd\ufffd`\ufffd\u007f\ufffds\ufffd\ufffdb\ufffd\ufffd\ufffd\ufffd>7\ufffd\ufffd\ufffd\ufffd\ufffd\ufffd\ufffd\ufffd\ufffd\ufffd\ufffd\ufffd\u007f\ufffd\ufffd?\ufffd\ufffd\ufffd\ufffd\ufffd\ufffd\ufffd\ufffd0\ufffd\ufffd\ufffd\ufffd\ufffd\u007f\ufffd\ufffd\ufffd\ufffd\ufffd\ufffd\ufffd\ufffd\ufffd\ufffd\u007f\ufffd\ufffd\ufffd\ufffd?\ufffd\ufffd\ufffd\u0017\ufffd\ufffd7\u007f\ufffd+\u0003\ufffd\u00071\u0017\u001f\ufffd\ufffd\u02ff\ufffd5\u001e",
        "\ufffd\ufffd\ufffd\ufffdO~\ufffd\ufffd\ufffd\ufffdo\ufffd\ufffd\ufffd~\ufffdw\ufffd\ufffd\ufffd\ufffd\u007fH\ufffd\ufffd\ufffd\u007f\ufffd\ufffd\u0010\ufffd\u0005k\ufffd\ufffd\ufffd'g7\ufffd\ufffde\ufffd\ufffd\ufffd}\u0004\ufffd\ufffdn\ufffd.lv[\ufffdj'#\ufffdG\ufffd|\u001e",
        "\u0007\ufffdAYq\ufffdm_j'\ufffd\u001e",
        "-\ufffd\ufffd\u0006l\ufffdV\r",
        "\ufffdO\ufffd\ufffd\ufffdu\u001fWt\u001f\\\ufffd\ufffd\u0014Y\ufffd\u0007\ufffd\u0019|NQ\ufffd9;\ufffd\u001f<>\u001d",
        "8\ufffdy\ufffd\u00155\ufffd\ufffd\ufffdM\b\ufffdw\ufffd\ufffd\ufffd|&\ufffdXrr\ufffd\ufffd\ufffd\ufffdr\ufffd ^\ufffd\ufffd\ufffd\ufffdZh4@\ufffd\u0001\ufffdA\ufffd\ufffd\ufffdR\ufffd\ufffd\ufffdv0kf\ufffdQg\ufffdN,S\u000b",
        "\ufffd\ufffd\ufffd\ufffd\u0015m\ufffd\ufffdT\ufffdE\ufffd{Z\ufffd=\u001a\u0019\ufffd\ufffd\ufffd(oe\r",
        "q\ufffd\ufffd\u0003vVR\u04f7\ufffd\u000eI.\u0006\ufffdyQ^\u001b\\\ufffd\u38bc\ufffd\ufffd_\ufffd\ufffd\ufffd\ufffd\ufffdNU\ufffd\ufffd\ufffd^:\ufffd\u065a\u00b6.\ufffd\ufffd\ufffdlP'\ufffd\ufffd\ufffd\ufffdQ\u0003\ufffdLQ\u001e",
        "\ufffde\ufffd\ufffd\u0006k(\ufffdk\ufffdEy\u000fp]*\ufffd\u001c",
        "\ufffd\u001e",
        "\ufffd\ufffd\u0010<\ufffd\ufffd\ufffd\u0000\ufffd7\ufffd\u0002&\ufffd#\ufffd<\ufffdL\ufffd\u007f\u0001\u0244\ufffdt\ufffd#\u0011\u0007\u11a1wp6\ufffd\ufffd\ufffd{RY#s<\ufffd\ufffd\u0007/\ufffdP\ufffd;\ufffdE\u0018@\ufffd\ufffd\ufffd\ufffdd\ufffd\ufffd\ufffd\ufffdS\ufffd\ufffd\u0015\ufffd\r",
        "f\ufffd\f",
        "\ufffd\\\ufffd7\ufffd\n",
        "\ufffd\u0004\u007f\ufffd\u0016H\ufffd\ufffdZ\ufffd\ufffd1H\ufffd\u000b",
        "qW\ufffd\ufffdB'\ufffd\u000f*\ufffdk\u0702\ufffd\ufffd\ufffd>yfi\ufffd\ufffd\ufffd'\u03df\ufffd\u007f\ufffd\ufffdx\ufffd\ufffd\ufffd\u05e7\ufffd\ufffd\ufffd>\ufffd\ufffd0M\ufffd\u0013f\ufffd\u3bbcfR\u04d1\u0013\u007f\ufffd6\ufffd\ufffd|\ufffdJtF.\ufffd\u0001\ufffd7X\u000b",
        "\ufffdS\u001al\ufffd\ufffd\u0007\ufffd3\u007f\ufffd\ufffdNK\ufffd\u0011M\u0731\ufffd\u02e2\ufffdYN\u001f\ufffd\ufffd>Z\u0296%\ufffd\ufffd\ufffd\u0017.\ufffd\ufffd\ufffd\u0011\ufffd\u001d",
        "\u0007\ufffd\ufffd\ufffd\ufffdz\ufffdL\ufffdK\u0004!y\u02ab\ufffd\ufffd\ufffd\ufffd<z\ufffd\u0018*\u0019\ufffd\ufffd\ufffd\u0003\u4af0\u001a\ufffd2\ufffd\ufffd\u0015\ufffd]D$\u00d9\ufffdD2\ufffdEk\bW\ufffd.OI\ufffd`\ufffd^?\ufffd7\ufffd]Fd\ufffd\u001d",
        "Dh\u0015?Of@\ufffd\u0007\ufffd\r",
        "G\ufffd\u000f\u00028\ufffd\ufffdN\ufffdy'\ufffdD\u0000\u0001!\u0538\ufffdr\ufffd\ufffd\u000f\u00c8))\ufffd\ufffd\ufffd\ufffd\ufffd\ufffdS\ufffdh\ufffd\u0010\ufffdAv9T\ufffdd\t!\ufffdT\ufffd\ufffd\ufffdk\ufffd\ufffd\ufffd\u0011\u0002\ufffd\ufffd3{\ufffd\u0001\u001c",
        "\ufffd\ufffdw\u001c",
        "\ufffdq\ufffd\u000f\ufffd\ufffd\ufffda0\ufffd`\ufffd,\ufffd@\ufffd\ufffd\ufffd\u0004eN\u85dae\ufffd\ufffd\"5\t\ufffdQ\ufffdfS\ufffdH\u06a7$\ufffdJT9\ufffdM\ufffd&n\ufffd*g\ufffdU\u000e\u0012\ufffd\u000b",
        "U\u03a1\ufffdWpLLE\ufffd\u000f\ufffd'\ufffd\ufffd\u0018\u000e\ufffdO\ufffduc\ufffd3@\ufffd\ufffd\ufffd<\u0005`\ufffd!\u0004\ufffd\ufffd\ufffdNV\u000b",
        "A\ufffdg\u000f\ufffdG\u001f\ufffd\u0007\u001e",
        "\ufffd\u001e",
        "\ufffd\ufffd1_\u0402Q\ufffd\u0005U( \ufffd\b#.J\ufffd%\ufffdw\ufffd\"=*;\u007fR\ufffd\u016b\ufffd\u0010GF\ufffd\u0198\ufffd\ufffd\u0004>\ufffd\ufffd%\ufffd\ufffd\ufffd\ufffd\u0012pe\u0015M\ufffd\u001f,\ufffd\u007fC\u000b",
        "Qg^\ufffd\ufffd\u0014\ufffd1\ufffd\u000b",
        "\ufffd\ufffd\ufffd\u0012E\u001d",
        "\u0015\ufffd\ufffd0E\ufffd\u0017\f",
        "\u0015\u0014\u0002\ufffd\ufffdPa\ufffd\u000f>E\ufffd\ufffd\u00056\ufffde\ufffdco8s9\u0014Dh\u0018\u0001I\ufffd\u0019[\ufffd&\u001bO\u000b",
        "&P%eEW\ufffd\ufffdd,w8If$\ufffd&Kf\u0006\ufffd\f",
        "\u001d",
        "\ufffd\ufffd:\ufffd\ufffd\ufffd\ufffd`\u0005\ufffd\ufffdx\ufffd\ufffdrf\ufffd\ufffd0\ufffdQ\ufffd!\u07c1\u00052\u0006\ufffd\ufffd\u0003\ufffdga<(a\ufffdT\ufffd\ufffd\ufffd\ufffd\ufffd\u0433\ufffdBf\ufffdc\u0015\u038c\ufffdT\ufffd\ufffdcP\u001bHod~P14\ufffd@\u001c",
        "\ufffdp\ufffd:x@\ufffd\u0016\ufffd\u0006\ufffdF\ufffd\ufffdPa(\u0015\ufffd'K\ufffd\t\u0010\ufffd\ufffd\ufffd\ufffd\ufffd\"\ufffdv\ufffd\ufffdc\ufffd72\u001aP;+S\f",
        "\u058bp!\u0014\u0012\ufffd\ufffdn\ufffd\ufffd\ufffdXl\u0003\u00012\ufffd\ufffd\ufffdG\ufffdr\ufffdf9kH,w\ufffd!v\n",
        "\u0007X\ufffd\u0011\u0002C\ufffdk\ufffd~\ufffd\ufffd\ufffd&O\u0015\ufffd\ufffd\ufffdg\ufffdxQlq\ufffdzS\ufffdy,\ufffd\ufffd~$\ufffd\ufffd\ufffd~\ufffd\u0018\ufffd:\ufffd\u0006\ufffds\ufffd\ufffdc2\u001f\ufffd\u0006\u00124 (\ufffd\u0018<\ufffd3 \ufffdO\ufffd\u0004\ufffd\ufffd\ufffdf\ufffdr{\ufffd2\ufffd\u0010\ufffd\ufffdJ:\ufffd\ufffd\ufffd1\u0003\ufffd\ufffdD\ufffd\u0010z3\ufffd\u0005\ufffd\u0012\ufffdjd9\ufffdN\ufffdj\ufffdz7a\ufffdX\ufffd(\ufffdA\ufffd\u0004\ufffd\u07a9\ufffd\ufffd8\ufffd\ufffdu4\ufffdT\u0011I\ufffdY\u045a\"\ufffd\ufffd\u0002\u075f\ufffd\ufffd\ufffd\u0016\ufffd*\u05e9t\ufffdM\ufffd\u001d",
        "\ufffd+\ufffd\ufffd30F\u001c",
        "\u0013\ufffd2\ufffdp\ufffd\u0004H\ufffdM,\ufffdH})\ufffd\ufffd\u00c2JB\ufffdy\u0003\ufffdD\ufffd\ufffd\ufffdmf\ufffd\ufffd\u0013\ufffd,\ufffdXF`^\ufffd+0/H\\G\ufffd\f",
        "3\u001a\ufffd\u0004G-\ufffd\n",
        "\u0016\ufffdC\ufffd\u056f\ufffd\u001av[\ufffd\u0398\r",
        "%\ufffdF\u001c",
        "\u000e\ufffd?\uc864\ufffdp\ufffd\u0003\u01c5\b\ufffd_\ufffd.\ufffd\ufffdP\u0014\ufffd\tsY\ufffdZdlDoe\ufffd\ufffd\ufffd\ufffdU\ufffd\ufffd\ufffd?4\u0012\ufffd\u0002\ufffd\u001e",
        "\ufffdi\u000ew\u001b\ufffdS\u1511\ufffd\u000e\ufffd\u000f\ufffd\ufffd\ufffdf\ufffd\u000e\u0006L\ufffd\ufffd\ufffdv\ufffd\"V\ufffd\u001d",
        "G\ufffd\"rl\u0004V\ufffd\ufffd\u049e\u015a\t\u001c",
        "\ufffd(7\ufffd\ufffd\ufffd\ufffdp\u0006\u0016y\ufffd\ufffdyT\u07b2C\ufffd\ufffd!R\ufffdQ \u001e",
        "\ufffd\ufffd?\u001d",
        "\ufffd\ufffd\ufffd\ufffd\ufffdZ-\ufffd\u0012\ufffdZY\ufffd\ufffd\ufffd\ufffd\r",
        "\ufffd\u44a3\ufffd]\u001910\ufffd\u0007\ufffd\ufffdF\u0010\ufffd\ufffd*\ufffd\ufffd\u000e\ufffd6\u0013Q\ufffd:|\ufffd\ufffd(\u0011\ufffdB\ufffd1[\ufffd\ufffd\ufffd|\ufffd\u0004\bzBQ0d\ufffd\ufffd\ufffdw\ufffd'\u0016\ufffdC\ufffd\ufffdr\ufffd\ufffdZ\u0005\ufffd\ufffd\n",
        "\ufffdO*U\ufffd\ufffd\ufffd5\ufffd.\ufffd2\n",
        "kq\ufffdU\ufffdY\ufffd\ufffd\u0762\\\ufffd\ufffd\ufffd\ufffd\ufffd\ufffd\ufffd\ufffdH\ufffd>*\ufffd\ufffd\u00038\ufffdX\ufffd\ufffdN\ufffd [\ufffd\ufffdd\ufffd\ufffdE]+\ufffd[`!]\ufffd\ufffd\ufffd\u0011\ufffd\u001c",
        "/\ufffd\ufffd\u0014\ufffd\ufffd\u0004\ufffdC\ufffdV\u0422Q\ufffdE\\\ufffdb\u0003\ufffd\ufffdO|%s\ufffd\u0016\ufffd\ufffd\ufffd;n\ufffd'\ufffd\u0681\ufffdc\ufffd^\u05c3\ufffd'\u03c2)\ufffd\ufffd\ufffdw\ufffd6R\t\u0004yS\"\ufffd\ufffdU\ufffd69\ufffd\ufffd\ufffd\ufffd\ufffdYKy(\ufffdx\ufffd\u0010\ufffd\ufffdKd\ufffd\ufffd\ufffd\ufffdhir\ufffdy\ufffd\ufffdd\u04b2\u001d",
        "\u042aSd\ufffd29`'\u00040<\ufffd.A9\u0011\ufffd\u0014\ufffd~\ufffd\ufffdB\ufffdUqh<\ufffd8\u0011\u0367\u0012\u0017a\ufffdc$\\\f",
        "\ufffd4l\ufffdl\ufffd\ufffd\ufffd\ufffd\ufffds\ufffd\ufffd\ufffd\ufffd\ufffd\u0002\u07c1\u0221\ufffdV\ufffdl$<\ufffd\u05c4A\ufffd\u0014\n",
        "l \bY\u0011\ufffdC\ufffd\u001f\ufffd\ufffde \ufffd)U:j\ufffd\u0011;F\ufffd!\u0110%\ufffd]\ufffd>\ufffdE\ufffd\u0019\ufffd\ufffd\ufffd[\ufffd\ufffd\ufffd\ufffd\ufffdK\ufffd(q\ufffd\u0016;\ufffd\u0018cs\ufffdP0\ufffd\u03e1cc\ufffd\u0000s\r",
        "\ufffd\u0011\ufffd`\ufffd0\ufffd-\ufffd0\ufffd\ufffd\ufffd\ufffdh\ufffd\ufffdb\"\u0381R\ufffd\u02b0\ufffd\ufffdNc\u0019\ufffd,\n",
        "\ufffd\ufffdb\ufffd\ufffdys\ufffd\u6096\u04e9\ufffd\ufffd\ufffd\ufffdFL\ufffdW\ufffd\u0007\ufffd\ufffd\ufffd\ufffd\u020a\ufffdJ\u0223\ufffd\ufffd\r",
        "q\u015f\u0012\ufffd4\ufffd\ufffd\ufffd[\u0013\u02cd\u0002\u001d",
        "\ufffd\ufffd\u000f\u001d",
        "\ufffd`G\ufffdg\ufffd]@\ufffdsB\ufffd\u0016x\u0014\ufffd6\ufffdK\ufffd}\ufffdY\ufffdz\ufffdO \t\ufffd\u0011\ufffdd\ufffd\ufffdx\ufffd0S\ufffd^o*7\ufffd\ufffd`\ufffd_\u000f\u0000D\ufffd\ufffd\ufffd\u0019\ufffd\u0438j\u000b",
        "\ufffdo\ufffd\ufffdb\ufffd+\ufffd\ufffd\ufffd\u000b",
        "!\ufffd<O\u0019\ufffdSZ\ufffd\ufffd\u0003\ufffdAl\ufffd\ufffdWD\ufffd*\u0005\ufffd\u0004!e;\ufffd\u0002\u0002EI\ufffd\u0015\ufffd\u0015\u000f\ufffd\u07eb\ufffd\u0019V\ufffdS\u0016\ufffd_\ufffd\u001c",
        "\ufffd\ufffd\ufffd-\ufffdZ\ufffd\ufffd,T\"\ufffd\u0016h`\ufffd)\ufffd\"\ufffd\u0014~\u001d",
        "\ufffd\ufffd\ufffd\ufffd)\ufffd`\u0006\ufffd\u001e",
        "\ufffd\ufffdAe\ufffd3l\ufffd\u0000v\ufffd\u0000\u000b",
        "\u000b",
        "\ufffdo,&:\ufffdP\ufffd#\ufffd\ufffdR\ufffd\ufffd$\ufffd\ufffd\ufffd\ufffd\f",
        "\ufffdoU\ufffd\ufffd\ufffd\u0016c\ufffd+$rg;\ufffd\ufffdp\ufffd\ufffd\\J\u000b",
        "\u000e\u000ee\ufffd\ufffd\u0004\ufffdW\ufffd3\ufffdN\ufffd\ufffd\ufffdobtY\ufffd%\u0018\u001d",
        "\u0019\r",
        "\ufffd\ufffd\ufffd\u001c",
        "\ufffdXm\ufffdUt\ufffd\u0015K\ufffd>\u0018Z63\ufffd\ufffd.\ufffd\ufffd\ufffd\f",
        "v1\ufffdX\u0014\ufffd\u047e\ufffds\u0144\ufffdh\ufffd\u6616\u0000\u04b9\ufffdJr\ufffd\u001d",
        "R\ufffdK_\ufffd1r\ufffdIo\ufffd\u0004\ufffdwO\ufffd\u0012oe\ufffdxq;7j\ufffd=JR\ufffd\"\u0013d\ufffd\ufffdMK2\ufffd\ufffda&\ufffd;\u4613\ufffd\ufffdlcE\ufffdqqJ\ufffd\ufffd\ufffd\ufffdx\u001f,\u0002\ufffd\n",
        "-.\ufffd\ufffd\ufffd\u0018J\ufffd\ufffd\ufffd\ufffdG\u001d",
        "e\u0011\ufffd?\ufffd\u0011\u0016\ufffd)[6\ufffd\u001c",
        "\ufffd\ufffdS\ufffd\ufffd\ufffd\f",
        "\ufffd\ufffd\ufffd#w$\ufffd\u0013X\ufffd\u0019n\ufffd\ufffdE\ufffd\ufffd\ufffd2]\ufffd\ufffd~\ufffd_\ufffd\u0198\ufffd\u001b\be\ufffd\ufffd\"\u0002\ufffd}w\u0233&\u0004:$\u0013Y\ufffd\ufffd\u0014f\u0011L'U\u0012\ufffd\ufffd\u001d",
        "\u001a1\ufffdO\ufffdw`'!\u0000>W\ufffd\ufffdB\ufffd\ufffd\ufffdM\ufffd\ufffd3\ufffd.\u0010\u0014\ufffd{\u001a(+\ufffd\ufffdy\ufffdy\ufffd2(M5=\u001a\ufffd5\ufffd^\ufffd\u0001+\ufffd\u0013C\u0172D\ufffd\ufffdx\u0007\ufffd\u0014U&\ufffd\ufffd\ufffdx\ufffde\ufffd\ufffdQ\u0662\ufffd\ufffdP\ufffd> \ufffd/\u066f\ufffd\ufffdK\u0705(ge\ufffd\ufffdT)\u0015\ufffdd\ufffda\f",
        "\ufffd3\ufffd\ufffd}\ufffd\r",
        "4\u000f\u0013\ufffd\u000f\ufffd\ufffd\t\ufffdU\ufffd7\ufffd\u0000\":\u0001Y\ufffd>L_\u0011\ufffd0?\n",
        "\ufffd8D:Wa0S\ufffdW\u0015\u000b",
        "\ufffd\"\ufffd\ufffd\ufffd\ufffd\ufffds2[-8e\u001a\ufffd\u0001\u007f\ufffd\u001f\ufffd\ufffd!\ufffd\ufffdtz\ufffdb\ufffd\ufffdC\ufffd=jva\ufffd\ufffdbR\ufffd\b{\u038b\ufffdZJf\u001c",
        "\ufffdf\ufffdqT\u0014V\ufffd\u0000\ufffd\ufffdBq\ufffd\u00026\u0003B\u0003ke\ufffd=e\u001e",
        "%\u0013Y8\ufffd\ufffd?8~\ufffdw|i\ufffdz\ufffd\t\u0004\u007f\ufffd\ufffd\ufffdo\ufffdka|,\ufffdU\ufffdc4\ufffd\u0015\ufffdq\ufffd\"\ufffd\u0577BTs\ufffd)\ufffd3\ufffd\u00071\ufffd\u038c\ufffd\ufffdex0%\ufffd?\ufffd\ufffd9RkA\ufffd\ufffd\u0001\ufffd\ufffd\u0019\ufffdP\ufffd\ufffd<\ufffd\ufffd\ufffd=t\ufffdb.\ufffd\ufffd\ufffd>\u0005\ufffdz\ufffd2\u001e",
        "\ufffd!\ufffd\u0006`\ufffdp\u03e9\u000fz\ufffdIJ\u001d",
        "\ufffd\b\u000f$\ufffdU\ufffd}\u0019\ufffd \ufffd\ufffd:+\u06e8\ufffd\u022cb\ufffdp\ufffdh\r",
        "\ufffd\ufffd&\ufffdt\ufffd\ufffd\ufffdY\u0002\u001a\\\ufffdE|\u0016C\ufffd&UU\u000e\ufffd\b~(:43%\ufffd\ufffd\ufffd<\u0018\ufffdw=(HL\ufffd\f",
        "\ufffd\ufffd\u0000q\u0473\ufffd\ufffd\bG:+\ufffd\ufffdj\u001e",
        "\ufffd\ufffd\u0014\ufffdt\ufffdD\ufffd\ufffd\ufffdR\ufffd\u0006\ufffd\u0012\r",
        "\ufffd\t\ufffdL\ufffd\ufffd\u05aa\ufffd-\ufffdUN;\ufffd\ufffd\n",
        "\ufffd\ufffd\u0018j\ufffd\ufffd)a\f",
        "\ufffdFec\u001a\u0011\u0006\u000f\u000f\u000ef\ufffd\ufffd\ufffd\u000b",
        "\ufffd\ufffd\f",
        "g\ufffd\ufffd\u0007G\ufffdoDO\ufffdl$\ufffd\ufffd\ufffd\ufffd\ufffd\ufffd\ufffdI\ufffdA\"\ufffdp\ufffd\ufffd\ufffdW\ufffd'k\ufffd \n",
        "ppf\u0001\u0013\u0003\u001b8\u059c\ufffd\ufffd\u0001\ufffd\ufffdh\u0010\u047cb+\u001d",
        "H'\u0012S)\ufffdb\ufffd)\ufffd\u0000\ufffd\ufffdU\u035e\bM\ufffd\u0006ZI\ufffd\ufffd2\ufffd\ufffd<K\ufffdA\u0017\n",
        "\f",
        "_\ufffd\u0011\ufffd\ufffd\ufffd\ufffdW\u0005s#\ufffd\ufffd<\ufffd\\O\ufffdd\u0006\u0005\ufffd\bD9\ufffd\u007f\ufffd\ufffdbiCXa\ufffdb\ufffd`x)\r",
        "\r",
        "|@<\ufffd\ufffd\ufffd\ufffd&\ufffd\u013e\ufffd\ufffdF\u0499\ufffd\ufffd2\u0010\ufffd\r",
        "z|\u0019\ufffd\u001d",
        "\ufffd\ufffd\u0010\ufffd\u0013\ufffdSV\ufffd\ufffd\ufffd\ufffd\ufffd\u001d",
        "\ufffd#\ufffdq\u0017\ufffd\\\ufffd\ufffd\u0005O\ufffd\ufffd@\ufffd\\\ufffd\u001e",
        "\ufffdEm\ufffdg\u0005s\ufffd\u000eO>-\u0005@j\ufffd`\u0011P~CP\ufffdW4\ufffd \u0013\u0000\f",
        "\ufffdo\ufffd\ufffd\ufffdDl\ufffd\u0016\ufffd'\ufffdT\ufffd\ufffdpR\ufffd\u000b",
        "%\ufffdb\ufffd\ufffd\ufffd#\u0002w\u001b\ufffd\ufffd\ufffd#\ufffd\ufffdEw\u0016\u0270\u0013m\ufffd\ufffd!\b\ufffd\ufffd\ufffdV\ufffd{\ufffd\u0000\ufffd\ufffd?0\ufffdp\ufffdA\ufffd\ufffd\\A\u0012a\u0015\ufffd\t\ufffde6^\ufffd\ufffd\u0015\ufffd\ufffd1u\ufffd\ufffd\u0018\ufffdd\u0000\u064a}\ufffd\u0146\u001b6\ufffd\u0004X<\ufffdS\ufffd\ufffd\ufffd\u001d",
        "<!\ufffd\ufffdWv\ufffd\ufffd6c8\ufffd\ufffd\ufffd\ufffdj\\M=6\ufffd5\u02e5\u0018\t\ufffd\u000f\ufffd\ufffdjH\ufffd\ufffd\u0006\ufffd\ufffd.#8\ufffd$\u0426\u0001\ufffd\u0013\ufffdA\u0265T\ufffd\ufffd\"\ufffd\ufffd>\ufffdG\ufffd(\ufffd\ufffdL\uaf88\n",
        "\ufffd\ufffd\ufffd\ufffd\ufffdyP\ufffdB\ufffd/v\ufffd'n\u007f\ufffd7,u\ufffd\ufffd?\u0015\ufffd\ufffd\ufffd]H\b\u000b",
        ".\ufffd\ufffd\u000e\u0005\u001c",
        "\u001a\ufffd\ufffd[F\ufffd\ufffdbs\ufffd\ufffd[\u00055^\ufffd0\ufffdMb\ufffdo\ufffd@\u0003\ufffd\u0006\u0013\ufffd%=\ufffd\ufffd:\ufffd\ufffd?\u0005C\ufffd.\"\ufffd\u0013\u05d1b\u0081\ufffd\u001d",
        "Ib?\u000b",
        "\ufffd\ufffd\ufffd\ufffd.v'A>\u049dDk[\ufffd\ufffd\ufffdR\ufffdh\u0002\ufffd\ufffdG8\t\u0002-\r",
        "M\ufffd\u001e",
        "\ufffd}\ufffd\ufffd5t@\ufffdE\ufffd\ufffd\ufffdc\ufffd\u072fV\ufffd\u0010\ufffd\ufffd\ufffd\u0002\ufffd\ufffd\u000eN\ufffdz\ufffd\ufffd\u0003\ufffdf\ufffd\ufffd\u0005\u0001\t=\ufffd\u0248O\ufffd\"\ufffd\ufffd\ufffd(#\ufffd\ufffd\u0010O&\u0016u\ufffd\u001b\ufffd\u001d",
        "-\ufffd\ufffd\\glmZ\u001a\ufffd\ufffdR\ufffd\ufffd\u0013\ufffdE\ufffdgT\ufffd\u001c",
        "\u001e",
        "\u0014o\ufffdz\ufffd*K\ufffd@\ufffd-\u001c",
        "\u0016y\u40a6\ufffd\r",
        "\ufffd\u001bb\ufffd\ufffd$\u0012\ufffd\u001f\ufffd'\ufffd\u042f\ufffd\u0007D\ufffd(?4\ufffd\u0011\ufffd\u010b\u0151\t\ufffdY.\ufffd\ufffd\ufffd\ufffdW\ufffd\ufffd\ufffd\u04a2\ufffd^D\u007f\u001c",
        "\ufffd\ufffd\ufffdn\ufffd \u0014(D\ufffd>\ufffd\ufffd\u0014\u12f8\ufffd\u0010{0\ufffdpj\u025f\u0010\ufffd1\ufffd\ufffd\ufffd\ufffd\u063e\ufffd\u0005\ufffd5T\u0001).NVE\u0142\ufffdc\ufffd\ufffd\u0017\ufffd\ufffd\ufffd=\ufffd\ufffd\ufffd\n",
        "c\u0000\u0005s\ufffd>\ufffd\ufffd\ufffd\ufffdp\u001c",
        "\ufffd\ufffd\ufffd\ufffd?\u040e\ufffd\"o\u0014\ufffdL\u001a8P\ufffdRJ\ufffd\ufffd\u001d",
        "\ufffdc|J\ufffd\ufffdn\ufffdF\ufffd\u000e\n",
        "\ufffd\ufffd\u001a\ufffd$\u0633\u0014\u000eR\ufffd\ufffd\ufffd;0\u0010\ufffd\"\ufffdiWR\ufffd\ufffd$\u0002\u078a\u000f\u0002T$\ufffdP*\ufffd\t\ufffd\ufffd1K\ufffd|4\ufffd\ufffd\u0198\t\ufffd(\ufffd-\ufffd\ufffd\ufffd9\u02ab\ufffd\ufffdW\ufffdG\ufffd\u000eh$(!\ufffd\u0010\ufffdPB?\ufffd\ufffd\u0005g`w\ufffdU\ufffd\ufffd6Q\u0013)\ufffd\ufffd\ufffd1\ufffdr\ufffd\u0001>\ufffdVs\ufffdIlP\ufffd\ufffdFz\ufffdE\u001c",
        "i\u0002\ufffd\u0131\ufffd$\ufffd4\ufffd\ufffdg+\ufffd\u000b",
        "\ufffd\ufffd+m\ufffd\ufffdG,\u000e\ufffd\ufffd\ufffd\ufffd2\ufffd{\ufffdX\ufffd&Q\ufffdB\ufffd;;\ufffd\ufffdf\ufffd\n",
        "\ufffd\ub958D\u0014\ufffd\f",
        "\ufffdl\ufffdg\r",
        "\u05d1\ufffd\ufffd\ufffd\u0010z\bn\u0000@I\ufffdQ\ufffdq\ufffd\u000fcbe\ufffd\ufffd\ufffd\u001fy:\ufffdi\u001d",
        "\ufffd>\ufffd\\F\ufffdR\ufffd\u000b",
        "%\ufffd\ufffdt\ufffd(\ufffd8\ufffdI\u0011\u0017\u060cGHlUXwP\ufffd\\\u0016<#\ufffd\ufffdt.R&\ufffd\u0014\u0017\u001e",
        "\u01a9$\ufffd|h\u0000R*\n",
        "\b\ufffdp\n",
        "$\ufffd\ufffdJ\ufffd\ufffdV\ufffd\u0281\ufffdU\u0491,\ufffd9\ufffd&\ufffd\ufffd\ufffd\ufffd\ufffdnP{}\f",
        "\ufffd6\u0015\ufffd\u0005\ufffdS_\u0001\ufffd\u0016\ufffd(\ufffd!\ufffd\ufffdS)\ufffd\ufffdz\u0011{N\u0013 \ufffdJ\ufffd\u001c",
        "[\ufffd6\ufffd\ufffd\ufffd2\ufffd)be\u050dj\ufffd\ufffd\ufffd\ufffd\u0696\ufffd\u001e",
        "\ufffd3V\ufffdqc\u0212\ufffdwy\u066dE\ufffdx\ufffd\u0004\ufffd\ufffd\ufffd\ufffd\ufffd\u566d2\u001b\ufffd`\u0000^(g\u0011o5\ufffdF\ufffd^\ufffdJ\ufffd\ufffd\u0019\ufffd\u000f,\ufffd8X]\ufffd\ufffdk\ufffdK\ufffd\ufffd\\4wI8\ufffd\u0000\ufffd\u001e",
        "-\u001am\ufffd\ufffdO[l\ufffd&n\ufffd\u01789Rj\ufffd\ufffd}\ufffd\ufffd\ufffdK\ufffd\u0015\ufffd\ufffd\ufffd\u0266\u0000\ufffdE/\ufffd\tg3r\ufffd{\ufffd\ufffd{\ufffdO\ufffda\ufffd\n",
        "L]!\ufffd\ufffd&m\u0007}8HD\ufffd\ufffd\ufffd~\ufffd\u0003\u0012\ufffd%\ufffd&\ufffdJ\ufffd\ufffd\ufffdpr\u00b9\u001a\ufffd\u0013\ufffd~\u0004\ufffd\ufffd\ufffdd\ufffd\u0007V\ufffd\u0002k&\ufffdH#\u01f1\ufffdO\f",
        "\ufffdB\ufffdA\u046b\ufffdQ:*\ufffd'?h*\u000f,\ufffd\ufffd5\ufffd\ufffd\toK\ufffd\u0002\ufffd\u88feL\ufffdZ\uc2cb]0\ufffdQ\ufffd\ufffdw\u000b",
        "A\ufffd$h\ufffd\u0006\u0006\ufffd7\ufffdr\ufffd\ufffd8\u0017\ufffd\ufffd\ufffd\u0007\ufffdx?\ufffd\b\ufffd\ufffd\u0011Z\ufffd4\ufffd\u029c\ufffd~$\ufffdZ\ufffd\ufffd_\ufffd\ufffd\ufffd\u057b\ufffd\ufffd\r",
        "\u0012<\u007f\ufffd\ufffd\ufffd\ufffd\ufffdJ\ufffd\ufffd\u0275r^DS\u0017\ufffd\"\u000e\t\ufffd\ufffd\u0007mqX\u041bE\ufffd\f",
        "\u0019\t\ufffd\ufffd,Z\ufffd\u001e",
        "\u0004'\ufffd\u0015q\ufffd+\u000fV\ufffdI\ufffd\ufffd\ufffdQ\ufffd\n",
        "X\u001a\u001c",
        "\ufffd\ufffd,\ufffd1\ufffd\u0016\ufffd\t\ufffd\ufffd\u001c",
        "!V\ufffd\ufffd6\ufffdI\ufffd\u001f*P\ufffd\u0005*8\ufffd\ufffd\u014f\ufffd\ufffdc\ufffd\ufffd\u0010i\\\r",
        "a\ufffd=\ufffd\ufffd\ufffd\ufffd, \ufffd\ufffd\f",
        "\ufffd\ufffd\ufffd\u0001\ufffd\ufffd8\u0014\ufffd\ufffd#\ufffd\u001c",
        "\ufffd\ufffdw\ufffd\ufffdn_\u000b",
        "\ufffd\r",
        "\ufffdw\ufffdd\u0018\"\ufffdp\ufffd\ufffd\ufffd9$7\u03d8\ufffd{\ufffdF+g\ufffd\ufffd\ufffd\ufffd8\u00167\u001e",
        "Z\ufffd\u0001\ufffd\u000b",
        "9$\ufffd\u04d3x\u05d4\u0017\ufffd\ufffdB\ufffdp\ufffdes\ufffd\u001c",
        "F\ufffd9\u0017\u0015\ufffd\ufffd\u0000\ufffd\ufffd\ufffd\f",
        ";d\ufffd\ufffd\ufffd&\ufffd\u000e\ufffdKx\ufffd\ufffd@\ufffd\ufffd\n",
        "\u0093\ufffd\ufffd;\ufffd#\ufffd \ufffd\u001d",
        "\ufffd9g\r",
        "_\ufffd\ufffd\ufffd\u016d\ufffd\ufffd\ufffdoN5P%\ufffdg\u0015\ufffd(\ufffd\u000b",
        "\ufffd\u0018U\ufffd\ufffdA\u001f=}ls\ufffd\u0007\ufffd\ufffd\ufffd\ufffd\ufffd6\ufffd;R\ufffde\ufffdG\ufffd\ufffd\ufffdTh\ufffd\ufffd\u001c",
        "\ufffd\ufffd\ufffd\u0007\ufffdcvD\\\ufffd\u0007H\ufffd\ufffd\u0016\ufffd\ufffd\ufffdWBi\ufffd8\ufffd\ufffd\ufffd8\ufffd\ufffd,<\f",
        ">\ufffd~\ufffdW\u007f\ufffdOM\ufffd\ufffd\ufffdv\ufffd\u0005\r",
        "\ufffd1q\ufffd\ufffd.\ufffd\ufffd_p:@\ufffd;L\ufffd\ufffd\ufffd*\u01a9\ufffdMO\ufffd\ufffd\u0007\ufffd\u07c9\ufffd\u000f\ufffd\u000b",
        "$+\ufffd/$\ufffd\ufffd\u001bS9\ufffd\u0539\ufffd\ufffdp\ufffd\ufffd\ufffd\u000eBE+\ufffd\u0012\ufffd?;e\ufffd#w\ufffd\ufffd\ufffd\u0226\u0664\"\ufffd\ufffd\u00127\ufffd\ufffd\ufffd\ufffd\u001d",
        "\ufffd\ufffd5T\ufffd\ufffd\u0007af$,qi\ufffd\ufffd).\ufffdvg\ufffdaQ\ufffd!:\u0006\ufffd\ufffd\ufffd?\ufffd'\u6ec8\ufffd*\ufffd\ufffd\ufffd\ufffd\u0010\ufffd\u000b",
        ",\ufffd\ufffd\ufffd\ufffd\ufffd)\ufffd\u0005h\ufffd\ufffd!\ufffd.\ufffd\u00072\"\ufffd\u0006\ufffd\ufffd=o:p\ufffd\u0019f\u0016I\ufffd9P0\ufffd\ufffd\f",
        "p\u000e\\X>\ufffd)i\u0013\ufffd+\ufffdm.\ufffd\ufffdT\ufffd\ufffd\ufffdi\u0004Z\ufffdK\ufffd\u0006\ufffd''\ufffd\u0001\ufffd\u000e\ufffd% \ufffd\ufffd\ufffdX\ufffd4\ufffd\u079bI\ufffd\u0007\u00135?@Q\u0014\ufffd)O\u0015\ufffd\ufffd\ufffdf\ufffd\ufffdh)\ufffd\ufffd3COE\ufffd\ufffd:\ufffd \ufffd \u0007wd\ufffdpS\u000b",
        "NN\ufffdb\f",
        "\u0561\ufffdP\ufffd7\ufffd\bEC\ufffd\ufffd\ufffd\ufffdT\ufffdk\ufffd\ufffdp\ufffd[\ufffd>\ufffdL\ufffd\ufffd4\u001c",
        "D;\ufffd\r",
        "\ufffd\u058f\u00038\tF\u0000A\u0000\f",
        ":\u00fb\ufffd\u0000\u007f\ufffdA\ufffd\u000e\ufffd\ufffdX\ufffdy|\u0007\u00128\ufffd\ufffd\u0012D\ufffdD\ufffd(\ufffd\u000f\ufffd\ufffd\u0013c\u0001kOQ\ufffd\ufffd\u0004\ufffd\u000e\ufffd\ufffds&\ufffd\ufffd\ufffd\ufffd\ufffdd\u054a\ufffd\u0003\ufffdY0\ufffd\ufffd\ufffd\u0010{*\ufffd!q\ufffd\u0006z\ufffd]\ufffd\u000e\ufffd \ufffd\r",
        "\ufffd\ufffd\u0002_\ufffd\ufffd\ufffd\ufffd\ufffdLS\ufffdt\ufffd\ufffd\ufffd;\ufffdX\u0015\ufffd\u001aN\ufffd,iU*\ufffd\ufffd=x\ufffdR\u0006ql2\ufffd\ufffd\\\u001e",
        "\u0017\ta\u001a\ufffd\ufffd\ufffdi\ufffdRb6\ufffd\ufffd\u000eY\ufffd\u000e\ufffdSIE\ufffd\ufffdM \ufffd\u001c",
        "\u000b",
        ">\"<\u0002\u048b\ufffdE\u0005k\ufffd\n",
        "\ufffd\ufffd\ufffd\u0016\u0668\ufffd\u001a\ufffd0\ufffdq4\ufffd\ufffd(\ufffd\u0013E]\u000f\ufffdO\ufffd\ufffdK\ufffd\u0012\ufffd\ufffd!\r",
        "\u0004r\ufffd\u0003\ufffd\ufffd\n",
        "\ufffd\ufffd\ufffd\ufffd\ufffd,,\ufffdz3):tR#\ufffd+N\ufffd]OUq\ufffd\ufffdL\ufffd\ufffd\u0364\\\u0201~\ufffd\ufffd$\u0019\ufffd+\ufffd.MS\ufffd\ufffd$c\u00132}BefE\ufffd\ufffd\u0006\ufffd\ufffd\ufffdt\ufffdL\u001e",
        "W\ufffd\u0014\u0017`\ufffd8\"\ufffdJ\u000eq\ufffd\u0019\u0013\ufffdB\ufffd\ufffdE\ufffd,\ufffd\ufffdY2I>/\ufffdS\ufffd\ufffd[;\ufffd\u0011\ufffd\u031d\f",
        "\ufffd8X\u0016;/\ufffd\u0000\ufffd\n",
        "\u0383\ufffd\u0313\ufffd\u0016#\ufffd\ufffd\u001f\ufffdDTX1\ufffd\ufffd\tT\u0016\ufffd#\ufffdu\ufffd:\ufffd-\ufffd\u001e",
        "\ufffd\u000f;B\ufffd:\ufffd\u0006%\ufffd\ufffd!\ufffd\u000e\u0012\u059f\ufffd\ufffdkp`\n",
        "\ufffd\f",
        "\ufffd\u0006\ufffd\ufffd\n",
        "\ufffd\u0010\ufffd\ufffd\ufffd\ufffd\ufffd*T\ufffd\ufffd\u0019\ufffd?\ufffd)\ufffd\ufffds\ufffdxY\ufffdX\ufffd\u0018\ufffd\ufffdME9e\u000b",
        "PiAjky\ufffd\ufffdw\ufffd}\ufffd\ufffd\u0018Q!\b\r",
        "\u001c",
        "!3Y\ufffd\ufffdi\ufffdLz<-\"teZt\ufffd\ufffd\ufffd\t\ufffd$\ufffd\ufffd\ufffdt \ufffd\u0003\ufffd\ufffdRN\ufffd\ufffd$\u0011D\ufffd\ufffd\u0007\ufffdK\u00f4%\ufffd\ufffd\ufffd\ufffdX=R(\ufffd\u0017\ufffd\u0017&jn\u0004\"\ufffd\ufffd\u0018\ufffd\u0016\"\u0007G\ufffd4\ufffd\ufffdo\ufffd ;\ufffd\ufffd\u0006VN\ufffdv0E\ufffd\r",
        "Z\u001a[U\ufffd_0b\ufffd\u000e\u0012Q\ufffd\ufffd4s\u0011+*fF\ufffd\ufffd\ufffd\u001c",
        "2\ufffd\ufffdKw<H\ufffd\ufffdB=\ufffd\u000f(\ufffd\ufffd|\ufffdS\ufffd\ufffd)\u040e\t\ufffd\ufffd\f",
        "!\u0013\u000f\ufffd\ufffd\ufffdi\r",
        ")Pj\ufffd\ufffd\ufffd\ufffd\u0015Rg\u000f\ufffdR\ufffd\ufffd\t\u001e",
        "\u0019\b\\jTfYB\ufffdk\ufffd\u0007B\ufffdCdH\ufffd+\ufffd\ufffdT\n",
        "\ufffd\ufffds\u0016x\ufffd\ufffd\ufffdl\ufffd&\ufffd\u007f!\ufffd_\ufffd\ufffdZpj\u0003GV`\ufffd\ufffd\f",
        "^1\ufffdeG\u0016\ufffd\ufffdnR\ufffdf\ufffd\t\ufffd6k8\ufffd5w\u0493\u06e2\ufffd/\ufffd\u0013\u001a\ufffd2\u0310E\ufffdP\ufffd{\ufffd\u00a1<\u001fa\ufffd\ufffd\u00d3\n",
        "\ufffd\ufffd\u12e2\u0015\ufffd/*;\ufffd\ufffdd\u0012\ufffdp(\ufffdHbn\u047b\f",
        "e\t\ufffd\u0013\u07cdpb\ufffd4\ufffd\u0011f\u0001\u0011\u000b",
        "\u0016\u0013\ufffd!\ufffd\ufffd\u0002\ufffd\ufffd\u001b\ufffdg\ufffdN\ufffd\u000b",
        "q\ufffd\ufffd\ufffd\ufffd\ufffd\ufffd\ufffd0\ufffdN_\ufffd7\ufffd\ufffd\ufffdC\uab66Gr0\r",
        ")\ufffdm\ufffd/\ufffdL\ufffdC\u001c",
        "\ufffdl+I\ufffd\ufffd\ufffd@\ufffd\ufffd\ufffdMd\ufffd\ufffd\u000e \ufffd\ufffd\ufffd)\ufffd\u0514'\ufffd\"\\\ufffdd\ufffdY|\ufffdJ\ufffdL\u0012\u05ce\u0003\ufffd|N\ufffd%}:\ufffd\u0017\u027e\ufffd:#?\ufffd\ufffd\n",
        "\ufffd4d&\u0012[\ufffd\u0789\ufffdW\ufffd*\u001e",
        "\ufffd\\&\u0129\u0000\ufffd\ufffd\u0000\ufffdJ\ufffd\ufffd0\ufffdm\ufffd\ufffd\u000e\ufffd)\ufffde\ufffd\u0006\u03ebZ\u0662+\ufffdO\ufffd6G\ufffdDeAZ\ufffd*\ufffd\ufffd\ufffdR\u001c",
        "\ufffd\ufffd\ufffd\"\ufffd\ufffd\ufffd\u000f%\\\ufffdc\ufffd\ufffd\ufffd\u0643\u0014>\ufffd\tmr2\u000e\ufffd\ufffd\ufffd\ufffd\ufffd\ufffd\ufffd\f",
        "v1V\u001d",
        "\ufffd)\ufffd~ \ufffd\ufffd9\ufffd\u0002\ufffd(\ufffdHK\ufffdd\ufffd\ufffd3\ufffdM\u0012V\ufffd\ufffd\ufffd6\ufffd=\ufffd\"\ufffd\ufffdB*\u001d",
        "S\ufffdH\ufffd\ufffd*\u0011/\ufffd\ufffd\ufffd\u001e",
        "\ufffd7\u0004\u0470P:\u0007\\b\ufffd\ufffd\u04c1?Y\ufffd\ufffdZ\t\ufffdR\ufffd\u001c",
        "\ufffd\u001a\ufffd\ufffdB\ufffd\ufffd\ufffdR\ufffd\ufffd$EV\ufffd\ufffd\u0014\u001e",
        "\u0019\n",
        "oZ\ufffdJ\u06ab\u0015\ufffdF\ufffd\ufffd\ufffdc\ufffd\ufffd\u03a0p\ufffdS\ufffdd\ufffdU\ufffdMY\ufffd\u0013\ufffd|\ufffd\u0002CV\ufffdK\ufffd\u0000\u007f\ufffd\u001e",
        "Q\ufffd\ufffd\u0003\u0016\u001d",
        "\ufffd\u000f\ufffd\u007f\u007f\u0012g\u043c\ufffd_\ufffdC\u0637\ufffd\ufffdN`TBG\u001e",
        "-5N\ufffd\u001f\ufffd\ufffdY\ufffd\ufffd\u001a\ufffd\ufffd\ufffd\ufffd\u0007\u00029\ufffd\u0013L?\ufffdB\ufffd\u000e3\ufffdY\ufffd[\ufffd\u007f\ufffd\ufffd\u0007\ufffd\ufffd0g\ufffd\ufffd0)\u0018[\u001b\ufffd\ufffd\ufffd\ufffd\ufffdn\u0000\ufffd\u001a\u0019H\ufffd\ufffd8/\ufffd\ufffd\ufffdvP\ufffd\u001c",
        "C\u0012\ufffdsa\ufffd\ufffdp\ufffd\ufffd\u0017\u001bC\u0011\ufffd\ufffd]\ufffd\ufffdQ\n",
        "\ufffd@ul\u0011g\ufffd\ufffdj\ufffd\ufffd\u001a\ufffdb\u001ag\"\ufffd2\ufffds\u0015\u001d",
        "@2\ufffd4g\u0001\ufffd\ufffdw\u7ba4\ufffd\u001a\u0003\ufffd\n",
        "0\u0007\ufffd\u0001\ufffd?bD\u0012\r",
        "\u00c5on\ufffd\ufffd2k\ufffdV\ufffd\ufffd\ufffd5;f\ufffdU\ufffd\ufffd\u0706\u0575\\\u000f\u007f\ufffdn\u076d\ufffdp\ufffdk\ufffdn\u06ec\ufffdO0`\ufffdf\ufffde\ufffd\ufffdf\ufffdn9f\ufffd\ufffd\ufffdx\ufffd\ufffd&\ufffdW\ufffdu\ufffdv\ufffdm\ufffdY\ufffdZ\ufffd\u05d4\ufffd>.oL`\ufffd\ufffd\u0016\ufffdt\ufffd\ufffdc5[N\ufffdZ\ufffd5\u0001T\u0569u\ufffdF\ufffd\ufffdu{-\u000f \u0015U\ufffd\ufffdZ\u0100Q\u0013\u0005K\u0014P3E(\\/\ufffdwP\ufffd\ufffd\ufffd'\ufffd\u0006\ufffds$\u000f\ufffd8\ufffd\ufffd\ufffd\ufffdZ\ufffdJ\t\ufffd\ufffd\ufffd\ufffd#~\ufffd\u0002&k\ufffd\ufffd\ufffd\ufffd\ufffdj\ufffd\ufffd&P\ufffd\u001aN\u0013\ufffd\\\ufffd\ufffd\ufffdS\ufffd\u0716m\ufffd\u0000\ufffdi\ufffdv\ufffd\ufffd\ufffd|Fh\u000b",
        "\ufffdl9\ufffd\ufffdg\ufffd\u02c6\ufffd\ufffd\ud949\ude136\ufffd'[kz\ufffd\u001e",
        "k:=\u001bp\ufffdn\u0019\ufffd\u0007\ufffd\ufffd\u03d8\ufffddp\ufffd=N\ufffd\ufffd\ufffd\ufffd\r",
        "\ufffdO}\u001d",
        "\ufffd\ufffdz\r",
        "\"\ufffd\ufffd\u0001MD\ufffd\ufffds\ufffd\u000b",
        "\u0282oe\ufffd\ufffd\u0012\u017a?\ufffd\ufffd\u0018r\u0018\ufffd\u007f@\ufffd\ufffd1\u007f\u0006.P}\ufffd\r",
        "\u0001|\u0019\ufffd\ufffdk\ufffd\\\u05d3\ufffd\ufffd\u05cb-o\ufffd\ufffd\ufffd\u001a\ufffd\u0004\u007f\ufffd?8\ufffd\ufffd\ufffdTtH\ufffd \u06bd\ufffd\ufffd\ufffdv\ufffd1\ufffd\ufffd]\ufffd\ufffdu\u01ea\ufffdu\ufffd\u161e\ufffd\ufffdN\r",
        "\ufffd\ufffd\ufffdd\ufffd\ufffdm\ufffd<\ufffdc\u064dn\ufffd\ufffd]\ufffd\ufffdWm\ufffdM\ufffdg7\ufffd@\ufffd\ufffdj^\ufffdmZn\u06f6\u000b",
        "\ufffd\ufffd\u0006/\\\ufffdLX\ufffd\ufffd\ufffd\ufffd\ufffd?\ufffd9\ufffdC\ufffd\r",
        "\ufffd\u0017D&\ufffd=\ufffdHN\ufffd\u0002\ufffd\u001b\ufffd7\ufffd\ufffdD\u02b4j\ufffd\ufffd\r",
        "\u0000\ufffd\ufffdj\ufffd\ufffd\u001c",
        "4p\u007f\ufffdA\u0007\ufffd=\ufffd\u05db\u0000\ufffd\ufffd\ufffdf\ufffd\u0002\ufffd\ufffd\ufffd=$&J\ufffdmW\ufffd\ufffd\ufffd\ufffd^{\u0006Jm\ufffd\u001c",
        "\u0018_\ufffda\u0002\ufffd0\ufffd\ufffd\ufffd\ufffd\u0018F\ufffd\u0019\ufffd\u001d",
        "\\\ufffd\ufffdX\ufffd\u0011(\ufffd\ufffdt\ufffd\ufffd\ufffd\ufffd\ufffd&zu\u001b\ufffd\ufffdi61\ufffd&\ufffd\\l\ufffd\ufffdq\ufffd0\ufffd\u000f$\u02b1\ud981\udd3d6G\ufffd\ufffd\ufffd\ufffd-\n",
        "\ufffdf\ufffd\ufffd\ufffdS`\ufffd\ufffd\ufffd*\ufffd\ufffd\ufffdI`9\ufffd\ufffd\ufffdZOR,o\ufffdR\\\ufffd\ufffd\ufffdf\ufffdb\u001e",
        "1\ufffdc\ufffdV\ufffd\u0005|T\ufffd\ufffdb\ufffdw`\ufffd5\ufffd\ufffd\ufffdT\ufffd~\n",
        "c\ufffd\ufffdk\u0580\ufffd\ufffd\ufffd\t\u000b",
        "\ufffdl9U\ufffd\u05ab\ufffd,\ufffdW\ufffde[\ufffdf\ufffd\ufffd\ufffd{\u001d",
        "\ufffd\ufffd\ufffdn\ufffdn\ufffd@T+\u0014\u0016\u001b\ufffdpQXL $\ufffdK\ufffd0\u001a\ufffd\ufffd\ufffd\ufffdc\u018e\u018c\ufffd\ufffd\ufffd\ufffdSy\ufffdAY\ufffdO\ufffd\u0012#\ufffd\ufffd\u001a%\ufffd\ufffd\ufffd\ufffdJD\ufffd\ufffd\ufffd,%\u0012\u0016\ufffdRk\u0019\u4f65\ufffd\ufffdf\ufffdS\ufffd\ufffd3\ufffd\f",
        "\ufffdU\ufffd\ufffdK\ufffd\ufffdKn\ufffdl\ufffdR\ufffdK\ufffdhq{\ufffdk\ufffdj\ufffd\u000b",
        ",J\ufffd\ufffd\ufffd7U\ufffd\ufffd\ufffd;\u0018^+\ufffd;\u001c",
        "\ufffd\ufffd\ufffd_+\ufffd\u07f2\ufffd\ufffd\u00b9\ufffd>\ufffd\ufffd`M\ufffd\ufffd\ufffd\ufffdt\ufffd\ufffd\ufffd\ufffdz\u075e\ufffdU]\u04c1*\ufffd\ufffdv\u0007C\ufffdXN\u076a\u000b",
        "\ufffdt\ufffd\ufffd\ufffdn\ufffdY\ufffd\ufffdj7\ufffd\ufffd\ufffdc\ufffd[\ufffdz\ufffd\ufffd\ufffd\ufffdy\u01ab\ufffdm\ufffd\ufffdz f\u0015n\ufffd\r",
        "^\ufffd\ufffd\ufffdB\u000b",
        "\ufffd{\ufffdE\ufffd \ufffdBC\ufffde\ufffd\f",
        "\ufffd\ufffdw\ufffd3\u0001\ufffd!\ufffd\ufffd\ufffds%\f",
        "\ufffd\ufffd\ufffd\ucb35\u0007\ufffd\ufffd\ufffd\ufffdc\ufffdV`w\u0200\ufffd/\u0200T>;F\u0006l}\ufffd\u0200\ufffd\ufffd\u0011\u0019\ufffd\ufffdSd@\ufffdo\ufffd\f",
        "H\ufffd\ufffdE\u0006\u0004\ufffd\ufffd\ufffd\u0007x\u0013`\ufffdi\ufffd\ufffdF<E\ufffd!\ufffd%\ufffd\b\ufffd&\ufffd,pp\ufffd\ufffd\ufffdx9\ufffd\ufffd\u000eF\ufffdK:H\u0013\ufffd\ufffd8k\ufffd1|\ufffdn?\ufffd1u\ufffd\ufffdw\ufffd\ufffd\ufffdT\ufffd\ufffd\ufffdT\u007f}sS!<\ufffd7\ufffd\u001c",
        "x\ufffd\ufffdJ\u0017\ufffd:!\ufffd\ufffd\ufffd\ufffd\ufffd\ufffd\b\ufffd\ufffd\ufffd\ufffd\u05151\ufffd92\ufffd\u0015\ufffd\ufffdV\ufffd\ufffdqK\ufffdL\ufffd\ufffd\ufffd\u04bcw\ufffd\ubce2\ufffd\ufffd\ufffd\u007f\ufffd5\ufffd\ufffd\ufffd\u0015\ufffd\u007f?\ufffdG\ufffd\ufffd\ufffd\ufffd\n",
        "\bzx\u00c0\ufffd4C\u05db~\ufffd\ufffdZ\ufffd8\u0691Q\u0005\n",
        "\ufffd\ufffda\ufffd?\ufffd\u000f\u0001\ufffd\u0013\ufffd6\ufffd\ufffdC\ufffd9\r",
        "_E\ufffd\u000b",
        "\ufffdL\u0004\ufffd\ufffd\ufffd\f",
        "96\n",
        "P\ufffd\u0003\ufffdp\ufffdD2\ufffd\ufffd\ufffd\ufffd\u0013<\ufffd\b\ufffd\ufffd\u0012#T\ufffd\f",
        "L+\ufffd\ufffd\ufffd\ufffdQ=\ufffd\u0011\u02de\ufffd\ufffd\ufffdx\u0016/rG0R\ufffdoL5e\n",
        "\u000f\ufffdE\ufffdj&\u0007\u001d",
        "\u0002U\u0000\ufffdA\ufffd5\ufffdn\u001f&\u000e*x@\u001d",
        "#\u0003$\ufffd\u0006\ufffd?\u000f\ufffd/\ufffdtx\ufffd\ufffd\ufffdx\ufffd\ufffd\ufffd\u0015(\u0015Q\">\ufffd\ufffd)\u0002\bZ\ufffd(!\ufffd\ufffd\u001c",
        "\u040c&\u0000|\ufffd.\r",
        "\ufffd@\ufffdl\ufffdM\u0417\u0010&\ufffd>\ufffd\ufffd\u0007w\ufffd\"ST\u0003\ufffd\u0013\ufffd\n",
        "\ufffdZI\ufffd\u0012m#\ufffd:\ufffd\ufffd[o%\u8250\ufffd\ufffd\ufffd\ufffd3\ufffd&DE\r",
        "\ufffd\\\u090e\ufffd\ufffdP\ufffd\b4s\ufffd\ufffd\ufffdG\ufffdz\u0007U\ufffd\u0000'\ufffd\ufffd\u0005\ufffdEG\u0016\ufffdv\u0005\ufffd\ufffd\ufffd\ufffd\u0533\ufffdj\ufffdr~\ufffd\r",
        "B!\ufffd\u00049\ufffd\ufffd\ufffdgY*\ufffd\u0011\ufffd6X$l1&\ufffd!\ufffd\f",
        "\ufffdd\u0015\ufffdD\ufffd\u0011\ufffd\ufffd\ufffdI\ufffd\ufffd\u001a\u0010\ufffd\ufffd\ufffd7dd\ufffd<\ufffd\ufffd\ufffd\\F1\u0015L\u0011\ufffd\u0014qd\ufffdT\ufffd\u0018\ufffd*\u001a\ufffd<\\n-o\ufffdQZ\u0006\ufffdezd\u02a4r\ufffd\ufffd\ufffd\ufffd9q\ufffd\u0015\f",
        "B\ufffd\ufffd/\u0005!H\ufffd\ufffd\u0004sK!U!\ufffd#\u001e",
        "\ufffd-y\u001f\ufffd\ufffdQ7\ufffd/:_dx-\ufffd\ufffd\ufffd\u0012\ufffd\ufffd\ufffd\ufffd\ufffd\ufffd\u001c",
        "\ufffd\ufffd\u0012I\ufffd/\ufffdj*\ufffd9\\*\r",
        "M\ufffdn\ufffd\ufffd\ufffd$\ufffds\ufffd\ufffdcNU\ufffd5\ufffd\u0019C\"\ufffdd\ufffd\ufffd(\ufffd*y\ufffdL\ufffd\ufffd\ufffd\ufffdK\ufffd,@f\ufffds\u0015\ufffdj\ufffd\ufffd\ufffd\ufffd\ufffd\ufffd\ufffd?\ufffd![\t\u05d9\ufffd\ufffdx<f\ufffd\ufffd\u0538\u0007\ufffd\ufffd)\ufffd\ufffdP\ufffdsX\ufffd\ufffd\u0017\ufffd2^\ufffd\ufffd3\r",
        "\u0017R ]V\ufffd|D\ufffd\u0000>\ufffdj\ufffd\"&dx\ufffd\ufffd\u001e",
        "\ufffd4\u022a\ufffd\\ca\u0013>\ufffd\ufffd4\ufffd;\ufffdO\u0005\ufffd\u0003 X\ufffd\ufffd\u001d",
        "\ufffd\ufffd!\ufffd\n",
        "< \u001d",
        "z\ufffd\ufffda`|vv\u000f\u0019\t\ufffd[\ufffd\ufffd\u01e8x\ufffd\u0010;\ufffd\ufffd\u0002\ufffdB4\ufffd\ufffdg\ufffd-\ufffd\u000b",
        "\ufffd\u0019\ufffd$\ufffd\"\ufffd\ufffd\ufffd\ufffdU\ufffd\ufffdfq\ufffdk\ufffd7\n",
        "\ufffd\u0003\u05f7\ufffd\ufffd\"7G\ufffd\ufffd\ufffd\ufffd}d$8\ufffde\u0013\u001a\ufffd\ufffdf\ufffd\u0013\ufffd\\1j\u0005\ufffdFFY\ufffd\ufffd\u0011\ufffd\u000b",
        "W\ufffd{\u023e\ufffdx\ufffd\u0584N\ufffd\u0189,\b\ufffd\n",
        "p\ufffd\ufffdDa.~\ufffd+\ufffd\ufffdr\\~d\ufffd%q\ufffd\ufffd\ufffd}T\ufffd(3P%\ufffd\f",
        "\ufffd\ufffdR\n",
        "\ufffd\ufffd_\ufffdd;\ufffd\ufffd\u0010\ufffd\ufffd2H[\ufffd-A\ufffd\ufffd\u001d",
        "\u0004\ufffd~\ufffd\ufffd1a\ufffd\u04dd\ufffd\ufffd\u0004\ufffd-\ufffd0X\"\ufffd\u0014\ufffd\ufffd/N\u0014\ufffd\ufffd\ufffd\ufffd\ufffd8\ufffdAv\ufffd3\ufffd\"\ufffd\ufffd\ufffd\f",
        "\ufffd$G\ufffd\u0218\ufffd\u001a\ufffd!TtM\\)\tQ!\u0005a:\ufffd#\ufffd+\ufffd\ufffdSPx\ufffd{\u001e",
        "qx\ufffd\ufffdR\ufffd\u0015\ufffd\ufffd U\ufffdad\u001d",
        "\u0018\u0006w\ufffd2R\ufffd\ufffd\r",
        "\ufffd!\ufffd\n",
        "\ufffd(\ufffdT\ufffdg1\ufffd\ufffd\u0002C\u0552e\u007f\ufffd^\ufffd\ufffd?cL\u0010\ufffd\u0011]\ufffd\ufffdD\ufffdoU\u0015@\ufffdn\u0013\ufffd\ufffd\ufffd322\ufffd\u00ca\ufffd\ufffd\u001c",
        "qz\ufffdQQ\ufffdL\ufffd\ufffd\ufffd\ufffd\ufffd(\ufffd\ufffd\ufffd\"\u000b",
        "\t\ufffd\ufffd\ufffdkK=\ufffd#U\u0002\ufffd\ufffd$\ufffd\u0011\u0011\u0007CPR\ufffd\u0003\ufffdu\u0002\u00122\u0011\ufffd\u001b\ufffd\ufffd\ufffd\ufffd9\ufffd\ufffdA\ufffdMR\ufffd_$E\ufffd\ufffd\ufffd\f",
        "U\ufffd\ufffd\ufffd\ufffd\ufffdD\ufffd\ufffdDN\ufffd+\ufffd@\ufffd\u000fe\ufffd'\u0019\u00190P1L\r",
        "Z\ufffd;\ufffd\ufffdA\n",
        "\ufffd\ufffd\ufffd\u0003\ufffdP\u0005K\u023bz.\ufffd\u0018\ufffd \ufffd&jW%\ufffdA\ufffdi<\u0011\r",
        "r\u0000=!jP\u0015^$\ufffdJ\ufffdf\ufffdI\u6a8d\ufffdI\ufffd\ufffd!\ufffd\ufffd?$\ufffd\u0690\ufffdg94;\ufffdWP\ufffd\u0000\ufffd-\ufffd\u0017\ufffd\ufffd<\ufffd\u001d",
        "\ufffd\ufffd\ufffd\u0172\ufffdW\ufffd\ufffd\ufffd]\u0001\ufffd$\n",
        "^\ufffdPn\n",
        "0\u000e\ufffd\u00103\ufffdx\ufffd\ufffdz\ufffdV\ufffdFPd\ufffd\u0014\ufffdpo\ufffd\ufffd \u0019\u001e",
        "KEc\ufffdCG\ufffdVF\ufffd\ufffd\ufffd\u0002J\ufffd\ufffd\u04823\ufffd\ufffd\ufffdk\u0001m\ufffd\ufffdGN}\b\ufffdD0sc17\u001b\ufffd\ufffd\ufffd\ufffdCQ\u0012b\f",
        "Zq\ufffd6g\ufffd9\u0135\ufffd;\ufffdQJ)\ufffd\ufffd\u0013\ufffd\f",
        "\ufffdRX\ufffd\u000fZ(V\ufffd\ufffdd\ufffd2\ufffd\u0019\ufffd\ufffd\ufffdU\ufffd\u0002\ufffd?L\ufffd\u001e",
        "\ufffdD\u001a\ufffd}!\t\ufffdWHz\u0015\ufffd\u0010\ufffd\u001f\ufffd^x\ufffd\u03a4\u0002\ufffd\u040a:Pf\u0014vcjF\ufffdK2\ufffd|\ufffdj\u0001\u0272\ufffd\ufffdL\ufffd\ufffd\ufffd\ufffd\u001c",
        "\ufffd0\ufffd\u001fJ]\ufffdke\ufffd\u0010\ufffd\u000b",
        "\ufffd\u0003\ufffd$\u0007\ufffd\u0002i\ufffde\ufffd(\ufffd\ufffdQ\ufffd\ufffd\u0017\ufffd\ufffdn\u0499\ufffd\ufffdZ\ufffdEd\ufffd\ufffd2\u0017\ufffd\t`\ufffd\ufffd\ufffdf\ufffd>\u001d",
        "\u0017\ufffdmK9\ufffd\u001f\u000b",
        "\ufffd\ufffd\ufffd\u066d\ufffd\ufffd\ufffd}U\u04bd\ufffdd\ufffdL\ufffds\ufffd\ufffd)K\ufffd\ufffd\ufffdyU\ufffd\ufffd;\ufffd(\ufffd\ufffd\ufffd\ufffd\u024d\"\u000b",
        "\ufffd\ufffd.\ufffd\ufffd([\ufffdY\ufffd\ufffd\ufffdV\u001e",
        "\ufffdUt\ufffd\ufffd\ufffd\ufffd\ufffd\ufffd\u06bd\ufffd.\f",
        "YE09\u00af\ufffd%d\u0005\t\ufffd>nn\ufffd\ufffd^\ufffdf\ufffd\ufffd0d\ufffd\u0000\ufffd\u0015\ufffd\ufffd\ufffd\u000f\ufffd8\ufffdZ\ufffdn\ufffd\ufffdT\t)\ufffd$h(\ufffd+g\ufffd\u0303\ufffdw\ufffdX\ufffd\u0004[>~G\ufffd\ufffd\ufffd\"\ufffd]\ufffdc;\ufffd\ufffd'\ufffd?\ufffd\ufffd\ufffd/i_V\ufffdU\ufffd\\r\ufffd\ufffd\ufffdUR\ufffdQ7Cf\ufffd\ufffdp\ufffd\ufffd+\tX\ufffd\ufffd\u0004 \ufffd\ufffd\u0019\ufffd\u0011|N\ufffd\ufffd\u0011\u0000e\ufffd\ufffd0\ufffdH\ufffd\ufffd\n",
        "\ufffd\ufffd\ufffd\ufffdZCY$|n\ufffdtG7\u0641\ufffd.\ufffd\ufffd\ufffd\u000e\ufffd\ufffd\u0010\ufffd\u001e",
        "0(\ufffd%\ufffd\f",
        "I\u001a\ufffd\ufffd:[0\ufffd\ufffd\ufffd\ufffdM\ufffd\ufffd\ufffd\ufffd}\ufffd)\ufffd\ufffdm\ufffd\u000f\ufffde\ufffd\ufffd\ufffd\ufffd\ufffdD\ufffd\u0012\ufffd\u0011\ufffdTy\ufffd\ufffdP\ufffd\u0547\u047bw4\ufffd\r",
        "\ufffd\ufffd\ufffd\u000e\u0007E^\u039d|\ufffd\ufffd#\ufffd\ufffdZx\ufffdg\ufffd\ufffd\ufffdl\u001c",
        "\u055aG\ufffdv\tW\ufffd\u001e",
        "\ufffd\ufffd\u000e\ufffd\ufffd\u0003\ufffd\ufffd\ufffd9\ufffdM\u001d",
        "\ufffd#j8\ufffd\u007fN\ufffd\ufffd\u001f\ufffdx\ufffd\ufffdU)\u0680m\ufffdrHA\ufffd\u0014\u0004\u0005\ufffdL\ufffd\u0010\ufffd0\ufffdr\ufffd\ufffd1\ufffd\ufffd\ufffd\ufffd~n\ufffd\u007f\u0001#\ufffd\ufffd}&x}\ufffd\ufffdZ\ufffd%\ufffd\ufffd\ufffd\u0018\ufffd\u0013,\ufffdw\ufffdj\ufffd\ufffd{|\ufffdY\ufffd7\ufffd\ufffd\ufffd{\ufffd0\ufffd<\u000b",
        "\ufffd%\ufffd\n",
        "\ufffd\ufffd\u001a\ufffd:\ufffd\ufffd{\u000f\ufffd\ufffd'$\ufffd\ufffdOP\ufffd\ufffd\ufffd\ufffd\ufffde?\ufffd\ufffd\ufffd\n",
        "\ufffd\ufffdi|\ufffd\ufffd\u001f@\ufffd\ufffdHH\ufffd\ufffd,H\ufffd\ufffd|\ufffd\u001b\u001bu\ufffd\ufffdu\ufffd\u001b\r",
        "\ufffdPSQ]~M\ufffdP\u000f\u001b\ufffd\n",
        "h\b\ufffdzR\ufffd\f",
        "3\u049d\ufffdqs\ufffd\u001e",
        "g\ufffdx\ufffd\ufffd\ufffdie/\ufffd\u0013\ufffdY\ufffd\ufffd*V\ufffd\ufffd\ufffdk]hM'b\ufffd(7\ufffd\ufffd\ufffd\ufffd=\ufffd\ufffd\u0003gm\ufffd\ufffd\u007f\ufffd\ufffd\ufffd\ufffd\u0002<\ufffdM\u062aV0\ufffdy*\ufffd\ufffdd\ufffd\ufffd\ufffd<%S[6u\u06699\ufffdq\ufffd\ufffdK\ufffdYO\ufffd\ufffd0~m)\ufffd$]\ufffd\ufffd?d\ufffd\ufffd\n",
        "aY\ufffd\ufffd\t\ufffd\ufffd(\ufffd&\u024e\"\ufffd0\ufffd\ufffd\ufffdD\ufffd\ufffd8\ufffddvq\u0002\ufffdq\u06bf\ufffdL\u000f\u000f\u000f\u007f\u0012/\u020e\ufffdl\ufffd\ufffd[\ufffd\ufffd\u001a\ufffdv;S3p\u001d",
        "D\ufffd\u000b",
        "\ufffd\u0019\ufffd4C\ufffd\u0018\ufffd9\u0002\ufffdl\u0017S\ufffd\ufffdhn7\u06cdZ+5\ufffd\ufffdn\u0000\ufffdq\ufffdZ\ufffd\ufffd\ufffds83\ufffd\u0012\ufffd\ufffd]\ufffd\ufffd\u001a\u07d2\u0016\ufffd\ufffd\ufffd$-F\ufffd\u001d",
        "0\ufffd:K\ufffd\ufffdT\ufffd\u001d",
        "\u05f5\ufffd\ufffd5\ufffd#7\ufffd\ufffd\ufffdv\ufffdRWk\ufffd\ufffd*\ufffd6]l\ufffd\ufffd\ufffd\ufffd\b4m\ufffd\ufffd\ufffd\ufffd\u0016J\u0005\ufffd\ufffd\ufffd\ufffd\ufffdn\ufffdZ\ufffd\ufffd\ufffdB\u0003$\ufffd!M\ufffds{]$\ufffd\ufffd-\ufffd5\u0002\u001b\ufffdp1/\u0006%;d\ufffdCrCqn\f",
        "\u007f6\u001e",
        "\ufffdYr\ufffd1\u0000eV\ufffd@\ufffd\ufffd\ufffd\ufffd\r",
        "\u001e",
        "\ufffd\u0019\ufffd\ufffda\ufffd\ufffddZd\ufffd\ufffd\ufffd%\ufffd\ufffd$\u01ec=\ufffdR\ufffd1\ufffdLT\ufffd\ufffdi\ufffd\ufffd|\ufffdL\ufffd6\ufffd1\ufffd\ufffd\ufffd'Pn\u01e8N\u0015e\ufffd\ufffd\ufffd\ufffd]\u000b",
        "\ufffd\ufffdw\ufffdw\ufffd\ufffd\ufffdL\ufffd\ufffd[O<\ufffdU2b\u0019!\ufffdm_jD\ufffdC\u000b",
        "2\ufffd\ufffd\ufffdT;\u023bM2\ufffd^\ufffd\ufffdc\ufffd\u00ccP\ufffd\\Q\ufffd>\ufffdxe\u0010\\\ufffd\u0012\u000b",
        "\ufffd-9uk\ufffd\ufffd\ufffd7\ufffd\"\u04f7\ufffd\u020a\ufffdL\u001f6\ufffdf\ufffd<\ufffdR\ufffdT_\ufffdU\u0011\ufffdT\ufffd\u026e4\ufffd\ufffd.\ufffd\ufffdi\u000e\ufffd3\ufffd\ufffd\t[\ufffd\ufffd\ufffd&\u06fe\u0710T\ufffd\u0016x\ufffd\ufffdm\ufffd:\ufffd8Kx'yS\u0005\ufffd)\ufffd\ufffd\ufffd\ufffd9\u000b",
        "\ufffdV\ufffd\f",
        "\ufffdMT\ufffd|&\ufffd\u066c#\ufffd\ufffdmw!\ufffd;\ufffdV\ufffdiUM\ufffd\u06advM\u00143\ufffdU\ufffd\ufffd\uc675\ufffdT\ufffd\ufffd\ufffd\ufffd\ufffdv\ufffd^\ufffd5\ufffdH\ufffd\ufffd\ufffd\u0000S\u05a9\ufffdM\u0013\ufffd(&\ufffd\u00167\ufffd=\ufffd\ufffd\ufffd-\ufffdEW\u04a2\ufffd\ufffd\ufffd\ufffd\u001aC/\ufffd\ufffd3)\ufffd\u0017\ufffd\u0014c\u0018\ufffdq,yaM\u01d6\u007f\ufffd\ufffd\u001b@$\ufffd}K\f",
        "\ufffd\t\ufffd5o\ufffd.\ufffd.\ufffd(\ufffd\u0013k\ufffd\ufffd\ufffd\ufffdXHO\ufffd\ufffd_\ufffd\ufffdp)\u001d",
        "Z\ufffdy\ufffd\ufffd\u0001\ufffd\u001e",
        "\ufffd\ufffd\ufffdF\\Jw\ufffdNLD\ufffd\ufffdT\u0019\u0010\ufffd\ufffd;g\ufffdt\u0012\u001d",
        "U*H6>\u0324*\ufffd9;\ufffd\ufffd\ufffd]\ufffd\ufffd;g\u7773\ufffd\ufffdw=\ufffd9;\u00119\ufffd\u018c\ue71dw\ufffd\ufffd\u0015\ufffd\ufffd;g\ufffd\ufffd\ufffd\ufffd2\ufffd\ufffd\ufffd9;\r",
        "\u0003\ufffd\ufffd\ufffd\ufffd\u0669\ufffd!\ufffd\ufffda\u0002\ufffdqx_\u001a\ufffd\ufffd#4\u0015\u04ecW\u06e8\ufffdc\ufffd{u\ufffdr)\ufffdn\ufffd\u0007bzj\ufffd\u0007Y\ufffd\ufffd\ufffd\ufffd\ufffd\u056d\ufffd\u0019M[\ufffd\ufffd\t\ufffd\ufffdp\ufffdtM?\ufffdO\u0007\ufffd\u000e\ufffd*{\ufffd|(8\ufffd\ufffd\u001a\u0013\ufffd\ufffdn\u0014\u0006V\ufffd_:\b\ufffdm\ufffdM\bX\ufffd\ufffd*\u0000\ufffdH\ufffd.\ufffd\ufffd\ufffd\ufffd>\u001a`!\n",
        "n.c\ufffd9\u0000\ufffd\ufffd\f",
        "\ufffdI{!n\ufffdF\ufffd_\ufffd\ufffd\ufffd\u0003\ufffd\ufffd\ufffdn\u00beq\u001f6\u000f\ufffd\u0016\ufffdf\ufffdb\ufffd\ufffd\ufffd\ufffd\u052as\u000b",
        "2\u75b8\ufffd\u000b",
        "\ufffdf7\ufffd}E\ufffd\ufffd\ufffd\ufffd\u001a\ufffdw\ufffd!\ufffd\f",
        "\u031c\ufffdP4\u0001x?\ufffd\u0007th\ufffd&\ufffd#\ufffd\ufffd\ufffdC9(\ufffd%\ufffdG\f",
        "'p\ufffd0\ufffd\b\ufffd\u0019\ufffdh]\u018d\ufffd#PJ\ufffd q\ufffd}Zp\ufffd\ufffd\u001bu\ufffd\ufffdm \ufffdK\ufffd:_\ufffdF\u0016\ufffd\u001bW\uee53{\ufffdk\u0002\b,\ufffd\ufffd\ufffd\u0019\ufffd\ufffd)g\u001c",
        "j\ufffd\ufffd \ufffd\ufffd\ufffd\u0002\ufffdS&\u0005\ufffd\ufffd\u0004\ufffd\ufffd4\ufffd\ufffd\ufffdV\ufffd\u0007\ufffd%\ufffd\u007f\ufffd\u001b-\ufffda\ufffd\ufffd\ufffd\ufffd\ufffd5L\ufffdU\ufffd\ufffd\ufffd\u001e",
        "\u0010\ufffdj\ufffdE\u0510\ufffd#g;\ufffdc\u0001\ufffd\ufffdf5\u0766\ufffdl\u051am\ufffdt\ufffdf\ufffd[m\ufffd^\ufffdk\ufffdN\u0007\ufffd\u0384jZ\ufffd\ufffdu\ufffd\ufffdm\ufffd\ufffdu$\u001c",
        "\u0001\ufffd\b3\n",
        "$\ufffd\ufffd\ufffdi\u0003Y\ufffdt\u001a\ufffd\ufffdj\u00e5\ufffd!\ufffd,z\ufffd\".\u007f\ufffd]m\u00179\ufffd2\ub6cb\ufffd\ufffd\u030f\ufffdm\f",
        "<e\ufffd=\ufffdZ\u001a\u0017w\ufffd\"\ufffd\ufffd\ufffd\ufffd\u0012~\ufffd\ufffd\ufffdJ\ufffdrk\ufffd0\ufffd2\ufffd`\u0015v4)O\ufffd\ufffd+\u0019\ufffdHX7\ufffd\u02f0\ufffd{\ufffd]O\u0005\ufffd\ufffd\ufffd0\ufffdN\ufffdl\ufffd\u0004Wy\u01f3\ufffd\ufffdT\ufffd\u022b\ufffd\ufffd\ufffd\\\n",
        "\ufffd\u0000\ufffd3\ufffd\ufffd\ufffd\ufffd\u001e",
        "\ufffd\ufffd\u0000\ufffdhE]\ufffd\u0000\ufffd\b\ufffd<\ufffdR\ufffdH\ufffdjQ\u001a!,\u042aJ:\u001fJ\ufffd\ufffd\ufffd3\ufffd<t%\ufffd\ufffd\u0000\t|\u0007'\ufffd\u0005,N9\ufffdoM\ufffd\u0003\r",
        "S\ufffd\ufffda\ufffdnF\ufffd\u00169\ufffd%<C\ufffd\ufffdmt 9\ufffdF\ufffdB\ufffd\ufffdCJ\u000f&\u0000\ufffd^\ufffdiv\ufffdv\ufffdS\u00032\ufffd\u0000\u001f%\"\ufffdWk9]\ufffd\ufffd\u00018\u00058\ufffd^\ufffdk\ufffd\u0006\ufffd\u0003\ufffd:\ufffdj\ufffd=\ufffd]\ufffd:\ufffd\"l\ufffd\u0017.\ufffd\ufffd\ufffd\ufffd\u0015\t\ufffd,_\ufffd\ufffd#\ufffd\u001c",
        "\ufffd\ufffdO\ufffd\ufffd?==\u001c",
        "!\u0019\ufffd\u0001\ufffd\ufffda\ufffd\u0377\ufffd\ufffdq\ufffdu\ufffdyG;s\u001d",
        "\u0521&@\n",
        "\ufffdu\ufffdzl%8\ufffd\ufffd\u0011PW\ufffdv\ufffdz\ufffd\ufffd\ufffd\\ Rj\u007f\ufffd-\ufffdO\ufffd\ufffd\ufffdk\ufffd2\ufffd\ufffd\ufffd\u007f]%\n",
        "\u0006\ufffdm\u0082v\ufffd\ufffd4\ufffd\ufffd\ufffd\ufffdw6bN\u00160\ufffd\\\ufffd\u00169\ufffd\ufffd^\ufffd\ufffdZ\ufffdkU\u001b6\u00129z\ufffd|\ufffd\ufffdL\ufffdIwZ\u000b",
        ")\"\u001d",
        "\u0007{\ufffd\ufffdH\ufffd[kT\u0011\ufffdC\ufffdn\ufffd5\ufffd\u027bN\u0017\ufffd\ufffd\ufffdW\f",
        "\ufffdb\ufffd\ufffd\ufffd\u015d\ufffd\ufffd\u028b\ufffdC5IE[mn\ufffds\ufffd\ufffd\f",
        "uq\ufffd\ufffd\u0011\ufffdNO\ufffd\ufffd\f",
        "\ufffd\ufffd\ufffdc\u0014\ufffd\ufffdP[\u0001\ufffdg\ufffd3C\ufffdG\ufffd\u007f\ufffd\ufffd\u007f\ufffd\ufffd\ufffd\ufffd\ufffd\u001f\ufffd\u0013\ufffdx\u0000Z\u0019zqh\ufffd`l]\ufffd\u0010\ufffd\ufffdaQ\ufffd\u007f\ufffd\ufffd\ufffd\ufffd\ufffdePr\ufffd..q\u001a\ufffd[wnv\ufffd\u001d",
        "k\u075c\ufffd\u001c",
        "\u000e_\ufffdn,*\ufffd\ufffd\ufffd\u0012\ufffd\ufffd\ufffd\ufffd\u07518v-\ufffd\ufffd%w\ufffdY\ufffd@\ufffd\u0768\ufffd\ufffd\ufffd\u001b\ufffdZ\u001bF}\u0006\ufffdhtq\ufffd\ufffd\ufffd\u044b\ufffd\u03df\ufffd}\ufffd\u001a\ufffdv\ufffdfa\u00155\\\ufffd\ufffd\ufffd\ufffdlQ\ufffd\ufffd\ufffd\ufffd\u0013\ufffd\ufffd0\ufffd'H\ufffd=\ufffdr<8J\ufffd\ufffd\u001d",
        "\u0015\ufffd\ufffdB2Q\ufffd\ufffdL\u0019\ufffdd\ufffdH\ufffd\ufffd\ufffda1V{<\ufffd\ufffdR\ufffd\ufffd\u0001\ufffd\u035d\ufffd3\ufffd\ufffd\u0015m\u000f\ufffd\u0012]\ufffdXS{P\ufffd\ufffd4\ufffdh\ufffd\ufffdS\u0015uG\u001a\ufffdi\ufffdN:|\u001c",
        "\u0012Z\ufffd\ufffd\u001d",
        "s\ufffd\ufffd\ufffd\u0006BY\ufffd6 \u0225\f",
        "f\u000e\ufffd$\u01dc\ufffd\u0006\ufffd\ufffd\u007f+N-\ufffd\ufffd\ufffduh\ufffd\ufffd\ufffd\u001e",
        "\ufffd\ufffd\u06d5\ufffd,_\ufffd\ufffd@c\u001b\ufffdW\ufffd\ufffdV\u03af\f",
        "\ufffd\ufffdy\ufffd\ufffdD\ufffdu\ufffdehm\ufffd\u000b",
        "\ufffd4\ufffd\ufffd!\ufffdi\ufffd\u001b\ufffdX\ufffd7\ufffd\ufffd\ufffdt)Afs2\t\ufffdW)\ufffd\f",
        "\u000b",
        "\ufffdTX\ufffd\u0016\ufffd\ufffd:\u0165]C\ufffdj\u007f\ufffd\ufffdg\ufffd\ufffd\ufffd\u0001T\ufffd4\bP\ufffd\ufffd\ufffd@\ufffd0\ufffd9@](\ufffd1\u04eb\ufffdgr\ufffd\ufffd\ufffd7\ufffd\u0017zPP\ufffdCGV\ufffd7qu\tQ\ufffd\u07db\ufffd}\u0013\ufffd\u000f\ufffdo\ufffd\ufffd\ufffd\ufffd\u001d",
        "H\ufffdE\ufffd\ufffdH^\ufffd\ufffd\ufffdd{U\ufffdL\u0453\ufffd\u0169fR\ufffd\ufffdV\ufffd\ufffd\ufffd4U\ufffdG\ufffd\ufffd\u0010:\ufffdD\ufffd8\u0007kk\ufffdm\ufffd3\u000b",
        "\u0010*\ufffd\t\ufffd\u000eE]?\ufffd/P\u001d",
        "A\ufffd\ufffds\ufffdO\ufffdmz\u0016\ufffd%[M\ufffd\ufffd\u00005\ufffdT\ufffdz\ufffd\ufffd\u0002\ufffdw\ufffd\ufffdUkv\ufffd\t\ufffd\ufffd:Sy\u05eaFA\ufffd\ufffdj'\ufffd\ufffdB\u0014I\ufffdX\ufffd\ufffd\ufffd\u0011^\u0019\u0002\u0014\ufffd\ufffd\ufffd\u001e",
        "\ufffd\ufffdn'\ufffdu\ufffd^\ufffd\ufffdv\ufffd\ufffd\ufffd\ufffdT\ufffdVbY\u0476}Nt]\u0016\ufffd\ufffd\ufffd\u000e\ufffd\ufffd\ufffdD\ufffd\ufffd+5\u000f&\ufffd\ufffd\ufffdN\ufffd\u0769{\ufffdf\u000f\ufffd\u0019B\ufffd2\ufffd\ufffdk\ufffd\ufffd\u001e",
        "r\u0013\ufffd\ufffd\ufffd\ufffd(\u001f\ufffd*\u0304\ufffdM\ufffd\ufffdQ\ufffd\u0019\ufffd\u0714\ufffdG\ufffdZ\u001b\ufffd\ufffdN\u0019\ufffdb\ufffd\ufffd$-\u001d",
        "\u007fZ\ufffdq\ufffd\ufffdWz\ufffdTL\ufffdN\u0019+\ufffd0\n",
        "\ufffd8\ufffd\ufffd\u000e\u000fd\ufffd\ufffdL\ufffd_\u0017\ufffdS\ufffd\ufffdgx\ufffd\ufffd\u001f\ufffd\u0019\\xN\ufffd\ufffdH6\ufffd\u0002e\u000f\ufffdw\ufffd\ufffdF\ufffdY\ufffd\ufffd\u0016\u00185)\ufffd+]f\ufffdY\ufffd;[{!\ufffdua\ufffd\u007f\ufffdmm\ufffdz\ufffdIYJ\u001bos&\ufffd\ufffd\ufffd(l\ufffd\ufffd\u0000`\u0012<\ufffd|Wr\u001f*\ufffd-\ufffdF7\u0380\ufffdf9\u0440w7*\u0017\f",
        "\ufffdsH\u0007\u0018\u0015\ufffd\u00ba\ufffd\ufffd\ufffd\ufffdU]!\ufffd\ufffd\f",
        "\ufffd\ufffdDx\ufffd\ufffd\u0005}\u0002\u0017\ufffd\ufffd\ufffd\ufffdH\u1982\ufffd\ufffdz}^\u0001\u0007\ufffd\u001c",
        "\ufffdW\u0005\u15a4s\ufffdn`\u0015\ufffd\ufffdio\u0012op\ufffd7\b\tZ|\ufffd\ufffd\u0692\ufffd\ufffd\u0000)\ufffd\ufffdY\ufffdN_\ufffd\u000b",
        "\ufffd\ufffd\ufffd\ufffd\ufffd\ufffd3kjh\uf0b8\ufffd\ufffd\ufffd\ufffdg\ufffd-\ufffd\ufffd\ufffd\ufffd\ufffd$`\ufffd\ufffd\ufffd\u04aeg\ufffd/\ufffd\ufffd\ufffd\ufffdME\ufffd%+o\ufffd\ufffd\ufffd.)\ufffd\ufffdC\ufffd\r",
        "\ufffd\ufffdB\ufffd\ufffd\u0012\ufffd\ufffd\u0015!sS\ufffd!@\ufffd^L\u03f7\ufffd!\ufffdJ\ufffd,N\u001d",
        ";\ufffd.\ufffd$d\u0001\u0637\ufffd\u0012IWI&!\ufffd\u0269m\ufffd\ufffd'g\ufffd\u001b=\ufffdCx\ufffdg\ufffdrf\ufffd%K\u0200\u0003\ufffd*\ufffd\u0013w~K\ufffd)\u001d",
        "\u0010M\ufffd\ufffd\u06c1\b\ufffd77\ufffd\u0012{\ufffd|p\ufffd\ufffd\u0012J\ufffdJ\ufffd\ufffdvS\ufffd\u0005J\ufffd\ufffd\ufffd\ufffd\u04b6\ufffd\ufffd\ufffd\ufffd6\ufffdN\b\ufffdo\ufffdo\ufffd\ufffdX\u03b9E\ufffd\u0011\ufffd\u0018\ufffd/\ufffd\u0348\ufffd\f",
        "Eo!\ufffd\ufffd8Z\ufffd\u007fE\ufffdr\ufffdG\bc\f",
        "\ufffdw\u0007\ufffd\ufffdk%\u072e\ufffd\u000b",
        "\ufffdR\ufffd\ufffd\ufffd\ufffd~\ufffd\r",
        "\ufffd\u0016n\ufffdk!y\ufffd\ufffdm\ufffd(\ufffd\u0006\ufffd\u0011\ufffd\u0018(5\ufffdM\ufffdML\ufffd v\ufffdT\u043e=v\ufffd\ufffd\ufffd\ufffdw[\ufffd6!\u0003\ufffdjA\ufffd\ubbe2\ufffdu\u0209{q;\ufffdB\"K3\u0001\ufffd\u0652pJ'K\ufffd\u0017\ufffd\u0002\ufffdX\ufffd\ufffd\ufffd\ufffd\u00059R7?\ufffd]\ufffd\ufffd\ufffd\u0005\ufffd\ufffd~\ufffdB\ufffdq\ufffd\ufffd>\ufffd\ufffdr\ufffdV40\u0014\ufffd.\ufffd&\ufffd\ufffd\u0005\ufffdo\ufffd\u064f\ufffd\ufffdT\u0014\u0016\ufffdR\ufffdy\ufffd\ufffd\ufffd\u001c",
        "5WC\ufffdg\ufffd\ufffd\ufffdpF)\u03bb\ufffd\u001d",
        "U\ufffdt\ufffdC6\ufffd\ufffd/T>f\u00a6Kg\ufffd\ufffd\ufffdh\u001aEq\ufffd\u0014\ufffd?N\u001b\u001e",
        "\ufffd\ufffd\u0010\ufffd\ufffd\ufffd\ufffd\ufffd\ufffd\u4f57\ufffd\ufffdk\ufffd\ufffd\ufffd0`\ufffd\u0001\ufffd\ufffdg<\ufffd\ufffd\u0007\ufffd\ufffd\ufffdQ\ufffd\ufffd\ufffd\ufffdR\ufffd@pi\ufffd\ufffd\ufffd=r\u0178.\u0015p\ufffdUlP\ufffd\ufffd:\ufffd\u0001\ufffd\ufffd\\\ufffd\ufffd\ufffd\u426f\ufffd-\u007fD\ufffd\u001e",
        "\ufffd\u0019_^\ufffd\u0017~|0\ufffdgu\ufffd^|`Ug\ufffd\ufffdU#?\f",
        "\u0003\u0000\ufffd\ufffd\u0016V\u0015\ufffd`\u001c",
        "F\ufffd,\ufffd%u\ufffdc\u007f3\ufffd\ufffd\ufffd/\u001fb\u001c",
        ")e[\ufffd\ufffd\u06a3\ufffd\r",
        "2\u0000(\ufffd\u0147e\u0001t\ufffd?!\ufffd\ufffd\u0016\u00078nV\ufffd\ufffd\ufffd)n9\ufffd\ufffd\ufffdmvq\ufffdj\ufffd\ufffd\ufffd\ufffdAu\u000fw\u0002z\u0016\u0000W\u001a-\ufffd\ufffdi\ufffdw\ufffd\ufffd:%!\ufffd\ufffd@\ufffdj\u05daH\u0013.\u0015\ufffd\u05ad\ufffd\ufffd\ufffd\ufffd]Y\u001d",
        "\ufffd\ufffd\u000fm\u0014{\ufffd\u0018PiGw\ufffd\ufffd6.n!\ufffd\ufffd\ufffdK(\ufffd.\u01ac\ufffdm\u001b]\u0016*\ufffd\u0195\ufffd\ufffd\ufffd^.i\ufffd\ufffdX\ufffd\ufffd\ufffd\ufffdQ\ufffd\ufffdz!\u0019h\ufffd!\ufffdu\\\ufffd+\u0017\ufffdXpY\ufffd\r",
        "9-,\ufffdW\ufffdR\ufffd\ufffd\ufffd\ufffdB\ufffdnC\ufffd\ufffd\ufffd\ufffd\ufffd\ufffd\ufffd\\\ufffd\tw\ufffdd\u05be\ufffdQ\ufffd\ufffdI\t\ufffd\ufffdk\ufffd\ufffd\u000b",
        "\u0006\ufffd\ufffdg\ufffd\ufffd\ufffd\ufffd>\ufffd\"\ufffd\ufffd\ufffd&\u0017\ufffd\ufffd\u060f\\D\ufffd\ufffd\u0007\ufffd\ufffd\ufffd\u000e|\ufffdEd\ufffdy\ufffd\ufffd(m\ufffd/.\"\ufffd\ufffd\ufffd\ufffd\ufffd\u07a6>\ufffd\"\u001a8\ufffdl\ufffd\u001d",
        "^F\ufffd\ufffd_x\u0019\ufffdr\u001e",
        "\ufffde\ufffd\ufffd\ufffd\ufffd\ufffd(n\ufffd\u0005.\ufffdX\ufffd\ufffd[Dm+\ufffdo\u0011\ufffd\ufffd\ufffd\ufffd\ufffd\ufffd\ufffd|\ufffdE\u00143$R\ufffdk{{WP\u0014\u001a \ufffd\ufffd;\ufffd\ufffd\u06bc\u0013\u0016\ufffdF\ufffd\ufffd\ufffd@)\"\u024d7Ov\u0013\ufffdn\u0011\ufffd\"\u007f\ufffd\ufffd^\ufffd\"\ufffd;\ufffd\ufffd\u0016\ufffd\ufffd\ufffd\ufffd\ufffd<\ufffd\ufffd\u0014\ufffd\ufffd\ufffd\u0016\ufffd-\ufffd-\ufffd\ufffd\u001b\ufffdm\u0011\ufffdr\u001e",
        "\ufffd\"J[\ufffdj\ufffd\ufffdm\ufffd-\"\ufffd#\ufffdl\u0011\ufffd\ufffd\ufffd3[\ufffdm|\ufffdE\ufffdn\ufffd\ufffd\ufffd\u000f\ufffd] \ufffd\ufffd\ufffd\u054e\ufffd\ufffd\ufffdFky\u0016s\ufffd\u0015\u0735u \ufffd7\ufffd\ufffd\n",
        "ol\ufffd>O\ufffd\ufffd\ufffdy\ufffd\ufffd\ufffd\ufffd\u0016\ufffd\ufffd6?\ufffd\ufffd&\ufffdx`\ufffd7\ufffdV\ufffd^\u000b",
        "\ufffda\ufffd\u001bx]MV\u0005\ufffd\ufffd]\ufffd\u02d5\ufffd\ufffd\ufffd\u01fa\ufffd\ufffdE\ufffdky^\ufffd\u051eW6\u0279^\ufffdS<\u0004\ufffd\u06b0\udb6d\udf2f\ufffd\ufffdC>\t\u072f\ufffd)\ufffd\ufffd\u0003\ufffdr\ufffd\ufffd\u001a\uc099N\u000b",
        "\ufffd\ufffd\u04a5K\ufffd\ufffdV\ufffdO\ufffd\ufffd\u0002\ufffd@@\u0004W\u0001\ufffdB`\ufffd\"ZZ\ufffd)j\ufffdB\ufffd\t\ufffd4k\u001c",
        "\ufffd\ufffdK\ufffd\ufffd\ufffd\u0005\ufffd$}I\ufffd_\ufffd\ufffd=\ufffdE\ufffd\u0002/\ufffd\ufffd\ufffd\ufffd\ufffd\ubd64\ufffd\u0000dc\ufffdz\u001b\ufffd\ufffdQ\ufffdv\ufffd;#\n",
        "\ufffd<#\t\ufffd\ufffdG^O\u0018\ufffd?\ufffd/\ufffdI\ufffd\ufffd\u0018\ufffd\ufffd\ufffd\u0010\u0016\ufffd\ufffd\ufffd\ufffd;8T\ufffd#e\u001d",
        "D1\u0016V\u001b\ufffd%\ufffd\ufffd8\u000e\ufffd\ufffd}\ufffd\ufffd\u0003\ufffd\ufffd}\ufffd\ufffd\ufffd\u0004\ufffd\ufffd\b5\ufffd\ufffdRL\ufffd\ufffd\ufffdU#\b>\ufffd\ufffd\ufffdYo\ufffd\ufffdq\ufffd\ufffd\ufffd\ufffd\ufffd\ufffd \u0010\ufffd\udb63\udcf5.C\u001c",
        "\ufffd\"~w\ufffdu3\u0003\ufffd0\ufffd(\ufffd\u05ecZ\ufffd\n",
        "\ufffdH\u001f\u0016\ufffdKk\ufffdf\ufffd\ufffdi\ufffd\u0018\u07df \ufffd\u0019\ufffd\ufffd\ufffdy\ufffdc\\Bx\u001d",
        "\ufffd\ufffd}\ufffd\ufffd\ufffd\n",
        "\ufffd\ufffd\u0007\u04d3`\ufffd\ufffd\ufffdp\ufffd\ufffd\f",
        "g\u001f\ufffd}\"\ufffdN\ufffdL\ufffdhy\ufffd\u0002VP\u0019\u0004\ufffd\ufffdig0\ufffd\u001f \u0011\ufffd\b\n",
        "\ufffdaVk\ufffd\u0006r\ufffd\ufffd\u0014n\ufffdGY\u0013FY\ufffd2?n[j\ufffdtO\u0016\u05a8\ufffdB\ufffdF\ufffd\u0003^\ufffd\u0019\ufffd\u000f\ufffd\ufffd\ufffd|b\u007ffU&\ufffd\ufffd>\u0018\u001f\u0004\u0013{\ufffd\n",
        "\ufffd5\u0016fI\ufffd\ufffdjP\ufffd\ufffdn\u001e",
        "\u0005\ufffd\ufffdt\ufffdv\ufffd\ufffd\ufffd\u007f\ufffd\u0658\ufffdL\ufffd|\ufffd\u0016B\u000e\ufffd41\b\ufffd\ufffd\ufffdVsV\ufffd\u00185\ufffd\ufffd\ufffd(`\ufffd\ufffdFa@5\u0019\ufffd\ufffd\ufffd\ufffd\ufffd\u0004\u0002\u0015\ufffd\ufffd\u0002\u000f\ufffd\ufffd\ufffdB\ufffd\ufffd\u07b6\ufffd@Ef\ufffd`\ufffdj\ufffdy4P\ufffd\ufffdM80\ufffd\u00d2x\ufffds\ufffd*\ufffd\ufffdw\ufffd\u001f\ufffd}]t\ufffd\ufffdfa\b\ufffd\ufffd\ufffd\ufffd\ufffd\ufffdB\ufffd\ufffd:/D\ufffd\u0018\ufffd_\ufffd\u001c",
        "|vl\ufffd\f",
        "\ufffdf^\ufffdy\ufffd\u000b",
        "{\u0005i\ufffd\ufffda\ufffd\ufffd\ufffd\ufffd\u0017\ufffd\u001d",
        "xXl\ufffdq\u0721\ufffd\ufffd\ufffda\ufffd\u0002\ufffd\ufffd\ufffd:\u0014\ufffd\ufffd8\ufffdP@\ufffdl\u0321\ufffd\ufffd\u000eB\u000e\u0005T\ufffdE\u001c",
        "\n",
        "\bm\u0019p(\ufffd\ufffdM\ufffd\ufffd\ufffd\u0726\ufffd\u0002\u0012\ufffdE\u001b\ufffd\u0010,\u001d",
        "lXB\ufffd\\\ufffda\t\ufffd\ufffd\u0002\ufffd\ufffdE\u001a\n",
        "\b\ufffd\u000f4\u0014\u0010\ufffd*\ufffdP@o\ufffd0C\u0001\ufffd\ufffd\f",
        "\ufffd\t\ufffd\b2\u0014\u0010\ufffd\ufffd\ufffd\ufffdY\ufffd\u0005\u0014\ufffd\r",
        "1\u0014\ufffd\\t\u0003\ufffd\u0005E\ufffd\ufffdu\ufffdI\u000b",
        "\ufffd\ufffd(\ufffdP@y\ufffd\ufffdB!\ufffd\ufffd\ufffd\u000b",
        "\u0005d\ufffdD\u0017\n",
        "\ufffd\ufffd&\ufffdP@\ufffd\\l\ufffd\ufffd\ufffd\u0016\ufffd\ufffd\u0002j[F\u0016\n",
        "(\ufffd(\ufffdP@\ufffd\ufffd\ufffd+\u0014\ufffdf\ufffd\ufffdB\u0001\ufffd\u06e2\n",
        "s\ufffd\u046e\ufffd\ufffdR\u0018Uh\ufffd2\ufffd\ufffd\u001a\ufffd!W\u3b88*,v\ufffd\ufffd\ufffd\u0016\ufffd\ufffd\u0014\ufffd\ufffd[\u0019RXl\ufffd\ufffd\u0014E\u0014\ufffdf\u0013\ufffd\ufffd\ufffd\ufffd\u0324H\ufffd\u0007\u0014\ufffd\ufffd\u0206\u0013\ufffd\ufffdC\ufffd\u001b\ufffdr\u01f5\ufffd\ufffd\ufffd$s\ufffd\ufffd\ufffd\u001b\ufffd7\u001b\ufffd\u0015\u001c",
        "\ufffdc\ufffd\u000f\ufffd\ufffd\ufffd6\ufffd\ufffd\u0014=\ufffd\ufffd%\ufffd\ufffd\ufffd\ufffdc<\ufffdW\ufffd\ufffdK9{t\ufffd\n",
        "\ufffd\u03eb\ufffd3\ufffd\u007f\ufffdo^4M:\ufffd2\ufffd\ufffdW\ufffd{}b\ufffdE\ufffdN[\ufffd\u001a\ufffd\ufffd\u0342\ufffd\u03ecV\ufffdz\ufffd\ufffd\ufffdd{.o=v\ufffd\ufffd\ufffd\u001f\u0003\ufffd\ufffd \ufffd-\ufffdp\f",
        "\u001c",
        "\f",
        "q{:Q\ufffd\ufffd\ufffd\ufffd\ufffdJe\ufffd\u001e",
        "Y\ufffd\u04e2G6sA\ufffd\ufffd:V\ufffd\ufffd}\u0012\ufffdw\u0012>\ufffd\ufffd\ufffd\ufffdq\ufffd\ufffd/\ufffdLI\ufffdR\ufffd\ufffd\ufffd\ufffd\ufffdJ\ufffd\u0015m\ufffd\ufffd\ufffd+\ufffd^S\u0019\ufffd\ufffd\b\ufffd\ufffd\u0007W\ufffd\u0013\ufffdy\ufffd\ufffd\u001aN\ufffd\ufffd\ufffd\ufffd\ufffd\u0003\"\ufffdG\ufffd\ufffdB\ufffdD\ufffdt x\u0002$q ~\ufffd\ufffdx0\u0010\ufffd\ufffd4@\ufffdDi(l0\u0010\ufffd\u0012\ufffdM\ufffd!\ufffd\ufffd[\u0005m\u076b\u01c2hX\ufffd\ufffd\ufffd/\ufffd]og\u0004\u02db\ufffd\ufffd\ufffd\u001bn,UTvv\u04b8\ufffd\ufffd\ufffd,.o\ufffdi\u0002k>uz\ufffd\ufffd\ufffd\u0002Y+\u001c",
        "\ufffd\u007f\u0005\ufffdX\u0018\ufffd\ufffd\u0017Z\ufffd\f",
        "]c\ufffdW\ufffd_\ufffd\ufffd\u0014\ufffd\u0019\ufffd'\ufffd\u062d^S\u0447\u0003\ufffd\u0016\ufffd_\n",
        "\ufffd\ufffd\ufffd\t\ufffd\u02bc\ufffd\u0014\ufffdn\ufffd9\u012cC?\ufffd\u0001\ufffd\ufffd)7\u046e\b'N\ufffd\ufffd\ufffd\ufffd5\ufffd\ufffdUB0\ufffd\ufffd\u9dab\ufffd\u000b",
        ")r*\ufffdx\ufffd\ufffd\ufffd\bU\ufffdr\ufffd\ufffd\u001c",
        ">g\ufffd\ufffdr3e\ufffd7\ufffd\ufffd\ufffd\ufffd\u14243\ufffdL\t\u0006\ufffdQ@DOd\ufffdH\ufffd\ufffd6!\u0011Mh\ufffd\ufffd\ufffd\ufffd\ufffd\ufffd\ufffdHLp\u06e8\ufffd\ufffd\ufffdiXD7\ufffd<.\ufffd\u001b\ufffd&0\ufffd\ufffdbId\ufffd3n\ufffd\u2208\u0012C{G?\ufffd\ufffd\ufffd}Py\u0005\u0001\u00106)\ufffd\u0002\ufffd\u0002\u007f\ufffd\ufffdk!>J\u0012\b\ufffd'\ufffd\u0013\u0003\u06af\ufffd\u0763F\u0003\ufffd\u0006\ufffd3\ufffd:\ufffd\ufffd*y`\u001e",
        "\u01f2\ufffd\u001e",
        "\u001c",
        "yD\ufffd\ufffd~\u0011\ufffd\f",
        "\ufffd\u001a\u001bP7\ufffd\t\u0007w\ufffd\ufffdM \ufffd\ufffd$\ufffdgd@y\ufffd\ufffd_vS\ufffd\ufffd[\ufffd\ufffd;]\ufffd \ufffd \ufffdb{\ufffd\ufffd\u001d",
        "\ufffd\ufffd#@\ufffd\ufffd\ufffde\ufffd\ufffd\ufffd\ufffd\ufffd\u0004\ufffd\ufffd\u0462\u0686U\ufffd\ufffdZR\ufffd\u001d",
        "\u0006\u0017\u0017\ufffd\ufffd\ufffd\u000b",
        "\ufffdy\ufffd#\ufffd\ufffd\u00128d\ufffd\ufffd\ufffd\f",
        "\ufffd\ufffdvy5M\u0013\n",
        "PH{G\ufffdn\ufffdl\ufffd\ufffdvrM\u00042=\u6bbb\ufffd7\ufffd|\ufffdO\ufffdB(\u0004T@\ufffd\ufffd\ufffd\ufffd\ufffdn\ufffdf\ufffd\ufffd\ufffdL\u000f\ufffd\ufffd\u001e",
        "\ufffd\f",
        "0\ufffdn\u0007\ufffd\ufffdm\ufffd\ufffd\ufffd\u001aP)\ufffdN\ufffd\ufffd\ufffd\ufffd\ufffd&\tx}\ufffdj\ufffdj\u05e9\ufffd\u0356\ufffd{mL\u0014\u07baf\ufffd\u05a9w\ufffd\ufffd\ufffd\ufffd\ufffd:\ufffdkw\ufffd\ufffd4\ufffd\ufffd#\ufffdl`a\ufffd\u000eZ\u0002\u06be\ufffd\ufffd)l\ufffd\ufffdh\ufffd\ufffd\u001e",
        "\ufffd2{\u0016\u0002\ufffdN\ufffdU\ufffdq\ufffd\ufffd\ufffd\u0013\ufffd\ufffdz\u0011\ufffd>\ufffdz\ufffd9\u0018\ufffdc &D3\ufffd`\u001c",
        "\u001c",
        "<\ufffd\ufffd{\ufffdy\u000f\ufffd\ufffd\ufffd\u0010\ufffd\u0362=\ufffdM\ufffd\ufffd\u000b",
        "?\ufffd\ufffd\ufffd\ufffd\ufffd\ufffdg\u0013`\ufffd\ufffd\ufffd\ufffd?\ufffd\ufffdo\ufffd\ufffd\ufffd~\ufffd\u03ff\ufffd\ufffd}\ufffd\ufffd\ufffd=>\ufffd\ufffd_\ufffd\ufffd\ufffd\ufffd\ufffd\ufffd\u007f\ufffd\ufffd?U]\u0006\ufffd\u0012\ufffd\ufffd,._\u0002L\ufffd\ufffd\ufffd\ufffd\ufffdoz\u0016P\ufffd-\ufffdD\ufffd\ufffd\u007f\ufffd\ufffd\ufffd\ufffdj\ufffdU\ufffd`5psG\ufffd\ufffd\u012d\u001e",
        "]\ufffd\u06a2\ufffd\ufffd\ufffdL\ufffd\ufffd8x\ufffd^_\ufffd\ufffd!\ufffd\ufffd\ufffd\ufffd\ufffd\ufffd\ufffd\ufffd\ufffd\ufffd\ufffd\ufffd\ufffd\ufffd\ufffd\ufffd?\ufffd\ufffd\ufffd\ufffd\ufffdo\ufffd]n\u0002\u007f\ufffd\ufffd\ufffd\ufffd?\ufffd\ufffd_\ufffd\ufffd?\ufffd\ufffd\ufffd\ufffd=\t\ufffd\u055a=\u0502\ufffd\ufffdY\u001d",
        "\ufffd\ufffd\u0006\ufffdZU\ufffd6\ufffd5\ufffd\ufffd\ufffd<\ufffd\ufffd\ufffd\ufffd\ufffd\ufffdl\ufffd\ufffd\ufffd2o\ufffd3\ufffd\ufffd\ufffd\f",
        "}\ufffd-\ufffd\ufffdW\ufffd\ufffdo\ufffd\ufffdw\ufffd\ufffd\ufffd\ufffd\ufffd?\u024c\ufffd\ufffd\ufffd\ufffd\ufffd\ufffd?\ufffd\u036f\ufffd\ufffd\ufffd\ufffdo\ufffd\ufffdH\ufffdo\u0003\ufffd\ufffd8\u007f#\ufffd\u001f~\ufffd\b\ufffd\ufffd7\ufffdt?~J\ufffdm\ufffdQ~C\ufffd!\ufffd+R\ufffd\bO\ufffd\u05a5,\ufffd\ufffd\ufffd\ufffd\ufffd\ufffd\ufffd[\ufffd2\ufffd!\ufffd\ufffd}\ufffd\u0013O\u50db{\ufffdH\ufffd\u0014R\u0016\ufffd\ufffd\ufffd\u0012+w\ufffdbr\ufffdk%\ufffd\ufffd_&\ufffd%\ufffd\ufffd\u06b4X\ufffd\ufffd~a\"7Sz\ufffd\ufffdJ\u001b\ufffd\ufffdxqo\ufffd\ufffd_-\n",
        "\ufffd5n\ufffd\ufffd\ufffd\"\u001d",
        "\ufffd\u0232G@\b\ufffdx0\ufffd&:i]n4\r",
        "zO\n",
        "\ufffdw\ufffd\u05fcA_j\u0361;Y\tzol*pk2\b`\ufffd\ufffd\ufffd\u0097\ufffd\ufffdE\ufffd\ufffd-\ufffd\ufffd\u001d",
        "4\ufffd\ufffd\ufffd\ufffd\u0736Y\ufffd%qv\u03e9\ufffdzn\ufffd\u000e\ufffdAp\ufffd\ufffdWm{\ufffd\ufffd\ufffdd\ufffdaz\u0007\r",
        "\ufffd\u00c2\ufffdnA\ufffdty\ufffd]\ufffd\ufffdv\ufffd.\ufffdo\ufffd\ufffd\ufffd\ufffd\r",
        "\u000f\ufffd\u0678\ufffdI\ufffdJ\ufffd\u001a_\ufffd\ufffdE2Bx\ufffd\ufffd\ufffd\u0001\ufffd\ufffdW\ufffd\ufffdR\"f\ufffd\ufffd\ufffdx\u0015^\ufffd\ufffd\u00008\u000f\u0017\ufffd\ufffd5r\ufffddU\ufffd\ufffd\ufffd\ufffdx\ufffdR}\ufffd\ufffd\u00007\ufffd\ud983\ude3f\ufffd\ufffd\u007f\u0007@\ufffd\ufffd\ufffd\ufffd\u0001\u0000\n"
       ]
      }
     ],
     "prompt_number": 25
    },
    {
     "cell_type": "markdown",
     "metadata": {},
     "source": [
      "checking redirections"
     ]
    },
    {
     "cell_type": "code",
     "collapsed": false,
     "input": [
      "print r.history\n",
      "print r.is_redirect"
     ],
     "language": "python",
     "metadata": {},
     "outputs": [
      {
       "output_type": "stream",
       "stream": "stdout",
       "text": [
        "[]\n",
        "False\n"
       ]
      }
     ],
     "prompt_number": 26
    },
    {
     "cell_type": "code",
     "collapsed": false,
     "input": [
      "print r.url"
     ],
     "language": "python",
     "metadata": {},
     "outputs": [
      {
       "output_type": "stream",
       "stream": "stdout",
       "text": [
        "https://api.github.com/events\n"
       ]
      }
     ],
     "prompt_number": 51
    },
    {
     "cell_type": "heading",
     "level": 3,
     "metadata": {},
     "source": [
      "PUT request"
     ]
    },
    {
     "cell_type": "code",
     "collapsed": false,
     "input": [
      "r = requests.put(\"http://httpbin.org/put\")\n",
      "print r.content"
     ],
     "language": "python",
     "metadata": {},
     "outputs": [
      {
       "output_type": "stream",
       "stream": "stdout",
       "text": [
        "{\n",
        "  \"args\": {}, \n",
        "  \"data\": \"\", \n",
        "  \"files\": {}, \n",
        "  \"form\": {}, \n",
        "  \"headers\": {\n",
        "    \"Accept\": \"*/*\", \n",
        "    \"Accept-Encoding\": \"gzip, deflate\", \n",
        "    \"Content-Length\": \"0\", \n",
        "    \"Host\": \"httpbin.org\", \n",
        "    \"User-Agent\": \"python-requests/2.4.1 CPython/2.7.8 Linux/3.13.0-37-generic\"\n",
        "  }, \n",
        "  \"json\": null, \n",
        "  \"origin\": \"14.139.240.226\", \n",
        "  \"url\": \"http://httpbin.org/put\"\n",
        "}\n",
        "\n"
       ]
      }
     ],
     "prompt_number": 27
    },
    {
     "cell_type": "heading",
     "level": 3,
     "metadata": {},
     "source": [
      "DELETE"
     ]
    },
    {
     "cell_type": "code",
     "collapsed": false,
     "input": [
      "r = requests.delete(\"http://httpbin.org/delete\")\n",
      "print r.content"
     ],
     "language": "python",
     "metadata": {},
     "outputs": [
      {
       "output_type": "stream",
       "stream": "stdout",
       "text": [
        "{\n",
        "  \"args\": {}, \n",
        "  \"data\": \"\", \n",
        "  \"files\": {}, \n",
        "  \"form\": {}, \n",
        "  \"headers\": {\n",
        "    \"Accept\": \"*/*\", \n",
        "    \"Accept-Encoding\": \"gzip, deflate\", \n",
        "    \"Content-Length\": \"0\", \n",
        "    \"Host\": \"httpbin.org\", \n",
        "    \"User-Agent\": \"python-requests/2.4.1 CPython/2.7.8 Linux/3.13.0-37-generic\"\n",
        "  }, \n",
        "  \"json\": null, \n",
        "  \"origin\": \"14.139.240.226\", \n",
        "  \"url\": \"http://httpbin.org/delete\"\n",
        "}\n",
        "\n"
       ]
      }
     ],
     "prompt_number": 28
    },
    {
     "cell_type": "heading",
     "level": 4,
     "metadata": {},
     "source": [
      "Embedding Query string"
     ]
    },
    {
     "cell_type": "code",
     "collapsed": false,
     "input": [
      "query = {'q': 'swati-jaiswal'}\n",
      "r = requests.get(\"https://www.google.com/\", params=query)\n",
      "print r.url"
     ],
     "language": "python",
     "metadata": {},
     "outputs": [
      {
       "output_type": "stream",
       "stream": "stdout",
       "text": [
        "https://www.google.co.in/?q=swati-jaiswal&gws_rd=cr&ei=fIOCVYWsKIKA8QXBjYM4\n"
       ]
      }
     ],
     "prompt_number": 29
    },
    {
     "cell_type": "heading",
     "level": 4,
     "metadata": {},
     "source": [
      "Sending Cookies"
     ]
    },
    {
     "cell_type": "code",
     "collapsed": false,
     "input": [
      "cookies = dict(cookies_are='working')\n",
      "r = requests.get('https://www.httpbin.org/cookies',cookies=cookies)\n",
      "print r.request._cookies.items()"
     ],
     "language": "python",
     "metadata": {},
     "outputs": [
      {
       "output_type": "stream",
       "stream": "stdout",
       "text": [
        "[('cookies_are', 'working')]\n"
       ]
      }
     ],
     "prompt_number": 30
    },
    {
     "cell_type": "heading",
     "level": 4,
     "metadata": {},
     "source": [
      "Custom Headers"
     ]
    },
    {
     "cell_type": "code",
     "collapsed": false,
     "input": [
      "headers = {'content-type': 'application/json'}\n",
      "r = requests.get('http://www.httpbin.org/', stream=True, headers=headers)\n",
      "print r.request.headers"
     ],
     "language": "python",
     "metadata": {},
     "outputs": [
      {
       "output_type": "stream",
       "stream": "stdout",
       "text": [
        "{'Connection': 'keep-alive', 'content-type': 'application/json', 'Accept-Encoding': 'gzip, deflate', 'Accept': '*/*', 'User-Agent': 'python-requests/2.4.1 CPython/2.7.8 Linux/3.13.0-37-generic'}\n"
       ]
      }
     ],
     "prompt_number": 31
    },
    {
     "cell_type": "heading",
     "level": 2,
     "metadata": {},
     "source": [
      "Taking Response"
     ]
    },
    {
     "cell_type": "code",
     "collapsed": false,
     "input": [
      "r = requests.get('https://api.github.com/events')\n",
      "print \"status code: \",r.status_code"
     ],
     "language": "python",
     "metadata": {},
     "outputs": [
      {
       "output_type": "stream",
       "stream": "stdout",
       "text": [
        "status code:  200\n"
       ]
      }
     ],
     "prompt_number": 51
    },
    {
     "cell_type": "markdown",
     "metadata": {},
     "source": [
      "If we made a bad request (a 4XX client error or 5XX server error response),\n",
      "we can raise it with Response.raise_for_status():\n",
      "If status code is 4XX or 5XX; It raises exception or else returns None."
     ]
    },
    {
     "cell_type": "code",
     "collapsed": false,
     "input": [
      "bad_r = requests.get('http://httpbin.org/status/404')\n",
      "print \"Bad request's status code: \",bad_r.status_code\n",
      "bad_r.raise_for_status()"
     ],
     "language": "python",
     "metadata": {},
     "outputs": [
      {
       "output_type": "stream",
       "stream": "stdout",
       "text": [
        "Bad request's status code:  404\n"
       ]
      },
      {
       "ename": "HTTPError",
       "evalue": "404 Client Error: NOT FOUND",
       "output_type": "pyerr",
       "traceback": [
        "\u001b[1;31m---------------------------------------------------------------------------\u001b[0m\n\u001b[1;31mHTTPError\u001b[0m                                 Traceback (most recent call last)",
        "\u001b[1;32m<ipython-input-50-e68108539214>\u001b[0m in \u001b[0;36m<module>\u001b[1;34m()\u001b[0m\n\u001b[0;32m      1\u001b[0m \u001b[0mbad_r\u001b[0m \u001b[1;33m=\u001b[0m \u001b[0mrequests\u001b[0m\u001b[1;33m.\u001b[0m\u001b[0mget\u001b[0m\u001b[1;33m(\u001b[0m\u001b[1;34m'http://httpbin.org/status/404'\u001b[0m\u001b[1;33m)\u001b[0m\u001b[1;33m\u001b[0m\u001b[0m\n\u001b[0;32m      2\u001b[0m \u001b[1;32mprint\u001b[0m \u001b[1;34m\"Bad request's status code: \"\u001b[0m\u001b[1;33m,\u001b[0m\u001b[0mbad_r\u001b[0m\u001b[1;33m.\u001b[0m\u001b[0mstatus_code\u001b[0m\u001b[1;33m\u001b[0m\u001b[0m\n\u001b[1;32m----> 3\u001b[1;33m \u001b[0mbad_r\u001b[0m\u001b[1;33m.\u001b[0m\u001b[0mraise_for_status\u001b[0m\u001b[1;33m(\u001b[0m\u001b[1;33m)\u001b[0m\u001b[1;33m\u001b[0m\u001b[0m\n\u001b[0m",
        "\u001b[1;32m/home/dc-19/anaconda/lib/python2.7/site-packages/requests/models.pyc\u001b[0m in \u001b[0;36mraise_for_status\u001b[1;34m(self)\u001b[0m\n\u001b[0;32m    806\u001b[0m \u001b[1;33m\u001b[0m\u001b[0m\n\u001b[0;32m    807\u001b[0m         \u001b[1;32mif\u001b[0m \u001b[0mhttp_error_msg\u001b[0m\u001b[1;33m:\u001b[0m\u001b[1;33m\u001b[0m\u001b[0m\n\u001b[1;32m--> 808\u001b[1;33m             \u001b[1;32mraise\u001b[0m \u001b[0mHTTPError\u001b[0m\u001b[1;33m(\u001b[0m\u001b[0mhttp_error_msg\u001b[0m\u001b[1;33m,\u001b[0m \u001b[0mresponse\u001b[0m\u001b[1;33m=\u001b[0m\u001b[0mself\u001b[0m\u001b[1;33m)\u001b[0m\u001b[1;33m\u001b[0m\u001b[0m\n\u001b[0m\u001b[0;32m    809\u001b[0m \u001b[1;33m\u001b[0m\u001b[0m\n\u001b[0;32m    810\u001b[0m     \u001b[1;32mdef\u001b[0m \u001b[0mclose\u001b[0m\u001b[1;33m(\u001b[0m\u001b[0mself\u001b[0m\u001b[1;33m)\u001b[0m\u001b[1;33m:\u001b[0m\u001b[1;33m\u001b[0m\u001b[0m\n",
        "\u001b[1;31mHTTPError\u001b[0m: 404 Client Error: NOT FOUND"
       ]
      }
     ],
     "prompt_number": 50
    },
    {
     "cell_type": "heading",
     "level": 4,
     "metadata": {},
     "source": [
      "Headers"
     ]
    },
    {
     "cell_type": "code",
     "collapsed": false,
     "input": [
      "print \"headers: \\n\",r.headers"
     ],
     "language": "python",
     "metadata": {},
     "outputs": [
      {
       "output_type": "stream",
       "stream": "stdout",
       "text": [
        "headers: \n",
        "{'vary': 'Accept, Accept-Encoding', 'x-served-by': '01d096e6cfe28f8aea352e988c332cd3', 'x-xss-protection': '1; mode=block', 'x-content-type-options': 'nosniff', 'etag': 'W/\"dee80ddab7366b9d9a10b9a33254db99\"', 'access-control-allow-credentials': 'true', 'x-poll-interval': '60', 'status': '200 OK', 'x-ratelimit-remaining': '51', 'x-github-media-type': 'github.v3', 'access-control-expose-headers': 'ETag, Link, X-GitHub-OTP, X-RateLimit-Limit, X-RateLimit-Remaining, X-RateLimit-Reset, X-OAuth-Scopes, X-Accepted-OAuth-Scopes, X-Poll-Interval', 'transfer-encoding': 'chunked', 'x-github-request-id': '0E8BF0E2:7355:11E5BB4:55828389', 'cache-control': 'public, max-age=60, s-maxage=60', 'last-modified': 'Thu, 18 Jun 2015 01:38:34 GMT', 'link': '<https://api.github.com/events?page=2>; rel=\"next\", <https://api.github.com/events?page=10>; rel=\"last\"', 'date': 'Thu, 18 Jun 2015 08:38:34 GMT', 'access-control-allow-origin': '*', 'content-security-policy': \"default-src 'none'\", 'content-encoding': 'gzip', 'strict-transport-security': 'max-age=31536000; includeSubdomains; preload', 'server': 'GitHub.com', 'x-ratelimit-limit': '60', 'x-frame-options': 'deny', 'content-type': 'application/json; charset=utf-8', 'x-ratelimit-reset': '1434618773'}\n"
       ]
      }
     ],
     "prompt_number": 39
    },
    {
     "cell_type": "heading",
     "level": 4,
     "metadata": {},
     "source": [
      "Cookies"
     ]
    },
    {
     "cell_type": "code",
     "collapsed": false,
     "input": [
      "url = 'http://example.com/some/cookie/setting/url'\n",
      "req = requests.get(url)\n",
      "print req.cookies             #we can get value of any cookie by its name\n",
      "# print \"Cookies: \",r.cookies[cookie_name]"
     ],
     "language": "python",
     "metadata": {},
     "outputs": [
      {
       "output_type": "stream",
       "stream": "stdout",
       "text": [
        "<<class 'requests.cookies.RequestsCookieJar'>[]>\n"
       ]
      }
     ],
     "prompt_number": 49
    },
    {
     "cell_type": "heading",
     "level": 4,
     "metadata": {},
     "source": [
      "Text"
     ]
    },
    {
     "cell_type": "code",
     "collapsed": false,
     "input": [
      "print \"Text: \\n\",r.text"
     ],
     "language": "python",
     "metadata": {},
     "outputs": [
      {
       "output_type": "stream",
       "stream": "stdout",
       "text": [
        "Text: \n",
        "[{\"id\":\"2902684038\",\"type\":\"IssueCommentEvent\",\"actor\":{\"id\":5384588,\"login\":\"googlebot\",\"gravatar_id\":\"\",\"url\":\"https://api.github.com/users/googlebot\",\"avatar_url\":\"https://avatars.githubusercontent.com/u/5384588?\"},\"repo\":{\"id\":9383591,\"name\":\"karma-runner/karma-closure\",\"url\":\"https://api.github.com/repos/karma-runner/karma-closure\"},\"payload\":{\"action\":\"created\",\"issue\":{\"url\":\"https://api.github.com/repos/karma-runner/karma-closure/issues/22\",\"labels_url\":\"https://api.github.com/repos/karma-runner/karma-closure/issues/22/labels{/name}\",\"comments_url\":\"https://api.github.com/repos/karma-runner/karma-closure/issues/22/comments\",\"events_url\":\"https://api.github.com/repos/karma-runner/karma-closure/issues/22/events\",\"html_url\":\"https://github.com/karma-runner/karma-closure/pull/22\",\"id\":89235660,\"number\":22,\"title\":\"rm spec issues re Object.create(null) & __proto__\",\"user\":{\"login\":\"marsmining\",\"id\":1126322,\"avatar_url\":\"https://avatars.githubusercontent.com/u/1126322?v=3\",\"gravatar_id\":\"\",\"url\":\"https://api.github.com/users/marsmining\",\"html_url\":\"https://github.com/marsmining\",\"followers_url\":\"https://api.github.com/users/marsmining/followers\",\"following_url\":\"https://api.github.com/users/marsmining/following{/other_user}\",\"gists_url\":\"https://api.github.com/users/marsmining/gists{/gist_id}\",\"starred_url\":\"https://api.github.com/users/marsmining/starred{/owner}{/repo}\",\"subscriptions_url\":\"https://api.github.com/users/marsmining/subscriptions\",\"organizations_url\":\"https://api.github.com/users/marsmining/orgs\",\"repos_url\":\"https://api.github.com/users/marsmining/repos\",\"events_url\":\"https://api.github.com/users/marsmining/events{/privacy}\",\"received_events_url\":\"https://api.github.com/users/marsmining/received_events\",\"type\":\"User\",\"site_admin\":false},\"labels\":[],\"state\":\"open\",\"locked\":false,\"assignee\":null,\"milestone\":null,\"comments\":2,\"created_at\":\"2015-06-18T08:45:13Z\",\"updated_at\":\"2015-06-18T08:46:52Z\",\"closed_at\":null,\"pull_request\":{\"url\":\"https://api.github.com/repos/karma-runner/karma-closure/pulls/22\",\"html_url\":\"https://github.com/karma-runner/karma-closure/pull/22\",\"diff_url\":\"https://github.com/karma-runner/karma-closure/pull/22.diff\",\"patch_url\":\"https://github.com/karma-runner/karma-closure/pull/22.patch\"},\"body\":\"rm spec issues re Object.create(null) & __proto__\\r\\n\\r\\nthe previous code used the idiom of `Object.create(null)` to use an object like a hash or cache, and leveraged the prototype chain as a type of cache miss failover. there is some js spec weirdness and changes around node 0.12 surrounding the existence of `__proto__` when using `Object.create(null)`.\\r\\n\\r\\nto eliminate this confusion i've added a function to replace the above so that the semantics are clear and consistent and we aren't using the non-standard `__proto__`.\\r\\n\\r\\nalso update npm dev deps to latest versions and added a missing jshintrc.\"},\"comment\":{\"url\":\"https://api.github.com/repos/karma-runner/karma-closure/issues/comments/113079021\",\"html_url\":\"https://github.com/karma-runner/karma-closure/pull/22#issuecomment-113079021\",\"issue_url\":\"https://api.github.com/repos/karma-runner/karma-closure/issues/22\",\"id\":113079021,\"user\":{\"login\":\"googlebot\",\"id\":5384588,\"avatar_url\":\"https://avatars.githubusercontent.com/u/5384588?v=3\",\"gravatar_id\":\"\",\"url\":\"https://api.github.com/users/googlebot\",\"html_url\":\"https://github.com/googlebot\",\"followers_url\":\"https://api.github.com/users/googlebot/followers\",\"following_url\":\"https://api.github.com/users/googlebot/following{/other_user}\",\"gists_url\":\"https://api.github.com/users/googlebot/gists{/gist_id}\",\"starred_url\":\"https://api.github.com/users/googlebot/starred{/owner}{/repo}\",\"subscriptions_url\":\"https://api.github.com/users/googlebot/subscriptions\",\"organizations_url\":\"https://api.github.com/users/googlebot/orgs\",\"repos_url\":\"https://api.github.com/users/googlebot/repos\",\"events_url\":\"https://api.github.com/users/googlebot/events{/privacy}\",\"received_events_url\":\"https://api.github.com/users/googlebot/received_events\",\"type\":\"User\",\"site_admin\":false},\"created_at\":\"2015-06-18T08:46:52Z\",\"updated_at\":\"2015-06-18T08:46:52Z\",\"body\":\"CLAs look good, thanks!\\n\\n<!-- ok -->\"}},\"public\":true,\"created_at\":\"2015-06-18T08:46:52Z\",\"org\":{\"id\":3284117,\"login\":\"karma-runner\",\"gravatar_id\":\"\",\"url\":\"https://api.github.com/orgs/karma-runner\",\"avatar_url\":\"https://avatars.githubusercontent.com/u/3284117?\"}},{\"id\":\"2902684032\",\"type\":\"IssueCommentEvent\",\"actor\":{\"id\":637264,\"login\":\"dichika\",\"gravatar_id\":\"\",\"url\":\"https://api.github.com/users/dichika\",\"avatar_url\":\"https://avatars.githubusercontent.com/u/637264?\"},\"repo\":{\"id\":35359451,\"name\":\"dichika/memo\",\"url\":\"https://api.github.com/repos/dichika/memo\"},\"payload\":{\"action\":\"created\",\"issue\":{\"url\":\"https://api.github.com/repos/dichika/memo/issues/2\",\"labels_url\":\"https://api.github.com/repos/dichika/memo/issues/2/labels{/name}\",\"comments_url\":\"https://api.github.com/repos/dichika/memo/issues/2/comments\",\"events_url\":\"https://api.github.com/repos/dichika/memo/issues/2/events\",\"html_url\":\"https://github.com/dichika/memo/issues/2\",\"id\":75029147,\"number\":2,\"title\":\"kdd\",\"user\":{\"login\":\"dichika\",\"id\":637264,\"avatar_url\":\"https://avatars.githubusercontent.com/u/637264?v=3\",\"gravatar_id\":\"\",\"url\":\"https://api.github.com/users/dichika\",\"html_url\":\"https://github.com/dichika\",\"followers_url\":\"https://api.github.com/users/dichika/followers\",\"following_url\":\"https://api.github.com/users/dichika/following{/other_user}\",\"gists_url\":\"https://api.github.com/users/dichika/gists{/gist_id}\",\"starred_url\":\"https://api.github.com/users/dichika/starred{/owner}{/repo}\",\"subscriptions_url\":\"https://api.github.com/users/dichika/subscriptions\",\"organizations_url\":\"https://api.github.com/users/dichika/orgs\",\"repos_url\":\"https://api.github.com/users/dichika/repos\",\"events_url\":\"https://api.github.com/users/dichika/events{/privacy}\",\"received_events_url\":\"https://api.github.com/users/dichika/received_events\",\"type\":\"User\",\"site_admin\":false},\"labels\":[],\"state\":\"open\",\"locked\":false,\"assignee\":null,\"milestone\":null,\"comments\":34,\"created_at\":\"2015-05-10T23:53:26Z\",\"updated_at\":\"2015-06-18T08:46:52Z\",\"closed_at\":null,\"body\":\"0.841504:old\\r\\n0.8428461\\r\\n0.851 rm filter\\r\\n0.8529791 source\\r\\n0.8519965 source count\\r\\n0.8630154 start yearmonth\\r\\n0.8688813 start date\\r\\n0.8693542 interval\\r\\n0.87072 unique obj\\r\\n0.8727769 browser_flag\\r\\n0.8726645 obj_category\\r\\n0.8726432 wday\\r\\n0.8725883 year\\r\\n0.8732568 first last\\r\\n0.8739745 session\\r\\n0.873695 -keep_median, -keep_mean\\r\\n0.8738611 session\\r\\n0.87535 bug fix\\r\\n0.8749137 bug fix\\r\\n0.8738832 -year\\r\\n0.8749045 day>1 -browser, -server\\r\\n0.874532 -day>1 -browser, -server\\r\\n0.8742906 day>=1 -browser, -server\\r\\n0.8743647 -first\\r\\n0.8741762 day>2\\r\\n0.8744576 add session_first_last\\r\\n0.8741655 scaled_session_first_last\\r\\n0.874472 object top20\\r\\n0.8747894 last action\\r\\n0.8750612 -all -browser\\r\\n0.8750528\u3000-browser_page_close,-all_0, -browser, -server, -all, -all_lastday\\r\\n0.8752374\u3000categoryprop\"},\"comment\":{\"url\":\"https://api.github.com/repos/dichika/memo/issues/comments/113079020\",\"html_url\":\"https://github.com/dichika/memo/issues/2#issuecomment-113079020\",\"issue_url\":\"https://api.github.com/repos/dichika/memo/issues/2\",\"id\":113079020,\"user\":{\"login\":\"dichika\",\"id\":637264,\"avatar_url\":\"https://avatars.githubusercontent.com/u/637264?v=3\",\"gravatar_id\":\"\",\"url\":\"https://api.github.com/users/dichika\",\"html_url\":\"https://github.com/dichika\",\"followers_url\":\"https://api.github.com/users/dichika/followers\",\"following_url\":\"https://api.github.com/users/dichika/following{/other_user}\",\"gists_url\":\"https://api.github.com/users/dichika/gists{/gist_id}\",\"starred_url\":\"https://api.github.com/users/dichika/starred{/owner}{/repo}\",\"subscriptions_url\":\"https://api.github.com/users/dichika/subscriptions\",\"organizations_url\":\"https://api.github.com/users/dichika/orgs\",\"repos_url\":\"https://api.github.com/users/dichika/repos\",\"events_url\":\"https://api.github.com/users/dichika/events{/privacy}\",\"received_events_url\":\"https://api.github.com/users/dichika/received_events\",\"type\":\"User\",\"site_admin\":false},\"created_at\":\"2015-06-18T08:46:52Z\",\"updated_at\":\"2015-06-18T08:46:52Z\",\"body\":\"Bayesian Opt\u306f\u4f7f\u308f\u306a\u3044\u3068\u601d\u3046\u3051\u3069\u3053\u306e\u8cc7\u6599\u304c\u308f\u304b\u308a\u3084\u3059\u304b\u3063\u305f\\r\\nhttps://tech.d-itlab.co.jp/kuto/2013/07/26/%E8%AB%96%E6%96%87%E7%B4%B9%E4%BB%8Bpractical-bayesian-optimization-of-machine-learning-algorithmsnips2012/\"}},\"public\":true,\"created_at\":\"2015-06-18T08:46:52Z\"},{\"id\":\"2902684030\",\"type\":\"DeleteEvent\",\"actor\":{\"id\":211514,\"login\":\"ahocevar\",\"gravatar_id\":\"\",\"url\":\"https://api.github.com/users/ahocevar\",\"avatar_url\":\"https://avatars.githubusercontent.com/u/211514?\"},\"repo\":{\"id\":4974939,\"name\":\"ahocevar/ol3\",\"url\":\"https://api.github.com/repos/ahocevar/ol3\"},\"payload\":{\"ref\":\"tilevector-extent\",\"ref_type\":\"branch\",\"pusher_type\":\"user\"},\"public\":true,\"created_at\":\"2015-06-18T08:46:52Z\"},{\"id\":\"2902684025\",\"type\":\"CreateEvent\",\"actor\":{\"id\":9448429,\"login\":\"youmengxuefei\",\"gravatar_id\":\"\",\"url\":\"https://api.github.com/users/youmengxuefei\",\"avatar_url\":\"https://avatars.githubusercontent.com/u/9448429?\"},\"repo\":{\"id\":37648250,\"name\":\"youmengxuefei/gitlearn\",\"url\":\"https://api.github.com/repos/youmengxuefei/gitlearn\"},\"payload\":{\"ref\":\"master\",\"ref_type\":\"branch\",\"master_branch\":\"master\",\"description\":\"learn git\",\"pusher_type\":\"user\"},\"public\":true,\"created_at\":\"2015-06-18T08:46:52Z\"},{\"id\":\"2902684023\",\"type\":\"PushEvent\",\"actor\":{\"id\":904685,\"login\":\"setrofim\",\"gravatar_id\":\"\",\"url\":\"https://api.github.com/users/setrofim\",\"avatar_url\":\"https://avatars.githubusercontent.com/u/904685?\"},\"repo\":{\"id\":31957801,\"name\":\"ARM-software/workload-automation\",\"url\":\"https://api.github.com/repos/ARM-software/workload-automation\"},\"payload\":{\"push_id\":699186600,\"size\":3,\"distinct_size\":3,\"ref\":\"refs/heads/master\",\"head\":\"d9f45db71e51d18e9577a69f357ccc7143396e62\",\"before\":\"a71756acda3ef29d05f41d7658cc4272022b0415\",\"commits\":[{\"sha\":\"55b38556feabc2205e0a7c304abd60b7aa36bc25\",\"author\":{\"email\":\"sergei.trofimov@arm.com\",\"name\":\"Sergei Trofimov\"},\"message\":\"cpufreq: splitting out cpufreq stuff into a device module\",\"distinct\":true,\"url\":\"https://api.github.com/repos/ARM-software/workload-automation/commits/55b38556feabc2205e0a7c304abd60b7aa36bc25\"},{\"sha\":\"73d85c2b4ef50c552c1b3ebc87bea6e6b10b71bf\",\"author\":{\"email\":\"sergei.trofimov@arm.com\",\"name\":\"Sergei Trofimov\"},\"message\":\"cleaning up initialize()\\n\\n- standardisded on a single context argument\\n- removed Device.init() no longer necessary as initilize now\\n  automatically gets propagated up the hierarchy. Renamed the existing\\n  use of it to \\\"initilize\\\".\\n- related pylint cleanup.\",\"distinct\":true,\"url\":\"https://api.github.com/repos/ARM-software/workload-automation/commits/73d85c2b4ef50c552c1b3ebc87bea6e6b10b71bf\"},{\"sha\":\"d9f45db71e51d18e9577a69f357ccc7143396e62\",\"author\":{\"email\":\"sergei.trofimov@arm.com\",\"name\":\"Sergei Trofimov\"},\"message\":\"Implementing dynamic device modules\\n\\nDynamic modules may be loaded automatically on device initialization if\\nthe device supports them. Dynamic modules implent probe() method to\\ndetermine whether they are supported by a particular deviced.\\n\\ndevcpufreq and cpuidle have been converted into dynamic modules\",\"distinct\":true,\"url\":\"https://api.github.com/repos/ARM-software/workload-automation/commits/d9f45db71e51d18e9577a69f357ccc7143396e62\"}]},\"public\":true,\"created_at\":\"2015-06-18T08:46:52Z\",\"org\":{\"id\":5690313,\"login\":\"ARM-software\",\"gravatar_id\":\"\",\"url\":\"https://api.github.com/orgs/ARM-software\",\"avatar_url\":\"https://avatars.githubusercontent.com/u/5690313?\"}},{\"id\":\"2902684020\",\"type\":\"CreateEvent\",\"actor\":{\"id\":9448429,\"login\":\"youmengxuefei\",\"gravatar_id\":\"\",\"url\":\"https://api.github.com/users/youmengxuefei\",\"avatar_url\":\"https://avatars.githubusercontent.com/u/9448429?\"},\"repo\":{\"id\":37648250,\"name\":\"youmengxuefei/gitlearn\",\"url\":\"https://api.github.com/repos/youmengxuefei/gitlearn\"},\"payload\":{\"ref\":null,\"ref_type\":\"repository\",\"master_branch\":\"master\",\"description\":\"learn git\",\"pusher_type\":\"user\"},\"public\":true,\"created_at\":\"2015-06-18T08:46:52Z\"},{\"id\":\"2902684018\",\"type\":\"PushEvent\",\"actor\":{\"id\":8818941,\"login\":\"5hut0\",\"gravatar_id\":\"\",\"url\":\"https://api.github.com/users/5hut0\",\"avatar_url\":\"https://avatars.githubusercontent.com/u/8818941?\"},\"repo\":{\"id\":33584997,\"name\":\"5hut0/dotfiles\",\"url\":\"https://api.github.com/repos/5hut0/dotfiles\"},\"payload\":{\"push_id\":699186599,\"size\":2,\"distinct_size\":2,\"ref\":\"refs/heads/master\",\"head\":\"02f82d38334782be27614a733c3536ac9e2f46bd\",\"before\":\"3864de6c5f7acd3e45eb65433f706be9d66f9c0e\",\"commits\":[{\"sha\":\"045916419ff2cadd707a1466309a89fc247aab80\",\"author\":{\"email\":\"shuto@Shuto-MBP13.local\",\"name\":\"5hut0\"},\"message\":\"update\",\"distinct\":true,\"url\":\"https://api.github.com/repos/5hut0/dotfiles/commits/045916419ff2cadd707a1466309a89fc247aab80\"},{\"sha\":\"02f82d38334782be27614a733c3536ac9e2f46bd\",\"author\":{\"email\":\"shuto@Shuto-MBP13.local\",\"name\":\"5hut0\"},\"message\":\"update\",\"distinct\":true,\"url\":\"https://api.github.com/repos/5hut0/dotfiles/commits/02f82d38334782be27614a733c3536ac9e2f46bd\"}]},\"public\":true,\"created_at\":\"2015-06-18T08:46:52Z\"},{\"id\":\"2902684017\",\"type\":\"PushEvent\",\"actor\":{\"id\":26023,\"login\":\"masarakki\",\"gravatar_id\":\"\",\"url\":\"https://api.github.com/users/masarakki\",\"avatar_url\":\"https://avatars.githubusercontent.com/u/26023?\"},\"repo\":{\"id\":10702494,\"name\":\"masarakki/life_plan\",\"url\":\"https://api.github.com/repos/masarakki/life_plan\"},\"payload\":{\"push_id\":699186596,\"size\":4,\"distinct_size\":4,\"ref\":\"refs/heads/master\",\"head\":\"e9007bf6264aa6f629a71f615d2e76d1e32502da\",\"before\":\"ff74590c48f0684e0db4939ddfb8652882721fe6\",\"commits\":[{\"sha\":\"645ebf03d69ee9c8bab15ea02873875a757376db\",\"author\":{\"email\":\"masaki@hisme.net\",\"name\":\"masarakki\"},\"message\":\"add spec\",\"distinct\":true,\"url\":\"https://api.github.com/repos/masarakki/life_plan/commits/645ebf03d69ee9c8bab15ea02873875a757376db\"},{\"sha\":\"86a24a962b8ae5cd005c5bddd8e80f28c91e4b3d\",\"author\":{\"email\":\"masaki@hisme.net\",\"name\":\"masarakki\"},\"message\":\"use ruby-2.2.2\",\"distinct\":true,\"url\":\"https://api.github.com/repos/masarakki/life_plan/commits/86a24a962b8ae5cd005c5bddd8e80f28c91e4b3d\"},{\"sha\":\"2baf199d7233558063b8d5bc073e2f45bc9b283c\",\"author\":{\"email\":\"masaki@hisme.net\",\"name\":\"masarakki\"},\"message\":\"Merge pull request #120 from masarakki/add-spec\\n\\nadd spec\",\"distinct\":true,\"url\":\"https://api.github.com/repos/masarakki/life_plan/commits/2baf199d7233558063b8d5bc073e2f45bc9b283c\"},{\"sha\":\"e9007bf6264aa6f629a71f615d2e76d1e32502da\",\"author\":{\"email\":\"masaki@hisme.net\",\"name\":\"masarakki\"},\"message\":\"Merge pull request #121 from masarakki/use-2.2.2\\n\\nuse ruby-2.2.2\",\"distinct\":true,\"url\":\"https://api.github.com/repos/masarakki/life_plan/commits/e9007bf6264aa6f629a71f615d2e76d1e32502da\"}]},\"public\":true,\"created_at\":\"2015-06-18T08:46:52Z\"},{\"id\":\"2902684012\",\"type\":\"PushEvent\",\"actor\":{\"id\":9109658,\"login\":\"Phyxel\",\"gravatar_id\":\"\",\"url\":\"https://api.github.com/users/Phyxel\",\"avatar_url\":\"https://avatars.githubusercontent.com/u/9109658?\"},\"repo\":{\"id\":36065884,\"name\":\"kweeniemike/GPT4DeadPixels\",\"url\":\"https://api.github.com/repos/kweeniemike/GPT4DeadPixels\"},\"payload\":{\"push_id\":699186595,\"size\":1,\"distinct_size\":1,\"ref\":\"refs/heads/master\",\"head\":\"db7df31350b0cc85db9d0fb2c5caccbd630496f7\",\"before\":\"abddedba0b8b5025ba2b55f5c559c375c4298f47\",\"commits\":[{\"sha\":\"db7df31350b0cc85db9d0fb2c5caccbd630496f7\",\"author\":{\"email\":\"cypher@live.nl\",\"name\":\"Phyxel\"},\"message\":\"FPSController Oculus Changes\",\"distinct\":true,\"url\":\"https://api.github.com/repos/kweeniemike/GPT4DeadPixels/commits/db7df31350b0cc85db9d0fb2c5caccbd630496f7\"}]},\"public\":true,\"created_at\":\"2015-06-18T08:46:52Z\"},{\"id\":\"2902684010\",\"type\":\"PushEvent\",\"actor\":{\"id\":11881934,\"login\":\"leeloveying\",\"gravatar_id\":\"\",\"url\":\"https://api.github.com/users/leeloveying\",\"avatar_url\":\"https://avatars.githubusercontent.com/u/11881934?\"},\"repo\":{\"id\":36905777,\"name\":\"leeloveying/selenium_test\",\"url\":\"https://api.github.com/repos/leeloveying/selenium_test\"},\"payload\":{\"push_id\":699186594,\"size\":1,\"distinct_size\":1,\"ref\":\"refs/heads/master\",\"head\":\"07045ff5946c4a238c46969642be0be775923e77\",\"before\":\"a89dddca074f948955219f41c270d4dbbce527fb\",\"commits\":[{\"sha\":\"07045ff5946c4a238c46969642be0be775923e77\",\"author\":{\"email\":\"535643117@qq.com\",\"name\":\"leeloveying\"},\"message\":\"\u4ee3\u7801\u66f4\u65b0\u63d0\u4ea4\",\"distinct\":true,\"url\":\"https://api.github.com/repos/leeloveying/selenium_test/commits/07045ff5946c4a238c46969642be0be775923e77\"}]},\"public\":true,\"created_at\":\"2015-06-18T08:46:52Z\"},{\"id\":\"2902684003\",\"type\":\"IssuesEvent\",\"actor\":{\"id\":400558,\"login\":\"ypresto\",\"gravatar_id\":\"\",\"url\":\"https://api.github.com/users/ypresto\",\"avatar_url\":\"https://avatars.githubusercontent.com/u/400558?\"},\"repo\":{\"id\":13421516,\"name\":\"Comcast/FreeFlow\",\"url\":\"https://api.github.com/repos/Comcast/FreeFlow\"},\"payload\":{\"action\":\"opened\",\"issue\":{\"url\":\"https://api.github.com/repos/Comcast/FreeFlow/issues/85\",\"labels_url\":\"https://api.github.com/repos/Comcast/FreeFlow/issues/85/labels{/name}\",\"comments_url\":\"https://api.github.com/repos/Comcast/FreeFlow/issues/85/comments\",\"events_url\":\"https://api.github.com/repos/Comcast/FreeFlow/issues/85/events\",\"html_url\":\"https://github.com/Comcast/FreeFlow/issues/85\",\"id\":89235934,\"number\":85,\"title\":\"Invalid index is passed to adapter when notifyDataSetChanged() while scrolling\",\"user\":{\"login\":\"ypresto\",\"id\":400558,\"avatar_url\":\"https://avatars.githubusercontent.com/u/400558?v=3\",\"gravatar_id\":\"\",\"url\":\"https://api.github.com/users/ypresto\",\"html_url\":\"https://github.com/ypresto\",\"followers_url\":\"https://api.github.com/users/ypresto/followers\",\"following_url\":\"https://api.github.com/users/ypresto/following{/other_user}\",\"gists_url\":\"https://api.github.com/users/ypresto/gists{/gist_id}\",\"starred_url\":\"https://api.github.com/users/ypresto/starred{/owner}{/repo}\",\"subscriptions_url\":\"https://api.github.com/users/ypresto/subscriptions\",\"organizations_url\":\"https://api.github.com/users/ypresto/orgs\",\"repos_url\":\"https://api.github.com/users/ypresto/repos\",\"events_url\":\"https://api.github.com/users/ypresto/events{/privacy}\",\"received_events_url\":\"https://api.github.com/users/ypresto/received_events\",\"type\":\"User\",\"site_admin\":false},\"labels\":[],\"state\":\"open\",\"locked\":false,\"assignee\":null,\"milestone\":null,\"comments\":0,\"created_at\":\"2015-06-18T08:46:52Z\",\"updated_at\":\"2015-06-18T08:46:52Z\",\"closed_at\":null,\"body\":\"`FreeFlowContainer#notifyDataSetChanged()` calls requestLayout() and redraw with backed adapter (computeLayout() and mLayout.prepareLayout()) in onMeasure().\\r\\n\\r\\n- https://github.com/Comcast/FreeFlow/blob/96ebb0cc959ba0bfe5d8a8118aa9345550ff58c9/FreeFlow/src/com/comcast/freeflow/core/FreeFlowContainer.java#L276\\r\\n- https://github.com/Comcast/FreeFlow/blob/96ebb0cc959ba0bfe5d8a8118aa9345550ff58c9/FreeFlow/src/com/comcast/freeflow/core/FreeFlowContainer.java#L255\\r\\n\\r\\nBut when requestLayout() is called while scrolling, onTouchEvent() is called before onMeasure() and it causes crash by IndexOutOfBoundsException in adapter implementation.\\r\\n\\r\\nNote that ListView effectively avoids this problem by call layoutChildren() before applying scroll to view.\\r\\n\\r\\n1. Set mDataChanged = true in notifyDataSetChanged().\\r\\n   https://github.com/android/platform_frameworks_base/blob/android-5.1.1_r4/core/java/android/widget/AdapterView.java#L809\\r\\n2. Check mDataChanged and call layoutChildren() inTouchMove().\\r\\n   https://github.com/android/platform_frameworks_base/blob/android-5.1.1_r4/core/java/android/widget/AbsListView.java#L3763\\r\\n3. Then redraw views with new data from mAdapter.\\r\\n   https://github.com/android/platform_frameworks_base/blob/android-5.1.1_r4/core/java/android/widget/ListView.java#L1561\"}},\"public\":true,\"created_at\":\"2015-06-18T08:46:52Z\",\"org\":{\"id\":709212,\"login\":\"Comcast\",\"gravatar_id\":\"\",\"url\":\"https://api.github.com/orgs/Comcast\",\"avatar_url\":\"https://avatars.githubusercontent.com/u/709212?\"}},{\"id\":\"2902684001\",\"type\":\"PushEvent\",\"actor\":{\"id\":37550,\"login\":\"jasiek\",\"gravatar_id\":\"\",\"url\":\"https://api.github.com/users/jasiek\",\"avatar_url\":\"https://avatars.githubusercontent.com/u/37550?\"},\"repo\":{\"id\":36958289,\"name\":\"jasiek/sop8breakout\",\"url\":\"https://api.github.com/repos/jasiek/sop8breakout\"},\"payload\":{\"push_id\":699186593,\"size\":1,\"distinct_size\":1,\"ref\":\"refs/heads/master\",\"head\":\"c7b7a3a78ed0fb45c8dd56f6ba5fb27df050de2e\",\"before\":\"a584b94637834be259224dedf4a86598db24f84c\",\"commits\":[{\"sha\":\"c7b7a3a78ed0fb45c8dd56f6ba5fb27df050de2e\",\"author\":{\"email\":\"jan.szumiec@gmail.com\",\"name\":\"Jan Szumiec\"},\"message\":\"Updated production output files.\",\"distinct\":true,\"url\":\"https://api.github.com/repos/jasiek/sop8breakout/commits/c7b7a3a78ed0fb45c8dd56f6ba5fb27df050de2e\"}]},\"public\":true,\"created_at\":\"2015-06-18T08:46:52Z\"},{\"id\":\"2902683999\",\"type\":\"PullRequestEvent\",\"actor\":{\"id\":4395010,\"login\":\"Prommah\",\"gravatar_id\":\"\",\"url\":\"https://api.github.com/users/Prommah\",\"avatar_url\":\"https://avatars.githubusercontent.com/u/4395010?\"},\"repo\":{\"id\":37323085,\"name\":\"wchill/steamSummerMinigame\",\"url\":\"https://api.github.com/repos/wchill/steamSummerMinigame\"},\"payload\":{\"action\":\"opened\",\"number\":278,\"pull_request\":{\"url\":\"https://api.github.com/repos/wchill/steamSummerMinigame/pulls/278\",\"id\":37983581,\"html_url\":\"https://github.com/wchill/steamSummerMinigame/pull/278\",\"diff_url\":\"https://github.com/wchill/steamSummerMinigame/pull/278.diff\",\"patch_url\":\"https://github.com/wchill/steamSummerMinigame/pull/278.patch\",\"issue_url\":\"https://api.github.com/repos/wchill/steamSummerMinigame/issues/278\",\"number\":278,\"state\":\"open\",\"locked\":false,\"title\":\"Clean up the footprint of multibuy a little bit\",\"user\":{\"login\":\"Prommah\",\"id\":4395010,\"avatar_url\":\"https://avatars.githubusercontent.com/u/4395010?v=3\",\"gravatar_id\":\"\",\"url\":\"https://api.github.com/users/Prommah\",\"html_url\":\"https://github.com/Prommah\",\"followers_url\":\"https://api.github.com/users/Prommah/followers\",\"following_url\":\"https://api.github.com/users/Prommah/following{/other_user}\",\"gists_url\":\"https://api.github.com/users/Prommah/gists{/gist_id}\",\"starred_url\":\"https://api.github.com/users/Prommah/starred{/owner}{/repo}\",\"subscriptions_url\":\"https://api.github.com/users/Prommah/subscriptions\",\"organizations_url\":\"https://api.github.com/users/Prommah/orgs\",\"repos_url\":\"https://api.github.com/users/Prommah/repos\",\"events_url\":\"https://api.github.com/users/Prommah/events{/privacy}\",\"received_events_url\":\"https://api.github.com/users/Prommah/received_events\",\"type\":\"User\",\"site_admin\":false},\"body\":\"There's no need to add the old TrySpendBadgePoints function back onto the scene object to be able to access 'this', you just have to call it differently. This way seems cleaner.\",\"created_at\":\"2015-06-18T08:46:52Z\",\"updated_at\":\"2015-06-18T08:46:52Z\",\"closed_at\":null,\"merged_at\":null,\"merge_commit_sha\":null,\"assignee\":null,\"milestone\":null,\"commits_url\":\"https://api.github.com/repos/wchill/steamSummerMinigame/pulls/278/commits\",\"review_comments_url\":\"https://api.github.com/repos/wchill/steamSummerMinigame/pulls/278/comments\",\"review_comment_url\":\"https://api.github.com/repos/wchill/steamSummerMinigame/pulls/comments{/number}\",\"comments_url\":\"https://api.github.com/repos/wchill/steamSummerMinigame/issues/278/comments\",\"statuses_url\":\"https://api.github.com/repos/wchill/steamSummerMinigame/statuses/5483ecf68bb7b1a920c673cfa7f3bf7dd877c4c3\",\"head\":{\"label\":\"Prommah:patch-1\",\"ref\":\"patch-1\",\"sha\":\"5483ecf68bb7b1a920c673cfa7f3bf7dd877c4c3\",\"user\":{\"login\":\"Prommah\",\"id\":4395010,\"avatar_url\":\"https://avatars.githubusercontent.com/u/4395010?v=3\",\"gravatar_id\":\"\",\"url\":\"https://api.github.com/users/Prommah\",\"html_url\":\"https://github.com/Prommah\",\"followers_url\":\"https://api.github.com/users/Prommah/followers\",\"following_url\":\"https://api.github.com/users/Prommah/following{/other_user}\",\"gists_url\":\"https://api.github.com/users/Prommah/gists{/gist_id}\",\"starred_url\":\"https://api.github.com/users/Prommah/starred{/owner}{/repo}\",\"subscriptions_url\":\"https://api.github.com/users/Prommah/subscriptions\",\"organizations_url\":\"https://api.github.com/users/Prommah/orgs\",\"repos_url\":\"https://api.github.com/users/Prommah/repos\",\"events_url\":\"https://api.github.com/users/Prommah/events{/privacy}\",\"received_events_url\":\"https://api.github.com/users/Prommah/received_events\",\"type\":\"User\",\"site_admin\":false},\"repo\":{\"id\":37648147,\"name\":\"steamSummerMinigame\",\"full_name\":\"Prommah/steamSummerMinigame\",\"owner\":{\"login\":\"Prommah\",\"id\":4395010,\"avatar_url\":\"https://avatars.githubusercontent.com/u/4395010?v=3\",\"gravatar_id\":\"\",\"url\":\"https://api.github.com/users/Prommah\",\"html_url\":\"https://github.com/Prommah\",\"followers_url\":\"https://api.github.com/users/Prommah/followers\",\"following_url\":\"https://api.github.com/users/Prommah/following{/other_user}\",\"gists_url\":\"https://api.github.com/users/Prommah/gists{/gist_id}\",\"starred_url\":\"https://api.github.com/users/Prommah/starred{/owner}{/repo}\",\"subscriptions_url\":\"https://api.github.com/users/Prommah/subscriptions\",\"organizations_url\":\"https://api.github.com/users/Prommah/orgs\",\"repos_url\":\"https://api.github.com/users/Prommah/repos\",\"events_url\":\"https://api.github.com/users/Prommah/events{/privacy}\",\"received_events_url\":\"https://api.github.com/users/Prommah/received_events\",\"type\":\"User\",\"site_admin\":false},\"private\":false,\"html_url\":\"https://github.com/Prommah/steamSummerMinigame\",\"description\":\"Steam Summer Sale 2015 - Auto-play Optimizer\",\"fork\":true,\"url\":\"https://api.github.com/repos/Prommah/steamSummerMinigame\",\"forks_url\":\"https://api.github.com/repos/Prommah/steamSummerMinigame/forks\",\"keys_url\":\"https://api.github.com/repos/Prommah/steamSummerMinigame/keys{/key_id}\",\"collaborators_url\":\"https://api.github.com/repos/Prommah/steamSummerMinigame/collaborators{/collaborator}\",\"teams_url\":\"https://api.github.com/repos/Prommah/steamSummerMinigame/teams\",\"hooks_url\":\"https://api.github.com/repos/Prommah/steamSummerMinigame/hooks\",\"issue_events_url\":\"https://api.github.com/repos/Prommah/steamSummerMinigame/issues/events{/number}\",\"events_url\":\"https://api.github.com/repos/Prommah/steamSummerMinigame/events\",\"assignees_url\":\"https://api.github.com/repos/Prommah/steamSummerMinigame/assignees{/user}\",\"branches_url\":\"https://api.github.com/repos/Prommah/steamSummerMinigame/branches{/branch}\",\"tags_url\":\"https://api.github.com/repos/Prommah/steamSummerMinigame/tags\",\"blobs_url\":\"https://api.github.com/repos/Prommah/steamSummerMinigame/git/blobs{/sha}\",\"git_tags_url\":\"https://api.github.com/repos/Prommah/steamSummerMinigame/git/tags{/sha}\",\"git_refs_url\":\"https://api.github.com/repos/Prommah/steamSummerMinigame/git/refs{/sha}\",\"trees_url\":\"https://api.github.com/repos/Prommah/steamSummerMinigame/git/trees{/sha}\",\"statuses_url\":\"https://api.github.com/repos/Prommah/steamSummerMinigame/statuses/{sha}\",\"languages_url\":\"https://api.github.com/repos/Prommah/steamSummerMinigame/languages\",\"stargazers_url\":\"https://api.github.com/repos/Prommah/steamSummerMinigame/stargazers\",\"contributors_url\":\"https://api.github.com/repos/Prommah/steamSummerMinigame/contributors\",\"subscribers_url\":\"https://api.github.com/repos/Prommah/steamSummerMinigame/subscribers\",\"subscription_url\":\"https://api.github.com/repos/Prommah/steamSummerMinigame/subscription\",\"commits_url\":\"https://api.github.com/repos/Prommah/steamSummerMinigame/commits{/sha}\",\"git_commits_url\":\"https://api.github.com/repos/Prommah/steamSummerMinigame/git/commits{/sha}\",\"comments_url\":\"https://api.github.com/repos/Prommah/steamSummerMinigame/comments{/number}\",\"issue_comment_url\":\"https://api.github.com/repos/Prommah/steamSummerMinigame/issues/comments{/number}\",\"contents_url\":\"https://api.github.com/repos/Prommah/steamSummerMinigame/contents/{+path}\",\"compare_url\":\"https://api.github.com/repos/Prommah/steamSummerMinigame/compare/{base}...{head}\",\"merges_url\":\"https://api.github.com/repos/Prommah/steamSummerMinigame/merges\",\"archive_url\":\"https://api.github.com/repos/Prommah/steamSummerMinigame/{archive_format}{/ref}\",\"downloads_url\":\"https://api.github.com/repos/Prommah/steamSummerMinigame/downloads\",\"issues_url\":\"https://api.github.com/repos/Prommah/steamSummerMinigame/issues{/number}\",\"pulls_url\":\"https://api.github.com/repos/Prommah/steamSummerMinigame/pulls{/number}\",\"milestones_url\":\"https://api.github.com/repos/Prommah/steamSummerMinigame/milestones{/number}\",\"notifications_url\":\"https://api.github.com/repos/Prommah/steamSummerMinigame/notifications{?since,all,participating}\",\"labels_url\":\"https://api.github.com/repos/Prommah/steamSummerMinigame/labels{/name}\",\"releases_url\":\"https://api.github.com/repos/Prommah/steamSummerMinigame/releases{/id}\",\"created_at\":\"2015-06-18T08:44:43Z\",\"updated_at\":\"2015-06-18T08:44:43Z\",\"pushed_at\":\"2015-06-18T08:45:06Z\",\"git_url\":\"git://github.com/Prommah/steamSummerMinigame.git\",\"ssh_url\":\"git@github.com:Prommah/steamSummerMinigame.git\",\"clone_url\":\"https://github.com/Prommah/steamSummerMinigame.git\",\"svn_url\":\"https://github.com/Prommah/steamSummerMinigame\",\"homepage\":null,\"size\":4133,\"stargazers_count\":0,\"watchers_count\":0,\"language\":\"JavaScript\",\"has_issues\":false,\"has_downloads\":true,\"has_wiki\":true,\"has_pages\":false,\"forks_count\":0,\"mirror_url\":null,\"open_issues_count\":0,\"forks\":0,\"open_issues\":0,\"watchers\":0,\"default_branch\":\"master\"}},\"base\":{\"label\":\"wchill:master\",\"ref\":\"master\",\"sha\":\"b14097f910809eba3778099b84037bf0870c4395\",\"user\":{\"login\":\"wchill\",\"id\":3746651,\"avatar_url\":\"https://avatars.githubusercontent.com/u/3746651?v=3\",\"gravatar_id\":\"\",\"url\":\"https://api.github.com/users/wchill\",\"html_url\":\"https://github.com/wchill\",\"followers_url\":\"https://api.github.com/users/wchill/followers\",\"following_url\":\"https://api.github.com/users/wchill/following{/other_user}\",\"gists_url\":\"https://api.github.com/users/wchill/gists{/gist_id}\",\"starred_url\":\"https://api.github.com/users/wchill/starred{/owner}{/repo}\",\"subscriptions_url\":\"https://api.github.com/users/wchill/subscriptions\",\"organizations_url\":\"https://api.github.com/users/wchill/orgs\",\"repos_url\":\"https://api.github.com/users/wchill/repos\",\"events_url\":\"https://api.github.com/users/wchill/events{/privacy}\",\"received_events_url\":\"https://api.github.com/users/wchill/received_events\",\"type\":\"User\",\"site_admin\":false},\"repo\":{\"id\":37323085,\"name\":\"steamSummerMinigame\",\"full_name\":\"wchill/steamSummerMinigame\",\"owner\":{\"login\":\"wchill\",\"id\":3746651,\"avatar_url\":\"https://avatars.githubusercontent.com/u/3746651?v=3\",\"gravatar_id\":\"\",\"url\":\"https://api.github.com/users/wchill\",\"html_url\":\"https://github.com/wchill\",\"followers_url\":\"https://api.github.com/users/wchill/followers\",\"following_url\":\"https://api.github.com/users/wchill/following{/other_user}\",\"gists_url\":\"https://api.github.com/users/wchill/gists{/gist_id}\",\"starred_url\":\"https://api.github.com/users/wchill/starred{/owner}{/repo}\",\"subscriptions_url\":\"https://api.github.com/users/wchill/subscriptions\",\"organizations_url\":\"https://api.github.com/users/wchill/orgs\",\"repos_url\":\"https://api.github.com/users/wchill/repos\",\"events_url\":\"https://api.github.com/users/wchill/events{/privacy}\",\"received_events_url\":\"https://api.github.com/users/wchill/received_events\",\"type\":\"User\",\"site_admin\":false},\"private\":false,\"html_url\":\"https://github.com/wchill/steamSummerMinigame\",\"description\":\"Steam Summer Sale 2015 - Auto-play Optimizer\",\"fork\":true,\"url\":\"https://api.github.com/repos/wchill/steamSummerMinigame\",\"forks_url\":\"https://api.github.com/repos/wchill/steamSummerMinigame/forks\",\"keys_url\":\"https://api.github.com/repos/wchill/steamSummerMinigame/keys{/key_id}\",\"collaborators_url\":\"https://api.github.com/repos/wchill/steamSummerMinigame/collaborators{/collaborator}\",\"teams_url\":\"https://api.github.com/repos/wchill/steamSummerMinigame/teams\",\"hooks_url\":\"https://api.github.com/repos/wchill/steamSummerMinigame/hooks\",\"issue_events_url\":\"https://api.github.com/repos/wchill/steamSummerMinigame/issues/events{/number}\",\"events_url\":\"https://api.github.com/repos/wchill/steamSummerMinigame/events\",\"assignees_url\":\"https://api.github.com/repos/wchill/steamSummerMinigame/assignees{/user}\",\"branches_url\":\"https://api.github.com/repos/wchill/steamSummerMinigame/branches{/branch}\",\"tags_url\":\"https://api.github.com/repos/wchill/steamSummerMinigame/tags\",\"blobs_url\":\"https://api.github.com/repos/wchill/steamSummerMinigame/git/blobs{/sha}\",\"git_tags_url\":\"https://api.github.com/repos/wchill/steamSummerMinigame/git/tags{/sha}\",\"git_refs_url\":\"https://api.github.com/repos/wchill/steamSummerMinigame/git/refs{/sha}\",\"trees_url\":\"https://api.github.com/repos/wchill/steamSummerMinigame/git/trees{/sha}\",\"statuses_url\":\"https://api.github.com/repos/wchill/steamSummerMinigame/statuses/{sha}\",\"languages_url\":\"https://api.github.com/repos/wchill/steamSummerMinigame/languages\",\"stargazers_url\":\"https://api.github.com/repos/wchill/steamSummerMinigame/stargazers\",\"contributors_url\":\"https://api.github.com/repos/wchill/steamSummerMinigame/contributors\",\"subscribers_url\":\"https://api.github.com/repos/wchill/steamSummerMinigame/subscribers\",\"subscription_url\":\"https://api.github.com/repos/wchill/steamSummerMinigame/subscription\",\"commits_url\":\"https://api.github.com/repos/wchill/steamSummerMinigame/commits{/sha}\",\"git_commits_url\":\"https://api.github.com/repos/wchill/steamSummerMinigame/git/commits{/sha}\",\"comments_url\":\"https://api.github.com/repos/wchill/steamSummerMinigame/comments{/number}\",\"issue_comment_url\":\"https://api.github.com/repos/wchill/steamSummerMinigame/issues/comments{/number}\",\"contents_url\":\"https://api.github.com/repos/wchill/steamSummerMinigame/contents/{+path}\",\"compare_url\":\"https://api.github.com/repos/wchill/steamSummerMinigame/compare/{base}...{head}\",\"merges_url\":\"https://api.github.com/repos/wchill/steamSummerMinigame/merges\",\"archive_url\":\"https://api.github.com/repos/wchill/steamSummerMinigame/{archive_format}{/ref}\",\"downloads_url\":\"https://api.github.com/repos/wchill/steamSummerMinigame/downloads\",\"issues_url\":\"https://api.github.com/repos/wchill/steamSummerMinigame/issues{/number}\",\"pulls_url\":\"https://api.github.com/repos/wchill/steamSummerMinigame/pulls{/number}\",\"milestones_url\":\"https://api.github.com/repos/wchill/steamSummerMinigame/milestones{/number}\",\"notifications_url\":\"https://api.github.com/repos/wchill/steamSummerMinigame/notifications{?since,all,participating}\",\"labels_url\":\"https://api.github.com/repos/wchill/steamSummerMinigame/labels{/name}\",\"releases_url\":\"https://api.github.com/repos/wchill/steamSummerMinigame/releases{/id}\",\"created_at\":\"2015-06-12T13:19:56Z\",\"updated_at\":\"2015-06-18T08:13:41Z\",\"pushed_at\":\"2015-06-18T08:17:37Z\",\"git_url\":\"git://github.com/wchill/steamSummerMinigame.git\",\"ssh_url\":\"git@github.com:wchill/steamSummerMinigame.git\",\"clone_url\":\"https://github.com/wchill/steamSummerMinigame.git\",\"svn_url\":\"https://github.com/wchill/steamSummerMinigame\",\"homepage\":null,\"size\":4133,\"stargazers_count\":217,\"watchers_count\":217,\"language\":\"JavaScript\",\"has_issues\":true,\"has_downloads\":true,\"has_wiki\":true,\"has_pages\":false,\"forks_count\":131,\"mirror_url\":null,\"open_issues_count\":55,\"forks\":131,\"open_issues\":55,\"watchers\":217,\"default_branch\":\"master\"}},\"_links\":{\"self\":{\"href\":\"https://api.github.com/repos/wchill/steamSummerMinigame/pulls/278\"},\"html\":{\"href\":\"https://github.com/wchill/steamSummerMinigame/pull/278\"},\"issue\":{\"href\":\"https://api.github.com/repos/wchill/steamSummerMinigame/issues/278\"},\"comments\":{\"href\":\"https://api.github.com/repos/wchill/steamSummerMinigame/issues/278/comments\"},\"review_comments\":{\"href\":\"https://api.github.com/repos/wchill/steamSummerMinigame/pulls/278/comments\"},\"review_comment\":{\"href\":\"https://api.github.com/repos/wchill/steamSummerMinigame/pulls/comments{/number}\"},\"commits\":{\"href\":\"https://api.github.com/repos/wchill/steamSummerMinigame/pulls/278/commits\"},\"statuses\":{\"href\":\"https://api.github.com/repos/wchill/steamSummerMinigame/statuses/5483ecf68bb7b1a920c673cfa7f3bf7dd877c4c3\"}},\"merged\":false,\"mergeable\":null,\"mergeable_state\":\"unknown\",\"merged_by\":null,\"comments\":0,\"review_comments\":0,\"commits\":1,\"additions\":3,\"deletions\":4,\"changed_files\":1}},\"public\":true,\"created_at\":\"2015-06-18T08:46:52Z\"},{\"id\":\"2902683988\",\"type\":\"PushEvent\",\"actor\":{\"id\":3985854,\"login\":\"livecodeali\",\"gravatar_id\":\"\",\"url\":\"https://api.github.com/users/livecodeali\",\"avatar_url\":\"https://avatars.githubusercontent.com/u/3985854?\"},\"repo\":{\"id\":9334445,\"name\":\"runrev/livecode\",\"url\":\"https://api.github.com/repos/runrev/livecode\"},\"payload\":{\"push_id\":699186583,\"size\":5,\"distinct_size\":5,\"ref\":\"refs/heads/develop\",\"head\":\"23a7a7c3700d007a23d23691a28350a80d782806\",\"before\":\"bf6c5ce800ccbadb782260b5a6a8a81ef8f3d9a7\",\"commits\":[{\"sha\":\"533ab4f66815e08828eea442e81aec26e8b8fc40\",\"author\":{\"email\":\"ali.lloyd@gmail.com\",\"name\":\"livecodeali\"},\"message\":\"[[ Icon Picker ]] Make sure scroll is not altered by resize\",\"distinct\":true,\"url\":\"https://api.github.com/repos/runrev/livecode/commits/533ab4f66815e08828eea442e81aec26e8b8fc40\"},{\"sha\":\"90f1995b0613cd5009de9310e91ae87893db0dd8\",\"author\":{\"email\":\"ali.lloyd@gmail.com\",\"name\":\"livecodeali\"},\"message\":\"[[ Icon Picker ]] Add selectedIcon property to icon picker\",\"distinct\":true,\"url\":\"https://api.github.com/repos/runrev/livecode/commits/90f1995b0613cd5009de9310e91ae87893db0dd8\"},{\"sha\":\"2a4b9bbf7223a60021a9fd576241af4482c15ae5\",\"author\":{\"email\":\"ali.lloyd@gmail.com\",\"name\":\"livecodeali\"},\"message\":\"[[ Navbar ]] Preselect current icon when popping up icon picker\",\"distinct\":true,\"url\":\"https://api.github.com/repos/runrev/livecode/commits/2a4b9bbf7223a60021a9fd576241af4482c15ae5\"},{\"sha\":\"42b2f3b768c0f280532f03126188c60600524d01\",\"author\":{\"email\":\"ali.lloyd@gmail.com\",\"name\":\"livecodeali\"},\"message\":\"[[ Icon Picker ]] Remove extraneous logging\",\"distinct\":true,\"url\":\"https://api.github.com/repos/runrev/livecode/commits/42b2f3b768c0f280532f03126188c60600524d01\"},{\"sha\":\"23a7a7c3700d007a23d23691a28350a80d782806\",\"author\":{\"email\":\"ali.lloyd@gmail.com\",\"name\":\"Ali Lloyd\"},\"message\":\"Merge pull request #2426 from livecodeali/feature-icon_picker_scroll\\n\\n[[ Navbar ]] Preselect and scroll to current icon when popping up icon picker from edit mode navbar\",\"distinct\":true,\"url\":\"https://api.github.com/repos/runrev/livecode/commits/23a7a7c3700d007a23d23691a28350a80d782806\"}]},\"public\":true,\"created_at\":\"2015-06-18T08:46:51Z\",\"org\":{\"id\":3985749,\"login\":\"runrev\",\"gravatar_id\":\"\",\"url\":\"https://api.github.com/orgs/runrev\",\"avatar_url\":\"https://avatars.githubusercontent.com/u/3985749?\"}},{\"id\":\"2902683986\",\"type\":\"PushEvent\",\"actor\":{\"id\":1896811,\"login\":\"sthalik\",\"gravatar_id\":\"\",\"url\":\"https://api.github.com/users/sthalik\",\"avatar_url\":\"https://avatars.githubusercontent.com/u/1896811?\"},\"repo\":{\"id\":9753283,\"name\":\"opentrack/opentrack\",\"url\":\"https://api.github.com/repos/opentrack/opentrack\"},\"payload\":{\"push_id\":699186582,\"size\":2,\"distinct_size\":0,\"ref\":\"refs/heads/unstable\",\"head\":\"16f0b16f109af85dd2c32ded3f1bad2cbb38640f\",\"before\":\"66f78f3696189d6c5fc16dd33317025105cca77e\",\"commits\":[{\"sha\":\"e26cc488e4d25edffb2e3f12a7125574b9fa28a7\",\"author\":{\"email\":\"sthalik@misaki.pl\",\"name\":\"Stanislaw Halik\"},\"message\":\"options: return default value after revert, not type's default value\\n\\nIssue: #173\",\"distinct\":false,\"url\":\"https://api.github.com/repos/opentrack/opentrack/commits/e26cc488e4d25edffb2e3f12a7125574b9fa28a7\"},{\"sha\":\"16f0b16f109af85dd2c32ded3f1bad2cbb38640f\",\"author\":{\"email\":\"sthalik@misaki.pl\",\"name\":\"Stanislaw Halik\"},\"message\":\"Revert \\\"options: add support for QRadioButton\\\"\\n\\nThis reverts commit 21f6b1c681ca6efe4511486994264b8d8c8d9463.\",\"distinct\":false,\"url\":\"https://api.github.com/repos/opentrack/opentrack/commits/16f0b16f109af85dd2c32ded3f1bad2cbb38640f\"}]},\"public\":true,\"created_at\":\"2015-06-18T08:46:51Z\",\"org\":{\"id\":4294485,\"login\":\"opentrack\",\"gravatar_id\":\"\",\"url\":\"https://api.github.com/orgs/opentrack\",\"avatar_url\":\"https://avatars.githubusercontent.com/u/4294485?\"}},{\"id\":\"2902683979\",\"type\":\"ForkEvent\",\"actor\":{\"id\":12946049,\"login\":\"gamihitesh\",\"gravatar_id\":\"\",\"url\":\"https://api.github.com/users/gamihitesh\",\"avatar_url\":\"https://avatars.githubusercontent.com/u/12946049?\"},\"repo\":{\"id\":12962729,\"name\":\"angular-ui/ui-select\",\"url\":\"https://api.github.com/repos/angular-ui/ui-select\"},\"payload\":{\"forkee\":{\"id\":37648249,\"name\":\"ui-select\",\"full_name\":\"gamihitesh/ui-select\",\"owner\":{\"login\":\"gamihitesh\",\"id\":12946049,\"avatar_url\":\"https://avatars.githubusercontent.com/u/12946049?v=3\",\"gravatar_id\":\"\",\"url\":\"https://api.github.com/users/gamihitesh\",\"html_url\":\"https://github.com/gamihitesh\",\"followers_url\":\"https://api.github.com/users/gamihitesh/followers\",\"following_url\":\"https://api.github.com/users/gamihitesh/following{/other_user}\",\"gists_url\":\"https://api.github.com/users/gamihitesh/gists{/gist_id}\",\"starred_url\":\"https://api.github.com/users/gamihitesh/starred{/owner}{/repo}\",\"subscriptions_url\":\"https://api.github.com/users/gamihitesh/subscriptions\",\"organizations_url\":\"https://api.github.com/users/gamihitesh/orgs\",\"repos_url\":\"https://api.github.com/users/gamihitesh/repos\",\"events_url\":\"https://api.github.com/users/gamihitesh/events{/privacy}\",\"received_events_url\":\"https://api.github.com/users/gamihitesh/received_events\",\"type\":\"User\",\"site_admin\":false},\"private\":false,\"html_url\":\"https://github.com/gamihitesh/ui-select\",\"description\":\"AngularJS-native version of Select2 and Selectize\",\"fork\":true,\"url\":\"https://api.github.com/repos/gamihitesh/ui-select\",\"forks_url\":\"https://api.github.com/repos/gamihitesh/ui-select/forks\",\"keys_url\":\"https://api.github.com/repos/gamihitesh/ui-select/keys{/key_id}\",\"collaborators_url\":\"https://api.github.com/repos/gamihitesh/ui-select/collaborators{/collaborator}\",\"teams_url\":\"https://api.github.com/repos/gamihitesh/ui-select/teams\",\"hooks_url\":\"https://api.github.com/repos/gamihitesh/ui-select/hooks\",\"issue_events_url\":\"https://api.github.com/repos/gamihitesh/ui-select/issues/events{/number}\",\"events_url\":\"https://api.github.com/repos/gamihitesh/ui-select/events\",\"assignees_url\":\"https://api.github.com/repos/gamihitesh/ui-select/assignees{/user}\",\"branches_url\":\"https://api.github.com/repos/gamihitesh/ui-select/branches{/branch}\",\"tags_url\":\"https://api.github.com/repos/gamihitesh/ui-select/tags\",\"blobs_url\":\"https://api.github.com/repos/gamihitesh/ui-select/git/blobs{/sha}\",\"git_tags_url\":\"https://api.github.com/repos/gamihitesh/ui-select/git/tags{/sha}\",\"git_refs_url\":\"https://api.github.com/repos/gamihitesh/ui-select/git/refs{/sha}\",\"trees_url\":\"https://api.github.com/repos/gamihitesh/ui-select/git/trees{/sha}\",\"statuses_url\":\"https://api.github.com/repos/gamihitesh/ui-select/statuses/{sha}\",\"languages_url\":\"https://api.github.com/repos/gamihitesh/ui-select/languages\",\"stargazers_url\":\"https://api.github.com/repos/gamihitesh/ui-select/stargazers\",\"contributors_url\":\"https://api.github.com/repos/gamihitesh/ui-select/contributors\",\"subscribers_url\":\"https://api.github.com/repos/gamihitesh/ui-select/subscribers\",\"subscription_url\":\"https://api.github.com/repos/gamihitesh/ui-select/subscription\",\"commits_url\":\"https://api.github.com/repos/gamihitesh/ui-select/commits{/sha}\",\"git_commits_url\":\"https://api.github.com/repos/gamihitesh/ui-select/git/commits{/sha}\",\"comments_url\":\"https://api.github.com/repos/gamihitesh/ui-select/comments{/number}\",\"issue_comment_url\":\"https://api.github.com/repos/gamihitesh/ui-select/issues/comments{/number}\",\"contents_url\":\"https://api.github.com/repos/gamihitesh/ui-select/contents/{+path}\",\"compare_url\":\"https://api.github.com/repos/gamihitesh/ui-select/compare/{base}...{head}\",\"merges_url\":\"https://api.github.com/repos/gamihitesh/ui-select/merges\",\"archive_url\":\"https://api.github.com/repos/gamihitesh/ui-select/{archive_format}{/ref}\",\"downloads_url\":\"https://api.github.com/repos/gamihitesh/ui-select/downloads\",\"issues_url\":\"https://api.github.com/repos/gamihitesh/ui-select/issues{/number}\",\"pulls_url\":\"https://api.github.com/repos/gamihitesh/ui-select/pulls{/number}\",\"milestones_url\":\"https://api.github.com/repos/gamihitesh/ui-select/milestones{/number}\",\"notifications_url\":\"https://api.github.com/repos/gamihitesh/ui-select/notifications{?since,all,participating}\",\"labels_url\":\"https://api.github.com/repos/gamihitesh/ui-select/labels{/name}\",\"releases_url\":\"https://api.github.com/repos/gamihitesh/ui-select/releases{/id}\",\"created_at\":\"2015-06-18T08:46:51Z\",\"updated_at\":\"2015-06-18T08:12:01Z\",\"pushed_at\":\"2015-06-18T02:46:05Z\",\"git_url\":\"git://github.com/gamihitesh/ui-select.git\",\"ssh_url\":\"git@github.com:gamihitesh/ui-select.git\",\"clone_url\":\"https://github.com/gamihitesh/ui-select.git\",\"svn_url\":\"https://github.com/gamihitesh/ui-select\",\"homepage\":\"\",\"size\":5630,\"stargazers_count\":0,\"watchers_count\":0,\"language\":null,\"has_issues\":false,\"has_downloads\":true,\"has_wiki\":true,\"has_pages\":false,\"forks_count\":0,\"mirror_url\":null,\"open_issues_count\":0,\"forks\":0,\"open_issues\":0,\"watchers\":0,\"default_branch\":\"master\",\"public\":true}},\"public\":true,\"created_at\":\"2015-06-18T08:46:51Z\",\"org\":{\"id\":1530011,\"login\":\"angular-ui\",\"gravatar_id\":\"\",\"url\":\"https://api.github.com/orgs/angular-ui\",\"avatar_url\":\"https://avatars.githubusercontent.com/u/1530011?\"}},{\"id\":\"2902683978\",\"type\":\"WatchEvent\",\"actor\":{\"id\":933437,\"login\":\"spyl94\",\"gravatar_id\":\"\",\"url\":\"https://api.github.com/users/spyl94\",\"avatar_url\":\"https://avatars.githubusercontent.com/u/933437?\"},\"repo\":{\"id\":34808241,\"name\":\"WebAssembly/design\",\"url\":\"https://api.github.com/repos/WebAssembly/design\"},\"payload\":{\"action\":\"started\"},\"public\":true,\"created_at\":\"2015-06-18T08:46:51Z\",\"org\":{\"id\":11578470,\"login\":\"WebAssembly\",\"gravatar_id\":\"\",\"url\":\"https://api.github.com/orgs/WebAssembly\",\"avatar_url\":\"https://avatars.githubusercontent.com/u/11578470?\"}},{\"id\":\"2902683975\",\"type\":\"IssueCommentEvent\",\"actor\":{\"id\":7294662,\"login\":\"gberaudo\",\"gravatar_id\":\"\",\"url\":\"https://api.github.com/users/gberaudo\",\"avatar_url\":\"https://avatars.githubusercontent.com/u/7294662?\"},\"repo\":{\"id\":21741875,\"name\":\"openlayers/ol3-cesium\",\"url\":\"https://api.github.com/repos/openlayers/ol3-cesium\"},\"payload\":{\"action\":\"created\",\"issue\":{\"url\":\"https://api.github.com/repos/openlayers/ol3-cesium/issues/202\",\"labels_url\":\"https://api.github.com/repos/openlayers/ol3-cesium/issues/202/labels{/name}\",\"comments_url\":\"https://api.github.com/repos/openlayers/ol3-cesium/issues/202/comments\",\"events_url\":\"https://api.github.com/repos/openlayers/ol3-cesium/issues/202/events\",\"html_url\":\"https://github.com/openlayers/ol3-cesium/pull/202\",\"id\":89228162,\"number\":202,\"title\":\"Port to cesium 1.10 and minor improvements\",\"user\":{\"login\":\"gberaudo\",\"id\":7294662,\"avatar_url\":\"https://avatars.githubusercontent.com/u/7294662?v=3\",\"gravatar_id\":\"\",\"url\":\"https://api.github.com/users/gberaudo\",\"html_url\":\"https://github.com/gberaudo\",\"followers_url\":\"https://api.github.com/users/gberaudo/followers\",\"following_url\":\"https://api.github.com/users/gberaudo/following{/other_user}\",\"gists_url\":\"https://api.github.com/users/gberaudo/gists{/gist_id}\",\"starred_url\":\"https://api.github.com/users/gberaudo/starred{/owner}{/repo}\",\"subscriptions_url\":\"https://api.github.com/users/gberaudo/subscriptions\",\"organizations_url\":\"https://api.github.com/users/gberaudo/orgs\",\"repos_url\":\"https://api.github.com/users/gberaudo/repos\",\"events_url\":\"https://api.github.com/users/gberaudo/events{/privacy}\",\"received_events_url\":\"https://api.github.com/users/gberaudo/received_events\",\"type\":\"User\",\"site_admin\":false},\"labels\":[],\"state\":\"open\",\"locked\":false,\"assignee\":null,\"milestone\":null,\"comments\":2,\"created_at\":\"2015-06-18T08:09:40Z\",\"updated_at\":\"2015-06-18T08:46:51Z\",\"closed_at\":null,\"pull_request\":{\"url\":\"https://api.github.com/repos/openlayers/ol3-cesium/pulls/202\",\"html_url\":\"https://github.com/openlayers/ol3-cesium/pull/202\",\"diff_url\":\"https://github.com/openlayers/ol3-cesium/pull/202.diff\",\"patch_url\":\"https://github.com/openlayers/ol3-cesium/pull/202.patch\"},\"body\":\"And also:\\r\\n- change serving port from 3000 to 4000 to allow running both ol3 and ol3-cesium concurrently;\\r\\n- add some documentation;\\r\\n- add or update some Cesium externs.\"},\"comment\":{\"url\":\"https://api.github.com/repos/openlayers/ol3-cesium/issues/comments/113079014\",\"html_url\":\"https://github.com/openlayers/ol3-cesium/pull/202#issuecomment-113079014\",\"issue_url\":\"https://api.github.com/repos/openlayers/ol3-cesium/issues/202\",\"id\":113079014,\"user\":{\"login\":\"gberaudo\",\"id\":7294662,\"avatar_url\":\"https://avatars.githubusercontent.com/u/7294662?v=3\",\"gravatar_id\":\"\",\"url\":\"https://api.github.com/users/gberaudo\",\"html_url\":\"https://github.com/gberaudo\",\"followers_url\":\"https://api.github.com/users/gberaudo/followers\",\"following_url\":\"https://api.github.com/users/gberaudo/following{/other_user}\",\"gists_url\":\"https://api.github.com/users/gberaudo/gists{/gist_id}\",\"starred_url\":\"https://api.github.com/users/gberaudo/starred{/owner}{/repo}\",\"subscriptions_url\":\"https://api.github.com/users/gberaudo/subscriptions\",\"organizations_url\":\"https://api.github.com/users/gberaudo/orgs\",\"repos_url\":\"https://api.github.com/users/gberaudo/repos\",\"events_url\":\"https://api.github.com/users/gberaudo/events{/privacy}\",\"received_events_url\":\"https://api.github.com/users/gberaudo/received_events\",\"type\":\"User\",\"site_admin\":false},\"created_at\":\"2015-06-18T08:46:51Z\",\"updated_at\":\"2015-06-18T08:46:51Z\",\"body\":\"Thanks for the review @fredj.\"}},\"public\":true,\"created_at\":\"2015-06-18T08:46:51Z\",\"org\":{\"id\":240579,\"login\":\"openlayers\",\"gravatar_id\":\"\",\"url\":\"https://api.github.com/orgs/openlayers\",\"avatar_url\":\"https://avatars.githubusercontent.com/u/240579?\"}},{\"id\":\"2902683972\",\"type\":\"IssuesEvent\",\"actor\":{\"id\":867996,\"login\":\"MarcoSero\",\"gravatar_id\":\"\",\"url\":\"https://api.github.com/users/MarcoSero\",\"avatar_url\":\"https://avatars.githubusercontent.com/u/867996?\"},\"repo\":{\"id\":4044891,\"name\":\"realm/realm-cocoa\",\"url\":\"https://api.github.com/repos/realm/realm-cocoa\"},\"payload\":{\"action\":\"opened\",\"issue\":{\"url\":\"https://api.github.com/repos/realm/realm-cocoa/issues/2099\",\"labels_url\":\"https://api.github.com/repos/realm/realm-cocoa/issues/2099/labels{/name}\",\"comments_url\":\"https://api.github.com/repos/realm/realm-cocoa/issues/2099/comments\",\"events_url\":\"https://api.github.com/repos/realm/realm-cocoa/issues/2099/events\",\"html_url\":\"https://github.com/realm/realm-cocoa/issues/2099\",\"id\":89235931,\"number\":2099,\"title\":\"WatchOS support\",\"user\":{\"login\":\"MarcoSero\",\"id\":867996,\"avatar_url\":\"https://avatars.githubusercontent.com/u/867996?v=3\",\"gravatar_id\":\"\",\"url\":\"https://api.github.com/users/MarcoSero\",\"html_url\":\"https://github.com/MarcoSero\",\"followers_url\":\"https://api.github.com/users/MarcoSero/followers\",\"following_url\":\"https://api.github.com/users/MarcoSero/following{/other_user}\",\"gists_url\":\"https://api.github.com/users/MarcoSero/gists{/gist_id}\",\"starred_url\":\"https://api.github.com/users/MarcoSero/starred{/owner}{/repo}\",\"subscriptions_url\":\"https://api.github.com/users/MarcoSero/subscriptions\",\"organizations_url\":\"https://api.github.com/users/MarcoSero/orgs\",\"repos_url\":\"https://api.github.com/users/MarcoSero/repos\",\"events_url\":\"https://api.github.com/users/MarcoSero/events{/privacy}\",\"received_events_url\":\"https://api.github.com/users/MarcoSero/received_events\",\"type\":\"User\",\"site_admin\":false},\"labels\":[],\"state\":\"open\",\"locked\":false,\"assignee\":null,\"milestone\":null,\"comments\":0,\"created_at\":\"2015-06-18T08:46:51Z\",\"updated_at\":\"2015-06-18T08:46:51Z\",\"closed_at\":null,\"body\":\"I don't think there's anything to track the support of watchOS, so I thought of opening this.\\r\\n#2062 seems to be mostly for Swift 2.\"}},\"public\":true,\"created_at\":\"2015-06-18T08:46:51Z\",\"org\":{\"id\":7575099,\"login\":\"realm\",\"gravatar_id\":\"\",\"url\":\"https://api.github.com/orgs/realm\",\"avatar_url\":\"https://avatars.githubusercontent.com/u/7575099?\"}},{\"id\":\"2902683969\",\"type\":\"PushEvent\",\"actor\":{\"id\":1896811,\"login\":\"sthalik\",\"gravatar_id\":\"\",\"url\":\"https://api.github.com/users/sthalik\",\"avatar_url\":\"https://avatars.githubusercontent.com/u/1896811?\"},\"repo\":{\"id\":9753283,\"name\":\"opentrack/opentrack\",\"url\":\"https://api.github.com/repos/opentrack/opentrack\"},\"payload\":{\"push_id\":699186577,\"size\":7,\"distinct_size\":5,\"ref\":\"refs/heads/trackhat-ui\",\"head\":\"fafbce268bda468bda35fc5d23a339bd15671ca6\",\"before\":\"426a186766f6124aec082552b9c7bffc581b05c4\",\"commits\":[{\"sha\":\"42533407971e21438ef53e187fd6a8163d841e09\",\"author\":{\"email\":\"sthalik@misaki.pl\",\"name\":\"Stanislaw Halik\"},\"message\":\"need space here\",\"distinct\":true,\"url\":\"https://api.github.com/repos/opentrack/opentrack/commits/42533407971e21438ef53e187fd6a8163d841e09\"},{\"sha\":\"1220070598ba2e72bc3257a13fa6b81c7a24abf9\",\"author\":{\"email\":\"sthalik@misaki.pl\",\"name\":\"Stanislaw Halik\"},\"message\":\"Revert \\\"options: add support for QRadioButton\\\"\\n\\nThis reverts commit 4c98d6cdc8b99ee1e517b2f82be1b0b5fc17d988.\",\"distinct\":true,\"url\":\"https://api.github.com/repos/opentrack/opentrack/commits/1220070598ba2e72bc3257a13fa6b81c7a24abf9\"},{\"sha\":\"808b0fbf230fb702cebd5e3ec53cce1c858b0fff\",\"author\":{\"email\":\"sthalik@misaki.pl\",\"name\":\"Stanislaw Halik\"},\"message\":\"minor fixes now\",\"distinct\":true,\"url\":\"https://api.github.com/repos/opentrack/opentrack/commits/808b0fbf230fb702cebd5e3ec53cce1c858b0fff\"},{\"sha\":\"e26cc488e4d25edffb2e3f12a7125574b9fa28a7\",\"author\":{\"email\":\"sthalik@misaki.pl\",\"name\":\"Stanislaw Halik\"},\"message\":\"options: return default value after revert, not type's default value\\n\\nIssue: #173\",\"distinct\":false,\"url\":\"https://api.github.com/repos/opentrack/opentrack/commits/e26cc488e4d25edffb2e3f12a7125574b9fa28a7\"},{\"sha\":\"67537d31b82fee0c965de48898f6214139d63a9a\",\"author\":{\"email\":\"sthalik@misaki.pl\",\"name\":\"Stanislaw Halik\"},\"message\":\"Merge branch 'unstable' into trackhat-ui\",\"distinct\":true,\"url\":\"https://api.github.com/repos/opentrack/opentrack/commits/67537d31b82fee0c965de48898f6214139d63a9a\"},{\"sha\":\"16f0b16f109af85dd2c32ded3f1bad2cbb38640f\",\"author\":{\"email\":\"sthalik@misaki.pl\",\"name\":\"Stanislaw Halik\"},\"message\":\"Revert \\\"options: add support for QRadioButton\\\"\\n\\nThis reverts commit 21f6b1c681ca6efe4511486994264b8d8c8d9463.\",\"distinct\":false,\"url\":\"https://api.github.com/repos/opentrack/opentrack/commits/16f0b16f109af85dd2c32ded3f1bad2cbb38640f\"},{\"sha\":\"fafbce268bda468bda35fc5d23a339bd15671ca6\",\"author\":{\"email\":\"sthalik@misaki.pl\",\"name\":\"Stanislaw Halik\"},\"message\":\"Merge branch 'unstable' into trackhat-ui\",\"distinct\":true,\"url\":\"https://api.github.com/repos/opentrack/opentrack/commits/fafbce268bda468bda35fc5d23a339bd15671ca6\"}]},\"public\":true,\"created_at\":\"2015-06-18T08:46:51Z\",\"org\":{\"id\":4294485,\"login\":\"opentrack\",\"gravatar_id\":\"\",\"url\":\"https://api.github.com/orgs/opentrack\",\"avatar_url\":\"https://avatars.githubusercontent.com/u/4294485?\"}},{\"id\":\"2902683967\",\"type\":\"PushEvent\",\"actor\":{\"id\":7846971,\"login\":\"Shunzi007\",\"gravatar_id\":\"\",\"url\":\"https://api.github.com/users/Shunzi007\",\"avatar_url\":\"https://avatars.githubusercontent.com/u/7846971?\"},\"repo\":{\"id\":37043845,\"name\":\"Shunzi007/WSControl\",\"url\":\"https://api.github.com/repos/Shunzi007/WSControl\"},\"payload\":{\"push_id\":699186576,\"size\":8,\"distinct_size\":0,\"ref\":\"refs/heads/master\",\"head\":\"91f1f6a5f5b42bcd803715f0362a5dcc2c614378\",\"before\":\"840b98895326533d6e2700eb68bd9ef9012c38c0\",\"commits\":[{\"sha\":\"4a1ee969d9e4e7642a175bf983a3f3b8a0618cd1\",\"author\":{\"email\":\"360752546@qq.com\",\"name\":\"\u738b\u987a\"},\"message\":\"Button \u53d8\u4e3a\u5206\u7c7b\u5f62\u5f0f\u5b9e\u73b0\",\"distinct\":false,\"url\":\"https://api.github.com/repos/Shunzi007/WSControl/commits/4a1ee969d9e4e7642a175bf983a3f3b8a0618cd1\"},{\"sha\":\"8d2427626bbb04296e1bb71651463f3e65d47323\",\"author\":{\"email\":\"360752546@qq.com\",\"name\":\"\u738b\u987a\"},\"message\":\"\u6dfb\u52a0 UIButton \u5206\u7c7b\",\"distinct\":false,\"url\":\"https://api.github.com/repos/Shunzi007/WSControl/commits/8d2427626bbb04296e1bb71651463f3e65d47323\"},{\"sha\":\"be911dd19365cf1bbee163db2c3299e241a0f190\",\"author\":{\"email\":\"360752546@qq.com\",\"name\":\"\u738b\u987a\"},\"message\":\"\u6dfb\u52a0 Button \u5206\u7c7b\",\"distinct\":false,\"url\":\"https://api.github.com/repos/Shunzi007/WSControl/commits/be911dd19365cf1bbee163db2c3299e241a0f190\"},{\"sha\":\"2d4e80951b0829047fa97a6e92c4800bb8e0021e\",\"author\":{\"email\":\"360752546@qq.com\",\"name\":\"\u738b\u987a\"},\"message\":\"\u5b8c\u6210 AlertView \u6539\u4e3a\u7c7b\u76ee\",\"distinct\":false,\"url\":\"https://api.github.com/repos/Shunzi007/WSControl/commits/2d4e80951b0829047fa97a6e92c4800bb8e0021e\"},{\"sha\":\"17a24c7b9b66048669ee2a1b88c7b5acb0356992\",\"author\":{\"email\":\"360752546@qq.com\",\"name\":\"\u738b\u987a\"},\"message\":\"\u5b8c\u6210 AlertView \u4fee\u6539\u4e3a\u7c7b\u76ee\",\"distinct\":false,\"url\":\"https://api.github.com/repos/Shunzi007/WSControl/commits/17a24c7b9b66048669ee2a1b88c7b5acb0356992\"},{\"sha\":\"8f568f3d305e297480db0e538ac74d1458583b7f\",\"author\":{\"email\":\"360752546@qq.com\",\"name\":\"\u738b\u987a\"},\"message\":\"UIActionSheet \u53d8\u4e3a\u5206\u7c7b\u6a21\u5f0f\",\"distinct\":false,\"url\":\"https://api.github.com/repos/Shunzi007/WSControl/commits/8f568f3d305e297480db0e538ac74d1458583b7f\"},{\"sha\":\"6cbdeab38097c68b1e330a8fa9b68becb81c6065\",\"author\":{\"email\":\"360752546@qq.com\",\"name\":\"\u738b\u987a\"},\"message\":\"SegmentedControl \u4f7f\u7528\u5206\u7c7b\",\"distinct\":false,\"url\":\"https://api.github.com/repos/Shunzi007/WSControl/commits/6cbdeab38097c68b1e330a8fa9b68becb81c6065\"},{\"sha\":\"91f1f6a5f5b42bcd803715f0362a5dcc2c614378\",\"author\":{\"email\":\"360752546@qq.com\",\"name\":\"\u738b\u987a\"},\"message\":\"\u5b8c\u6210\u8c03\u8bd5\",\"distinct\":false,\"url\":\"https://api.github.com/repos/Shunzi007/WSControl/commits/91f1f6a5f5b42bcd803715f0362a5dcc2c614378\"}]},\"public\":true,\"created_at\":\"2015-06-18T08:46:51Z\"},{\"id\":\"2902683964\",\"type\":\"PushEvent\",\"actor\":{\"id\":12875620,\"login\":\"NicolaiCroutonalAil\",\"gravatar_id\":\"\",\"url\":\"https://api.github.com/users/NicolaiCroutonalAil\",\"avatar_url\":\"https://avatars.githubusercontent.com/u/12875620?\"},\"repo\":{\"id\":37383852,\"name\":\"NicolaiCroutonalAil/SpecialWeekWebsite\",\"url\":\"https://api.github.com/repos/NicolaiCroutonalAil/SpecialWeekWebsite\"},\"payload\":{\"push_id\":699186575,\"size\":1,\"distinct_size\":1,\"ref\":\"refs/heads/gh-pages\",\"head\":\"7d344c633d8d7129fa4201c8a6543bfe6e281e30\",\"before\":\"4bc59b2b3384874b302679e1542d9df39ef33288\",\"commits\":[{\"sha\":\"7d344c633d8d7129fa4201c8a6543bfe6e281e30\",\"author\":{\"email\":\"nicolaicroutonalail@gmail.com\",\"name\":\"NicolaiCroutonalAil\"},\"message\":\"up button\",\"distinct\":true,\"url\":\"https://api.github.com/repos/NicolaiCroutonalAil/SpecialWeekWebsite/commits/7d344c633d8d7129fa4201c8a6543bfe6e281e30\"}]},\"public\":true,\"created_at\":\"2015-06-18T08:46:51Z\"},{\"id\":\"2902683958\",\"type\":\"IssueCommentEvent\",\"actor\":{\"id\":735188,\"login\":\"emilwojtaszek\",\"gravatar_id\":\"\",\"url\":\"https://api.github.com/users/emilwojtaszek\",\"avatar_url\":\"https://avatars.githubusercontent.com/u/735188?\"},\"repo\":{\"id\":12465230,\"name\":\"oovoodev/iOS-SDK-Sample\",\"url\":\"https://api.github.com/repos/oovoodev/iOS-SDK-Sample\"},\"payload\":{\"action\":\"created\",\"issue\":{\"url\":\"https://api.github.com/repos/oovoodev/iOS-SDK-Sample/issues/13\",\"labels_url\":\"https://api.github.com/repos/oovoodev/iOS-SDK-Sample/issues/13/labels{/name}\",\"comments_url\":\"https://api.github.com/repos/oovoodev/iOS-SDK-Sample/issues/13/comments\",\"events_url\":\"https://api.github.com/repos/oovoodev/iOS-SDK-Sample/issues/13/events\",\"html_url\":\"https://github.com/oovoodev/iOS-SDK-Sample/issues/13\",\"id\":88966690,\"number\":13,\"title\":\"Crash - EXC_BAD_ACCESS KERN_INVALID_ADDRESS\",\"user\":{\"login\":\"emilwojtaszek\",\"id\":735188,\"avatar_url\":\"https://avatars.githubusercontent.com/u/735188?v=3\",\"gravatar_id\":\"\",\"url\":\"https://api.github.com/users/emilwojtaszek\",\"html_url\":\"https://github.com/emilwojtaszek\",\"followers_url\":\"https://api.github.com/users/emilwojtaszek/followers\",\"following_url\":\"https://api.github.com/users/emilwojtaszek/following{/other_user}\",\"gists_url\":\"https://api.github.com/users/emilwojtaszek/gists{/gist_id}\",\"starred_url\":\"https://api.github.com/users/emilwojtaszek/starred{/owner}{/repo}\",\"subscriptions_url\":\"https://api.github.com/users/emilwojtaszek/subscriptions\",\"organizations_url\":\"https://api.github.com/users/emilwojtaszek/orgs\",\"repos_url\":\"https://api.github.com/users/emilwojtaszek/repos\",\"events_url\":\"https://api.github.com/users/emilwojtaszek/events{/privacy}\",\"received_events_url\":\"https://api.github.com/users/emilwojtaszek/received_events\",\"type\":\"User\",\"site_admin\":false},\"labels\":[],\"state\":\"open\",\"locked\":false,\"assignee\":null,\"milestone\":null,\"comments\":2,\"created_at\":\"2015-06-17T09:28:16Z\",\"updated_at\":\"2015-06-18T08:46:51Z\",\"closed_at\":null,\"body\":\"How can I fix that crash?\\r\\n\\r\\nCrashed: Thread\\r\\nEXC_BAD_ACCESS KERN_INVALID_ADDRESS at 0x00000038\\r\\n\\r\\n```\\r\\nThread : Crashed: Thread\\r\\n0  MyApp                           0x00b353e2 ooVoo::ConferenceVideoCore::IsCameraBusy() + 485717\\r\\n1  MyApp                           0x00b353dd ooVoo::ConferenceVideoCore::IsCameraBusy() + 485712\\r\\n2  MyApp                           0x00b35719 ooVoo::ConferenceVideoCore::SetVideoParams(std::__1::shared_ptr<ooVoo::MediaDevice>, ooVoo::VideoType, ooVoo::FrameSize const&, int) + 486540\\r\\n3  MyApp                           0x00bfeef3 ooVoo::ConferenceCoreImpl::SelectCameraParams(ooVoo::CameraResolutionLevel, int) + 1311846\\r\\n4  MyApp                           0x00b567db std::__1::__function::__func<ooVoo::command_queue::MessageThreadLoop()::'lambda'(), std::__1::allocator<ooVoo::command_queue::MessageThreadLoop()::'lambda'()>, bool ()>::operator()() + 621902\\r\\n5  MyApp                           0x00b6b7bf ooVoo::run(std::__1::function<bool ()> const&) + 707890\\r\\n6  MyApp                           0x00b56699 ooVoo::command_queue::MessageThreadLoop() + 621580\\r\\n7  MyApp                           0x00b56591 std::__1::__thread_proxy<std::__1::tuple<ooVoo::command_queue::command_queue(std::__1::basic_string<char, std::__1::char_traits<char>, std::__1::allocator<char> > const&)::'lambda'()> >(void*, void*) + 621316\\r\\n8  libsystem_pthread.dylib        0x39069919 _pthread_body + 140\\r\\n9  libsystem_pthread.dylib        0x3906988b _pthread_start + 102\\r\\n```\"},\"comment\":{\"url\":\"https://api.github.com/repos/oovoodev/iOS-SDK-Sample/issues/comments/113079012\",\"html_url\":\"https://github.com/oovoodev/iOS-SDK-Sample/issues/13#issuecomment-113079012\",\"issue_url\":\"https://api.github.com/repos/oovoodev/iOS-SDK-Sample/issues/13\",\"id\":113079012,\"user\":{\"login\":\"emilwojtaszek\",\"id\":735188,\"avatar_url\":\"https://avatars.githubusercontent.com/u/735188?v=3\",\"gravatar_id\":\"\",\"url\":\"https://api.github.com/users/emilwojtaszek\",\"html_url\":\"https://github.com/emilwojtaszek\",\"followers_url\":\"https://api.github.com/users/emilwojtaszek/followers\",\"following_url\":\"https://api.github.com/users/emilwojtaszek/following{/other_user}\",\"gists_url\":\"https://api.github.com/users/emilwojtaszek/gists{/gist_id}\",\"starred_url\":\"https://api.github.com/users/emilwojtaszek/starred{/owner}{/repo}\",\"subscriptions_url\":\"https://api.github.com/users/emilwojtaszek/subscriptions\",\"organizations_url\":\"https://api.github.com/users/emilwojtaszek/orgs\",\"repos_url\":\"https://api.github.com/users/emilwojtaszek/repos\",\"events_url\":\"https://api.github.com/users/emilwojtaszek/events{/privacy}\",\"received_events_url\":\"https://api.github.com/users/emilwojtaszek/received_events\",\"type\":\"User\",\"site_admin\":false},\"created_at\":\"2015-06-18T08:46:51Z\",\"updated_at\":\"2015-06-18T08:46:51Z\",\"body\":\"i've got this crash from fabric, and it does it happen on all devices (iPhone, iPad) and systems (ios7, ios8)\"}},\"public\":true,\"created_at\":\"2015-06-18T08:46:51Z\",\"org\":{\"id\":5216747,\"login\":\"oovoodev\",\"gravatar_id\":\"\",\"url\":\"https://api.github.com/orgs/oovoodev\",\"avatar_url\":\"https://avatars.githubusercontent.com/u/5216747?\"}},{\"id\":\"2902683956\",\"type\":\"IssueCommentEvent\",\"actor\":{\"id\":1126322,\"login\":\"marsmining\",\"gravatar_id\":\"\",\"url\":\"https://api.github.com/users/marsmining\",\"avatar_url\":\"https://avatars.githubusercontent.com/u/1126322?\"},\"repo\":{\"id\":9383591,\"name\":\"karma-runner/karma-closure\",\"url\":\"https://api.github.com/repos/karma-runner/karma-closure\"},\"payload\":{\"action\":\"created\",\"issue\":{\"url\":\"https://api.github.com/repos/karma-runner/karma-closure/issues/22\",\"labels_url\":\"https://api.github.com/repos/karma-runner/karma-closure/issues/22/labels{/name}\",\"comments_url\":\"https://api.github.com/repos/karma-runner/karma-closure/issues/22/comments\",\"events_url\":\"https://api.github.com/repos/karma-runner/karma-closure/issues/22/events\",\"html_url\":\"https://github.com/karma-runner/karma-closure/pull/22\",\"id\":89235660,\"number\":22,\"title\":\"rm spec issues re Object.create(null) & __proto__\",\"user\":{\"login\":\"marsmining\",\"id\":1126322,\"avatar_url\":\"https://avatars.githubusercontent.com/u/1126322?v=3\",\"gravatar_id\":\"\",\"url\":\"https://api.github.com/users/marsmining\",\"html_url\":\"https://github.com/marsmining\",\"followers_url\":\"https://api.github.com/users/marsmining/followers\",\"following_url\":\"https://api.github.com/users/marsmining/following{/other_user}\",\"gists_url\":\"https://api.github.com/users/marsmining/gists{/gist_id}\",\"starred_url\":\"https://api.github.com/users/marsmining/starred{/owner}{/repo}\",\"subscriptions_url\":\"https://api.github.com/users/marsmining/subscriptions\",\"organizations_url\":\"https://api.github.com/users/marsmining/orgs\",\"repos_url\":\"https://api.github.com/users/marsmining/repos\",\"events_url\":\"https://api.github.com/users/marsmining/events{/privacy}\",\"received_events_url\":\"https://api.github.com/users/marsmining/received_events\",\"type\":\"User\",\"site_admin\":false},\"labels\":[],\"state\":\"open\",\"locked\":false,\"assignee\":null,\"milestone\":null,\"comments\":1,\"created_at\":\"2015-06-18T08:45:13Z\",\"updated_at\":\"2015-06-18T08:46:51Z\",\"closed_at\":null,\"pull_request\":{\"url\":\"https://api.github.com/repos/karma-runner/karma-closure/pulls/22\",\"html_url\":\"https://github.com/karma-runner/karma-closure/pull/22\",\"diff_url\":\"https://github.com/karma-runner/karma-closure/pull/22.diff\",\"patch_url\":\"https://github.com/karma-runner/karma-closure/pull/22.patch\"},\"body\":\"rm spec issues re Object.create(null) & __proto__\\r\\n\\r\\nthe previous code used the idiom of `Object.create(null)` to use an object like a hash or cache, and leveraged the prototype chain as a type of cache miss failover. there is some js spec weirdness and changes around node 0.12 surrounding the existence of `__proto__` when using `Object.create(null)`.\\r\\n\\r\\nto eliminate this confusion i've added a function to replace the above so that the semantics are clear and consistent and we aren't using the non-standard `__proto__`.\\r\\n\\r\\nalso update npm dev deps to latest versions and added a missing jshintrc.\"},\"comment\":{\"url\":\"https://api.github.com/repos/karma-runner/karma-closure/issues/comments/113079010\",\"html_url\":\"https://github.com/karma-runner/karma-closure/pull/22#issuecomment-113079010\",\"issue_url\":\"https://api.github.com/repos/karma-runner/karma-closure/issues/22\",\"id\":113079010,\"user\":{\"login\":\"marsmining\",\"id\":1126322,\"avatar_url\":\"https://avatars.githubusercontent.com/u/1126322?v=3\",\"gravatar_id\":\"\",\"url\":\"https://api.github.com/users/marsmining\",\"html_url\":\"https://github.com/marsmining\",\"followers_url\":\"https://api.github.com/users/marsmining/followers\",\"following_url\":\"https://api.github.com/users/marsmining/following{/other_user}\",\"gists_url\":\"https://api.github.com/users/marsmining/gists{/gist_id}\",\"starred_url\":\"https://api.github.com/users/marsmining/starred{/owner}{/repo}\",\"subscriptions_url\":\"https://api.github.com/users/marsmining/subscriptions\",\"organizations_url\":\"https://api.github.com/users/marsmining/orgs\",\"repos_url\":\"https://api.github.com/users/marsmining/repos\",\"events_url\":\"https://api.github.com/users/marsmining/events{/privacy}\",\"received_events_url\":\"https://api.github.com/users/marsmining/received_events\",\"type\":\"User\",\"site_admin\":false},\"created_at\":\"2015-06-18T08:46:51Z\",\"updated_at\":\"2015-06-18T08:46:51Z\",\"body\":\"I signed it!\\n\\nOn Thu, Jun 18, 2015 at 10:45 AM, googlebot <notifications@github.com>\\nwrote:\\n\\n> Thanks for your pull request. It looks like this may be your first\\n> contribution to a Google open source project, in which case you'll need to\\n> sign a Contributor License Agreement (CLA).\\n>\\n> [image: :memo:] *Please visit https://cla.developers.google.com/\\n> <https://cla.developers.google.com/> to sign.*\\n>\\n> Once you've signed, please reply here (e.g. I signed it!) and we'll\\n> verify. Thanks.\\n> ------------------------------\\n>\\n>    - If you've already signed a CLA, it's possible we don't have your\\n>    GitHub username or you're using a different email address. Check your\\n>    existing CLA data <https://cla.developers.google.com/clas> and verify\\n>    that your email is set on your git commits\\n>    <https://help.github.com/articles/setting-your-email-in-git/>.\\n>    - If you signed the CLA as a corporation, please let us know the\\n>    company's name.\\n>\\n> \u2014\\n> Reply to this email directly or view it on GitHub\\n> <https://github.com/karma-runner/karma-closure/pull/22#issuecomment-113078768>\\n> .\\n>\\n\\n\\n\\n-- \\nBrandon van Beekum\\nKonradinstra\u00dfe 24, Berlin 12105\\nCell: +49 0151 1029 4688\\n\"}},\"public\":true,\"created_at\":\"2015-06-18T08:46:51Z\",\"org\":{\"id\":3284117,\"login\":\"karma-runner\",\"gravatar_id\":\"\",\"url\":\"https://api.github.com/orgs/karma-runner\",\"avatar_url\":\"https://avatars.githubusercontent.com/u/3284117?\"}},{\"id\":\"2902683938\",\"type\":\"PushEvent\",\"actor\":{\"id\":2983992,\"login\":\"Nalaxon\",\"gravatar_id\":\"\",\"url\":\"https://api.github.com/users/Nalaxon\",\"avatar_url\":\"https://avatars.githubusercontent.com/u/2983992?\"},\"repo\":{\"id\":35542250,\"name\":\"Nalaxon/mia_randomforestclassifier\",\"url\":\"https://api.github.com/repos/Nalaxon/mia_randomforestclassifier\"},\"payload\":{\"push_id\":699186561,\"size\":1,\"distinct_size\":1,\"ref\":\"refs/heads/master\",\"head\":\"2a4eedbab05d862a3edadcdc67e4a594e03f8990\",\"before\":\"4ba75b2497eafcba7b0dc8a5c1c22dce670144a4\",\"commits\":[{\"sha\":\"2a4eedbab05d862a3edadcdc67e4a594e03f8990\",\"author\":{\"email\":\"bernhard.rapp@student.tugraz.at\",\"name\":\"Narcanti\"},\"message\":\"fix not declared var\",\"distinct\":true,\"url\":\"https://api.github.com/repos/Nalaxon/mia_randomforestclassifier/commits/2a4eedbab05d862a3edadcdc67e4a594e03f8990\"}]},\"public\":true,\"created_at\":\"2015-06-18T08:46:51Z\"},{\"id\":\"2902683933\",\"type\":\"CreateEvent\",\"actor\":{\"id\":66211,\"login\":\"pacak\",\"gravatar_id\":\"\",\"url\":\"https://api.github.com/users/pacak\",\"avatar_url\":\"https://avatars.githubusercontent.com/u/66211?\"},\"repo\":{\"id\":37648248,\"name\":\"pacak/omnomnomicon\",\"url\":\"https://api.github.com/repos/pacak/omnomnomicon\"},\"payload\":{\"ref\":null,\"ref_type\":\"repository\",\"master_branch\":\"master\",\"description\":\"tab-completion leaning parser\",\"pusher_type\":\"user\"},\"public\":true,\"created_at\":\"2015-06-18T08:46:51Z\"},{\"id\":\"2902683929\",\"type\":\"CreateEvent\",\"actor\":{\"id\":249633,\"login\":\"MrGekko\",\"gravatar_id\":\"\",\"url\":\"https://api.github.com/users/MrGekko\",\"avatar_url\":\"https://avatars.githubusercontent.com/u/249633?\"},\"repo\":{\"id\":37647932,\"name\":\"MrGekko/magento-lts\",\"url\":\"https://api.github.com/repos/MrGekko/magento-lts\"},\"payload\":{\"ref\":\"patch-1\",\"ref_type\":\"branch\",\"master_branch\":\"1.9.1\",\"description\":\"A fork of Magento that is accepting bug fixes\",\"pusher_type\":\"user\"},\"public\":true,\"created_at\":\"2015-06-18T08:46:51Z\"},{\"id\":\"2902683928\",\"type\":\"CreateEvent\",\"actor\":{\"id\":287648,\"login\":\"guddo\",\"gravatar_id\":\"\",\"url\":\"https://api.github.com/users/guddo\",\"avatar_url\":\"https://avatars.githubusercontent.com/u/287648?\"},\"repo\":{\"id\":32155971,\"name\":\"easyddb/ting_covers\",\"url\":\"https://api.github.com/repos/easyddb/ting_covers\"},\"payload\":{\"ref\":\"release_2.1.0\",\"ref_type\":\"branch\",\"master_branch\":\"master\",\"description\":\"Display cover images for ting objects\",\"pusher_type\":\"user\"},\"public\":true,\"created_at\":\"2015-06-18T08:46:51Z\",\"org\":{\"id\":7046188,\"login\":\"easyddb\",\"gravatar_id\":\"\",\"url\":\"https://api.github.com/orgs/easyddb\",\"avatar_url\":\"https://avatars.githubusercontent.com/u/7046188?\"}},{\"id\":\"2902683923\",\"type\":\"CreateEvent\",\"actor\":{\"id\":281252,\"login\":\"simonvh\",\"gravatar_id\":\"\",\"url\":\"https://api.github.com/users/simonvh\",\"avatar_url\":\"https://avatars.githubusercontent.com/u/281252?\"},\"repo\":{\"id\":4346865,\"name\":\"simonvh/fluff\",\"url\":\"https://api.github.com/repos/simonvh/fluff\"},\"payload\":{\"ref\":\"1.46\",\"ref_type\":\"tag\",\"master_branch\":\"master\",\"description\":\"Fluff is a Python package that contains several scripts to produce pretty, publication-quality figures for next-generation sequencing experiments.\",\"pusher_type\":\"user\"},\"public\":true,\"created_at\":\"2015-06-18T08:46:51Z\"},{\"id\":\"2902683919\",\"type\":\"PushEvent\",\"actor\":{\"id\":1881055,\"login\":\"govuk-ci\",\"gravatar_id\":\"\",\"url\":\"https://api.github.com/users/govuk-ci\",\"avatar_url\":\"https://avatars.githubusercontent.com/u/1881055?\"},\"repo\":{\"id\":37192283,\"name\":\"alphagov/authenticating-proxy\",\"url\":\"https://api.github.com/repos/alphagov/authenticating-proxy\"},\"payload\":{\"push_id\":699186551,\"size\":2,\"distinct_size\":0,\"ref\":\"refs/heads/deployed-to-preview\",\"head\":\"acfb015d1a6c6a4088c121f01c54e4a5fa8f855d\",\"before\":\"e50b7bcb98c4319fadcf5f848502e3f7f9720b25\",\"commits\":[{\"sha\":\"2009db8c6a8e1229a6853c9cfd56cc4ea871de8d\",\"author\":{\"email\":\"tekin@tekin.co.uk\",\"name\":\"Tekin Suleyman\"},\"message\":\"Add unit tests for Proxy class\\n\\nSome unit test coverage in preparation for making further modifications to its\\nbehaviour\",\"distinct\":false,\"url\":\"https://api.github.com/repos/alphagov/authenticating-proxy/commits/2009db8c6a8e1229a6853c9cfd56cc4ea871de8d\"},{\"sha\":\"acfb015d1a6c6a4088c121f01c54e4a5fa8f855d\",\"author\":{\"email\":\"pairing+heathd+tekin@digital.cabinet-office.gov.uk\",\"name\":\"David Heath and Tekin Suleyman\"},\"message\":\"Use Rack::Proxy as intended\\n\\nThe Rack::PRoxy API allows you to pass in the backend/upstream URI as an option.\",\"distinct\":false,\"url\":\"https://api.github.com/repos/alphagov/authenticating-proxy/commits/acfb015d1a6c6a4088c121f01c54e4a5fa8f855d\"}]},\"public\":true,\"created_at\":\"2015-06-18T08:46:50Z\",\"org\":{\"id\":596977,\"login\":\"alphagov\",\"gravatar_id\":\"\",\"url\":\"https://api.github.com/orgs/alphagov\",\"avatar_url\":\"https://avatars.githubusercontent.com/u/596977?\"}}]\n"
       ]
      }
     ],
     "prompt_number": 52
    },
    {
     "cell_type": "markdown",
     "metadata": {},
     "source": [
      "Requests will also use custom encodings in the event that you need them.\n",
      "If you have created your own encoding and registered it with the codecs module,\n",
      "you can simply use the codec name as the value of r.encoding and Requests will handle the decoding for you."
     ]
    },
    {
     "cell_type": "code",
     "collapsed": false,
     "input": [
      "print \"Encoding: \"+r.encoding"
     ],
     "language": "python",
     "metadata": {},
     "outputs": [
      {
       "output_type": "stream",
       "stream": "stdout",
       "text": [
        "Encoding: utf-8\n"
       ]
      }
     ],
     "prompt_number": 53
    },
    {
     "cell_type": "markdown",
     "metadata": {},
     "source": [
      "We can change the encoding to read r.text"
     ]
    },
    {
     "cell_type": "code",
     "collapsed": false,
     "input": [
      "r.encoding = 'ISO-8859-1'"
     ],
     "language": "python",
     "metadata": {},
     "outputs": [],
     "prompt_number": 54
    },
    {
     "cell_type": "heading",
     "level": 4,
     "metadata": {},
     "source": [
      "Response Content"
     ]
    },
    {
     "cell_type": "code",
     "collapsed": false,
     "input": [
      "print \"Binary Content: \\n\",r.content"
     ],
     "language": "python",
     "metadata": {},
     "outputs": [
      {
       "output_type": "stream",
       "stream": "stdout",
       "text": [
        "Binary Content: \n",
        "<!doctype html>\n",
        "<html>\n",
        "<head>\n",
        "    <title>Example Domain</title>\n",
        "\n",
        "    <meta charset=\"utf-8\" />\n",
        "    <meta http-equiv=\"Content-type\" content=\"text/html; charset=utf-8\" />\n",
        "    <meta name=\"viewport\" content=\"width=device-width, initial-scale=1\" />\n",
        "    <style type=\"text/css\">\n",
        "    body {\n",
        "        background-color: #f0f0f2;\n",
        "        margin: 0;\n",
        "        padding: 0;\n",
        "        font-family: \"Open Sans\", \"Helvetica Neue\", Helvetica, Arial, sans-serif;\n",
        "        \n",
        "    }\n",
        "    div {\n",
        "        width: 600px;\n",
        "        margin: 5em auto;\n",
        "        padding: 50px;\n",
        "        background-color: #fff;\n",
        "        border-radius: 1em;\n",
        "    }\n",
        "    a:link, a:visited {\n",
        "        color: #38488f;\n",
        "        text-decoration: none;\n",
        "    }\n",
        "    @media (max-width: 700px) {\n",
        "        body {\n",
        "            background-color: #fff;\n",
        "        }\n",
        "        div {\n",
        "            width: auto;\n",
        "            margin: 0 auto;\n",
        "            border-radius: 0;\n",
        "            padding: 1em;\n",
        "        }\n",
        "    }\n",
        "    </style>    \n",
        "</head>\n",
        "\n",
        "<body>\n",
        "<div>\n",
        "    <h1>Example Domain</h1>\n",
        "    <p>This domain is established to be used for illustrative examples in documents. You may use this\n",
        "    domain in examples without prior coordination or asking for permission.</p>\n",
        "    <p><a href=\"http://www.iana.org/domains/example\">More information...</a></p>\n",
        "</div>\n",
        "</body>\n",
        "</html>\n",
        "\n"
       ]
      }
     ],
     "prompt_number": 47
    },
    {
     "cell_type": "heading",
     "level": 4,
     "metadata": {},
     "source": [
      "JSON response content"
     ]
    },
    {
     "cell_type": "code",
     "collapsed": false,
     "input": [
      "print \"JSON content: \\n\",r.json()"
     ],
     "language": "python",
     "metadata": {},
     "outputs": [
      {
       "output_type": "stream",
       "stream": "stdout",
       "text": [
        "JSON content: \n",
        "[{u'payload': {u'action': u'created', u'comment': {u'body': u'CLAs look good, thanks!\\n\\n<!-- ok -->', u'url': u'https://api.github.com/repos/karma-runner/karma-closure/issues/comments/113079021', u'created_at': u'2015-06-18T08:46:52Z', u'html_url': u'https://github.com/karma-runner/karma-closure/pull/22#issuecomment-113079021', u'updated_at': u'2015-06-18T08:46:52Z', u'user': {u'following_url': u'https://api.github.com/users/googlebot/following{/other_user}', u'events_url': u'https://api.github.com/users/googlebot/events{/privacy}', u'organizations_url': u'https://api.github.com/users/googlebot/orgs', u'url': u'https://api.github.com/users/googlebot', u'gists_url': u'https://api.github.com/users/googlebot/gists{/gist_id}', u'html_url': u'https://github.com/googlebot', u'subscriptions_url': u'https://api.github.com/users/googlebot/subscriptions', u'avatar_url': u'https://avatars.githubusercontent.com/u/5384588?v=3', u'repos_url': u'https://api.github.com/users/googlebot/repos', u'received_events_url': u'https://api.github.com/users/googlebot/received_events', u'gravatar_id': u'', u'starred_url': u'https://api.github.com/users/googlebot/starred{/owner}{/repo}', u'site_admin': False, u'login': u'googlebot', u'type': u'User', u'id': 5384588, u'followers_url': u'https://api.github.com/users/googlebot/followers'}, u'id': 113079021, u'issue_url': u'https://api.github.com/repos/karma-runner/karma-closure/issues/22'}, u'issue': {u'body': u\"rm spec issues re Object.create(null) & __proto__\\r\\n\\r\\nthe previous code used the idiom of `Object.create(null)` to use an object like a hash or cache, and leveraged the prototype chain as a type of cache miss failover. there is some js spec weirdness and changes around node 0.12 surrounding the existence of `__proto__` when using `Object.create(null)`.\\r\\n\\r\\nto eliminate this confusion i've added a function to replace the above so that the semantics are clear and consistent and we aren't using the non-standard `__proto__`.\\r\\n\\r\\nalso update npm dev deps to latest versions and added a missing jshintrc.\", u'labels': [], u'locked': False, u'title': u'rm spec issues re Object.create(null) & __proto__', u'url': u'https://api.github.com/repos/karma-runner/karma-closure/issues/22', u'labels_url': u'https://api.github.com/repos/karma-runner/karma-closure/issues/22/labels{/name}', u'created_at': u'2015-06-18T08:45:13Z', u'events_url': u'https://api.github.com/repos/karma-runner/karma-closure/issues/22/events', u'comments_url': u'https://api.github.com/repos/karma-runner/karma-closure/issues/22/comments', u'html_url': u'https://github.com/karma-runner/karma-closure/pull/22', u'comments': 2, u'number': 22, u'updated_at': u'2015-06-18T08:46:52Z', u'assignee': None, u'state': u'open', u'user': {u'following_url': u'https://api.github.com/users/marsmining/following{/other_user}', u'events_url': u'https://api.github.com/users/marsmining/events{/privacy}', u'organizations_url': u'https://api.github.com/users/marsmining/orgs', u'url': u'https://api.github.com/users/marsmining', u'gists_url': u'https://api.github.com/users/marsmining/gists{/gist_id}', u'html_url': u'https://github.com/marsmining', u'subscriptions_url': u'https://api.github.com/users/marsmining/subscriptions', u'avatar_url': u'https://avatars.githubusercontent.com/u/1126322?v=3', u'repos_url': u'https://api.github.com/users/marsmining/repos', u'received_events_url': u'https://api.github.com/users/marsmining/received_events', u'gravatar_id': u'', u'starred_url': u'https://api.github.com/users/marsmining/starred{/owner}{/repo}', u'site_admin': False, u'login': u'marsmining', u'type': u'User', u'id': 1126322, u'followers_url': u'https://api.github.com/users/marsmining/followers'}, u'milestone': None, u'closed_at': None, u'pull_request': {u'url': u'https://api.github.com/repos/karma-runner/karma-closure/pulls/22', u'diff_url': u'https://github.com/karma-runner/karma-closure/pull/22.diff', u'html_url': u'https://github.com/karma-runner/karma-closure/pull/22', u'patch_url': u'https://github.com/karma-runner/karma-closure/pull/22.patch'}, u'id': 89235660}}, u'created_at': u'2015-06-18T08:46:52Z', u'actor': {u'url': u'https://api.github.com/users/googlebot', u'login': u'googlebot', u'avatar_url': u'https://avatars.githubusercontent.com/u/5384588?', u'id': 5384588, u'gravatar_id': u''}, u'id': u'2902684038', u'repo': {u'url': u'https://api.github.com/repos/karma-runner/karma-closure', u'id': 9383591, u'name': u'karma-runner/karma-closure'}, u'org': {u'url': u'https://api.github.com/orgs/karma-runner', u'login': u'karma-runner', u'avatar_url': u'https://avatars.githubusercontent.com/u/3284117?', u'id': 3284117, u'gravatar_id': u''}, u'type': u'IssueCommentEvent', u'public': True}, {u'payload': {u'action': u'created', u'comment': {u'body': u'Bayesian Opt\\xe3\\x81\\xaf\\xe4\\xbd\\xbf\\xe3\\x82\\x8f\\xe3\\x81\\xaa\\xe3\\x81\\x84\\xe3\\x81\\xa8\\xe6\\x80\\x9d\\xe3\\x81\\x86\\xe3\\x81\\x91\\xe3\\x81\\xa9\\xe3\\x81\\x93\\xe3\\x81\\xae\\xe8\\xb3\\x87\\xe6\\x96\\x99\\xe3\\x81\\x8c\\xe3\\x82\\x8f\\xe3\\x81\\x8b\\xe3\\x82\\x8a\\xe3\\x82\\x84\\xe3\\x81\\x99\\xe3\\x81\\x8b\\xe3\\x81\\xa3\\xe3\\x81\\x9f\\r\\nhttps://tech.d-itlab.co.jp/kuto/2013/07/26/%E8%AB%96%E6%96%87%E7%B4%B9%E4%BB%8Bpractical-bayesian-optimization-of-machine-learning-algorithmsnips2012/', u'url': u'https://api.github.com/repos/dichika/memo/issues/comments/113079020', u'created_at': u'2015-06-18T08:46:52Z', u'html_url': u'https://github.com/dichika/memo/issues/2#issuecomment-113079020', u'updated_at': u'2015-06-18T08:46:52Z', u'user': {u'following_url': u'https://api.github.com/users/dichika/following{/other_user}', u'events_url': u'https://api.github.com/users/dichika/events{/privacy}', u'organizations_url': u'https://api.github.com/users/dichika/orgs', u'url': u'https://api.github.com/users/dichika', u'gists_url': u'https://api.github.com/users/dichika/gists{/gist_id}', u'html_url': u'https://github.com/dichika', u'subscriptions_url': u'https://api.github.com/users/dichika/subscriptions', u'avatar_url': u'https://avatars.githubusercontent.com/u/637264?v=3', u'repos_url': u'https://api.github.com/users/dichika/repos', u'received_events_url': u'https://api.github.com/users/dichika/received_events', u'gravatar_id': u'', u'starred_url': u'https://api.github.com/users/dichika/starred{/owner}{/repo}', u'site_admin': False, u'login': u'dichika', u'type': u'User', u'id': 637264, u'followers_url': u'https://api.github.com/users/dichika/followers'}, u'id': 113079020, u'issue_url': u'https://api.github.com/repos/dichika/memo/issues/2'}, u'issue': {u'body': u'0.841504:old\\r\\n0.8428461\\r\\n0.851 rm filter\\r\\n0.8529791 source\\r\\n0.8519965 source count\\r\\n0.8630154 start yearmonth\\r\\n0.8688813 start date\\r\\n0.8693542 interval\\r\\n0.87072 unique obj\\r\\n0.8727769 browser_flag\\r\\n0.8726645 obj_category\\r\\n0.8726432 wday\\r\\n0.8725883 year\\r\\n0.8732568 first last\\r\\n0.8739745 session\\r\\n0.873695 -keep_median, -keep_mean\\r\\n0.8738611 session\\r\\n0.87535 bug fix\\r\\n0.8749137 bug fix\\r\\n0.8738832 -year\\r\\n0.8749045 day>1 -browser, -server\\r\\n0.874532 -day>1 -browser, -server\\r\\n0.8742906 day>=1 -browser, -server\\r\\n0.8743647 -first\\r\\n0.8741762 day>2\\r\\n0.8744576 add session_first_last\\r\\n0.8741655 scaled_session_first_last\\r\\n0.874472 object top20\\r\\n0.8747894 last action\\r\\n0.8750612 -all -browser\\r\\n0.8750528\\xe3\\x80\\x80-browser_page_close,-all_0, -browser, -server, -all, -all_lastday\\r\\n0.8752374\\xe3\\x80\\x80categoryprop', u'labels': [], u'locked': False, u'title': u'kdd', u'url': u'https://api.github.com/repos/dichika/memo/issues/2', u'labels_url': u'https://api.github.com/repos/dichika/memo/issues/2/labels{/name}', u'created_at': u'2015-05-10T23:53:26Z', u'events_url': u'https://api.github.com/repos/dichika/memo/issues/2/events', u'comments_url': u'https://api.github.com/repos/dichika/memo/issues/2/comments', u'html_url': u'https://github.com/dichika/memo/issues/2', u'comments': 34, u'number': 2, u'updated_at': u'2015-06-18T08:46:52Z', u'assignee': None, u'state': u'open', u'user': {u'following_url': u'https://api.github.com/users/dichika/following{/other_user}', u'events_url': u'https://api.github.com/users/dichika/events{/privacy}', u'organizations_url': u'https://api.github.com/users/dichika/orgs', u'url': u'https://api.github.com/users/dichika', u'gists_url': u'https://api.github.com/users/dichika/gists{/gist_id}', u'html_url': u'https://github.com/dichika', u'subscriptions_url': u'https://api.github.com/users/dichika/subscriptions', u'avatar_url': u'https://avatars.githubusercontent.com/u/637264?v=3', u'repos_url': u'https://api.github.com/users/dichika/repos', u'received_events_url': u'https://api.github.com/users/dichika/received_events', u'gravatar_id': u'', u'starred_url': u'https://api.github.com/users/dichika/starred{/owner}{/repo}', u'site_admin': False, u'login': u'dichika', u'type': u'User', u'id': 637264, u'followers_url': u'https://api.github.com/users/dichika/followers'}, u'milestone': None, u'closed_at': None, u'id': 75029147}}, u'created_at': u'2015-06-18T08:46:52Z', u'actor': {u'url': u'https://api.github.com/users/dichika', u'login': u'dichika', u'avatar_url': u'https://avatars.githubusercontent.com/u/637264?', u'id': 637264, u'gravatar_id': u''}, u'id': u'2902684032', u'repo': {u'url': u'https://api.github.com/repos/dichika/memo', u'id': 35359451, u'name': u'dichika/memo'}, u'type': u'IssueCommentEvent', u'public': True}, {u'payload': {u'ref_type': u'branch', u'ref': u'tilevector-extent', u'pusher_type': u'user'}, u'created_at': u'2015-06-18T08:46:52Z', u'actor': {u'url': u'https://api.github.com/users/ahocevar', u'login': u'ahocevar', u'avatar_url': u'https://avatars.githubusercontent.com/u/211514?', u'id': 211514, u'gravatar_id': u''}, u'id': u'2902684030', u'repo': {u'url': u'https://api.github.com/repos/ahocevar/ol3', u'id': 4974939, u'name': u'ahocevar/ol3'}, u'type': u'DeleteEvent', u'public': True}, {u'payload': {u'master_branch': u'master', u'ref_type': u'branch', u'ref': u'master', u'description': u'learn git', u'pusher_type': u'user'}, u'created_at': u'2015-06-18T08:46:52Z', u'actor': {u'url': u'https://api.github.com/users/youmengxuefei', u'login': u'youmengxuefei', u'avatar_url': u'https://avatars.githubusercontent.com/u/9448429?', u'id': 9448429, u'gravatar_id': u''}, u'id': u'2902684025', u'repo': {u'url': u'https://api.github.com/repos/youmengxuefei/gitlearn', u'id': 37648250, u'name': u'youmengxuefei/gitlearn'}, u'type': u'CreateEvent', u'public': True}, {u'payload': {u'size': 3, u'head': u'd9f45db71e51d18e9577a69f357ccc7143396e62', u'commits': [{u'distinct': True, u'sha': u'55b38556feabc2205e0a7c304abd60b7aa36bc25', u'message': u'cpufreq: splitting out cpufreq stuff into a device module', u'url': u'https://api.github.com/repos/ARM-software/workload-automation/commits/55b38556feabc2205e0a7c304abd60b7aa36bc25', u'author': {u'email': u'sergei.trofimov@arm.com', u'name': u'Sergei Trofimov'}}, {u'distinct': True, u'sha': u'73d85c2b4ef50c552c1b3ebc87bea6e6b10b71bf', u'message': u'cleaning up initialize()\\n\\n- standardisded on a single context argument\\n- removed Device.init() no longer necessary as initilize now\\n  automatically gets propagated up the hierarchy. Renamed the existing\\n  use of it to \"initilize\".\\n- related pylint cleanup.', u'url': u'https://api.github.com/repos/ARM-software/workload-automation/commits/73d85c2b4ef50c552c1b3ebc87bea6e6b10b71bf', u'author': {u'email': u'sergei.trofimov@arm.com', u'name': u'Sergei Trofimov'}}, {u'distinct': True, u'sha': u'd9f45db71e51d18e9577a69f357ccc7143396e62', u'message': u'Implementing dynamic device modules\\n\\nDynamic modules may be loaded automatically on device initialization if\\nthe device supports them. Dynamic modules implent probe() method to\\ndetermine whether they are supported by a particular deviced.\\n\\ndevcpufreq and cpuidle have been converted into dynamic modules', u'url': u'https://api.github.com/repos/ARM-software/workload-automation/commits/d9f45db71e51d18e9577a69f357ccc7143396e62', u'author': {u'email': u'sergei.trofimov@arm.com', u'name': u'Sergei Trofimov'}}], u'distinct_size': 3, u'push_id': 699186600, u'ref': u'refs/heads/master', u'before': u'a71756acda3ef29d05f41d7658cc4272022b0415'}, u'created_at': u'2015-06-18T08:46:52Z', u'actor': {u'url': u'https://api.github.com/users/setrofim', u'login': u'setrofim', u'avatar_url': u'https://avatars.githubusercontent.com/u/904685?', u'id': 904685, u'gravatar_id': u''}, u'id': u'2902684023', u'repo': {u'url': u'https://api.github.com/repos/ARM-software/workload-automation', u'id': 31957801, u'name': u'ARM-software/workload-automation'}, u'org': {u'url': u'https://api.github.com/orgs/ARM-software', u'login': u'ARM-software', u'avatar_url': u'https://avatars.githubusercontent.com/u/5690313?', u'id': 5690313, u'gravatar_id': u''}, u'type': u'PushEvent', u'public': True}, {u'payload': {u'master_branch': u'master', u'ref_type': u'repository', u'ref': None, u'description': u'learn git', u'pusher_type': u'user'}, u'created_at': u'2015-06-18T08:46:52Z', u'actor': {u'url': u'https://api.github.com/users/youmengxuefei', u'login': u'youmengxuefei', u'avatar_url': u'https://avatars.githubusercontent.com/u/9448429?', u'id': 9448429, u'gravatar_id': u''}, u'id': u'2902684020', u'repo': {u'url': u'https://api.github.com/repos/youmengxuefei/gitlearn', u'id': 37648250, u'name': u'youmengxuefei/gitlearn'}, u'type': u'CreateEvent', u'public': True}, {u'payload': {u'size': 2, u'head': u'02f82d38334782be27614a733c3536ac9e2f46bd', u'commits': [{u'distinct': True, u'sha': u'045916419ff2cadd707a1466309a89fc247aab80', u'message': u'update', u'url': u'https://api.github.com/repos/5hut0/dotfiles/commits/045916419ff2cadd707a1466309a89fc247aab80', u'author': {u'email': u'shuto@Shuto-MBP13.local', u'name': u'5hut0'}}, {u'distinct': True, u'sha': u'02f82d38334782be27614a733c3536ac9e2f46bd', u'message': u'update', u'url': u'https://api.github.com/repos/5hut0/dotfiles/commits/02f82d38334782be27614a733c3536ac9e2f46bd', u'author': {u'email': u'shuto@Shuto-MBP13.local', u'name': u'5hut0'}}], u'distinct_size': 2, u'push_id': 699186599, u'ref': u'refs/heads/master', u'before': u'3864de6c5f7acd3e45eb65433f706be9d66f9c0e'}, u'created_at': u'2015-06-18T08:46:52Z', u'actor': {u'url': u'https://api.github.com/users/5hut0', u'login': u'5hut0', u'avatar_url': u'https://avatars.githubusercontent.com/u/8818941?', u'id': 8818941, u'gravatar_id': u''}, u'id': u'2902684018', u'repo': {u'url': u'https://api.github.com/repos/5hut0/dotfiles', u'id': 33584997, u'name': u'5hut0/dotfiles'}, u'type': u'PushEvent', u'public': True}, {u'payload': {u'size': 4, u'head': u'e9007bf6264aa6f629a71f615d2e76d1e32502da', u'commits': [{u'distinct': True, u'sha': u'645ebf03d69ee9c8bab15ea02873875a757376db', u'message': u'add spec', u'url': u'https://api.github.com/repos/masarakki/life_plan/commits/645ebf03d69ee9c8bab15ea02873875a757376db', u'author': {u'email': u'masaki@hisme.net', u'name': u'masarakki'}}, {u'distinct': True, u'sha': u'86a24a962b8ae5cd005c5bddd8e80f28c91e4b3d', u'message': u'use ruby-2.2.2', u'url': u'https://api.github.com/repos/masarakki/life_plan/commits/86a24a962b8ae5cd005c5bddd8e80f28c91e4b3d', u'author': {u'email': u'masaki@hisme.net', u'name': u'masarakki'}}, {u'distinct': True, u'sha': u'2baf199d7233558063b8d5bc073e2f45bc9b283c', u'message': u'Merge pull request #120 from masarakki/add-spec\\n\\nadd spec', u'url': u'https://api.github.com/repos/masarakki/life_plan/commits/2baf199d7233558063b8d5bc073e2f45bc9b283c', u'author': {u'email': u'masaki@hisme.net', u'name': u'masarakki'}}, {u'distinct': True, u'sha': u'e9007bf6264aa6f629a71f615d2e76d1e32502da', u'message': u'Merge pull request #121 from masarakki/use-2.2.2\\n\\nuse ruby-2.2.2', u'url': u'https://api.github.com/repos/masarakki/life_plan/commits/e9007bf6264aa6f629a71f615d2e76d1e32502da', u'author': {u'email': u'masaki@hisme.net', u'name': u'masarakki'}}], u'distinct_size': 4, u'push_id': 699186596, u'ref': u'refs/heads/master', u'before': u'ff74590c48f0684e0db4939ddfb8652882721fe6'}, u'created_at': u'2015-06-18T08:46:52Z', u'actor': {u'url': u'https://api.github.com/users/masarakki', u'login': u'masarakki', u'avatar_url': u'https://avatars.githubusercontent.com/u/26023?', u'id': 26023, u'gravatar_id': u''}, u'id': u'2902684017', u'repo': {u'url': u'https://api.github.com/repos/masarakki/life_plan', u'id': 10702494, u'name': u'masarakki/life_plan'}, u'type': u'PushEvent', u'public': True}, {u'payload': {u'size': 1, u'head': u'db7df31350b0cc85db9d0fb2c5caccbd630496f7', u'commits': [{u'distinct': True, u'sha': u'db7df31350b0cc85db9d0fb2c5caccbd630496f7', u'message': u'FPSController Oculus Changes', u'url': u'https://api.github.com/repos/kweeniemike/GPT4DeadPixels/commits/db7df31350b0cc85db9d0fb2c5caccbd630496f7', u'author': {u'email': u'cypher@live.nl', u'name': u'Phyxel'}}], u'distinct_size': 1, u'push_id': 699186595, u'ref': u'refs/heads/master', u'before': u'abddedba0b8b5025ba2b55f5c559c375c4298f47'}, u'created_at': u'2015-06-18T08:46:52Z', u'actor': {u'url': u'https://api.github.com/users/Phyxel', u'login': u'Phyxel', u'avatar_url': u'https://avatars.githubusercontent.com/u/9109658?', u'id': 9109658, u'gravatar_id': u''}, u'id': u'2902684012', u'repo': {u'url': u'https://api.github.com/repos/kweeniemike/GPT4DeadPixels', u'id': 36065884, u'name': u'kweeniemike/GPT4DeadPixels'}, u'type': u'PushEvent', u'public': True}, {u'payload': {u'size': 1, u'head': u'07045ff5946c4a238c46969642be0be775923e77', u'commits': [{u'distinct': True, u'sha': u'07045ff5946c4a238c46969642be0be775923e77', u'message': u'\\xe4\\xbb\\xa3\\xe7\\xa0\\x81\\xe6\\x9b\\xb4\\xe6\\x96\\xb0\\xe6\\x8f\\x90\\xe4\\xba\\xa4', u'url': u'https://api.github.com/repos/leeloveying/selenium_test/commits/07045ff5946c4a238c46969642be0be775923e77', u'author': {u'email': u'535643117@qq.com', u'name': u'leeloveying'}}], u'distinct_size': 1, u'push_id': 699186594, u'ref': u'refs/heads/master', u'before': u'a89dddca074f948955219f41c270d4dbbce527fb'}, u'created_at': u'2015-06-18T08:46:52Z', u'actor': {u'url': u'https://api.github.com/users/leeloveying', u'login': u'leeloveying', u'avatar_url': u'https://avatars.githubusercontent.com/u/11881934?', u'id': 11881934, u'gravatar_id': u''}, u'id': u'2902684010', u'repo': {u'url': u'https://api.github.com/repos/leeloveying/selenium_test', u'id': 36905777, u'name': u'leeloveying/selenium_test'}, u'type': u'PushEvent', u'public': True}, {u'payload': {u'action': u'opened', u'issue': {u'body': u'`FreeFlowContainer#notifyDataSetChanged()` calls requestLayout() and redraw with backed adapter (computeLayout() and mLayout.prepareLayout()) in onMeasure().\\r\\n\\r\\n- https://github.com/Comcast/FreeFlow/blob/96ebb0cc959ba0bfe5d8a8118aa9345550ff58c9/FreeFlow/src/com/comcast/freeflow/core/FreeFlowContainer.java#L276\\r\\n- https://github.com/Comcast/FreeFlow/blob/96ebb0cc959ba0bfe5d8a8118aa9345550ff58c9/FreeFlow/src/com/comcast/freeflow/core/FreeFlowContainer.java#L255\\r\\n\\r\\nBut when requestLayout() is called while scrolling, onTouchEvent() is called before onMeasure() and it causes crash by IndexOutOfBoundsException in adapter implementation.\\r\\n\\r\\nNote that ListView effectively avoids this problem by call layoutChildren() before applying scroll to view.\\r\\n\\r\\n1. Set mDataChanged = true in notifyDataSetChanged().\\r\\n   https://github.com/android/platform_frameworks_base/blob/android-5.1.1_r4/core/java/android/widget/AdapterView.java#L809\\r\\n2. Check mDataChanged and call layoutChildren() inTouchMove().\\r\\n   https://github.com/android/platform_frameworks_base/blob/android-5.1.1_r4/core/java/android/widget/AbsListView.java#L3763\\r\\n3. Then redraw views with new data from mAdapter.\\r\\n   https://github.com/android/platform_frameworks_base/blob/android-5.1.1_r4/core/java/android/widget/ListView.java#L1561', u'labels': [], u'locked': False, u'title': u'Invalid index is passed to adapter when notifyDataSetChanged() while scrolling', u'url': u'https://api.github.com/repos/Comcast/FreeFlow/issues/85', u'labels_url': u'https://api.github.com/repos/Comcast/FreeFlow/issues/85/labels{/name}', u'created_at': u'2015-06-18T08:46:52Z', u'events_url': u'https://api.github.com/repos/Comcast/FreeFlow/issues/85/events', u'comments_url': u'https://api.github.com/repos/Comcast/FreeFlow/issues/85/comments', u'html_url': u'https://github.com/Comcast/FreeFlow/issues/85', u'comments': 0, u'number': 85, u'updated_at': u'2015-06-18T08:46:52Z', u'assignee': None, u'state': u'open', u'user': {u'following_url': u'https://api.github.com/users/ypresto/following{/other_user}', u'events_url': u'https://api.github.com/users/ypresto/events{/privacy}', u'organizations_url': u'https://api.github.com/users/ypresto/orgs', u'url': u'https://api.github.com/users/ypresto', u'gists_url': u'https://api.github.com/users/ypresto/gists{/gist_id}', u'html_url': u'https://github.com/ypresto', u'subscriptions_url': u'https://api.github.com/users/ypresto/subscriptions', u'avatar_url': u'https://avatars.githubusercontent.com/u/400558?v=3', u'repos_url': u'https://api.github.com/users/ypresto/repos', u'received_events_url': u'https://api.github.com/users/ypresto/received_events', u'gravatar_id': u'', u'starred_url': u'https://api.github.com/users/ypresto/starred{/owner}{/repo}', u'site_admin': False, u'login': u'ypresto', u'type': u'User', u'id': 400558, u'followers_url': u'https://api.github.com/users/ypresto/followers'}, u'milestone': None, u'closed_at': None, u'id': 89235934}}, u'created_at': u'2015-06-18T08:46:52Z', u'actor': {u'url': u'https://api.github.com/users/ypresto', u'login': u'ypresto', u'avatar_url': u'https://avatars.githubusercontent.com/u/400558?', u'id': 400558, u'gravatar_id': u''}, u'id': u'2902684003', u'repo': {u'url': u'https://api.github.com/repos/Comcast/FreeFlow', u'id': 13421516, u'name': u'Comcast/FreeFlow'}, u'org': {u'url': u'https://api.github.com/orgs/Comcast', u'login': u'Comcast', u'avatar_url': u'https://avatars.githubusercontent.com/u/709212?', u'id': 709212, u'gravatar_id': u''}, u'type': u'IssuesEvent', u'public': True}, {u'payload': {u'size': 1, u'head': u'c7b7a3a78ed0fb45c8dd56f6ba5fb27df050de2e', u'commits': [{u'distinct': True, u'sha': u'c7b7a3a78ed0fb45c8dd56f6ba5fb27df050de2e', u'message': u'Updated production output files.', u'url': u'https://api.github.com/repos/jasiek/sop8breakout/commits/c7b7a3a78ed0fb45c8dd56f6ba5fb27df050de2e', u'author': {u'email': u'jan.szumiec@gmail.com', u'name': u'Jan Szumiec'}}], u'distinct_size': 1, u'push_id': 699186593, u'ref': u'refs/heads/master', u'before': u'a584b94637834be259224dedf4a86598db24f84c'}, u'created_at': u'2015-06-18T08:46:52Z', u'actor': {u'url': u'https://api.github.com/users/jasiek', u'login': u'jasiek', u'avatar_url': u'https://avatars.githubusercontent.com/u/37550?', u'id': 37550, u'gravatar_id': u''}, u'id': u'2902684001', u'repo': {u'url': u'https://api.github.com/repos/jasiek/sop8breakout', u'id': 36958289, u'name': u'jasiek/sop8breakout'}, u'type': u'PushEvent', u'public': True}, {u'payload': {u'action': u'opened', u'number': 278, u'pull_request': {u'deletions': 4, u'merge_commit_sha': None, u'number': 278, u'assignee': None, u'mergeable': None, u'closed_at': None, u'additions': 3, u'statuses_url': u'https://api.github.com/repos/wchill/steamSummerMinigame/statuses/5483ecf68bb7b1a920c673cfa7f3bf7dd877c4c3', u'id': 37983581, u'title': u'Clean up the footprint of multibuy a little bit', u'comments': 0, u'merged_at': None, u'state': u'open', u'_links': {u'review_comment': {u'href': u'https://api.github.com/repos/wchill/steamSummerMinigame/pulls/comments{/number}'}, u'commits': {u'href': u'https://api.github.com/repos/wchill/steamSummerMinigame/pulls/278/commits'}, u'self': {u'href': u'https://api.github.com/repos/wchill/steamSummerMinigame/pulls/278'}, u'review_comments': {u'href': u'https://api.github.com/repos/wchill/steamSummerMinigame/pulls/278/comments'}, u'html': {u'href': u'https://github.com/wchill/steamSummerMinigame/pull/278'}, u'comments': {u'href': u'https://api.github.com/repos/wchill/steamSummerMinigame/issues/278/comments'}, u'issue': {u'href': u'https://api.github.com/repos/wchill/steamSummerMinigame/issues/278'}, u'statuses': {u'href': u'https://api.github.com/repos/wchill/steamSummerMinigame/statuses/5483ecf68bb7b1a920c673cfa7f3bf7dd877c4c3'}}, u'changed_files': 1, u'diff_url': u'https://github.com/wchill/steamSummerMinigame/pull/278.diff', u'issue_url': u'https://api.github.com/repos/wchill/steamSummerMinigame/issues/278', u'body': u\"There's no need to add the old TrySpendBadgePoints function back onto the scene object to be able to access 'this', you just have to call it differently. This way seems cleaner.\", u'head': {u'repo': {u'issues_url': u'https://api.github.com/repos/Prommah/steamSummerMinigame/issues{/number}', u'stargazers_count': 0, u'forks_url': u'https://api.github.com/repos/Prommah/steamSummerMinigame/forks', u'mirror_url': None, u'subscription_url': u'https://api.github.com/repos/Prommah/steamSummerMinigame/subscription', u'notifications_url': u'https://api.github.com/repos/Prommah/steamSummerMinigame/notifications{?since,all,participating}', u'collaborators_url': u'https://api.github.com/repos/Prommah/steamSummerMinigame/collaborators{/collaborator}', u'updated_at': u'2015-06-18T08:44:43Z', u'private': False, u'pulls_url': u'https://api.github.com/repos/Prommah/steamSummerMinigame/pulls{/number}', u'issue_comment_url': u'https://api.github.com/repos/Prommah/steamSummerMinigame/issues/comments{/number}', u'labels_url': u'https://api.github.com/repos/Prommah/steamSummerMinigame/labels{/name}', u'has_wiki': True, u'full_name': u'Prommah/steamSummerMinigame', u'owner': {u'following_url': u'https://api.github.com/users/Prommah/following{/other_user}', u'events_url': u'https://api.github.com/users/Prommah/events{/privacy}', u'organizations_url': u'https://api.github.com/users/Prommah/orgs', u'url': u'https://api.github.com/users/Prommah', u'gists_url': u'https://api.github.com/users/Prommah/gists{/gist_id}', u'html_url': u'https://github.com/Prommah', u'subscriptions_url': u'https://api.github.com/users/Prommah/subscriptions', u'avatar_url': u'https://avatars.githubusercontent.com/u/4395010?v=3', u'repos_url': u'https://api.github.com/users/Prommah/repos', u'received_events_url': u'https://api.github.com/users/Prommah/received_events', u'gravatar_id': u'', u'starred_url': u'https://api.github.com/users/Prommah/starred{/owner}{/repo}', u'site_admin': False, u'login': u'Prommah', u'type': u'User', u'id': 4395010, u'followers_url': u'https://api.github.com/users/Prommah/followers'}, u'statuses_url': u'https://api.github.com/repos/Prommah/steamSummerMinigame/statuses/{sha}', u'id': 37648147, u'keys_url': u'https://api.github.com/repos/Prommah/steamSummerMinigame/keys{/key_id}', u'description': u'Steam Summer Sale 2015 - Auto-play Optimizer', u'tags_url': u'https://api.github.com/repos/Prommah/steamSummerMinigame/tags', u'downloads_url': u'https://api.github.com/repos/Prommah/steamSummerMinigame/downloads', u'assignees_url': u'https://api.github.com/repos/Prommah/steamSummerMinigame/assignees{/user}', u'contents_url': u'https://api.github.com/repos/Prommah/steamSummerMinigame/contents/{+path}', u'has_pages': False, u'git_refs_url': u'https://api.github.com/repos/Prommah/steamSummerMinigame/git/refs{/sha}', u'open_issues_count': 0, u'clone_url': u'https://github.com/Prommah/steamSummerMinigame.git', u'watchers_count': 0, u'git_tags_url': u'https://api.github.com/repos/Prommah/steamSummerMinigame/git/tags{/sha}', u'milestones_url': u'https://api.github.com/repos/Prommah/steamSummerMinigame/milestones{/number}', u'languages_url': u'https://api.github.com/repos/Prommah/steamSummerMinigame/languages', u'size': 4133, u'homepage': None, u'fork': True, u'commits_url': u'https://api.github.com/repos/Prommah/steamSummerMinigame/commits{/sha}', u'releases_url': u'https://api.github.com/repos/Prommah/steamSummerMinigame/releases{/id}', u'issue_events_url': u'https://api.github.com/repos/Prommah/steamSummerMinigame/issues/events{/number}', u'archive_url': u'https://api.github.com/repos/Prommah/steamSummerMinigame/{archive_format}{/ref}', u'comments_url': u'https://api.github.com/repos/Prommah/steamSummerMinigame/comments{/number}', u'events_url': u'https://api.github.com/repos/Prommah/steamSummerMinigame/events', u'contributors_url': u'https://api.github.com/repos/Prommah/steamSummerMinigame/contributors', u'html_url': u'https://github.com/Prommah/steamSummerMinigame', u'forks': 0, u'compare_url': u'https://api.github.com/repos/Prommah/steamSummerMinigame/compare/{base}...{head}', u'open_issues': 0, u'git_url': u'git://github.com/Prommah/steamSummerMinigame.git', u'svn_url': u'https://github.com/Prommah/steamSummerMinigame', u'merges_url': u'https://api.github.com/repos/Prommah/steamSummerMinigame/merges', u'has_issues': False, u'ssh_url': u'git@github.com:Prommah/steamSummerMinigame.git', u'blobs_url': u'https://api.github.com/repos/Prommah/steamSummerMinigame/git/blobs{/sha}', u'git_commits_url': u'https://api.github.com/repos/Prommah/steamSummerMinigame/git/commits{/sha}', u'hooks_url': u'https://api.github.com/repos/Prommah/steamSummerMinigame/hooks', u'has_downloads': True, u'watchers': 0, u'name': u'steamSummerMinigame', u'language': u'JavaScript', u'url': u'https://api.github.com/repos/Prommah/steamSummerMinigame', u'created_at': u'2015-06-18T08:44:43Z', u'pushed_at': u'2015-06-18T08:45:06Z', u'forks_count': 0, u'default_branch': u'master', u'teams_url': u'https://api.github.com/repos/Prommah/steamSummerMinigame/teams', u'trees_url': u'https://api.github.com/repos/Prommah/steamSummerMinigame/git/trees{/sha}', u'branches_url': u'https://api.github.com/repos/Prommah/steamSummerMinigame/branches{/branch}', u'subscribers_url': u'https://api.github.com/repos/Prommah/steamSummerMinigame/subscribers', u'stargazers_url': u'https://api.github.com/repos/Prommah/steamSummerMinigame/stargazers'}, u'sha': u'5483ecf68bb7b1a920c673cfa7f3bf7dd877c4c3', u'ref': u'patch-1', u'user': {u'following_url': u'https://api.github.com/users/Prommah/following{/other_user}', u'events_url': u'https://api.github.com/users/Prommah/events{/privacy}', u'organizations_url': u'https://api.github.com/users/Prommah/orgs', u'url': u'https://api.github.com/users/Prommah', u'gists_url': u'https://api.github.com/users/Prommah/gists{/gist_id}', u'html_url': u'https://github.com/Prommah', u'subscriptions_url': u'https://api.github.com/users/Prommah/subscriptions', u'avatar_url': u'https://avatars.githubusercontent.com/u/4395010?v=3', u'repos_url': u'https://api.github.com/users/Prommah/repos', u'received_events_url': u'https://api.github.com/users/Prommah/received_events', u'gravatar_id': u'', u'starred_url': u'https://api.github.com/users/Prommah/starred{/owner}{/repo}', u'site_admin': False, u'login': u'Prommah', u'type': u'User', u'id': 4395010, u'followers_url': u'https://api.github.com/users/Prommah/followers'}, u'label': u'Prommah:patch-1'}, u'commits_url': u'https://api.github.com/repos/wchill/steamSummerMinigame/pulls/278/commits', u'commits': 1, u'comments_url': u'https://api.github.com/repos/wchill/steamSummerMinigame/issues/278/comments', u'html_url': u'https://github.com/wchill/steamSummerMinigame/pull/278', u'updated_at': u'2015-06-18T08:46:52Z', u'base': {u'repo': {u'issues_url': u'https://api.github.com/repos/wchill/steamSummerMinigame/issues{/number}', u'stargazers_count': 217, u'forks_url': u'https://api.github.com/repos/wchill/steamSummerMinigame/forks', u'mirror_url': None, u'subscription_url': u'https://api.github.com/repos/wchill/steamSummerMinigame/subscription', u'notifications_url': u'https://api.github.com/repos/wchill/steamSummerMinigame/notifications{?since,all,participating}', u'collaborators_url': u'https://api.github.com/repos/wchill/steamSummerMinigame/collaborators{/collaborator}', u'updated_at': u'2015-06-18T08:13:41Z', u'private': False, u'pulls_url': u'https://api.github.com/repos/wchill/steamSummerMinigame/pulls{/number}', u'issue_comment_url': u'https://api.github.com/repos/wchill/steamSummerMinigame/issues/comments{/number}', u'labels_url': u'https://api.github.com/repos/wchill/steamSummerMinigame/labels{/name}', u'has_wiki': True, u'full_name': u'wchill/steamSummerMinigame', u'owner': {u'following_url': u'https://api.github.com/users/wchill/following{/other_user}', u'events_url': u'https://api.github.com/users/wchill/events{/privacy}', u'organizations_url': u'https://api.github.com/users/wchill/orgs', u'url': u'https://api.github.com/users/wchill', u'gists_url': u'https://api.github.com/users/wchill/gists{/gist_id}', u'html_url': u'https://github.com/wchill', u'subscriptions_url': u'https://api.github.com/users/wchill/subscriptions', u'avatar_url': u'https://avatars.githubusercontent.com/u/3746651?v=3', u'repos_url': u'https://api.github.com/users/wchill/repos', u'received_events_url': u'https://api.github.com/users/wchill/received_events', u'gravatar_id': u'', u'starred_url': u'https://api.github.com/users/wchill/starred{/owner}{/repo}', u'site_admin': False, u'login': u'wchill', u'type': u'User', u'id': 3746651, u'followers_url': u'https://api.github.com/users/wchill/followers'}, u'statuses_url': u'https://api.github.com/repos/wchill/steamSummerMinigame/statuses/{sha}', u'id': 37323085, u'keys_url': u'https://api.github.com/repos/wchill/steamSummerMinigame/keys{/key_id}', u'description': u'Steam Summer Sale 2015 - Auto-play Optimizer', u'tags_url': u'https://api.github.com/repos/wchill/steamSummerMinigame/tags', u'downloads_url': u'https://api.github.com/repos/wchill/steamSummerMinigame/downloads', u'assignees_url': u'https://api.github.com/repos/wchill/steamSummerMinigame/assignees{/user}', u'contents_url': u'https://api.github.com/repos/wchill/steamSummerMinigame/contents/{+path}', u'has_pages': False, u'git_refs_url': u'https://api.github.com/repos/wchill/steamSummerMinigame/git/refs{/sha}', u'open_issues_count': 55, u'clone_url': u'https://github.com/wchill/steamSummerMinigame.git', u'watchers_count': 217, u'git_tags_url': u'https://api.github.com/repos/wchill/steamSummerMinigame/git/tags{/sha}', u'milestones_url': u'https://api.github.com/repos/wchill/steamSummerMinigame/milestones{/number}', u'languages_url': u'https://api.github.com/repos/wchill/steamSummerMinigame/languages', u'size': 4133, u'homepage': None, u'fork': True, u'commits_url': u'https://api.github.com/repos/wchill/steamSummerMinigame/commits{/sha}', u'releases_url': u'https://api.github.com/repos/wchill/steamSummerMinigame/releases{/id}', u'issue_events_url': u'https://api.github.com/repos/wchill/steamSummerMinigame/issues/events{/number}', u'archive_url': u'https://api.github.com/repos/wchill/steamSummerMinigame/{archive_format}{/ref}', u'comments_url': u'https://api.github.com/repos/wchill/steamSummerMinigame/comments{/number}', u'events_url': u'https://api.github.com/repos/wchill/steamSummerMinigame/events', u'contributors_url': u'https://api.github.com/repos/wchill/steamSummerMinigame/contributors', u'html_url': u'https://github.com/wchill/steamSummerMinigame', u'forks': 131, u'compare_url': u'https://api.github.com/repos/wchill/steamSummerMinigame/compare/{base}...{head}', u'open_issues': 55, u'git_url': u'git://github.com/wchill/steamSummerMinigame.git', u'svn_url': u'https://github.com/wchill/steamSummerMinigame', u'merges_url': u'https://api.github.com/repos/wchill/steamSummerMinigame/merges', u'has_issues': True, u'ssh_url': u'git@github.com:wchill/steamSummerMinigame.git', u'blobs_url': u'https://api.github.com/repos/wchill/steamSummerMinigame/git/blobs{/sha}', u'git_commits_url': u'https://api.github.com/repos/wchill/steamSummerMinigame/git/commits{/sha}', u'hooks_url': u'https://api.github.com/repos/wchill/steamSummerMinigame/hooks', u'has_downloads': True, u'watchers': 217, u'name': u'steamSummerMinigame', u'language': u'JavaScript', u'url': u'https://api.github.com/repos/wchill/steamSummerMinigame', u'created_at': u'2015-06-12T13:19:56Z', u'pushed_at': u'2015-06-18T08:17:37Z', u'forks_count': 131, u'default_branch': u'master', u'teams_url': u'https://api.github.com/repos/wchill/steamSummerMinigame/teams', u'trees_url': u'https://api.github.com/repos/wchill/steamSummerMinigame/git/trees{/sha}', u'branches_url': u'https://api.github.com/repos/wchill/steamSummerMinigame/branches{/branch}', u'subscribers_url': u'https://api.github.com/repos/wchill/steamSummerMinigame/subscribers', u'stargazers_url': u'https://api.github.com/repos/wchill/steamSummerMinigame/stargazers'}, u'sha': u'b14097f910809eba3778099b84037bf0870c4395', u'ref': u'master', u'user': {u'following_url': u'https://api.github.com/users/wchill/following{/other_user}', u'events_url': u'https://api.github.com/users/wchill/events{/privacy}', u'organizations_url': u'https://api.github.com/users/wchill/orgs', u'url': u'https://api.github.com/users/wchill', u'gists_url': u'https://api.github.com/users/wchill/gists{/gist_id}', u'html_url': u'https://github.com/wchill', u'subscriptions_url': u'https://api.github.com/users/wchill/subscriptions', u'avatar_url': u'https://avatars.githubusercontent.com/u/3746651?v=3', u'repos_url': u'https://api.github.com/users/wchill/repos', u'received_events_url': u'https://api.github.com/users/wchill/received_events', u'gravatar_id': u'', u'starred_url': u'https://api.github.com/users/wchill/starred{/owner}{/repo}', u'site_admin': False, u'login': u'wchill', u'type': u'User', u'id': 3746651, u'followers_url': u'https://api.github.com/users/wchill/followers'}, u'label': u'wchill:master'}, u'user': {u'following_url': u'https://api.github.com/users/Prommah/following{/other_user}', u'events_url': u'https://api.github.com/users/Prommah/events{/privacy}', u'organizations_url': u'https://api.github.com/users/Prommah/orgs', u'url': u'https://api.github.com/users/Prommah', u'gists_url': u'https://api.github.com/users/Prommah/gists{/gist_id}', u'html_url': u'https://github.com/Prommah', u'subscriptions_url': u'https://api.github.com/users/Prommah/subscriptions', u'avatar_url': u'https://avatars.githubusercontent.com/u/4395010?v=3', u'repos_url': u'https://api.github.com/users/Prommah/repos', u'received_events_url': u'https://api.github.com/users/Prommah/received_events', u'gravatar_id': u'', u'starred_url': u'https://api.github.com/users/Prommah/starred{/owner}{/repo}', u'site_admin': False, u'login': u'Prommah', u'type': u'User', u'id': 4395010, u'followers_url': u'https://api.github.com/users/Prommah/followers'}, u'milestone': None, u'locked': False, u'merged_by': None, u'url': u'https://api.github.com/repos/wchill/steamSummerMinigame/pulls/278', u'mergeable_state': u'unknown', u'created_at': u'2015-06-18T08:46:52Z', u'merged': False, u'review_comments_url': u'https://api.github.com/repos/wchill/steamSummerMinigame/pulls/278/comments', u'review_comments': 0, u'review_comment_url': u'https://api.github.com/repos/wchill/steamSummerMinigame/pulls/comments{/number}', u'patch_url': u'https://github.com/wchill/steamSummerMinigame/pull/278.patch'}}, u'created_at': u'2015-06-18T08:46:52Z', u'actor': {u'url': u'https://api.github.com/users/Prommah', u'login': u'Prommah', u'avatar_url': u'https://avatars.githubusercontent.com/u/4395010?', u'id': 4395010, u'gravatar_id': u''}, u'id': u'2902683999', u'repo': {u'url': u'https://api.github.com/repos/wchill/steamSummerMinigame', u'id': 37323085, u'name': u'wchill/steamSummerMinigame'}, u'type': u'PullRequestEvent', u'public': True}, {u'payload': {u'size': 5, u'head': u'23a7a7c3700d007a23d23691a28350a80d782806', u'commits': [{u'distinct': True, u'sha': u'533ab4f66815e08828eea442e81aec26e8b8fc40', u'message': u'[[ Icon Picker ]] Make sure scroll is not altered by resize', u'url': u'https://api.github.com/repos/runrev/livecode/commits/533ab4f66815e08828eea442e81aec26e8b8fc40', u'author': {u'email': u'ali.lloyd@gmail.com', u'name': u'livecodeali'}}, {u'distinct': True, u'sha': u'90f1995b0613cd5009de9310e91ae87893db0dd8', u'message': u'[[ Icon Picker ]] Add selectedIcon property to icon picker', u'url': u'https://api.github.com/repos/runrev/livecode/commits/90f1995b0613cd5009de9310e91ae87893db0dd8', u'author': {u'email': u'ali.lloyd@gmail.com', u'name': u'livecodeali'}}, {u'distinct': True, u'sha': u'2a4b9bbf7223a60021a9fd576241af4482c15ae5', u'message': u'[[ Navbar ]] Preselect current icon when popping up icon picker', u'url': u'https://api.github.com/repos/runrev/livecode/commits/2a4b9bbf7223a60021a9fd576241af4482c15ae5', u'author': {u'email': u'ali.lloyd@gmail.com', u'name': u'livecodeali'}}, {u'distinct': True, u'sha': u'42b2f3b768c0f280532f03126188c60600524d01', u'message': u'[[ Icon Picker ]] Remove extraneous logging', u'url': u'https://api.github.com/repos/runrev/livecode/commits/42b2f3b768c0f280532f03126188c60600524d01', u'author': {u'email': u'ali.lloyd@gmail.com', u'name': u'livecodeali'}}, {u'distinct': True, u'sha': u'23a7a7c3700d007a23d23691a28350a80d782806', u'message': u'Merge pull request #2426 from livecodeali/feature-icon_picker_scroll\\n\\n[[ Navbar ]] Preselect and scroll to current icon when popping up icon picker from edit mode navbar', u'url': u'https://api.github.com/repos/runrev/livecode/commits/23a7a7c3700d007a23d23691a28350a80d782806', u'author': {u'email': u'ali.lloyd@gmail.com', u'name': u'Ali Lloyd'}}], u'distinct_size': 5, u'push_id': 699186583, u'ref': u'refs/heads/develop', u'before': u'bf6c5ce800ccbadb782260b5a6a8a81ef8f3d9a7'}, u'created_at': u'2015-06-18T08:46:51Z', u'actor': {u'url': u'https://api.github.com/users/livecodeali', u'login': u'livecodeali', u'avatar_url': u'https://avatars.githubusercontent.com/u/3985854?', u'id': 3985854, u'gravatar_id': u''}, u'id': u'2902683988', u'repo': {u'url': u'https://api.github.com/repos/runrev/livecode', u'id': 9334445, u'name': u'runrev/livecode'}, u'org': {u'url': u'https://api.github.com/orgs/runrev', u'login': u'runrev', u'avatar_url': u'https://avatars.githubusercontent.com/u/3985749?', u'id': 3985749, u'gravatar_id': u''}, u'type': u'PushEvent', u'public': True}, {u'payload': {u'size': 2, u'head': u'16f0b16f109af85dd2c32ded3f1bad2cbb38640f', u'commits': [{u'distinct': False, u'sha': u'e26cc488e4d25edffb2e3f12a7125574b9fa28a7', u'message': u\"options: return default value after revert, not type's default value\\n\\nIssue: #173\", u'url': u'https://api.github.com/repos/opentrack/opentrack/commits/e26cc488e4d25edffb2e3f12a7125574b9fa28a7', u'author': {u'email': u'sthalik@misaki.pl', u'name': u'Stanislaw Halik'}}, {u'distinct': False, u'sha': u'16f0b16f109af85dd2c32ded3f1bad2cbb38640f', u'message': u'Revert \"options: add support for QRadioButton\"\\n\\nThis reverts commit 21f6b1c681ca6efe4511486994264b8d8c8d9463.', u'url': u'https://api.github.com/repos/opentrack/opentrack/commits/16f0b16f109af85dd2c32ded3f1bad2cbb38640f', u'author': {u'email': u'sthalik@misaki.pl', u'name': u'Stanislaw Halik'}}], u'distinct_size': 0, u'push_id': 699186582, u'ref': u'refs/heads/unstable', u'before': u'66f78f3696189d6c5fc16dd33317025105cca77e'}, u'created_at': u'2015-06-18T08:46:51Z', u'actor': {u'url': u'https://api.github.com/users/sthalik', u'login': u'sthalik', u'avatar_url': u'https://avatars.githubusercontent.com/u/1896811?', u'id': 1896811, u'gravatar_id': u''}, u'id': u'2902683986', u'repo': {u'url': u'https://api.github.com/repos/opentrack/opentrack', u'id': 9753283, u'name': u'opentrack/opentrack'}, u'org': {u'url': u'https://api.github.com/orgs/opentrack', u'login': u'opentrack', u'avatar_url': u'https://avatars.githubusercontent.com/u/4294485?', u'id': 4294485, u'gravatar_id': u''}, u'type': u'PushEvent', u'public': True}, {u'payload': {u'forkee': {u'issues_url': u'https://api.github.com/repos/gamihitesh/ui-select/issues{/number}', u'stargazers_count': 0, u'forks_url': u'https://api.github.com/repos/gamihitesh/ui-select/forks', u'mirror_url': None, u'subscription_url': u'https://api.github.com/repos/gamihitesh/ui-select/subscription', u'notifications_url': u'https://api.github.com/repos/gamihitesh/ui-select/notifications{?since,all,participating}', u'collaborators_url': u'https://api.github.com/repos/gamihitesh/ui-select/collaborators{/collaborator}', u'updated_at': u'2015-06-18T08:12:01Z', u'private': False, u'pulls_url': u'https://api.github.com/repos/gamihitesh/ui-select/pulls{/number}', u'issue_comment_url': u'https://api.github.com/repos/gamihitesh/ui-select/issues/comments{/number}', u'labels_url': u'https://api.github.com/repos/gamihitesh/ui-select/labels{/name}', u'has_wiki': True, u'full_name': u'gamihitesh/ui-select', u'owner': {u'following_url': u'https://api.github.com/users/gamihitesh/following{/other_user}', u'events_url': u'https://api.github.com/users/gamihitesh/events{/privacy}', u'organizations_url': u'https://api.github.com/users/gamihitesh/orgs', u'url': u'https://api.github.com/users/gamihitesh', u'gists_url': u'https://api.github.com/users/gamihitesh/gists{/gist_id}', u'html_url': u'https://github.com/gamihitesh', u'subscriptions_url': u'https://api.github.com/users/gamihitesh/subscriptions', u'avatar_url': u'https://avatars.githubusercontent.com/u/12946049?v=3', u'repos_url': u'https://api.github.com/users/gamihitesh/repos', u'received_events_url': u'https://api.github.com/users/gamihitesh/received_events', u'gravatar_id': u'', u'starred_url': u'https://api.github.com/users/gamihitesh/starred{/owner}{/repo}', u'site_admin': False, u'login': u'gamihitesh', u'type': u'User', u'id': 12946049, u'followers_url': u'https://api.github.com/users/gamihitesh/followers'}, u'statuses_url': u'https://api.github.com/repos/gamihitesh/ui-select/statuses/{sha}', u'id': 37648249, u'keys_url': u'https://api.github.com/repos/gamihitesh/ui-select/keys{/key_id}', u'description': u'AngularJS-native version of Select2 and Selectize', u'tags_url': u'https://api.github.com/repos/gamihitesh/ui-select/tags', u'downloads_url': u'https://api.github.com/repos/gamihitesh/ui-select/downloads', u'assignees_url': u'https://api.github.com/repos/gamihitesh/ui-select/assignees{/user}', u'contents_url': u'https://api.github.com/repos/gamihitesh/ui-select/contents/{+path}', u'has_pages': False, u'git_refs_url': u'https://api.github.com/repos/gamihitesh/ui-select/git/refs{/sha}', u'open_issues_count': 0, u'clone_url': u'https://github.com/gamihitesh/ui-select.git', u'watchers_count': 0, u'git_tags_url': u'https://api.github.com/repos/gamihitesh/ui-select/git/tags{/sha}', u'milestones_url': u'https://api.github.com/repos/gamihitesh/ui-select/milestones{/number}', u'languages_url': u'https://api.github.com/repos/gamihitesh/ui-select/languages', u'size': 5630, u'homepage': u'', u'public': True, u'fork': True, u'commits_url': u'https://api.github.com/repos/gamihitesh/ui-select/commits{/sha}', u'releases_url': u'https://api.github.com/repos/gamihitesh/ui-select/releases{/id}', u'issue_events_url': u'https://api.github.com/repos/gamihitesh/ui-select/issues/events{/number}', u'archive_url': u'https://api.github.com/repos/gamihitesh/ui-select/{archive_format}{/ref}', u'comments_url': u'https://api.github.com/repos/gamihitesh/ui-select/comments{/number}', u'events_url': u'https://api.github.com/repos/gamihitesh/ui-select/events', u'contributors_url': u'https://api.github.com/repos/gamihitesh/ui-select/contributors', u'html_url': u'https://github.com/gamihitesh/ui-select', u'forks': 0, u'compare_url': u'https://api.github.com/repos/gamihitesh/ui-select/compare/{base}...{head}', u'open_issues': 0, u'git_url': u'git://github.com/gamihitesh/ui-select.git', u'svn_url': u'https://github.com/gamihitesh/ui-select', u'merges_url': u'https://api.github.com/repos/gamihitesh/ui-select/merges', u'has_issues': False, u'ssh_url': u'git@github.com:gamihitesh/ui-select.git', u'blobs_url': u'https://api.github.com/repos/gamihitesh/ui-select/git/blobs{/sha}', u'git_commits_url': u'https://api.github.com/repos/gamihitesh/ui-select/git/commits{/sha}', u'hooks_url': u'https://api.github.com/repos/gamihitesh/ui-select/hooks', u'has_downloads': True, u'watchers': 0, u'name': u'ui-select', u'language': None, u'url': u'https://api.github.com/repos/gamihitesh/ui-select', u'created_at': u'2015-06-18T08:46:51Z', u'pushed_at': u'2015-06-18T02:46:05Z', u'forks_count': 0, u'default_branch': u'master', u'teams_url': u'https://api.github.com/repos/gamihitesh/ui-select/teams', u'trees_url': u'https://api.github.com/repos/gamihitesh/ui-select/git/trees{/sha}', u'branches_url': u'https://api.github.com/repos/gamihitesh/ui-select/branches{/branch}', u'subscribers_url': u'https://api.github.com/repos/gamihitesh/ui-select/subscribers', u'stargazers_url': u'https://api.github.com/repos/gamihitesh/ui-select/stargazers'}}, u'created_at': u'2015-06-18T08:46:51Z', u'actor': {u'url': u'https://api.github.com/users/gamihitesh', u'login': u'gamihitesh', u'avatar_url': u'https://avatars.githubusercontent.com/u/12946049?', u'id': 12946049, u'gravatar_id': u''}, u'id': u'2902683979', u'repo': {u'url': u'https://api.github.com/repos/angular-ui/ui-select', u'id': 12962729, u'name': u'angular-ui/ui-select'}, u'org': {u'url': u'https://api.github.com/orgs/angular-ui', u'login': u'angular-ui', u'avatar_url': u'https://avatars.githubusercontent.com/u/1530011?', u'id': 1530011, u'gravatar_id': u''}, u'type': u'ForkEvent', u'public': True}, {u'payload': {u'action': u'started'}, u'created_at': u'2015-06-18T08:46:51Z', u'actor': {u'url': u'https://api.github.com/users/spyl94', u'login': u'spyl94', u'avatar_url': u'https://avatars.githubusercontent.com/u/933437?', u'id': 933437, u'gravatar_id': u''}, u'id': u'2902683978', u'repo': {u'url': u'https://api.github.com/repos/WebAssembly/design', u'id': 34808241, u'name': u'WebAssembly/design'}, u'org': {u'url': u'https://api.github.com/orgs/WebAssembly', u'login': u'WebAssembly', u'avatar_url': u'https://avatars.githubusercontent.com/u/11578470?', u'id': 11578470, u'gravatar_id': u''}, u'type': u'WatchEvent', u'public': True}, {u'payload': {u'action': u'created', u'comment': {u'body': u'Thanks for the review @fredj.', u'url': u'https://api.github.com/repos/openlayers/ol3-cesium/issues/comments/113079014', u'created_at': u'2015-06-18T08:46:51Z', u'html_url': u'https://github.com/openlayers/ol3-cesium/pull/202#issuecomment-113079014', u'updated_at': u'2015-06-18T08:46:51Z', u'user': {u'following_url': u'https://api.github.com/users/gberaudo/following{/other_user}', u'events_url': u'https://api.github.com/users/gberaudo/events{/privacy}', u'organizations_url': u'https://api.github.com/users/gberaudo/orgs', u'url': u'https://api.github.com/users/gberaudo', u'gists_url': u'https://api.github.com/users/gberaudo/gists{/gist_id}', u'html_url': u'https://github.com/gberaudo', u'subscriptions_url': u'https://api.github.com/users/gberaudo/subscriptions', u'avatar_url': u'https://avatars.githubusercontent.com/u/7294662?v=3', u'repos_url': u'https://api.github.com/users/gberaudo/repos', u'received_events_url': u'https://api.github.com/users/gberaudo/received_events', u'gravatar_id': u'', u'starred_url': u'https://api.github.com/users/gberaudo/starred{/owner}{/repo}', u'site_admin': False, u'login': u'gberaudo', u'type': u'User', u'id': 7294662, u'followers_url': u'https://api.github.com/users/gberaudo/followers'}, u'id': 113079014, u'issue_url': u'https://api.github.com/repos/openlayers/ol3-cesium/issues/202'}, u'issue': {u'body': u'And also:\\r\\n- change serving port from 3000 to 4000 to allow running both ol3 and ol3-cesium concurrently;\\r\\n- add some documentation;\\r\\n- add or update some Cesium externs.', u'labels': [], u'locked': False, u'title': u'Port to cesium 1.10 and minor improvements', u'url': u'https://api.github.com/repos/openlayers/ol3-cesium/issues/202', u'labels_url': u'https://api.github.com/repos/openlayers/ol3-cesium/issues/202/labels{/name}', u'created_at': u'2015-06-18T08:09:40Z', u'events_url': u'https://api.github.com/repos/openlayers/ol3-cesium/issues/202/events', u'comments_url': u'https://api.github.com/repos/openlayers/ol3-cesium/issues/202/comments', u'html_url': u'https://github.com/openlayers/ol3-cesium/pull/202', u'comments': 2, u'number': 202, u'updated_at': u'2015-06-18T08:46:51Z', u'assignee': None, u'state': u'open', u'user': {u'following_url': u'https://api.github.com/users/gberaudo/following{/other_user}', u'events_url': u'https://api.github.com/users/gberaudo/events{/privacy}', u'organizations_url': u'https://api.github.com/users/gberaudo/orgs', u'url': u'https://api.github.com/users/gberaudo', u'gists_url': u'https://api.github.com/users/gberaudo/gists{/gist_id}', u'html_url': u'https://github.com/gberaudo', u'subscriptions_url': u'https://api.github.com/users/gberaudo/subscriptions', u'avatar_url': u'https://avatars.githubusercontent.com/u/7294662?v=3', u'repos_url': u'https://api.github.com/users/gberaudo/repos', u'received_events_url': u'https://api.github.com/users/gberaudo/received_events', u'gravatar_id': u'', u'starred_url': u'https://api.github.com/users/gberaudo/starred{/owner}{/repo}', u'site_admin': False, u'login': u'gberaudo', u'type': u'User', u'id': 7294662, u'followers_url': u'https://api.github.com/users/gberaudo/followers'}, u'milestone': None, u'closed_at': None, u'pull_request': {u'url': u'https://api.github.com/repos/openlayers/ol3-cesium/pulls/202', u'diff_url': u'https://github.com/openlayers/ol3-cesium/pull/202.diff', u'html_url': u'https://github.com/openlayers/ol3-cesium/pull/202', u'patch_url': u'https://github.com/openlayers/ol3-cesium/pull/202.patch'}, u'id': 89228162}}, u'created_at': u'2015-06-18T08:46:51Z', u'actor': {u'url': u'https://api.github.com/users/gberaudo', u'login': u'gberaudo', u'avatar_url': u'https://avatars.githubusercontent.com/u/7294662?', u'id': 7294662, u'gravatar_id': u''}, u'id': u'2902683975', u'repo': {u'url': u'https://api.github.com/repos/openlayers/ol3-cesium', u'id': 21741875, u'name': u'openlayers/ol3-cesium'}, u'org': {u'url': u'https://api.github.com/orgs/openlayers', u'login': u'openlayers', u'avatar_url': u'https://avatars.githubusercontent.com/u/240579?', u'id': 240579, u'gravatar_id': u''}, u'type': u'IssueCommentEvent', u'public': True}, {u'payload': {u'action': u'opened', u'issue': {u'body': u\"I don't think there's anything to track the support of watchOS, so I thought of opening this.\\r\\n#2062 seems to be mostly for Swift 2.\", u'labels': [], u'locked': False, u'title': u'WatchOS support', u'url': u'https://api.github.com/repos/realm/realm-cocoa/issues/2099', u'labels_url': u'https://api.github.com/repos/realm/realm-cocoa/issues/2099/labels{/name}', u'created_at': u'2015-06-18T08:46:51Z', u'events_url': u'https://api.github.com/repos/realm/realm-cocoa/issues/2099/events', u'comments_url': u'https://api.github.com/repos/realm/realm-cocoa/issues/2099/comments', u'html_url': u'https://github.com/realm/realm-cocoa/issues/2099', u'comments': 0, u'number': 2099, u'updated_at': u'2015-06-18T08:46:51Z', u'assignee': None, u'state': u'open', u'user': {u'following_url': u'https://api.github.com/users/MarcoSero/following{/other_user}', u'events_url': u'https://api.github.com/users/MarcoSero/events{/privacy}', u'organizations_url': u'https://api.github.com/users/MarcoSero/orgs', u'url': u'https://api.github.com/users/MarcoSero', u'gists_url': u'https://api.github.com/users/MarcoSero/gists{/gist_id}', u'html_url': u'https://github.com/MarcoSero', u'subscriptions_url': u'https://api.github.com/users/MarcoSero/subscriptions', u'avatar_url': u'https://avatars.githubusercontent.com/u/867996?v=3', u'repos_url': u'https://api.github.com/users/MarcoSero/repos', u'received_events_url': u'https://api.github.com/users/MarcoSero/received_events', u'gravatar_id': u'', u'starred_url': u'https://api.github.com/users/MarcoSero/starred{/owner}{/repo}', u'site_admin': False, u'login': u'MarcoSero', u'type': u'User', u'id': 867996, u'followers_url': u'https://api.github.com/users/MarcoSero/followers'}, u'milestone': None, u'closed_at': None, u'id': 89235931}}, u'created_at': u'2015-06-18T08:46:51Z', u'actor': {u'url': u'https://api.github.com/users/MarcoSero', u'login': u'MarcoSero', u'avatar_url': u'https://avatars.githubusercontent.com/u/867996?', u'id': 867996, u'gravatar_id': u''}, u'id': u'2902683972', u'repo': {u'url': u'https://api.github.com/repos/realm/realm-cocoa', u'id': 4044891, u'name': u'realm/realm-cocoa'}, u'org': {u'url': u'https://api.github.com/orgs/realm', u'login': u'realm', u'avatar_url': u'https://avatars.githubusercontent.com/u/7575099?', u'id': 7575099, u'gravatar_id': u''}, u'type': u'IssuesEvent', u'public': True}, {u'payload': {u'size': 7, u'head': u'fafbce268bda468bda35fc5d23a339bd15671ca6', u'commits': [{u'distinct': True, u'sha': u'42533407971e21438ef53e187fd6a8163d841e09', u'message': u'need space here', u'url': u'https://api.github.com/repos/opentrack/opentrack/commits/42533407971e21438ef53e187fd6a8163d841e09', u'author': {u'email': u'sthalik@misaki.pl', u'name': u'Stanislaw Halik'}}, {u'distinct': True, u'sha': u'1220070598ba2e72bc3257a13fa6b81c7a24abf9', u'message': u'Revert \"options: add support for QRadioButton\"\\n\\nThis reverts commit 4c98d6cdc8b99ee1e517b2f82be1b0b5fc17d988.', u'url': u'https://api.github.com/repos/opentrack/opentrack/commits/1220070598ba2e72bc3257a13fa6b81c7a24abf9', u'author': {u'email': u'sthalik@misaki.pl', u'name': u'Stanislaw Halik'}}, {u'distinct': True, u'sha': u'808b0fbf230fb702cebd5e3ec53cce1c858b0fff', u'message': u'minor fixes now', u'url': u'https://api.github.com/repos/opentrack/opentrack/commits/808b0fbf230fb702cebd5e3ec53cce1c858b0fff', u'author': {u'email': u'sthalik@misaki.pl', u'name': u'Stanislaw Halik'}}, {u'distinct': False, u'sha': u'e26cc488e4d25edffb2e3f12a7125574b9fa28a7', u'message': u\"options: return default value after revert, not type's default value\\n\\nIssue: #173\", u'url': u'https://api.github.com/repos/opentrack/opentrack/commits/e26cc488e4d25edffb2e3f12a7125574b9fa28a7', u'author': {u'email': u'sthalik@misaki.pl', u'name': u'Stanislaw Halik'}}, {u'distinct': True, u'sha': u'67537d31b82fee0c965de48898f6214139d63a9a', u'message': u\"Merge branch 'unstable' into trackhat-ui\", u'url': u'https://api.github.com/repos/opentrack/opentrack/commits/67537d31b82fee0c965de48898f6214139d63a9a', u'author': {u'email': u'sthalik@misaki.pl', u'name': u'Stanislaw Halik'}}, {u'distinct': False, u'sha': u'16f0b16f109af85dd2c32ded3f1bad2cbb38640f', u'message': u'Revert \"options: add support for QRadioButton\"\\n\\nThis reverts commit 21f6b1c681ca6efe4511486994264b8d8c8d9463.', u'url': u'https://api.github.com/repos/opentrack/opentrack/commits/16f0b16f109af85dd2c32ded3f1bad2cbb38640f', u'author': {u'email': u'sthalik@misaki.pl', u'name': u'Stanislaw Halik'}}, {u'distinct': True, u'sha': u'fafbce268bda468bda35fc5d23a339bd15671ca6', u'message': u\"Merge branch 'unstable' into trackhat-ui\", u'url': u'https://api.github.com/repos/opentrack/opentrack/commits/fafbce268bda468bda35fc5d23a339bd15671ca6', u'author': {u'email': u'sthalik@misaki.pl', u'name': u'Stanislaw Halik'}}], u'distinct_size': 5, u'push_id': 699186577, u'ref': u'refs/heads/trackhat-ui', u'before': u'426a186766f6124aec082552b9c7bffc581b05c4'}, u'created_at': u'2015-06-18T08:46:51Z', u'actor': {u'url': u'https://api.github.com/users/sthalik', u'login': u'sthalik', u'avatar_url': u'https://avatars.githubusercontent.com/u/1896811?', u'id': 1896811, u'gravatar_id': u''}, u'id': u'2902683969', u'repo': {u'url': u'https://api.github.com/repos/opentrack/opentrack', u'id': 9753283, u'name': u'opentrack/opentrack'}, u'org': {u'url': u'https://api.github.com/orgs/opentrack', u'login': u'opentrack', u'avatar_url': u'https://avatars.githubusercontent.com/u/4294485?', u'id': 4294485, u'gravatar_id': u''}, u'type': u'PushEvent', u'public': True}, {u'payload': {u'size': 8, u'head': u'91f1f6a5f5b42bcd803715f0362a5dcc2c614378', u'commits': [{u'distinct': False, u'sha': u'4a1ee969d9e4e7642a175bf983a3f3b8a0618cd1', u'message': u'Button \\xe5\\x8f\\x98\\xe4\\xb8\\xba\\xe5\\x88\\x86\\xe7\\xb1\\xbb\\xe5\\xbd\\xa2\\xe5\\xbc\\x8f\\xe5\\xae\\x9e\\xe7\\x8e\\xb0', u'url': u'https://api.github.com/repos/Shunzi007/WSControl/commits/4a1ee969d9e4e7642a175bf983a3f3b8a0618cd1', u'author': {u'email': u'360752546@qq.com', u'name': u'\\xe7\\x8e\\x8b\\xe9\\xa1\\xba'}}, {u'distinct': False, u'sha': u'8d2427626bbb04296e1bb71651463f3e65d47323', u'message': u'\\xe6\\xb7\\xbb\\xe5\\x8a\\xa0 UIButton \\xe5\\x88\\x86\\xe7\\xb1\\xbb', u'url': u'https://api.github.com/repos/Shunzi007/WSControl/commits/8d2427626bbb04296e1bb71651463f3e65d47323', u'author': {u'email': u'360752546@qq.com', u'name': u'\\xe7\\x8e\\x8b\\xe9\\xa1\\xba'}}, {u'distinct': False, u'sha': u'be911dd19365cf1bbee163db2c3299e241a0f190', u'message': u'\\xe6\\xb7\\xbb\\xe5\\x8a\\xa0 Button \\xe5\\x88\\x86\\xe7\\xb1\\xbb', u'url': u'https://api.github.com/repos/Shunzi007/WSControl/commits/be911dd19365cf1bbee163db2c3299e241a0f190', u'author': {u'email': u'360752546@qq.com', u'name': u'\\xe7\\x8e\\x8b\\xe9\\xa1\\xba'}}, {u'distinct': False, u'sha': u'2d4e80951b0829047fa97a6e92c4800bb8e0021e', u'message': u'\\xe5\\xae\\x8c\\xe6\\x88\\x90 AlertView \\xe6\\x94\\xb9\\xe4\\xb8\\xba\\xe7\\xb1\\xbb\\xe7\\x9b\\xae', u'url': u'https://api.github.com/repos/Shunzi007/WSControl/commits/2d4e80951b0829047fa97a6e92c4800bb8e0021e', u'author': {u'email': u'360752546@qq.com', u'name': u'\\xe7\\x8e\\x8b\\xe9\\xa1\\xba'}}, {u'distinct': False, u'sha': u'17a24c7b9b66048669ee2a1b88c7b5acb0356992', u'message': u'\\xe5\\xae\\x8c\\xe6\\x88\\x90 AlertView \\xe4\\xbf\\xae\\xe6\\x94\\xb9\\xe4\\xb8\\xba\\xe7\\xb1\\xbb\\xe7\\x9b\\xae', u'url': u'https://api.github.com/repos/Shunzi007/WSControl/commits/17a24c7b9b66048669ee2a1b88c7b5acb0356992', u'author': {u'email': u'360752546@qq.com', u'name': u'\\xe7\\x8e\\x8b\\xe9\\xa1\\xba'}}, {u'distinct': False, u'sha': u'8f568f3d305e297480db0e538ac74d1458583b7f', u'message': u'UIActionSheet \\xe5\\x8f\\x98\\xe4\\xb8\\xba\\xe5\\x88\\x86\\xe7\\xb1\\xbb\\xe6\\xa8\\xa1\\xe5\\xbc\\x8f', u'url': u'https://api.github.com/repos/Shunzi007/WSControl/commits/8f568f3d305e297480db0e538ac74d1458583b7f', u'author': {u'email': u'360752546@qq.com', u'name': u'\\xe7\\x8e\\x8b\\xe9\\xa1\\xba'}}, {u'distinct': False, u'sha': u'6cbdeab38097c68b1e330a8fa9b68becb81c6065', u'message': u'SegmentedControl \\xe4\\xbd\\xbf\\xe7\\x94\\xa8\\xe5\\x88\\x86\\xe7\\xb1\\xbb', u'url': u'https://api.github.com/repos/Shunzi007/WSControl/commits/6cbdeab38097c68b1e330a8fa9b68becb81c6065', u'author': {u'email': u'360752546@qq.com', u'name': u'\\xe7\\x8e\\x8b\\xe9\\xa1\\xba'}}, {u'distinct': False, u'sha': u'91f1f6a5f5b42bcd803715f0362a5dcc2c614378', u'message': u'\\xe5\\xae\\x8c\\xe6\\x88\\x90\\xe8\\xb0\\x83\\xe8\\xaf\\x95', u'url': u'https://api.github.com/repos/Shunzi007/WSControl/commits/91f1f6a5f5b42bcd803715f0362a5dcc2c614378', u'author': {u'email': u'360752546@qq.com', u'name': u'\\xe7\\x8e\\x8b\\xe9\\xa1\\xba'}}], u'distinct_size': 0, u'push_id': 699186576, u'ref': u'refs/heads/master', u'before': u'840b98895326533d6e2700eb68bd9ef9012c38c0'}, u'created_at': u'2015-06-18T08:46:51Z', u'actor': {u'url': u'https://api.github.com/users/Shunzi007', u'login': u'Shunzi007', u'avatar_url': u'https://avatars.githubusercontent.com/u/7846971?', u'id': 7846971, u'gravatar_id': u''}, u'id': u'2902683967', u'repo': {u'url': u'https://api.github.com/repos/Shunzi007/WSControl', u'id': 37043845, u'name': u'Shunzi007/WSControl'}, u'type': u'PushEvent', u'public': True}, {u'payload': {u'size': 1, u'head': u'7d344c633d8d7129fa4201c8a6543bfe6e281e30', u'commits': [{u'distinct': True, u'sha': u'7d344c633d8d7129fa4201c8a6543bfe6e281e30', u'message': u'up button', u'url': u'https://api.github.com/repos/NicolaiCroutonalAil/SpecialWeekWebsite/commits/7d344c633d8d7129fa4201c8a6543bfe6e281e30', u'author': {u'email': u'nicolaicroutonalail@gmail.com', u'name': u'NicolaiCroutonalAil'}}], u'distinct_size': 1, u'push_id': 699186575, u'ref': u'refs/heads/gh-pages', u'before': u'4bc59b2b3384874b302679e1542d9df39ef33288'}, u'created_at': u'2015-06-18T08:46:51Z', u'actor': {u'url': u'https://api.github.com/users/NicolaiCroutonalAil', u'login': u'NicolaiCroutonalAil', u'avatar_url': u'https://avatars.githubusercontent.com/u/12875620?', u'id': 12875620, u'gravatar_id': u''}, u'id': u'2902683964', u'repo': {u'url': u'https://api.github.com/repos/NicolaiCroutonalAil/SpecialWeekWebsite', u'id': 37383852, u'name': u'NicolaiCroutonalAil/SpecialWeekWebsite'}, u'type': u'PushEvent', u'public': True}, {u'payload': {u'action': u'created', u'comment': {u'body': u\"i've got this crash from fabric, and it does it happen on all devices (iPhone, iPad) and systems (ios7, ios8)\", u'url': u'https://api.github.com/repos/oovoodev/iOS-SDK-Sample/issues/comments/113079012', u'created_at': u'2015-06-18T08:46:51Z', u'html_url': u'https://github.com/oovoodev/iOS-SDK-Sample/issues/13#issuecomment-113079012', u'updated_at': u'2015-06-18T08:46:51Z', u'user': {u'following_url': u'https://api.github.com/users/emilwojtaszek/following{/other_user}', u'events_url': u'https://api.github.com/users/emilwojtaszek/events{/privacy}', u'organizations_url': u'https://api.github.com/users/emilwojtaszek/orgs', u'url': u'https://api.github.com/users/emilwojtaszek', u'gists_url': u'https://api.github.com/users/emilwojtaszek/gists{/gist_id}', u'html_url': u'https://github.com/emilwojtaszek', u'subscriptions_url': u'https://api.github.com/users/emilwojtaszek/subscriptions', u'avatar_url': u'https://avatars.githubusercontent.com/u/735188?v=3', u'repos_url': u'https://api.github.com/users/emilwojtaszek/repos', u'received_events_url': u'https://api.github.com/users/emilwojtaszek/received_events', u'gravatar_id': u'', u'starred_url': u'https://api.github.com/users/emilwojtaszek/starred{/owner}{/repo}', u'site_admin': False, u'login': u'emilwojtaszek', u'type': u'User', u'id': 735188, u'followers_url': u'https://api.github.com/users/emilwojtaszek/followers'}, u'id': 113079012, u'issue_url': u'https://api.github.com/repos/oovoodev/iOS-SDK-Sample/issues/13'}, u'issue': {u'body': u\"How can I fix that crash?\\r\\n\\r\\nCrashed: Thread\\r\\nEXC_BAD_ACCESS KERN_INVALID_ADDRESS at 0x00000038\\r\\n\\r\\n```\\r\\nThread : Crashed: Thread\\r\\n0  MyApp                           0x00b353e2 ooVoo::ConferenceVideoCore::IsCameraBusy() + 485717\\r\\n1  MyApp                           0x00b353dd ooVoo::ConferenceVideoCore::IsCameraBusy() + 485712\\r\\n2  MyApp                           0x00b35719 ooVoo::ConferenceVideoCore::SetVideoParams(std::__1::shared_ptr<ooVoo::MediaDevice>, ooVoo::VideoType, ooVoo::FrameSize const&, int) + 486540\\r\\n3  MyApp                           0x00bfeef3 ooVoo::ConferenceCoreImpl::SelectCameraParams(ooVoo::CameraResolutionLevel, int) + 1311846\\r\\n4  MyApp                           0x00b567db std::__1::__function::__func<ooVoo::command_queue::MessageThreadLoop()::'lambda'(), std::__1::allocator<ooVoo::command_queue::MessageThreadLoop()::'lambda'()>, bool ()>::operator()() + 621902\\r\\n5  MyApp                           0x00b6b7bf ooVoo::run(std::__1::function<bool ()> const&) + 707890\\r\\n6  MyApp                           0x00b56699 ooVoo::command_queue::MessageThreadLoop() + 621580\\r\\n7  MyApp                           0x00b56591 std::__1::__thread_proxy<std::__1::tuple<ooVoo::command_queue::command_queue(std::__1::basic_string<char, std::__1::char_traits<char>, std::__1::allocator<char> > const&)::'lambda'()> >(void*, void*) + 621316\\r\\n8  libsystem_pthread.dylib        0x39069919 _pthread_body + 140\\r\\n9  libsystem_pthread.dylib        0x3906988b _pthread_start + 102\\r\\n```\", u'labels': [], u'locked': False, u'title': u'Crash - EXC_BAD_ACCESS KERN_INVALID_ADDRESS', u'url': u'https://api.github.com/repos/oovoodev/iOS-SDK-Sample/issues/13', u'labels_url': u'https://api.github.com/repos/oovoodev/iOS-SDK-Sample/issues/13/labels{/name}', u'created_at': u'2015-06-17T09:28:16Z', u'events_url': u'https://api.github.com/repos/oovoodev/iOS-SDK-Sample/issues/13/events', u'comments_url': u'https://api.github.com/repos/oovoodev/iOS-SDK-Sample/issues/13/comments', u'html_url': u'https://github.com/oovoodev/iOS-SDK-Sample/issues/13', u'comments': 2, u'number': 13, u'updated_at': u'2015-06-18T08:46:51Z', u'assignee': None, u'state': u'open', u'user': {u'following_url': u'https://api.github.com/users/emilwojtaszek/following{/other_user}', u'events_url': u'https://api.github.com/users/emilwojtaszek/events{/privacy}', u'organizations_url': u'https://api.github.com/users/emilwojtaszek/orgs', u'url': u'https://api.github.com/users/emilwojtaszek', u'gists_url': u'https://api.github.com/users/emilwojtaszek/gists{/gist_id}', u'html_url': u'https://github.com/emilwojtaszek', u'subscriptions_url': u'https://api.github.com/users/emilwojtaszek/subscriptions', u'avatar_url': u'https://avatars.githubusercontent.com/u/735188?v=3', u'repos_url': u'https://api.github.com/users/emilwojtaszek/repos', u'received_events_url': u'https://api.github.com/users/emilwojtaszek/received_events', u'gravatar_id': u'', u'starred_url': u'https://api.github.com/users/emilwojtaszek/starred{/owner}{/repo}', u'site_admin': False, u'login': u'emilwojtaszek', u'type': u'User', u'id': 735188, u'followers_url': u'https://api.github.com/users/emilwojtaszek/followers'}, u'milestone': None, u'closed_at': None, u'id': 88966690}}, u'created_at': u'2015-06-18T08:46:51Z', u'actor': {u'url': u'https://api.github.com/users/emilwojtaszek', u'login': u'emilwojtaszek', u'avatar_url': u'https://avatars.githubusercontent.com/u/735188?', u'id': 735188, u'gravatar_id': u''}, u'id': u'2902683958', u'repo': {u'url': u'https://api.github.com/repos/oovoodev/iOS-SDK-Sample', u'id': 12465230, u'name': u'oovoodev/iOS-SDK-Sample'}, u'org': {u'url': u'https://api.github.com/orgs/oovoodev', u'login': u'oovoodev', u'avatar_url': u'https://avatars.githubusercontent.com/u/5216747?', u'id': 5216747, u'gravatar_id': u''}, u'type': u'IssueCommentEvent', u'public': True}, {u'payload': {u'action': u'created', u'comment': {u'body': u\"I signed it!\\n\\nOn Thu, Jun 18, 2015 at 10:45 AM, googlebot <notifications@github.com>\\nwrote:\\n\\n> Thanks for your pull request. It looks like this may be your first\\n> contribution to a Google open source project, in which case you'll need to\\n> sign a Contributor License Agreement (CLA).\\n>\\n> [image: :memo:] *Please visit https://cla.developers.google.com/\\n> <https://cla.developers.google.com/> to sign.*\\n>\\n> Once you've signed, please reply here (e.g. I signed it!) and we'll\\n> verify. Thanks.\\n> ------------------------------\\n>\\n>    - If you've already signed a CLA, it's possible we don't have your\\n>    GitHub username or you're using a different email address. Check your\\n>    existing CLA data <https://cla.developers.google.com/clas> and verify\\n>    that your email is set on your git commits\\n>    <https://help.github.com/articles/setting-your-email-in-git/>.\\n>    - If you signed the CLA as a corporation, please let us know the\\n>    company's name.\\n>\\n> \\xe2\\x80\\x94\\n> Reply to this email directly or view it on GitHub\\n> <https://github.com/karma-runner/karma-closure/pull/22#issuecomment-113078768>\\n> .\\n>\\n\\n\\n\\n-- \\nBrandon van Beekum\\nKonradinstra\\xc3\\x9fe 24, Berlin 12105\\nCell: +49 0151 1029 4688\\n\", u'url': u'https://api.github.com/repos/karma-runner/karma-closure/issues/comments/113079010', u'created_at': u'2015-06-18T08:46:51Z', u'html_url': u'https://github.com/karma-runner/karma-closure/pull/22#issuecomment-113079010', u'updated_at': u'2015-06-18T08:46:51Z', u'user': {u'following_url': u'https://api.github.com/users/marsmining/following{/other_user}', u'events_url': u'https://api.github.com/users/marsmining/events{/privacy}', u'organizations_url': u'https://api.github.com/users/marsmining/orgs', u'url': u'https://api.github.com/users/marsmining', u'gists_url': u'https://api.github.com/users/marsmining/gists{/gist_id}', u'html_url': u'https://github.com/marsmining', u'subscriptions_url': u'https://api.github.com/users/marsmining/subscriptions', u'avatar_url': u'https://avatars.githubusercontent.com/u/1126322?v=3', u'repos_url': u'https://api.github.com/users/marsmining/repos', u'received_events_url': u'https://api.github.com/users/marsmining/received_events', u'gravatar_id': u'', u'starred_url': u'https://api.github.com/users/marsmining/starred{/owner}{/repo}', u'site_admin': False, u'login': u'marsmining', u'type': u'User', u'id': 1126322, u'followers_url': u'https://api.github.com/users/marsmining/followers'}, u'id': 113079010, u'issue_url': u'https://api.github.com/repos/karma-runner/karma-closure/issues/22'}, u'issue': {u'body': u\"rm spec issues re Object.create(null) & __proto__\\r\\n\\r\\nthe previous code used the idiom of `Object.create(null)` to use an object like a hash or cache, and leveraged the prototype chain as a type of cache miss failover. there is some js spec weirdness and changes around node 0.12 surrounding the existence of `__proto__` when using `Object.create(null)`.\\r\\n\\r\\nto eliminate this confusion i've added a function to replace the above so that the semantics are clear and consistent and we aren't using the non-standard `__proto__`.\\r\\n\\r\\nalso update npm dev deps to latest versions and added a missing jshintrc.\", u'labels': [], u'locked': False, u'title': u'rm spec issues re Object.create(null) & __proto__', u'url': u'https://api.github.com/repos/karma-runner/karma-closure/issues/22', u'labels_url': u'https://api.github.com/repos/karma-runner/karma-closure/issues/22/labels{/name}', u'created_at': u'2015-06-18T08:45:13Z', u'events_url': u'https://api.github.com/repos/karma-runner/karma-closure/issues/22/events', u'comments_url': u'https://api.github.com/repos/karma-runner/karma-closure/issues/22/comments', u'html_url': u'https://github.com/karma-runner/karma-closure/pull/22', u'comments': 1, u'number': 22, u'updated_at': u'2015-06-18T08:46:51Z', u'assignee': None, u'state': u'open', u'user': {u'following_url': u'https://api.github.com/users/marsmining/following{/other_user}', u'events_url': u'https://api.github.com/users/marsmining/events{/privacy}', u'organizations_url': u'https://api.github.com/users/marsmining/orgs', u'url': u'https://api.github.com/users/marsmining', u'gists_url': u'https://api.github.com/users/marsmining/gists{/gist_id}', u'html_url': u'https://github.com/marsmining', u'subscriptions_url': u'https://api.github.com/users/marsmining/subscriptions', u'avatar_url': u'https://avatars.githubusercontent.com/u/1126322?v=3', u'repos_url': u'https://api.github.com/users/marsmining/repos', u'received_events_url': u'https://api.github.com/users/marsmining/received_events', u'gravatar_id': u'', u'starred_url': u'https://api.github.com/users/marsmining/starred{/owner}{/repo}', u'site_admin': False, u'login': u'marsmining', u'type': u'User', u'id': 1126322, u'followers_url': u'https://api.github.com/users/marsmining/followers'}, u'milestone': None, u'closed_at': None, u'pull_request': {u'url': u'https://api.github.com/repos/karma-runner/karma-closure/pulls/22', u'diff_url': u'https://github.com/karma-runner/karma-closure/pull/22.diff', u'html_url': u'https://github.com/karma-runner/karma-closure/pull/22', u'patch_url': u'https://github.com/karma-runner/karma-closure/pull/22.patch'}, u'id': 89235660}}, u'created_at': u'2015-06-18T08:46:51Z', u'actor': {u'url': u'https://api.github.com/users/marsmining', u'login': u'marsmining', u'avatar_url': u'https://avatars.githubusercontent.com/u/1126322?', u'id': 1126322, u'gravatar_id': u''}, u'id': u'2902683956', u'repo': {u'url': u'https://api.github.com/repos/karma-runner/karma-closure', u'id': 9383591, u'name': u'karma-runner/karma-closure'}, u'org': {u'url': u'https://api.github.com/orgs/karma-runner', u'login': u'karma-runner', u'avatar_url': u'https://avatars.githubusercontent.com/u/3284117?', u'id': 3284117, u'gravatar_id': u''}, u'type': u'IssueCommentEvent', u'public': True}, {u'payload': {u'size': 1, u'head': u'2a4eedbab05d862a3edadcdc67e4a594e03f8990', u'commits': [{u'distinct': True, u'sha': u'2a4eedbab05d862a3edadcdc67e4a594e03f8990', u'message': u'fix not declared var', u'url': u'https://api.github.com/repos/Nalaxon/mia_randomforestclassifier/commits/2a4eedbab05d862a3edadcdc67e4a594e03f8990', u'author': {u'email': u'bernhard.rapp@student.tugraz.at', u'name': u'Narcanti'}}], u'distinct_size': 1, u'push_id': 699186561, u'ref': u'refs/heads/master', u'before': u'4ba75b2497eafcba7b0dc8a5c1c22dce670144a4'}, u'created_at': u'2015-06-18T08:46:51Z', u'actor': {u'url': u'https://api.github.com/users/Nalaxon', u'login': u'Nalaxon', u'avatar_url': u'https://avatars.githubusercontent.com/u/2983992?', u'id': 2983992, u'gravatar_id': u''}, u'id': u'2902683938', u'repo': {u'url': u'https://api.github.com/repos/Nalaxon/mia_randomforestclassifier', u'id': 35542250, u'name': u'Nalaxon/mia_randomforestclassifier'}, u'type': u'PushEvent', u'public': True}, {u'payload': {u'master_branch': u'master', u'ref_type': u'repository', u'ref': None, u'description': u'tab-completion leaning parser', u'pusher_type': u'user'}, u'created_at': u'2015-06-18T08:46:51Z', u'actor': {u'url': u'https://api.github.com/users/pacak', u'login': u'pacak', u'avatar_url': u'https://avatars.githubusercontent.com/u/66211?', u'id': 66211, u'gravatar_id': u''}, u'id': u'2902683933', u'repo': {u'url': u'https://api.github.com/repos/pacak/omnomnomicon', u'id': 37648248, u'name': u'pacak/omnomnomicon'}, u'type': u'CreateEvent', u'public': True}, {u'payload': {u'master_branch': u'1.9.1', u'ref_type': u'branch', u'ref': u'patch-1', u'description': u'A fork of Magento that is accepting bug fixes', u'pusher_type': u'user'}, u'created_at': u'2015-06-18T08:46:51Z', u'actor': {u'url': u'https://api.github.com/users/MrGekko', u'login': u'MrGekko', u'avatar_url': u'https://avatars.githubusercontent.com/u/249633?', u'id': 249633, u'gravatar_id': u''}, u'id': u'2902683929', u'repo': {u'url': u'https://api.github.com/repos/MrGekko/magento-lts', u'id': 37647932, u'name': u'MrGekko/magento-lts'}, u'type': u'CreateEvent', u'public': True}, {u'payload': {u'master_branch': u'master', u'ref_type': u'branch', u'ref': u'release_2.1.0', u'description': u'Display cover images for ting objects', u'pusher_type': u'user'}, u'created_at': u'2015-06-18T08:46:51Z', u'actor': {u'url': u'https://api.github.com/users/guddo', u'login': u'guddo', u'avatar_url': u'https://avatars.githubusercontent.com/u/287648?', u'id': 287648, u'gravatar_id': u''}, u'id': u'2902683928', u'repo': {u'url': u'https://api.github.com/repos/easyddb/ting_covers', u'id': 32155971, u'name': u'easyddb/ting_covers'}, u'org': {u'url': u'https://api.github.com/orgs/easyddb', u'login': u'easyddb', u'avatar_url': u'https://avatars.githubusercontent.com/u/7046188?', u'id': 7046188, u'gravatar_id': u''}, u'type': u'CreateEvent', u'public': True}, {u'payload': {u'master_branch': u'master', u'ref_type': u'tag', u'ref': u'1.46', u'description': u'Fluff is a Python package that contains several scripts to produce pretty, publication-quality figures for next-generation sequencing experiments.', u'pusher_type': u'user'}, u'created_at': u'2015-06-18T08:46:51Z', u'actor': {u'url': u'https://api.github.com/users/simonvh', u'login': u'simonvh', u'avatar_url': u'https://avatars.githubusercontent.com/u/281252?', u'id': 281252, u'gravatar_id': u''}, u'id': u'2902683923', u'repo': {u'url': u'https://api.github.com/repos/simonvh/fluff', u'id': 4346865, u'name': u'simonvh/fluff'}, u'type': u'CreateEvent', u'public': True}, {u'payload': {u'size': 2, u'head': u'acfb015d1a6c6a4088c121f01c54e4a5fa8f855d', u'commits': [{u'distinct': False, u'sha': u'2009db8c6a8e1229a6853c9cfd56cc4ea871de8d', u'message': u'Add unit tests for Proxy class\\n\\nSome unit test coverage in preparation for making further modifications to its\\nbehaviour', u'url': u'https://api.github.com/repos/alphagov/authenticating-proxy/commits/2009db8c6a8e1229a6853c9cfd56cc4ea871de8d', u'author': {u'email': u'tekin@tekin.co.uk', u'name': u'Tekin Suleyman'}}, {u'distinct': False, u'sha': u'acfb015d1a6c6a4088c121f01c54e4a5fa8f855d', u'message': u'Use Rack::Proxy as intended\\n\\nThe Rack::PRoxy API allows you to pass in the backend/upstream URI as an option.', u'url': u'https://api.github.com/repos/alphagov/authenticating-proxy/commits/acfb015d1a6c6a4088c121f01c54e4a5fa8f855d', u'author': {u'email': u'pairing+heathd+tekin@digital.cabinet-office.gov.uk', u'name': u'David Heath and Tekin Suleyman'}}], u'distinct_size': 0, u'push_id': 699186551, u'ref': u'refs/heads/deployed-to-preview', u'before': u'e50b7bcb98c4319fadcf5f848502e3f7f9720b25'}, u'created_at': u'2015-06-18T08:46:50Z', u'actor': {u'url': u'https://api.github.com/users/govuk-ci', u'login': u'govuk-ci', u'avatar_url': u'https://avatars.githubusercontent.com/u/1881055?', u'id': 1881055, u'gravatar_id': u''}, u'id': u'2902683919', u'repo': {u'url': u'https://api.github.com/repos/alphagov/authenticating-proxy', u'id': 37192283, u'name': u'alphagov/authenticating-proxy'}, u'org': {u'url': u'https://api.github.com/orgs/alphagov', u'login': u'alphagov', u'avatar_url': u'https://avatars.githubusercontent.com/u/596977?', u'id': 596977, u'gravatar_id': u''}, u'type': u'PushEvent', u'public': True}]\n"
       ]
      }
     ],
     "prompt_number": 55
    },
    {
     "cell_type": "code",
     "collapsed": false,
     "input": [
      "##Raw bytes response content\n",
      "r = requests.get('https://api.github.com/events', stream=True)\n",
      "print \"Raw Data: \"+r.raw.read(10)\n",
      "#>>>'\\x1f\\x8b\\x08\\x00\\x00\\x00\\x00\\x00\\x00\\x03'"
     ],
     "language": "python",
     "metadata": {},
     "outputs": [
      {
       "output_type": "stream",
       "stream": "stdout",
       "text": [
        "Raw Data: \u001f\ufffd\b\u0000\u0000\u0000\u0000\u0000\u0000\u0003\n"
       ]
      }
     ],
     "prompt_number": 56
    },
    {
     "cell_type": "heading",
     "level": 4,
     "metadata": {},
     "source": [
      "Streaming Download"
     ]
    },
    {
     "cell_type": "markdown",
     "metadata": {},
     "source": [
      "This is a better way to access raw data. As requests handle the fetching for us, we do not need to handle it manually"
     ]
    },
    {
     "cell_type": "code",
     "collapsed": false,
     "input": [
      "with open(filename, 'wb') as fd:\n",
      "    for chunk in r.iter_content(chunk_size):\n",
      "        fd.write(chunk)"
     ],
     "language": "python",
     "metadata": {},
     "outputs": [
      {
       "ename": "NameError",
       "evalue": "name 'filename' is not defined",
       "output_type": "pyerr",
       "traceback": [
        "\u001b[1;31m---------------------------------------------------------------------------\u001b[0m\n\u001b[1;31mNameError\u001b[0m                                 Traceback (most recent call last)",
        "\u001b[1;32m<ipython-input-57-4ab9a24ce9b9>\u001b[0m in \u001b[0;36m<module>\u001b[1;34m()\u001b[0m\n\u001b[1;32m----> 1\u001b[1;33m \u001b[1;32mwith\u001b[0m \u001b[0mopen\u001b[0m\u001b[1;33m(\u001b[0m\u001b[0mfilename\u001b[0m\u001b[1;33m,\u001b[0m \u001b[1;34m'wb'\u001b[0m\u001b[1;33m)\u001b[0m \u001b[1;32mas\u001b[0m \u001b[0mfd\u001b[0m\u001b[1;33m:\u001b[0m\u001b[1;33m\u001b[0m\u001b[0m\n\u001b[0m\u001b[0;32m      2\u001b[0m     \u001b[1;32mfor\u001b[0m \u001b[0mchunk\u001b[0m \u001b[1;32min\u001b[0m \u001b[0mr\u001b[0m\u001b[1;33m.\u001b[0m\u001b[0miter_content\u001b[0m\u001b[1;33m(\u001b[0m\u001b[0mchunk_size\u001b[0m\u001b[1;33m)\u001b[0m\u001b[1;33m:\u001b[0m\u001b[1;33m\u001b[0m\u001b[0m\n\u001b[0;32m      3\u001b[0m         \u001b[0mfd\u001b[0m\u001b[1;33m.\u001b[0m\u001b[0mwrite\u001b[0m\u001b[1;33m(\u001b[0m\u001b[0mchunk\u001b[0m\u001b[1;33m)\u001b[0m\u001b[1;33m\u001b[0m\u001b[0m\n",
        "\u001b[1;31mNameError\u001b[0m: name 'filename' is not defined"
       ]
      }
     ],
     "prompt_number": 57
    },
    {
     "cell_type": "heading",
     "level": 4,
     "metadata": {},
     "source": [
      "Form Encoded Data"
     ]
    },
    {
     "cell_type": "code",
     "collapsed": false,
     "input": [
      "payload = {'key1': 'value1', 'key2': 'value2'}\n",
      "r = requests.post(\"http://httpbin.org/post\", data=payload)\n",
      "print r.text"
     ],
     "language": "python",
     "metadata": {},
     "outputs": [
      {
       "output_type": "stream",
       "stream": "stdout",
       "text": [
        "{\n",
        "  \"args\": {}, \n",
        "  \"data\": \"\", \n",
        "  \"files\": {}, \n",
        "  \"form\": {\n",
        "    \"key1\": \"value1\", \n",
        "    \"key2\": \"value2\"\n",
        "  }, \n",
        "  \"headers\": {\n",
        "    \"Accept\": \"*/*\", \n",
        "    \"Accept-Encoding\": \"gzip, deflate\", \n",
        "    \"Content-Length\": \"23\", \n",
        "    \"Content-Type\": \"application/x-www-form-urlencoded\", \n",
        "    \"Host\": \"httpbin.org\", \n",
        "    \"User-Agent\": \"python-requests/2.4.1 CPython/2.7.8 Linux/3.13.0-37-generic\"\n",
        "  }, \n",
        "  \"json\": null, \n",
        "  \"origin\": \"14.139.240.226\", \n",
        "  \"url\": \"http://httpbin.org/post\"\n",
        "}\n",
        "\n"
       ]
      }
     ],
     "prompt_number": 58
    },
    {
     "cell_type": "heading",
     "level": 4,
     "metadata": {},
     "source": [
      "JSON Encoded Data"
     ]
    },
    {
     "cell_type": "markdown",
     "metadata": {},
     "source": [
      "For example, the GitHub API v3 accepts JSON-Encoded POST/PATCH data:"
     ]
    },
    {
     "cell_type": "code",
     "collapsed": false,
     "input": [
      "url = 'https://api.github.com/some/endpoint'\n",
      "payload = {'some': 'data'}\n",
      "r = requests.post(url, data=json.dumps(payload))\n",
      "print r.status_code"
     ],
     "language": "python",
     "metadata": {},
     "outputs": [
      {
       "output_type": "stream",
       "stream": "stdout",
       "text": [
        "404\n"
       ]
      }
     ],
     "prompt_number": 59
    },
    {
     "cell_type": "heading",
     "level": 4,
     "metadata": {},
     "source": [
      "Post a multi-part Encoded File"
     ]
    },
    {
     "cell_type": "code",
     "collapsed": false,
     "input": [
      "url = 'http://httpbin.org/post'\n",
      "\n",
      "files = {'file': open(filename, 'rb')}\n",
      "\t\t## OR set name, headers explicitly ##\n",
      "    \n",
      "files = {'file': (filename, open(filename, 'rb'), 'application/vnd.ms-excel', {'Expires': '0'})}\n",
      "\t\t## OR string as a file data##\n",
      "    \n",
      "files = {'file': ('report.csv', 'some,data,to,send\\nanother,row,to,send\\n')}\n",
      "r = requests.post(url, files=files)\n",
      "print r.text"
     ],
     "language": "python",
     "metadata": {},
     "outputs": [
      {
       "output_type": "stream",
       "stream": "stdout",
       "text": [
        "{\n",
        "  \"args\": {}, \n",
        "  \"data\": \"\", \n",
        "  \"files\": {\n",
        "    \"file\": \"some,data,to,send\\nanother,row,to,send\\n\"\n",
        "  }, \n",
        "  \"form\": {}, \n",
        "  \"headers\": {\n",
        "    \"Accept\": \"*/*\", \n",
        "    \"Accept-Encoding\": \"gzip, deflate\", \n",
        "    \"Content-Length\": \"184\", \n",
        "    \"Content-Type\": \"multipart/form-data; boundary=25b10ae6060147cc82661528a8ade1ae\", \n",
        "    \"Host\": \"httpbin.org\", \n",
        "    \"User-Agent\": \"python-requests/2.4.1 CPython/2.7.8 Linux/3.13.0-37-generic\"\n",
        "  }, \n",
        "  \"json\": null, \n",
        "  \"origin\": \"14.139.240.226\", \n",
        "  \"url\": \"http://httpbin.org/post\"\n",
        "}\n",
        "\n"
       ]
      }
     ],
     "prompt_number": 63
    },
    {
     "cell_type": "markdown",
     "metadata": {},
     "source": [
      "In the event you are posting a very large file as a multipart/form-data request,\n",
      "you may want to stream the request. By default, requests does not support this,\n",
      "but there is a separate package which does - requests-toolbelt.\n",
      "You should read the toolbelt\u2019s documentation for more details about how to use it."
     ]
    },
    {
     "cell_type": "heading",
     "level": 4,
     "metadata": {},
     "source": [
      "Response And History"
     ]
    },
    {
     "cell_type": "markdown",
     "metadata": {},
     "source": [
      "By default Requests will perform location redirection for all verbs except HEAD.\n",
      "We can use the history property of the Response object to track redirection.\n",
      "The Response.history list contains the Response objects that were created in order to complete the request.\n",
      "The list is sorted from the oldest to the most recent response.\n",
      "For example, GitHub redirects all HTTP requests to HTTPS:"
     ]
    },
    {
     "cell_type": "code",
     "collapsed": false,
     "input": [
      "r = requests.get('http://github.com')\n",
      "print r.history"
     ],
     "language": "python",
     "metadata": {},
     "outputs": [
      {
       "output_type": "stream",
       "stream": "stdout",
       "text": [
        "[<Response [301]>]\n"
       ]
      }
     ],
     "prompt_number": 64
    },
    {
     "cell_type": "markdown",
     "metadata": {},
     "source": [
      "If you\u2019re using GET, OPTIONS, POST, PUT, PATCH or DELETE,\n",
      "you can disable redirection handling with the allow_redirects parameter:\n",
      "If you\u2019re using HEAD, you can enable redirection as well:"
     ]
    },
    {
     "cell_type": "code",
     "collapsed": false,
     "input": [
      "r = requests.get('http://github.com', allow_redirects=False)\n",
      "r = requests.head('http://github.com', allow_redirects=True)"
     ],
     "language": "python",
     "metadata": {},
     "outputs": [],
     "prompt_number": 65
    },
    {
     "cell_type": "heading",
     "level": 4,
     "metadata": {},
     "source": [
      "TimeOuts"
     ]
    },
    {
     "cell_type": "markdown",
     "metadata": {},
     "source": [
      "You can tell Requests to stop waiting for a response after a given number of seconds with the timeout parameter.\n",
      "timeout is not a time limit on the entire response download;\n",
      "rather, an exception is raised if the server has not issued a response for timeout seconds\n",
      "(more precisely, if no bytes have been received on the underlying socket for timeout seconds)."
     ]
    },
    {
     "cell_type": "code",
     "collapsed": false,
     "input": [
      "requests.get('http://github.com', timeout=0.001)"
     ],
     "language": "python",
     "metadata": {},
     "outputs": []
    },
    {
     "cell_type": "heading",
     "level": 3,
     "metadata": {},
     "source": [
      "Errors and Exceptions"
     ]
    },
    {
     "cell_type": "markdown",
     "metadata": {},
     "source": [
      "In a network problem (e.g. DNS failure, refused connection, etc), Requests will raise a ConnectionError exception.\n",
      "In the rare event of an invalid HTTP response, Requests will raise an HTTPError exception.\n",
      "If a request times out, a Timeout exception is raised.\n",
      "If a request exceeds the configured number of maximum redirections, a TooManyRedirects exception is raised.\n",
      "\n",
      "All exceptions that Requests explicitly raises inherit from requests.exceptions.RequestException."
     ]
    }
   ],
   "metadata": {}
  }
 ]
}