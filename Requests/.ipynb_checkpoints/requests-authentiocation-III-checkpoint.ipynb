{
 "metadata": {
  "name": "",
  "signature": "sha256:93dcb03d68f5d354b1d8dc3c62a5084fee75315c182ca67e59117dfaff163b4f"
 },
 "nbformat": 3,
 "nbformat_minor": 0,
 "worksheets": [
  {
   "cells": [
    {
     "cell_type": "heading",
     "level": 2,
     "metadata": {},
     "source": [
      "Authentication"
     ]
    },
    {
     "cell_type": "code",
     "collapsed": false,
     "input": [
      "import requests"
     ],
     "language": "python",
     "metadata": {},
     "outputs": [],
     "prompt_number": 2
    },
    {
     "cell_type": "code",
     "collapsed": false,
     "input": [
      "def get(url, params=None, headers=None):\n",
      "    \"\"\"\n",
      "    for testing the url.\n",
      "    \"\"\"\n",
      "    try:\n",
      "        r = requests.get(url, params=params, headers=headers)\n",
      "        data = r.json()\n",
      "\n",
      "        #If data is a dict and it has message key, there was some error while calling api.\n",
      "        if type(data) is dict and 'message' in data.keys():\n",
      "            return None, data[u'message']\n",
      "\n",
      "        else:\n",
      "            return data, None\n",
      "\n",
      "    except Exception as e:\n",
      "        return None, e"
     ],
     "language": "python",
     "metadata": {},
     "outputs": [],
     "prompt_number": 2
    },
    {
     "cell_type": "markdown",
     "metadata": {},
     "source": [
      "Using tokens for authentication"
     ]
    },
    {
     "cell_type": "code",
     "collapsed": false,
     "input": [
      "TOKEN = \"6f333a0f8b02a710a5eee3bd97c32027ec9fa021\"\n",
      "headers = {\"Authorization\":\"token %s\" % TOKEN}\n",
      "REPOS_URL = \"https://api.github.com/users/%s/repos\"\n",
      "\n",
      "def get_public_repos(username):\n",
      "    \"\"\"\n",
      "    Collects all the public repositories of the user.\n",
      "    \"\"\"\n",
      "    repos = []\n",
      "\n",
      "    data, error = get(REPOS_URL % username)\n",
      "\n",
      "    if not data:\n",
      "        logging.error(error)\n",
      "\n",
      "    else:\n",
      "        for repo in data:\n",
      "            owner = repo['owner']['login']\n",
      "            entry = repo['name']\n",
      "            if entry not in repos:\n",
      "                repos.append(entry)\n",
      "\n",
      "    return repos\n",
      "print get_public_repos(\"swati-jaiswal\")"
     ],
     "language": "python",
     "metadata": {},
     "outputs": [
      {
       "output_type": "stream",
       "stream": "stdout",
       "text": [
        "[u'Algorithms', u'Code_chef_practice', u'Gitoscope', u'mojombo.github.io', u'MyScripts', u'Project1', u'SJdownloader', u'swati-jaiswal.github.io']\n"
       ]
      }
     ],
     "prompt_number": 3
    },
    {
     "cell_type": "heading",
     "level": 3,
     "metadata": {},
     "source": [
      "Basic Authentication"
     ]
    },
    {
     "cell_type": "markdown",
     "metadata": {},
     "source": [
      "Many web services that require authentication accept HTTP Basic Auth.\n",
      "This is the simplest kind, and Requests supports it straight out of the box.\n",
      "Making requests with HTTP Basic Auth is very simple: 1\n",
      "In fact, HTTP Basic Auth is so common that Requests provides a handy shorthand for using it: 2"
     ]
    },
    {
     "cell_type": "code",
     "collapsed": false,
     "input": [
      "from requests.auth import HTTPBasicAuth\n",
      "\n",
      "#please do replace 'swati-jaiswal' and '3' with your username and password respectively.\n",
      "print requests.get('https://api.github.com/user', auth=HTTPBasicAuth('swati-jaiswal', '2'))\n",
      "print requests.get('https://api.github.com/user', auth=('swati-jaiswal', '2'))"
     ],
     "language": "python",
     "metadata": {},
     "outputs": [
      {
       "output_type": "stream",
       "stream": "stdout",
       "text": [
        "<Response [200]>\n",
        "<Response [200]>"
       ]
      },
      {
       "output_type": "stream",
       "stream": "stdout",
       "text": [
        "\n"
       ]
      }
     ],
     "prompt_number": 8
    },
    {
     "cell_type": "heading",
     "level": 3,
     "metadata": {},
     "source": [
      "netrc Authentication"
     ]
    },
    {
     "cell_type": "markdown",
     "metadata": {},
     "source": [
      "If no authentication method is given with the auth argument,\n",
      "Requests will attempt to get the authentication credentials for the URL\u2019s hostname from the user\u2019s netrc file.\n",
      "If credentials for the hostname are found, the request is sent with HTTP Basic Auth."
     ]
    },
    {
     "cell_type": "heading",
     "level": 3,
     "metadata": {},
     "source": [
      "Digest Authentication"
     ]
    },
    {
     "cell_type": "code",
     "collapsed": false,
     "input": [
      "from requests.auth import HTTPDigestAuth\n",
      "\n",
      "url = 'http://httpbin.org/digest-auth/auth/user/pass'\n",
      "print requests.get(url, auth=HTTPDigestAuth('user', 'pass'))"
     ],
     "language": "python",
     "metadata": {},
     "outputs": [
      {
       "output_type": "stream",
       "stream": "stdout",
       "text": [
        "<Response [200]>\n"
       ]
      }
     ],
     "prompt_number": 9
    },
    {
     "cell_type": "heading",
     "level": 3,
     "metadata": {},
     "source": [
      "OAuth 1 Authentication"
     ]
    },
    {
     "cell_type": "code",
     "collapsed": false,
     "input": [
      "from requests_oauthlib import OAuth1\n",
      "#for OAuth2\n",
      "# from requests_oauthlib import OAuth2Session\n",
      "\n",
      "\n",
      "url = 'https://api.twitter.com/1.1/account/verify_credentials.json'\n",
      "auth = OAuth1('YOUR_APP_KEY', 'YOUR_APP_SECRET',\n",
      "                  'USER_OAUTH_TOKEN', 'USER_OAUTH_TOKEN_SECRET')\n",
      "\n",
      "print requests.get(url, auth=auth)"
     ],
     "language": "python",
     "metadata": {},
     "outputs": [
      {
       "output_type": "stream",
       "stream": "stdout",
       "text": [
        "<Response [401]>\n"
       ]
      },
      {
       "output_type": "stream",
       "stream": "stderr",
       "text": [
        "/usr/local/lib/python2.7/dist-packages/requests/packages/urllib3/util/ssl_.py:90: InsecurePlatformWarning: A true SSLContext object is not available. This prevents urllib3 from configuring SSL appropriately and may cause certain SSL connections to fail. For more information, see https://urllib3.readthedocs.org/en/latest/security.html#insecureplatformwarning.\n",
        "  InsecurePlatformWarning\n"
       ]
      }
     ],
     "prompt_number": 3
    },
    {
     "cell_type": "markdown",
     "metadata": {},
     "source": [
      "Note: For using requests_ouathlib, after pip installing it you must set your PYTHONPATH variable to '/usr/local/lib/python2.7/site-packages/' or '/usr/local/lib/python2.7/dist-packages/'.\n",
      "First check in which of them you find oauthlib."
     ]
    },
    {
     "cell_type": "heading",
     "level": 3,
     "metadata": {},
     "source": [
      "New Authentication Forms"
     ]
    },
    {
     "cell_type": "markdown",
     "metadata": {},
     "source": [
      "If you can\u2019t find a good implementation of the form of authentication you want, you can implement it yourself.\n",
      "Requests makes it easy to add your own forms of authentication.\n",
      "To do so, subclass AuthBase and implement the __call__() method:"
     ]
    },
    {
     "cell_type": "code",
     "collapsed": false,
     "input": [
      "import requests\n",
      "class MyAuth(requests.auth.AuthBase):\n",
      "    def __call__(self, r):\n",
      "        \n",
      "        # Implement my authentication\n",
      "        \n",
      "        return r\n",
      "\n",
      "url = 'http://httpbin.org/get'\n",
      "print requests.get(url, auth=MyAuth())"
     ],
     "language": "python",
     "metadata": {},
     "outputs": []
    }
   ],
   "metadata": {}
  }
 ]
}