{
 "cells": [
  {
   "cell_type": "markdown",
   "metadata": {},
   "source": [
    "##Introduction"
   ]
  },
  {
   "cell_type": "markdown",
   "metadata": {},
   "source": [
    "Essentially, decorators work as wrappers, modifying the behavior of the code before and after a target function execution, without the need to modify the function itself, augmenting the original functionality, thus decorating it."
   ]
  },
  {
   "cell_type": "markdown",
   "metadata": {},
   "source": [
    "##Functions Revisited"
   ]
  },
  {
   "cell_type": "markdown",
   "metadata": {},
   "source": [
    "####They can be assigned to a variable"
   ]
  },
  {
   "cell_type": "code",
   "execution_count": 24,
   "metadata": {
    "collapsed": false
   },
   "outputs": [
    {
     "name": "stdout",
     "output_type": "stream",
     "text": [
      "9\n"
     ]
    }
   ],
   "source": [
    "import random\n",
    "def throw_int(n):\n",
    "    return random.randint(1,n)\n",
    "\n",
    "random_num = throw_int\n",
    "print random_num(10)"
   ]
  },
  {
   "cell_type": "markdown",
   "metadata": {},
   "source": [
    "####Function inside another function"
   ]
  },
  {
   "cell_type": "code",
   "execution_count": 23,
   "metadata": {
    "collapsed": false
   },
   "outputs": [
    {
     "name": "stdout",
     "output_type": "stream",
     "text": [
      "34\n"
     ]
    }
   ],
   "source": [
    "def sum_random(m):\n",
    "    def throw_int(n):\n",
    "        return random.randint(1,n)\n",
    "\n",
    "    result = throw_int(m) + throw_int(m)\n",
    "    return result\n",
    "\n",
    "print sum_random(20)\n",
    "\n",
    "# Outputs: Hello John"
   ]
  },
  {
   "cell_type": "markdown",
   "metadata": {},
   "source": [
    "####Function as a parameter"
   ]
  },
  {
   "cell_type": "code",
   "execution_count": 22,
   "metadata": {
    "collapsed": false
   },
   "outputs": [
    {
     "name": "stdout",
     "output_type": "stream",
     "text": [
      "16\n"
     ]
    }
   ],
   "source": [
    "def throw_int(n):\n",
    "   return random.randint(1,n) \n",
    "\n",
    "def add(a,b):\n",
    "    return a+b\n",
    "\n",
    "def call_func(func):\n",
    "    numOne = throw_int(10)\n",
    "    numTwo = throw_int(10)\n",
    "    return func(numOne, numTwo)\n",
    "\n",
    "print call_func(add)"
   ]
  },
  {
   "cell_type": "markdown",
   "metadata": {},
   "source": [
    "####Function can return another functions"
   ]
  },
  {
   "cell_type": "code",
   "execution_count": 21,
   "metadata": {
    "collapsed": false
   },
   "outputs": [
    {
     "name": "stdout",
     "output_type": "stream",
     "text": [
      "3\n"
     ]
    }
   ],
   "source": [
    "def add_wrapper():\n",
    "    def add(a,b):\n",
    "        return a+b\n",
    "\n",
    "    return add\n",
    "\n",
    "res = add_wrapper()\n",
    "print res(1,2)"
   ]
  },
  {
   "cell_type": "markdown",
   "metadata": {},
   "source": [
    "####Inner functions have access to the enclosing scope\n",
    "* only read access to the outer scope"
   ]
  },
  {
   "cell_type": "code",
   "execution_count": 19,
   "metadata": {
    "collapsed": false
   },
   "outputs": [
    {
     "name": "stdout",
     "output_type": "stream",
     "text": [
      "9\n"
     ]
    }
   ],
   "source": [
    "def add_wrapper(a, b):\n",
    "    def add():\n",
    "        return a+b\n",
    "\n",
    "    return add\n",
    "\n",
    "res = addWrapper(5, 4)\n",
    "print res()"
   ]
  },
  {
   "cell_type": "markdown",
   "metadata": {},
   "source": [
    "##Decorator Functions"
   ]
  },
  {
   "cell_type": "code",
   "execution_count": 31,
   "metadata": {
    "collapsed": false
   },
   "outputs": [
    {
     "name": "stdout",
     "output_type": "stream",
     "text": [
      "26\n",
      " hello  swati \n"
     ]
    }
   ],
   "source": [
    "def get_num(n):\n",
    "    return random.randint(1,n)\n",
    "\n",
    "def get_str(arg):\n",
    "    return \" \"+arg+\" \"\n",
    "\n",
    "def add_decorate(func):\n",
    "    def add_wrapper(m, n):\n",
    "        return func(m)+func(n)\n",
    "    return add_wrapper\n",
    "\n",
    "my_add = add_decorate(get_num)\n",
    "print my_add(10, 20)\n",
    "\n",
    "my_str = add_decorate(get_str)\n",
    "print my_str(\"hello\", \"swati\")"
   ]
  },
  {
   "cell_type": "markdown",
   "metadata": {},
   "source": [
    "##Decorators"
   ]
  },
  {
   "cell_type": "code",
   "execution_count": 33,
   "metadata": {
    "collapsed": false
   },
   "outputs": [
    {
     "name": "stdout",
     "output_type": "stream",
     "text": [
      "24\n"
     ]
    }
   ],
   "source": [
    "def add_decorate(func):\n",
    "   def add_wrapper(m,n):\n",
    "       return func(m) + func(n)\n",
    "   return add_wrapper\n",
    "\n",
    "@add_decorate\n",
    "def get_num(n):\n",
    "   return random.randint(1,n)\n",
    "\n",
    "print get_num(10, 20)"
   ]
  },
  {
   "cell_type": "markdown",
   "metadata": {},
   "source": [
    "##Multiple Decorators"
   ]
  },
  {
   "cell_type": "code",
   "execution_count": 51,
   "metadata": {
    "collapsed": false
   },
   "outputs": [
    {
     "name": "stdout",
     "output_type": "stream",
     "text": [
      "250\n"
     ]
    }
   ],
   "source": [
    "def add_decorate(func):\n",
    "    def add_wrapper(m):\n",
    "        return func(m) + func(m)\n",
    "    return add_wrapper\n",
    "\n",
    "def mult_decorate(func):\n",
    "    def mult_wrapper(m,n):\n",
    "        return func(m) * func(n)\n",
    "    return mult_wrapper\n",
    "\n",
    "@mult_decorate\n",
    "@add_decorate\n",
    "def get_num(n):\n",
    "    return random.randint(1,n)\n",
    "\n",
    "print get_num(10,20)"
   ]
  },
  {
   "cell_type": "markdown",
   "metadata": {},
   "source": [
    "###Another example"
   ]
  },
  {
   "cell_type": "code",
   "execution_count": 52,
   "metadata": {
    "collapsed": true
   },
   "outputs": [],
   "source": [
    "def p_decorate(func):\n",
    "   def func_wrapper(name):\n",
    "       return \"<p>{0}</p>\".format(func(name))\n",
    "   return func_wrapper\n",
    "\n",
    "def strong_decorate(func):\n",
    "    def func_wrapper(name):\n",
    "        return \"<strong>{0}</strong>\".format(func(name))\n",
    "    return func_wrapper\n",
    "\n",
    "def div_decorate(func):\n",
    "    def func_wrapper(name):\n",
    "        return \"<div>{0}</div>\".format(func(name))\n",
    "    return func_wrapper"
   ]
  },
  {
   "cell_type": "code",
   "execution_count": 53,
   "metadata": {
    "collapsed": false
   },
   "outputs": [
    {
     "name": "stdout",
     "output_type": "stream",
     "text": [
      "<div><p><strong>lorem ipsum, Swati dolor sit amet</strong></p></div>\n"
     ]
    }
   ],
   "source": [
    "@div_decorate\n",
    "@p_decorate\n",
    "@strong_decorate\n",
    "def get_text(name):\n",
    "   return \"lorem ipsum, {0} dolor sit amet\".format(name)\n",
    "\n",
    "print get_text(\"Swati\")"
   ]
  },
  {
   "cell_type": "markdown",
   "metadata": {},
   "source": [
    "##References"
   ]
  },
  {
   "cell_type": "markdown",
   "metadata": {},
   "source": [
    "* http://thecodeship.com/patterns/guide-to-python-function-decorators/"
   ]
  },
  {
   "cell_type": "code",
   "execution_count": null,
   "metadata": {
    "collapsed": true
   },
   "outputs": [],
   "source": []
  }
 ],
 "metadata": {
  "kernelspec": {
   "display_name": "Python 2",
   "language": "python",
   "name": "python2"
  },
  "language_info": {
   "codemirror_mode": {
    "name": "ipython",
    "version": 2
   },
   "file_extension": ".py",
   "mimetype": "text/x-python",
   "name": "python",
   "nbconvert_exporter": "python",
   "pygments_lexer": "ipython2",
   "version": "2.7.6"
  }
 },
 "nbformat": 4,
 "nbformat_minor": 0
}
