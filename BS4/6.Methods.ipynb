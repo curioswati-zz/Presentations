{
 "cells": [
  {
   "cell_type": "code",
   "execution_count": 2,
   "metadata": {
    "collapsed": true
   },
   "outputs": [],
   "source": [
    "from bs4 import BeautifulSoup\n",
    "soup = BeautifulSoup (open(\"43rd-congress.html\"))"
   ]
  },
  {
   "cell_type": "code",
   "execution_count": 51,
   "metadata": {
    "collapsed": true
   },
   "outputs": [
    {
     "name": "stdout",
     "output_type": "stream",
     "text": [
      "\n",
      "43rd-congress\n",
      "\n",
      "\n",
      "\n",
      "\n",
      "Member Name\n",
      "Birth-Death\n",
      "\n",
      "\n",
      "ADAMS, George Madison\n",
      "1837-1920\n",
      "\n",
      "\n",
      "ALBERT, William Julian\n",
      "1816-1879\n",
      "\n",
      "\n",
      "ALBRIGHT, Charles\n",
      "1830-1880\n",
      "\n",
      "\n",
      "\n",
      "\n",
      "\n"
     ]
    }
   ],
   "source": [
    "#--------------------------------------get_text-------------------------------------\n",
    "print soup.get_text()"
   ]
  },
  {
   "cell_type": "code",
   "execution_count": 52,
   "metadata": {
    "collapsed": false
   },
   "outputs": [
    {
     "name": "stdout",
     "output_type": "stream",
     "text": [
      "http://bioguide.congress.gov/scripts/biodisplay.pl?index=A000035\n"
     ]
    }
   ],
   "source": [
    "#----------------------------------------get----------------------------------------\n",
    "#gets the value of a particular attribute.\n",
    "print soup.find(\"a\").get('href')"
   ]
  },
  {
   "cell_type": "code",
   "execution_count": 34,
   "metadata": {
    "collapsed": true
   },
   "outputs": [],
   "source": [
    "#--------------------------------------find_all-------------------------------------\n",
    "#This method finds tags on the basis of filters.\n",
    "#It can have a tag's name as argument or a keyword argument to define attribute\n"
   ]
  },
  {
   "cell_type": "code",
   "execution_count": 5,
   "metadata": {
    "collapsed": true
   },
   "outputs": [
    {
     "name": "stdout",
     "output_type": "stream",
     "text": [
      "<a href=\"http://bioguide.congress.gov/scripts/biodisplay.pl?index=A000035\" id=\"link1\">ADAMS, George Madison</a>\n",
      "<a href=\"http://bioguide.congress.gov/scripts/biodisplay.pl?index=A000074\">ALBERT, William Julian</a>\n",
      "<a href=\"http://bioguide.congress.gov/scripts/biodisplay.pl?index=A000077\">ALBRIGHT, Charles</a>\n"
     ]
    }
   ],
   "source": [
    "#by tag names\n",
    "anchors = soup.find_all(\"a\")\n",
    "for a in anchors:\n",
    "    print a"
   ]
  },
  {
   "cell_type": "code",
   "execution_count": 6,
   "metadata": {
    "collapsed": true
   },
   "outputs": [
    {
     "name": "stdout",
     "output_type": "stream",
     "text": [
      "<a href=\"http://bioguide.congress.gov/scripts/biodisplay.pl?index=A000035\" id=\"link1\">ADAMS, George Madison</a>\n"
     ]
    }
   ],
   "source": [
    "#by attributes\n",
    "anchors = soup.find_all(id=\"link1\")\n",
    "for a in anchors:\n",
    "    print a"
   ]
  },
  {
   "cell_type": "code",
   "execution_count": 17,
   "metadata": {
    "collapsed": true
   },
   "outputs": [
    {
     "name": "stdout",
     "output_type": "stream",
     "text": [
      "[<a class=\"star\" href=\"http://bioguide.congress.gov/scripts/biodisplay.pl?index=A000074\">ALBERT, William Julian</a>]\n"
     ]
    }
   ],
   "source": [
    "#by class name\n",
    "starred = soup.find_all(class_=\"star\")\n",
    "print starred"
   ]
  },
  {
   "cell_type": "code",
   "execution_count": 26,
   "metadata": {
    "collapsed": true
   },
   "outputs": [
    {
     "name": "stdout",
     "output_type": "stream",
     "text": [
      "[<a class=\"watch star\" href=\"http://bioguide.congress.gov/scripts/biodisplay.pl?index=A000077\">ALBRIGHT, Charles</a>]\n"
     ]
    }
   ],
   "source": [
    "#for selecting multiple classes\n",
    "starred_and_watched = soup.select(\".star.watch\")\n",
    "print starred_and_watched"
   ]
  },
  {
   "cell_type": "code",
   "execution_count": 3,
   "metadata": {
    "collapsed": true
   },
   "outputs": [
    {
     "name": "stdout",
     "output_type": "stream",
     "text": [
      "[u'ADAMS, George Madison']\n"
     ]
    }
   ],
   "source": [
    "#by text: can search for strings instead of tags\n",
    "names = soup.find_all(text=\"ADAMS, George Madison\")\n",
    "print names"
   ]
  },
  {
   "cell_type": "code",
   "execution_count": 39,
   "metadata": {
    "collapsed": true
   },
   "outputs": [
    {
     "name": "stdout",
     "output_type": "stream",
     "text": [
      "<a href=\"http://bioguide.congress.gov/scripts/biodisplay.pl?index=A000035\" id=\"link1\">ADAMS, George Madison</a>\n",
      "<a class=\"star\" href=\"http://bioguide.congress.gov/scripts/biodisplay.pl?index=A000074\">ALBERT, William Julian</a>\n"
     ]
    }
   ],
   "source": [
    "#limit the number\n",
    "two_anchors = soup.find_all(\"a\", limit=2)\n",
    "\n",
    "for anchor in two_anchors:\n",
    "    print anchor"
   ]
  },
  {
   "cell_type": "code",
   "execution_count": 40,
   "metadata": {
    "collapsed": true
   },
   "outputs": [
    {
     "name": "stdout",
     "output_type": "stream",
     "text": [
      "[]\n"
     ]
    }
   ],
   "source": [
    "#limit recursion\n",
    "#If you call mytag.find_all(),\n",
    "# Beautiful Soup will examine all the descendants of mytag: its children, its children’s children, and so on.\n",
    "# If you only want Beautiful Soup to consider direct children, you can pass in recursive=False\n",
    "\n",
    "a_tags = soup.find_all(\"a\", recursive=False)\n",
    "print a_tags"
   ]
  },
  {
   "cell_type": "code",
   "execution_count": 6,
   "metadata": {
    "collapsed": true
   },
   "outputs": [
    {
     "name": "stdout",
     "output_type": "stream",
     "text": [
      "[]\n"
     ]
    }
   ],
   "source": [
    "#alternate for find_all:\n",
    "print soup(\"a\")"
   ]
  },
  {
   "cell_type": "code",
   "execution_count": null,
   "metadata": {
    "collapsed": true
   },
   "outputs": [],
   "source": [
    "#---------------------------------------find----------------------------------------\n",
    "##Signature: find(name, attrs, recursive, text, **kwargs)\n",
    "#returns only one result\n",
    "\n",
    "#---------------------find_parent() and find_parents()------------------------------\n",
    "#Signature: find_parent(name, attrs, text, **kwargs)\n",
    "#Signature: find_parents(name, attrs, text, limit, **kwargs)\n",
    "\n",
    "#---------------------find_next_sibling() and find_next_siblings()------------------\n",
    "#Signature: find_next_sibling(name, attrs, text, **kwargs)\n",
    "#Signature: find_next_siblings(name, attrs, text, limit, **kwargs)\n",
    "\n",
    "#--------------------find_previous_sibling() and find_previous_siblings()-----------\n",
    "#Signature: find_previous_sibling(name, attrs, text, **kwargs)\n",
    "#Signature: find_previous_siblings(name, attrs, text, limit, **kwargs)\n",
    "\n",
    "#--------------------find_next() and find_all_next()--------------------------------\n",
    "#Signature: find_next(name, attrs, text, **kwargs)\n",
    "#Signature: find_all_next(name, attrs, text, limit, **kwargs)\n",
    "\n",
    "#--------------------find_previous() and find_all_previous()------------------------\n",
    "#Signature: find_previous(name, attrs, text, **kwargs)\n",
    "#Signature: find_all_previous(name, attrs, text, limit, **kwargs)"
   ]
  },
  {
   "cell_type": "code",
   "execution_count": 45,
   "metadata": {
    "collapsed": true
   },
   "outputs": [
    {
     "name": "stdout",
     "output_type": "stream",
     "text": [
      "[<a href=\"http://bioguide.congress.gov/scripts/biodisplay.pl?index=A000035\" id=\"link1\">ADAMS, George Madison</a>, <a class=\"star\" href=\"http://bioguide.congress.gov/scripts/biodisplay.pl?index=A000074\">ALBERT, William Julian</a>, <a class=\"watch star\" href=\"http://bioguide.congress.gov/scripts/biodisplay.pl?index=A000077\">ALBRIGHT, Charles</a>]\n",
      "[<title>43rd-congress</title>]\n",
      "[<a href=\"http://bioguide.congress.gov/scripts/biodisplay.pl?index=A000035\" id=\"link1\">ADAMS, George Madison</a>]\n"
     ]
    }
   ],
   "source": [
    "#--------------------------------------select---------------------------------------\n",
    "#CSS selectors\n",
    "print soup.select(\"body a\")\n",
    "print soup.select(\"head > title\")\n",
    "print soup.select(\"#link1\")"
   ]
  },
  {
   "cell_type": "code",
   "execution_count": null,
   "metadata": {
    "collapsed": true
   },
   "outputs": [],
   "source": [
    "#--------------------------------------Modifying------------------------------------\n",
    "#There are many methods for modifying the tree.\n",
    "\n",
    "#--------------------ADD-----------------------------------------\n",
    "#append():It works just like calling .append() on a Python list\n",
    "#insert():works just like .insert() on a Python list\n",
    "#insert_before() and insert_after()\n",
    "\n",
    "#-------------------REMOVE---------------------------------------\n",
    "#clear(): removes the contents of a tag\n",
    "#extract(): removes a tag or string from the tree. It returns the tag or string that was extracted.\n",
    "#decompose(): removes a tag from the tree, then completely destroys it and its contents\n",
    "#replace_with(): removes a tag or string from the tree, and replaces it with the tag or string of your choice"
   ]
  },
  {
   "cell_type": "code",
   "execution_count": 7,
   "metadata": {
    "collapsed": true
   },
   "outputs": [
    {
     "name": "stdout",
     "output_type": "stream",
     "text": [
      "<a href=\"http://bioguide.congress.gov/scripts/biodisplay.pl?index=A000035\" id=\"link1\">\n",
      " ADAMS, George Madison\n",
      "</a>\n",
      "<a class=\"star\" href=\"http://bioguide.congress.gov/scripts/biodisplay.pl?index=A000074\">\n",
      " ALBERT, William Julian\n",
      "</a>\n",
      "<a class=\"watch star\" href=\"http://bioguide.congress.gov/scripts/biodisplay.pl?index=A000077\">\n",
      " ALBRIGHT, Charles\n",
      "</a>\n",
      "<a href=\"http://bioguide.congress.gov/scripts/biodisplay.pl&gt;index=A000046\">\n",
      " ARON WILLIAMS\n",
      "</a>\n"
     ]
    }
   ],
   "source": [
    "#-------------------------------------Parse specific part of a tree--------------------------\n",
    "from bs4 import SoupStrainer\n",
    "\n",
    "only_a_tags = SoupStrainer(\"a\")\n",
    "print(BeautifulSoup(open(\"43rd-congress.html\"), \"html.parser\", parse_only=only_a_tags).prettify())"
   ]
  },
  {
   "cell_type": "code",
   "execution_count": 49,
   "metadata": {
    "collapsed": true
   },
   "outputs": [
    {
     "name": "stdout",
     "output_type": "stream",
     "text": [
      "Diagnostic running on Beautiful Soup 4.3.2\n",
      "Python version 2.7.6 (default, Nov 10 2013, 19:24:18) [MSC v.1500 32 bit (Intel)]\n",
      "I noticed that html5lib is not installed. Installing it may help.\n",
      "Found lxml version 3.2.3.0\n",
      "\n",
      "Trying to parse your markup with html.parser\n",
      "Here's what html.parser did with the markup:\n",
      "<!DOCTYPE html>\n",
      "<html>\n",
      " <head>\n",
      "  <title>\n",
      "   43rd-congress\n",
      "  </title>\n",
      " </head>\n",
      " <body>\n",
      "  <table border=\"1\" cellpadding=\"3\" cellspacing=\"2\">\n",
      "   <tbody>\n",
      "    <tr>\n",
      "     <th>\n",
      "      Member Name\n",
      "     </th>\n",
      "     <th>\n",
      "      Birth-Death\n",
      "     </th>\n",
      "    </tr>\n",
      "    <tr>\n",
      "     <td>\n",
      "      <a href=\"http://bioguide.congress.gov/scripts/biodisplay.pl?index=A000035\" id=\"link1\">\n",
      "       ADAMS, George Madison\n",
      "      </a>\n",
      "     </td>\n",
      "     <td>\n",
      "      1837-1920\n",
      "     </td>\n",
      "    </tr>\n",
      "    <tr>\n",
      "     <td>\n",
      "      <a class=\"star\" href=\"http://bioguide.congress.gov/scripts/biodisplay.pl?index=A000074\">\n",
      "       ALBERT, William Julian\n",
      "      </a>\n",
      "     </td>\n",
      "     <td>\n",
      "      1816-1879\n",
      "     </td>\n",
      "    </tr>\n",
      "    <tr>\n",
      "     <td>\n",
      "      <a class=\"watch star\" href=\"http://bioguide.congress.gov/scripts/biodisplay.pl?index=A000077\">\n",
      "       ALBRIGHT, Charles\n",
      "      </a>\n",
      "     </td>\n",
      "     <td>\n",
      "      1830-1880\n",
      "     </td>\n",
      "    </tr>\n",
      "   </tbody>\n",
      "  </table>\n",
      " </body>\n",
      "</html>\n",
      "--------------------------------------------------------------------------------\n",
      "Trying to parse your markup with lxml\n",
      "Here's what lxml did with the markup:\n",
      "<!DOCTYPE html>\n",
      "<html>\n",
      " <head>\n",
      "  <title>\n",
      "   43rd-congress\n",
      "  </title>\n",
      " </head>\n",
      " <body>\n",
      "  <table border=\"1\" cellpadding=\"3\" cellspacing=\"2\">\n",
      "   <tbody>\n",
      "    <tr>\n",
      "     <th>\n",
      "      Member Name\n",
      "     </th>\n",
      "     <th>\n",
      "      Birth-Death\n",
      "     </th>\n",
      "    </tr>\n",
      "    <tr>\n",
      "     <td>\n",
      "      <a href=\"http://bioguide.congress.gov/scripts/biodisplay.pl?index=A000035\" id=\"link1\">\n",
      "       ADAMS, George Madison\n",
      "      </a>\n",
      "     </td>\n",
      "     <td>\n",
      "      1837-1920\n",
      "     </td>\n",
      "    </tr>\n",
      "    <tr>\n",
      "     <td>\n",
      "      <a class=\"star\" href=\"http://bioguide.congress.gov/scripts/biodisplay.pl?index=A000074\">\n",
      "       ALBERT, William Julian\n",
      "      </a>\n",
      "     </td>\n",
      "     <td>\n",
      "      1816-1879\n",
      "     </td>\n",
      "    </tr>\n",
      "    <tr>\n",
      "     <td>\n",
      "      <a class=\"watch star\" href=\"http://bioguide.congress.gov/scripts/biodisplay.pl?index=A000077\">\n",
      "       ALBRIGHT, Charles\n",
      "      </a>\n",
      "     </td>\n",
      "     <td>\n",
      "      1830-1880\n",
      "     </td>\n",
      "    </tr>\n",
      "   </tbody>\n",
      "  </table>\n",
      " </body>\n",
      "</html>\n",
      "--------------------------------------------------------------------------------\n",
      "Trying to parse your markup with ['lxml', 'xml']\n",
      "Here's what ['lxml', 'xml'] did with the markup:\n",
      "<?xml version=\"1.0\" encoding=\"utf-8\"?>\n",
      "<!DOCTYPE html>\n",
      "<html>\n",
      " <head>\n",
      "  <title>\n",
      "   43rd-congress\n",
      "  </title>\n",
      " </head>\n",
      " <body>\n",
      "  <table border=\"1\" cellpadding=\"3\" cellspacing=\"2\">\n",
      "   <tbody>\n",
      "    <tr>\n",
      "     <th>\n",
      "      Member Name\n",
      "     </th>\n",
      "     <th>\n",
      "      Birth-Death\n",
      "     </th>\n",
      "    </tr>\n",
      "    <tr>\n",
      "     <td>\n",
      "      <a href=\"http://bioguide.congress.gov/scripts/biodisplay.pl?index=A000035\" id=\"link1\">\n",
      "       ADAMS, George Madison\n",
      "      </a>\n",
      "     </td>\n",
      "     <td>\n",
      "      1837-1920\n",
      "     </td>\n",
      "    </tr>\n",
      "    <tr>\n",
      "     <td>\n",
      "      <a class=\"star\" href=\"http://bioguide.congress.gov/scripts/biodisplay.pl?index=A000074\">\n",
      "       ALBERT, William Julian\n",
      "      </a>\n",
      "     </td>\n",
      "     <td>\n",
      "      1816-1879\n",
      "     </td>\n",
      "    </tr>\n",
      "    <tr>\n",
      "     <td>\n",
      "      <a class=\"watch star\" href=\"http://bioguide.congress.gov/scripts/biodisplay.pl?index=A000077\">\n",
      "       ALBRIGHT, Charles\n",
      "      </a>\n",
      "     </td>\n",
      "     <td>\n",
      "      1830-1880\n",
      "     </td>\n",
      "    </tr>\n",
      "   </tbody>\n",
      "  </table>\n",
      " </body>\n",
      "</html>\n",
      "--------------------------------------------------------------------------------\n"
     ]
    }
   ],
   "source": [
    "#If you’re having trouble understanding what Beautiful Soup does to a document,\n",
    "# pass the document into the diagnose() function.\n",
    "# (New in Beautiful Soup 4.2.0.)\n",
    "# Beautiful Soup will print out a report showing you how different parsers handle the document,\n",
    "# and tell you if you’re missing a parser that Beautiful Soup could be using\n",
    "\n",
    "from bs4.diagnose import diagnose\n",
    "data = open(\"43rd-congress.html\").read()\n",
    "diagnose(data)"
   ]
  }
 ],
 "metadata": {
  "kernelspec": {
   "display_name": "Python 2",
   "language": "python",
   "name": "python2"
  },
  "language_info": {
   "codemirror_mode": {
    "name": "ipython",
    "version": 2
   },
   "file_extension": ".py",
   "mimetype": "text/x-python",
   "name": "python",
   "nbconvert_exporter": "python",
   "pygments_lexer": "ipython2",
   "version": "2.7.6"
  }
 },
 "nbformat": 4,
 "nbformat_minor": 0
}
