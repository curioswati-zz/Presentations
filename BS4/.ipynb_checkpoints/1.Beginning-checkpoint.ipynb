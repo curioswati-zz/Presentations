{
 "cells": [
  {
   "cell_type": "markdown",
   "metadata": {},
   "source": [
    "# Introduction"
   ]
  },
  {
   "cell_type": "markdown",
   "metadata": {},
   "source": [
    "It is a python library for web scrapping. It provides methods for accessing and manipulating html or xml data."
   ]
  },
  {
   "cell_type": "markdown",
   "metadata": {},
   "source": [
    "###Some quick points:"
   ]
  },
  {
   "cell_type": "markdown",
   "metadata": {},
   "source": [
    "* It does not fetch pages, you have to do it yourself.\n",
    "* provides methods for easy parsing over the data.\n",
    "* Latest version:4.x. 3.x is no more developed. Use 4.x as it supports both Python 2.x and 3.x.\n",
    "* It first creates a unicode tree of python objects from the document.\n",
    "* There are 4 objects: Tag, NavigableString, BeautifulSoup, Comment\n",
    "* Beautiful Soup doesn’t include any parsing code. Instead, it relies on external parsers.\n",
    "*  If one parser isn’t working on a certain document, the best solution is to try a different parser."
   ]
  },
  {
   "cell_type": "markdown",
   "metadata": {},
   "source": [
    "##Parsers supported by BS:"
   ]
  },
  {
   "cell_type": "raw",
   "metadata": {},
   "source": [
    "Parser                Typical usage                          Advantages                        Disadvantages\n",
    "-----------------------------------------------------------------------------------------------------------------------------\n",
    "Python’s html.parser  BeautifulSoup(markup, \"html.parser\")   Batteries included                Not very lenient\n",
    "                                                             Decent speed                       (before Python 2.7.3 or 3.2.2)\n",
    "                                                             Lenient (as of Python 2.7.3\n",
    "                                                              and 3.2.)\n",
    "\n",
    "lxml’s HTML parser    BeautifulSoup(markup, \"lxml\")          Very fast                         External C dependency\n",
    "                                                             Lenient\n",
    "\n",
    "lxml’s XML parser     BeautifulSoup(markup,                  Very fast                         External C dependency\n",
    "                        [\"lxml\", \"xml\"])                     The only currently supported\n",
    "                      BeautifulSoup(markup, \"xml\")            XML parser    \n",
    "\n",
    "html5lib              BeautifulSoup(markup, \"html5lib\")      Extremely lenient                 Very slow\n",
    "                                                             Parses pages the same way a       External Python dependency\n",
    "                                                              web browser does\n",
    "                                                             Creates valid HTML5"
   ]
  },
  {
   "cell_type": "markdown",
   "metadata": {},
   "source": [
    "#Installation"
   ]
  },
  {
   "cell_type": "code",
   "execution_count": null,
   "metadata": {
    "collapsed": true
   },
   "outputs": [],
   "source": [
    "$ sudo apt-get install python-bs4\n",
    "\n",
    "$ pip install beautifulsoup4\n",
    "\n",
    "$ easy_install beautifulsoup4\n",
    "\n",
    "or just download the tarball and run setup.py"
   ]
  },
  {
   "cell_type": "markdown",
   "metadata": {},
   "source": [
    "#Usage"
   ]
  },
  {
   "cell_type": "code",
   "execution_count": 2,
   "metadata": {
    "collapsed": true
   },
   "outputs": [],
   "source": [
    "from bs4 import BeautifulSoup"
   ]
  },
  {
   "cell_type": "markdown",
   "metadata": {},
   "source": [
    "Now there are three ways:\n",
    "   1. use a local html file.\n",
    "   2. use a python http library (as: requests, urllib3) to fetch a page\n",
    "    and then use the page's data.\n",
    "   3. pass the html data by yourself in a string.\n"
   ]
  },
  {
   "cell_type": "code",
   "execution_count": 3,
   "metadata": {
    "collapsed": true
   },
   "outputs": [
    {
     "ename": "NameError",
     "evalue": "name 'file_name' is not defined",
     "output_type": "error",
     "traceback": [
      "\u001b[1;31m---------------------------------------------------------------------------\u001b[0m",
      "\u001b[1;31mNameError\u001b[0m                                 Traceback (most recent call last)",
      "\u001b[1;32m<ipython-input-3-7e350a6b1e80>\u001b[0m in \u001b[0;36m<module>\u001b[1;34m()\u001b[0m\n\u001b[1;32m----> 1\u001b[1;33m \u001b[0msoup\u001b[0m \u001b[1;33m=\u001b[0m \u001b[0mBeautifulSoup\u001b[0m \u001b[1;33m(\u001b[0m\u001b[0mopen\u001b[0m\u001b[1;33m(\u001b[0m\u001b[0mfile_name\u001b[0m\u001b[1;33m)\u001b[0m \u001b[1;32mor\u001b[0m \u001b[0mhtml_data\u001b[0m\u001b[1;33m,\u001b[0m \u001b[0mparser_name\u001b[0m\u001b[1;33m)\u001b[0m\u001b[1;33m\u001b[0m\u001b[0m\n\u001b[0m",
      "\u001b[1;31mNameError\u001b[0m: name 'file_name' is not defined"
     ]
    }
   ],
   "source": [
    ">>> soup = BeautifulSoup (open(file_name) or html_data, parser_name)"
   ]
  },
  {
   "cell_type": "markdown",
   "metadata": {},
   "source": [
    "If your script works on one computer but not another,\n",
    " it’s probably because the two computers have different parser libraries available."
   ]
  },
  {
   "cell_type": "code",
   "execution_count": null,
   "metadata": {
    "collapsed": true
   },
   "outputs": [],
   "source": [
    ">>> soup.tagname\n",
    "\n",
    ">>> soup.method_name(*args)"
   ]
  },
  {
   "cell_type": "markdown",
   "metadata": {},
   "source": [
    "to print the tree in the form of a unicode string."
   ]
  },
  {
   "cell_type": "code",
   "execution_count": null,
   "metadata": {
    "collapsed": true
   },
   "outputs": [],
   "source": [
    ">>> soup.prettify()"
   ]
  },
  {
   "cell_type": "markdown",
   "metadata": {},
   "source": [
    "#Improving Performance"
   ]
  },
  {
   "cell_type": "markdown",
   "metadata": {},
   "source": [
    "* Beautiful Soup will never be as fast as the parsers it sits on top of.  \n",
    " If response time is critical, you should forget about Beautiful Soup and work directly atop lxml.  \n",
    "\n",
    "* Use lxml as the underlying parser.  \n",
    " Beautiful Soup parses documents significantly faster using lxml than using html.parser or html5lib.  \n",
    "\n",
    "* You can speed up encoding detection significantly by installing the cchardet library.  \n",
    "\n",
    "* Parsing only part of a document won’t save you much time parsing the document,  \n",
    "but it can save a lot of memory, and it’ll make searching the document much faster.  "
   ]
  },
  {
   "cell_type": "markdown",
   "metadata": {},
   "source": [
    "#References"
   ]
  },
  {
   "cell_type": "markdown",
   "metadata": {
    "collapsed": true
   },
   "source": [
    "* The complete documentation  \n",
    "[http://www.crummy.com/software/BeautifulSoup/bs4/doc/]  \n",
    "                 or  \n",
    " [http://www.omz-software.com/pythonista/docs/ios/beautifulsoup_guide.html]\n",
    "\n",
    "* A blog post which creates a csv from some tabular data.  \n",
    " [http://programminghistorian.org/lessons/intro-to-beautiful-soup]\n",
    "\n",
    "* A blog post that extract links from a page.  \n",
    " [http://www.pythonforbeginners.com/python-on-the-web/beautifulsoup-4-python/]"
   ]
  },
  {
   "cell_type": "markdown",
   "metadata": {},
   "source": [
    "#Exercise"
   ]
  },
  {
   "cell_type": "markdown",
   "metadata": {},
   "source": [
    "Find images from webpages."
   ]
  }
 ],
 "metadata": {
  "kernelspec": {
   "display_name": "Python 2",
   "language": "python",
   "name": "python2"
  },
  "language_info": {
   "codemirror_mode": {
    "name": "ipython",
    "version": 2
   },
   "file_extension": ".py",
   "mimetype": "text/x-python",
   "name": "python",
   "nbconvert_exporter": "python",
   "pygments_lexer": "ipython2",
   "version": "2.7.6"
  }
 },
 "nbformat": 4,
 "nbformat_minor": 0
}
