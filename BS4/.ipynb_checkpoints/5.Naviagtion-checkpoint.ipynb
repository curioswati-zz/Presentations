{
 "cells": [
  {
   "cell_type": "code",
   "execution_count": 43,
   "metadata": {
    "collapsed": true
   },
   "outputs": [],
   "source": [
    "from bs4 import BeautifulSoup\n",
    "soup = BeautifulSoup(open(\"43rd-congress.html\"))"
   ]
  },
  {
   "cell_type": "markdown",
   "metadata": {},
   "source": [
    "##Going Down"
   ]
  },
  {
   "cell_type": "markdown",
   "metadata": {},
   "source": [
    "###using tag names"
   ]
  },
  {
   "cell_type": "code",
   "execution_count": 44,
   "metadata": {
    "collapsed": false
   },
   "outputs": [],
   "source": [
    "td_tags = soup.find_all(\"td\")"
   ]
  },
  {
   "cell_type": "markdown",
   "metadata": {},
   "source": [
    "###.contents or .children: a tag's imediate children"
   ]
  },
  {
   "cell_type": "code",
   "execution_count": 67,
   "metadata": {
    "collapsed": true
   },
   "outputs": [
    {
     "name": "stdout",
     "output_type": "stream",
     "text": [
      "html\n",
      "[<a href=\"http://bioguide.congress.gov/scripts/biodisplay.pl?index=A000035\" id=\"link1\">ADAMS, George Madison</a>]\n",
      "<a href=\"http://bioguide.congress.gov/scripts/biodisplay.pl?index=A000035\" id=\"link1\">ADAMS, George Madison</a>\n",
      "\n",
      "\n",
      "[u'1837-1920']\n",
      "1837-1920\n",
      "\n",
      "\n",
      "[<a href=\"http://bioguide.congress.gov/scripts/biodisplay.pl?index=A000074\">ALBERT, William Julian</a>]\n",
      "<a href=\"http://bioguide.congress.gov/scripts/biodisplay.pl?index=A000074\">ALBERT, William Julian</a>\n",
      "\n",
      "\n",
      "[u'1816-1879']\n",
      "1816-1879\n",
      "\n",
      "\n",
      "[<a href=\"http://bioguide.congress.gov/scripts/biodisplay.pl?index=A000077\">ALBRIGHT, Charles</a>]\n",
      "<a href=\"http://bioguide.congress.gov/scripts/biodisplay.pl?index=A000077\">ALBRIGHT, Charles</a>\n",
      "\n",
      "\n",
      "[u'1830-1880']\n",
      "1830-1880\n",
      "\n",
      "\n"
     ]
    }
   ],
   "source": [
    "print soup.contents[0]\n",
    "\n",
    "for tag in td_tags:\n",
    "    print tag.contents                    #returns a list\n",
    "    for child in tag.children:            #returns an iterator\n",
    "        print child\n",
    "    print \"\\n\""
   ]
  },
  {
   "cell_type": "markdown",
   "metadata": {},
   "source": [
    "###.descendents: iterates over all children going downwards"
   ]
  },
  {
   "cell_type": "code",
   "execution_count": 46,
   "metadata": {
    "collapsed": true
   },
   "outputs": [
    {
     "name": "stdout",
     "output_type": "stream",
     "text": [
      "0\n",
      "<a href=\"http://bioguide.congress.gov/scripts/biodisplay.pl?index=A000035\" id=\"link1\">ADAMS, George Madison</a> \n",
      "\n",
      "ADAMS, George Madison \n",
      "\n",
      "1\n",
      "1837-1920 \n",
      "\n",
      "2\n",
      "<a href=\"http://bioguide.congress.gov/scripts/biodisplay.pl?index=A000074\">ALBERT, William Julian</a> \n",
      "\n",
      "ALBERT, William Julian \n",
      "\n",
      "3\n",
      "1816-1879 \n",
      "\n",
      "4\n",
      "<a href=\"http://bioguide.congress.gov/scripts/biodisplay.pl?index=A000077\">ALBRIGHT, Charles</a> \n",
      "\n",
      "ALBRIGHT, Charles \n",
      "\n",
      "5\n",
      "1830-1880 \n",
      "\n"
     ]
    }
   ],
   "source": [
    "for i, tag in enumerate(td_tags):\n",
    "    print i\n",
    "    for descendent in tag.descendants:          #returns a generator\n",
    "        print descendent,\"\\n\""
   ]
  },
  {
   "cell_type": "markdown",
   "metadata": {},
   "source": [
    "###.string: a navigable string."
   ]
  },
  {
   "cell_type": "markdown",
   "metadata": {},
   "source": [
    "If a tag does not have a navigable string as its child, then it shows the tag's child's navigable string."
   ]
  },
  {
   "cell_type": "code",
   "execution_count": 68,
   "metadata": {
    "collapsed": true
   },
   "outputs": [
    {
     "name": "stdout",
     "output_type": "stream",
     "text": [
      "None\n",
      "43rd-congress\n",
      "43rd-congress\n"
     ]
    }
   ],
   "source": [
    "print soup.head.string\n",
    "print soup.title.string"
   ]
  },
  {
   "cell_type": "markdown",
   "metadata": {},
   "source": [
    "###.strings: all the navigable strings from document"
   ]
  },
  {
   "cell_type": "code",
   "execution_count": 56,
   "metadata": {
    "collapsed": true
   },
   "outputs": [
    {
     "name": "stdout",
     "output_type": "stream",
     "text": [
      "u'43rd-congress'\n",
      "u'Member Name'\n",
      "u'Birth-Death'\n",
      "u'ADAMS, George Madison'\n",
      "u'1837-1920'\n",
      "u'ALBERT, William Julian'\n",
      "u'1816-1879'\n",
      "u'ALBRIGHT, Charles'\n",
      "u'1830-1880'\n"
     ]
    }
   ],
   "source": [
    "for string in soup.strings:\n",
    "    print repr(string)          #repr is used to show escape sequences."
   ]
  },
  {
   "cell_type": "markdown",
   "metadata": {},
   "source": [
    "###.stripped_strings: stripps off the extra whitespaces."
   ]
  },
  {
   "cell_type": "code",
   "execution_count": null,
   "metadata": {
    "collapsed": true
   },
   "outputs": [],
   "source": [
    "for string in soup.stripped_strings:\n",
    "    print repr(string)"
   ]
  },
  {
   "cell_type": "markdown",
   "metadata": {},
   "source": [
    "##Going Up"
   ]
  },
  {
   "cell_type": "markdown",
   "metadata": {},
   "source": [
    "###.parent"
   ]
  },
  {
   "cell_type": "code",
   "execution_count": null,
   "metadata": {
    "collapsed": true
   },
   "outputs": [],
   "source": [
    "print soup.parent,\"\\n\"\n",
    "\n",
    "print td_tags[0].parent.name,\"\\n\""
   ]
  },
  {
   "cell_type": "markdown",
   "metadata": {},
   "source": [
    "###.parents"
   ]
  },
  {
   "cell_type": "code",
   "execution_count": 74,
   "metadata": {
    "collapsed": true
   },
   "outputs": [
    {
     "name": "stdout",
     "output_type": "stream",
     "text": [
      "None \n",
      "\n",
      "tr \n",
      "\n",
      "tr\n",
      "tbody\n",
      "table\n",
      "body\n",
      "html\n",
      "[document]\n"
     ]
    }
   ],
   "source": [
    "for parent in td_tags[0].parents:\n",
    "    print parent.name"
   ]
  },
  {
   "cell_type": "markdown",
   "metadata": {},
   "source": [
    "##Going Sideways"
   ]
  },
  {
   "cell_type": "markdown",
   "metadata": {},
   "source": [
    "####.next_sibling and .previous_sibling"
   ]
  },
  {
   "cell_type": "markdown",
   "metadata": {
    "collapsed": true
   },
   "source": [
    "####.next_siblings and .previous_siblings"
   ]
  },
  {
   "cell_type": "markdown",
   "metadata": {},
   "source": [
    "##Going Back-Forth"
   ]
  },
  {
   "cell_type": "markdown",
   "metadata": {},
   "source": [
    "####.next_element and .previous_element"
   ]
  },
  {
   "cell_type": "markdown",
   "metadata": {
    "collapsed": true
   },
   "source": [
    "####.next_elements and .previous_elements"
   ]
  }
 ],
 "metadata": {
  "kernelspec": {
   "display_name": "Python 2",
   "language": "python",
   "name": "python2"
  },
  "language_info": {
   "codemirror_mode": {
    "name": "ipython",
    "version": 2
   },
   "file_extension": ".py",
   "mimetype": "text/x-python",
   "name": "python",
   "nbconvert_exporter": "python",
   "pygments_lexer": "ipython2",
   "version": "2.7.6"
  }
 },
 "nbformat": 4,
 "nbformat_minor": 0
}
