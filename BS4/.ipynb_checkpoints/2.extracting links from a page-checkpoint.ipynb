{
 "cells": [
  {
   "cell_type": "code",
   "execution_count": 1,
   "metadata": {
    "collapsed": true
   },
   "outputs": [],
   "source": [
    "import csv\n",
    "import requests\n",
    "\n",
    "from bs4 import BeautifulSoup"
   ]
  },
  {
   "cell_type": "markdown",
   "metadata": {},
   "source": [
    "##Using a local file"
   ]
  },
  {
   "cell_type": "code",
   "execution_count": 3,
   "metadata": {
    "collapsed": true
   },
   "outputs": [
    {
     "name": "stdout",
     "output_type": "stream",
     "text": [
      "<!DOCTYPE html>\n",
      "<html>\n",
      " <head>\n",
      "  <title>\n",
      "   43rd-congress\n",
      "  </title>\n",
      " </head>\n",
      " <body>\n",
      "  <table border=\"1\" cellpadding=\"3\" cellspacing=\"2\">\n",
      "   <tbody>\n",
      "    <tr>\n",
      "     <th>\n",
      "      Member Name\n",
      "     </th>\n",
      "     <th>\n",
      "      Birth-Death\n",
      "     </th>\n",
      "    </tr>\n",
      "    <tr>\n",
      "     <td>\n",
      "      <a href=\"http://bioguide.congress.gov/scripts/biodisplay.pl?index=A000035\" id=\"link1\">\n",
      "       ADAMS, George Madison\n",
      "      </a>\n",
      "     </td>\n",
      "     <td>\n",
      "      1837-1920\n",
      "     </td>\n",
      "    </tr>\n",
      "    <tr>\n",
      "     <td>\n",
      "      <a class=\"star\" href=\"http://bioguide.congress.gov/scripts/biodisplay.pl?index=A000074\">\n",
      "       ALBERT, William Julian\n",
      "      </a>\n",
      "     </td>\n",
      "     <td>\n",
      "      1816-1879\n",
      "     </td>\n",
      "    </tr>\n",
      "    <tr>\n",
      "     <td>\n",
      "      <a class=\"watch star\" href=\"http://bioguide.congress.gov/scripts/biodisplay.pl?index=A000077\">\n",
      "       ALBRIGHT, Charles\n",
      "      </a>\n",
      "     </td>\n",
      "     <td>\n",
      "      1830-1880\n",
      "     </td>\n",
      "    </tr>\n",
      "   </tbody>\n",
      "  </table>\n",
      "  <p>\n",
      "   <a href=\"http://bioguide.congress.gov/scripts/biodisplay.pl&gt;index=A000046\">\n",
      "    ARON WILLIAMS\n",
      "   </a>\n",
      "  </p>\n",
      " </body>\n",
      "</html> \n",
      "\n",
      "<!DOCTYPE html>\n",
      "<html>\n",
      " <head>\n",
      "  <title>\n",
      "   43rd-congress\n",
      "  </title>\n",
      " </head>\n",
      " <body>\n",
      "  <table border=\"1\" cellpadding=\"3\" cellspacing=\"2\">\n",
      "   <tbody>\n",
      "    <tr>\n",
      "     <th>\n",
      "      Member Name\n",
      "     </th>\n",
      "     <th>\n",
      "      Birth-Death\n",
      "     </th>\n",
      "    </tr>\n",
      "    <tr>\n",
      "     <td>\n",
      "      <a href=\"http://bioguide.congress.gov/scripts/biodisplay.pl?index=A000035\" id=\"link1\">\n",
      "       ADAMS, George Madison\n",
      "      </a>\n",
      "     </td>\n",
      "     <td>\n",
      "      1837-1920\n",
      "     </td>\n",
      "    </tr>\n",
      "    <tr>\n",
      "     <td>\n",
      "      <a class=\"star\" href=\"http://bioguide.congress.gov/scripts/biodisplay.pl?index=A000074\">\n",
      "       ALBERT, William Julian\n",
      "      </a>\n",
      "     </td>\n",
      "     <td>\n",
      "      1816-1879\n",
      "     </td>\n",
      "    </tr>\n",
      "    <tr>\n",
      "     <td>\n",
      "      <a class=\"watch star\" href=\"http://bioguide.congress.gov/scripts/biodisplay.pl?index=A000077\">\n",
      "       ALBRIGHT, Charles\n",
      "      </a>\n",
      "     </td>\n",
      "     <td>\n",
      "      1830-1880\n",
      "     </td>\n",
      "    </tr>\n",
      "   </tbody>\n",
      "  </table>\n",
      "  <p>\n",
      "  </p>\n",
      " </body>\n",
      "</html>\n"
     ]
    }
   ],
   "source": [
    "#creates a parse tree object.\n",
    "soup = BeautifulSoup (open (\"43rd-congress.html\"))\n",
    "\n",
    "#print the html tree\n",
    "print soup.prettify(),\"\\n\"\n",
    "\n",
    "#remove the link from paragraph\n",
    "final_link = soup.p.a\n",
    "final_link.decompose()\n",
    "\n",
    "# print the html\n",
    "print soup.prettify()"
   ]
  },
  {
   "cell_type": "code",
   "execution_count": 5,
   "metadata": {
    "collapsed": true
   },
   "outputs": [],
   "source": [
    "#Open a csv file to write data\n",
    "f = csv.writer(open(\"43rd-congress.csv\", 'w'))"
   ]
  },
  {
   "cell_type": "code",
   "execution_count": 6,
   "metadata": {
    "collapsed": false
   },
   "outputs": [
    {
     "name": "stdout",
     "output_type": "stream",
     "text": [
      "ADAMS, George Madison\n",
      "ALBERT, William Julian\n",
      "ALBRIGHT, Charles\n"
     ]
    }
   ],
   "source": [
    "#Header row\n",
    "f.writerow([\"Name\", \"Link\"])\n",
    "\n",
    "#Find all the links from the table in the page, that are in table data.\n",
    "links = soup.find_all('a')\n",
    "\n",
    "for link in links:\n",
    "    \n",
    "    #the name of the person\n",
    "    names = link.contents[0]\n",
    "    \n",
    "    #the url referred by the name\n",
    "    full_link = link.get('href')\n",
    "    print names\n",
    "    \n",
    "    #write the name and url in csv    \n",
    "    f.writerow([names, full_link])"
   ]
  },
  {
   "cell_type": "markdown",
   "metadata": {},
   "source": [
    "##From a URL"
   ]
  },
  {
   "cell_type": "code",
   "execution_count": 3,
   "metadata": {
    "collapsed": false
   },
   "outputs": [],
   "source": [
    "#Fetch data from url using Requests\n",
    "url = \"http://programminghistorian.org/lessons/intro-to-beautiful-soup\"\n",
    "req = requests.get(url)\n",
    "data = req.text"
   ]
  },
  {
   "cell_type": "code",
   "execution_count": 4,
   "metadata": {
    "collapsed": true
   },
   "outputs": [
    {
     "name": "stdout",
     "output_type": "stream",
     "text": [
      "http://programminghistorian.org\n",
      "/\n",
      "/lessons\n",
      "/contribute\n",
      "/project-team\n",
      "/blog\n",
      "http://programminghistorian.org/lessons/intro-to-beautiful-soup.html\n",
      "../lessons/working-with-text-files\n",
      "http://praxis.scholarslab.org/tutorials/bash/\n",
      "http://www.crummy.com/software/BeautifulSoup/bs4/doc/\n",
      "http://www.crummy.com/software/BeautifulSoup/bs4/doc/\n",
      "../lessons/installing-python-modules-pip\n",
      "http://imgs.xkcd.com/comics/sandwich.png\n",
      "http://urllib3.readthedocs.org/en/latest/\n",
      "http://bioguide.congress.gov/biosearch/biosearch.asp\n",
      "../images/Congressional-Biographical-Directory-CLERKWEB-2013-08-23-12-22-12.jpg\n",
      "../images/Congressional-Biographical-Directory-Results-2013-08-23-12-25-09.jpg\n",
      "../lessons/automated-downloading-with-wget\n",
      "../lessons/downloading-multiple-records-using-query-strings\n",
      "../images/Beautiful-Soup-Tutorial-103x40-2013-08-23-13-13-01.jpg\n",
      "../images/Beautiful-Soup-Tutorial-101x26-2013-08-23-13-25-56.jpg\n",
      "../images/Beautiful-Soup-Tutorial-103x40-2013-08-23-13-23-07.jpg\n",
      "../images/Beautiful-Soup-Tutorial-101x26-2013-08-23-13-28-04.jpg\n",
      "../images/43rd_Congress-2-2013-08-23-14-18-27.jpg\n",
      "../images/Beautiful-Soup-Tutorial-142x40-2013-08-23-16-51-22.jpg\n",
      "/\n",
      "/lessons\n",
      "/contribute\n",
      "/project-team\n",
      "/blog\n",
      "http://creativecommons.org/licenses/by/2.0/\n",
      "https://github.com/programminghistorian/jekyll\n",
      "https://github.com/programminghistorian/jekyll/commits/gh-pages/lessons/intro-to-beautiful-soup.md\n",
      "https://github.com/programminghistorian/jekyll/wiki/Reporting-Issues\n"
     ]
    }
   ],
   "source": [
    "#Create the soup tree object\n",
    "soup = BeautifulSoup(data)\n",
    "\n",
    "#find all the links and extract their URLs.\n",
    "for link in soup.find_all('a'):\n",
    "    print link.get('href')"
   ]
  }
 ],
 "metadata": {
  "kernelspec": {
   "display_name": "Python 2",
   "language": "python",
   "name": "python2"
  },
  "language_info": {
   "codemirror_mode": {
    "name": "ipython",
    "version": 2
   },
   "file_extension": ".py",
   "mimetype": "text/x-python",
   "name": "python",
   "nbconvert_exporter": "python",
   "pygments_lexer": "ipython2",
   "version": "2.7.6"
  }
 },
 "nbformat": 4,
 "nbformat_minor": 0
}
