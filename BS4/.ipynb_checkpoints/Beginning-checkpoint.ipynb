{
 "cells": [
  {
   "cell_type": "code",
   "execution_count": null,
   "metadata": {
    "collapsed": true
   },
   "outputs": [],
   "source": [
    "#-------------------------------------------Introduction----------------------------------------\n",
    "#- It is a python library for web scrapping.\n",
    "#- It does not fetch pages, you have to do it yourself.\n",
    "#- provides methods for easy parsing over the data.\n",
    "#- Latest version:4.x. 3.x is no more developed. Use 4.x as it supports both Python 2.x and 3.x.\n",
    "\n",
    "\n",
    "\n",
    "\n",
    "#-------------------------------------------Installation----------------------------------------\n",
    "#-- sudo apt-get install python-bs4\n",
    "\n",
    "#-- pip install beautifulsoup4\n",
    "\n",
    "#-- easy_install beautifulsoup4\n",
    "\n",
    "#-- or just download the tarball and run setup.py\n",
    "\n",
    "\n",
    "\n",
    "\n",
    "#-------------------------------------------Usage-----------------------------------------------\n",
    "#--- from bs4 import BeautifulSoup\n",
    "#--- Now there are three ways:\n",
    "#---    1. use a local html file.\n",
    "#---    2. use a python http library (as: requests, urllib3) to fetch a page\n",
    "#---     and then use the page's data.\n",
    "#---    3. pass the html data by yourself in a string.\n",
    "\n",
    "#--- soup = BeautifulSoup (open(file_name) or html_data)\n",
    "\n",
    "#--- soup.tagname\n",
    "\n",
    "#--- soup.method_name(*args)\n",
    "#--- >>to print the tree in the form of a unicode string.\n",
    "#---   soup.prettify()\n",
    "\n",
    "\n",
    "\n",
    "\n",
    "#---------------------------------------References----------------------------------------------\n",
    "#---- http://programminghistorian.org/lessons/intro-to-beautiful-soup"
   ]
  }
 ],
 "metadata": {
  "kernelspec": {
   "display_name": "Python 2",
   "language": "python",
   "name": "python2"
  },
  "language_info": {
   "codemirror_mode": {
    "name": "ipython",
    "version": 2
   },
   "file_extension": ".py",
   "mimetype": "text/x-python",
   "name": "python",
   "nbconvert_exporter": "python",
   "pygments_lexer": "ipython2",
   "version": "2.7.6"
  }
 },
 "nbformat": 4,
 "nbformat_minor": 0
}
