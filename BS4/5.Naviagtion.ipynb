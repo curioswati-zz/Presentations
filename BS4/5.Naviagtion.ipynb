{
 "cells": [
  {
   "cell_type": "code",
   "execution_count": 43,
   "metadata": {
    "collapsed": true
   },
   "outputs": [],
   "source": [
    "from bs4 import BeautifulSoup\n",
    "soup = BeautifulSoup(open(\"43rd-congress.html\"))"
   ]
  },
  {
   "cell_type": "code",
   "execution_count": 44,
   "metadata": {
    "collapsed": false
   },
   "outputs": [],
   "source": [
    "#------------------------------------------Going Down--------------------------------------\n",
    "#using tag names\n",
    "td_tags = soup.find_all(\"td\")"
   ]
  },
  {
   "cell_type": "code",
   "execution_count": 67,
   "metadata": {
    "collapsed": true
   },
   "outputs": [
    {
     "name": "stdout",
     "output_type": "stream",
     "text": [
      "html\n",
      "[<a href=\"http://bioguide.congress.gov/scripts/biodisplay.pl?index=A000035\" id=\"link1\">ADAMS, George Madison</a>]\n",
      "<a href=\"http://bioguide.congress.gov/scripts/biodisplay.pl?index=A000035\" id=\"link1\">ADAMS, George Madison</a>\n",
      "\n",
      "\n",
      "[u'1837-1920']\n",
      "1837-1920\n",
      "\n",
      "\n",
      "[<a href=\"http://bioguide.congress.gov/scripts/biodisplay.pl?index=A000074\">ALBERT, William Julian</a>]\n",
      "<a href=\"http://bioguide.congress.gov/scripts/biodisplay.pl?index=A000074\">ALBERT, William Julian</a>\n",
      "\n",
      "\n",
      "[u'1816-1879']\n",
      "1816-1879\n",
      "\n",
      "\n",
      "[<a href=\"http://bioguide.congress.gov/scripts/biodisplay.pl?index=A000077\">ALBRIGHT, Charles</a>]\n",
      "<a href=\"http://bioguide.congress.gov/scripts/biodisplay.pl?index=A000077\">ALBRIGHT, Charles</a>\n",
      "\n",
      "\n",
      "[u'1830-1880']\n",
      "1830-1880\n",
      "\n",
      "\n"
     ]
    }
   ],
   "source": [
    "#.contents or .children: a tag's imediate children\n",
    "print soup.contents[0]\n",
    "\n",
    "for tag in td_tags:\n",
    "    print tag.contents                    #returns a list\n",
    "    for child in tag.children:            #returns an iterator\n",
    "        print child\n",
    "    print \"\\n\""
   ]
  },
  {
   "cell_type": "code",
   "execution_count": 46,
   "metadata": {
    "collapsed": true
   },
   "outputs": [
    {
     "name": "stdout",
     "output_type": "stream",
     "text": [
      "0\n",
      "<a href=\"http://bioguide.congress.gov/scripts/biodisplay.pl?index=A000035\" id=\"link1\">ADAMS, George Madison</a> \n",
      "\n",
      "ADAMS, George Madison \n",
      "\n",
      "1\n",
      "1837-1920 \n",
      "\n",
      "2\n",
      "<a href=\"http://bioguide.congress.gov/scripts/biodisplay.pl?index=A000074\">ALBERT, William Julian</a> \n",
      "\n",
      "ALBERT, William Julian \n",
      "\n",
      "3\n",
      "1816-1879 \n",
      "\n",
      "4\n",
      "<a href=\"http://bioguide.congress.gov/scripts/biodisplay.pl?index=A000077\">ALBRIGHT, Charles</a> \n",
      "\n",
      "ALBRIGHT, Charles \n",
      "\n",
      "5\n",
      "1830-1880 \n",
      "\n"
     ]
    }
   ],
   "source": [
    "#.descendents: iterates over all children going downwards\n",
    "for i, tag in enumerate(td_tags):\n",
    "    print i\n",
    "    for descendent in tag.descendants:          #returns a generator\n",
    "        print descendent,\"\\n\"\n"
   ]
  },
  {
   "cell_type": "code",
   "execution_count": 68,
   "metadata": {
    "collapsed": true
   },
   "outputs": [
    {
     "name": "stdout",
     "output_type": "stream",
     "text": [
      "None\n",
      "43rd-congress\n",
      "43rd-congress\n"
     ]
    }
   ],
   "source": [
    "#.string: a navigable string.\n",
    "#If a tag does not have a navigable string as its child, then it shows the tag's child's navigable string.\n",
    "print soup.head.string\n",
    "print soup.title.string"
   ]
  },
  {
   "cell_type": "code",
   "execution_count": 56,
   "metadata": {
    "collapsed": true
   },
   "outputs": [
    {
     "name": "stdout",
     "output_type": "stream",
     "text": [
      "u'43rd-congress'\n",
      "u'Member Name'\n",
      "u'Birth-Death'\n",
      "u'ADAMS, George Madison'\n",
      "u'1837-1920'\n",
      "u'ALBERT, William Julian'\n",
      "u'1816-1879'\n",
      "u'ALBRIGHT, Charles'\n",
      "u'1830-1880'\n"
     ]
    }
   ],
   "source": [
    "#.strings: all the navigable strings from document\n",
    "for string in soup.strings:\n",
    "    print repr(string)          #repr is used to show escape sequences.\n",
    "\n",
    "#.stripped_strings: stripps off the extra whitespaces.\n",
    "for string in soup.stripped_strings:\n",
    "    print repr(string)"
   ]
  },
  {
   "cell_type": "code",
   "execution_count": 74,
   "metadata": {
    "collapsed": true
   },
   "outputs": [
    {
     "name": "stdout",
     "output_type": "stream",
     "text": [
      "None \n",
      "\n",
      "tr \n",
      "\n",
      "tr\n",
      "tbody\n",
      "table\n",
      "body\n",
      "html\n",
      "[document]\n"
     ]
    }
   ],
   "source": [
    "#------------------------------------------Going Up----------------------------------------\n",
    "#.parent\n",
    "print soup.parent,\"\\n\"\n",
    "\n",
    "print td_tags[0].parent.name,\"\\n\"\n",
    "\n",
    "#.parents\n",
    "for parent in td_tags[0].parents:\n",
    "    print parent.name"
   ]
  },
  {
   "cell_type": "code",
   "execution_count": null,
   "metadata": {
    "collapsed": true
   },
   "outputs": [],
   "source": [
    "#---------------------------------------Going Sideways-------------------------------------\n",
    "#.next_sibling and .previous_sibling\n",
    "#.next_siblings and .previous_siblings"
   ]
  },
  {
   "cell_type": "code",
   "execution_count": null,
   "metadata": {
    "collapsed": true
   },
   "outputs": [],
   "source": [
    "#---------------------------------------Going Back-Forth-----------------------------------\n",
    "#.next_element and .previous_element\n",
    "#.next_elements and .previous_elements"
   ]
  }
 ],
 "metadata": {
  "kernelspec": {
   "display_name": "Python 2",
   "language": "python",
   "name": "python2"
  },
  "language_info": {
   "codemirror_mode": {
    "name": "ipython",
    "version": 2
   },
   "file_extension": ".py",
   "mimetype": "text/x-python",
   "name": "python",
   "nbconvert_exporter": "python",
   "pygments_lexer": "ipython2",
   "version": "2.7.6"
  }
 },
 "nbformat": 4,
 "nbformat_minor": 0
}
