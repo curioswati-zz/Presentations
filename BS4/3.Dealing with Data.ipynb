{
 "cells": [
  {
   "cell_type": "code",
   "execution_count": 2,
   "metadata": {
    "collapsed": true
   },
   "outputs": [],
   "source": [
    "from bs4 import BeautifulSoup"
   ]
  },
  {
   "cell_type": "code",
   "execution_count": 16,
   "metadata": {
    "collapsed": true
   },
   "outputs": [
    {
     "name": "stdout",
     "output_type": "stream",
     "text": [
      "<title>43rd-congress</title>\n",
      "<head>\n",
      "<title>43rd-congress</title>\n",
      "</head>\n",
      "<!DOCTYPE html>\n",
      "<html>\n",
      " <head>\n",
      "  <title>\n",
      "   43rd-congress\n",
      "  </title>\n",
      " </head>\n",
      " <body>\n",
      "  <table border=\"1\" cellpadding=\"3\" cellspacing=\"2\">\n",
      "   <tbody>\n",
      "    <tr>\n",
      "     <th>\n",
      "      Member Name\n",
      "     </th>\n",
      "     <th>\n",
      "      Birth-Death\n",
      "     </th>\n",
      "    </tr>\n",
      "    <tr>\n",
      "     <td>\n",
      "      <a href=\"http://bioguide.congress.gov/scripts/biodisplay.pl?index=A000035\" id=\"link1\">\n",
      "       ADAMS, George Madison\n",
      "      </a>\n",
      "     </td>\n",
      "     <td>\n",
      "      1837-1920\n",
      "     </td>\n",
      "    </tr>\n",
      "    <tr>\n",
      "     <td>\n",
      "      <a href=\"http://bioguide.congress.gov/scripts/biodisplay.pl?index=A000074\">\n",
      "       ALBERT, William Julian\n",
      "      </a>\n",
      "     </td>\n",
      "     <td>\n",
      "      1816-1879\n",
      "     </td>\n",
      "    </tr>\n",
      "    <tr>\n",
      "     <td>\n",
      "      <a href=\"http://bioguide.congress.gov/scripts/biodisplay.pl?index=A000077\">\n",
      "       ALBRIGHT, Charles\n",
      "      </a>\n",
      "     </td>\n",
      "     <td>\n",
      "      1830-1880\n",
      "     </td>\n",
      "    </tr>\n",
      "   </tbody>\n",
      "  </table>\n",
      " </body>\n",
      "</html>\n"
     ]
    }
   ],
   "source": [
    "soup = BeautifulSoup(open(\"43rd-congress.html\"))\n",
    "\n",
    "#-------------------------------------------Printing the data-------------------------------\n",
    "print soup.title\n",
    "print soup.head\n",
    "\n",
    "print soup.prettify()"
   ]
  },
  {
   "cell_type": "code",
   "execution_count": 24,
   "metadata": {
    "collapsed": true
   },
   "outputs": [
    {
     "name": "stdout",
     "output_type": "stream",
     "text": [
      "<a href=\"http://bioguide.congress.gov/scripts/biodisplay.pl?index=A000074\">Hello World!</a> \n",
      "\n",
      "name:  a\n",
      "<A href=\"http://bioguide.congress.gov/scripts/biodisplay.pl?index=A000074\">Hello World!</A> \n",
      "\n",
      "Attributes:  {'href': 'http://bioguide.congress.gov/scripts/biodisplay.pl?index=A000077'} \n",
      "\n"
     ]
    }
   ],
   "source": [
    "#----------------------------------------------Four Objects---------------------------------\n",
    "\n",
    "\n",
    "#----------------------------------------TAGS-----------------------------------\n",
    "a_tags = soup.a\n",
    "print a_tags,\"\\n\"\n",
    "\n",
    "##------------------Tag properties-------------------\n",
    "\n",
    "###name:\n",
    "name = a_tags.name\n",
    "print \"name: \",name\n",
    "#you can change a tag's name, when you change it,\n",
    "# the change reflects in the complete tree object until you re-create it.\n",
    "a_tags.name = \"A\"\n",
    "print a_tags,\"\\n\"\n",
    "a_tags = soup.a   #generates error; since we renamed them to A\n",
    "\n",
    "###attributes\n",
    "attributes = a_tags.attrs\n",
    "print \"Attributes: \",attributes,\"\\n\"\n",
    "#You can add, remove, and modify a tag’s attributes. Again, this is done by treating the tag as a dictionary"
   ]
  },
  {
   "cell_type": "code",
   "execution_count": 23,
   "metadata": {
    "collapsed": true
   },
   "outputs": [
    {
     "name": "stdout",
     "output_type": "stream",
     "text": [
      "Hello World!\n",
      "<class 'bs4.element.NavigableString'> \n",
      "\n",
      "<a href=\"http://bioguide.congress.gov/scripts/biodisplay.pl?index=A000074\">Hello World!</a>\n"
     ]
    }
   ],
   "source": [
    "#-------------------------NavigableString: string within tag------------------\n",
    "a_string = soup.a.string\n",
    "print a_string\n",
    "print type(a_string),\"\\n\"\n",
    "\n",
    "#you can replace the strings\n",
    "a_string.replace_with(\"Hello World!\")\n",
    "print soup.a"
   ]
  },
  {
   "cell_type": "code",
   "execution_count": 26,
   "metadata": {
    "collapsed": true
   },
   "outputs": [
    {
     "name": "stdout",
     "output_type": "stream",
     "text": [
      "Hey, buddy. Want to buy a used parser?\n"
     ]
    }
   ],
   "source": [
    "#---------------------------------BeautifulSoup---------------------------------\n",
    "#It represents the whole document\n",
    "\n",
    "#-----------------------------------Comments------------------------------------\n",
    "#It is just a special type of navigable string.\n",
    "markup = \"<b><!--Hey, buddy. Want to buy a used parser?--></b>\"\n",
    "soup = BeautifulSoup(markup)\n",
    "comment = soup.b.string\n",
    "print comment"
   ]
  }
 ],
 "metadata": {
  "kernelspec": {
   "display_name": "Python 2",
   "language": "python",
   "name": "python2"
  },
  "language_info": {
   "codemirror_mode": {
    "name": "ipython",
    "version": 2
   },
   "file_extension": ".py",
   "mimetype": "text/x-python",
   "name": "python",
   "nbconvert_exporter": "python",
   "pygments_lexer": "ipython2",
   "version": "2.7.6"
  }
 },
 "nbformat": 4,
 "nbformat_minor": 0
}
